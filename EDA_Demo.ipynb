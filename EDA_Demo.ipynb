{
  "nbformat": 4,
  "nbformat_minor": 0,
  "metadata": {
    "colab": {
      "provenance": [],
      "authorship_tag": "ABX9TyN/J1c3/EvIM82d7xaUMYQ3",
      "include_colab_link": true
    },
    "kernelspec": {
      "name": "python3",
      "display_name": "Python 3"
    },
    "language_info": {
      "name": "python"
    }
  },
  "cells": [
    {
      "cell_type": "markdown",
      "metadata": {
        "id": "view-in-github",
        "colab_type": "text"
      },
      "source": [
        "<a href=\"https://colab.research.google.com/github/linesn/EDA_Demo/blob/main/EDA_Demo.ipynb\" target=\"_parent\"><img src=\"https://colab.research.google.com/assets/colab-badge.svg\" alt=\"Open In Colab\"/></a>"
      ]
    },
    {
      "cell_type": "markdown",
      "source": [
        "# An Introduction to Exploratory Data Analysis in Python\n",
        "Written for the Rowdy Datathon By Nick Lines  \n",
        "*All errors, bad advice, or incorrect assumptions are my own.*"
      ],
      "metadata": {
        "id": "YBWs1OHKn1sN"
      }
    },
    {
      "cell_type": "markdown",
      "source": [
        "## Welcome\n",
        "Thanks for joining us! This notebook and the associated presentation are intended as a crash course in using Python for data exploration. This is necessarily an elementary treatment that will only sparsely cover relevant concepts. At the end of the demo we will list recommended resources that will pick up where this guide leaves off.\n",
        "\n",
        "This demo is NOT a guide for how to perform the analysis needed for the Rowdy Dathon. It may, however, introduce you to tools and techniques that are relevant to that challenge.\n",
        "\n",
        "\n",
        "\n"
      ],
      "metadata": {
        "id": "LyRgvnJEyC0u"
      }
    },
    {
      "cell_type": "markdown",
      "source": [
        "## Make this demo work for you!\n",
        "If you want to follow along with this demo, all you have to do is visit the the following link:\n",
        "\n",
        "https://colab.research.google.com/drive/1yNxZBSYfxRsSuxhH--26uL1jPDj25DUk?usp=sharing\n",
        "\n",
        "![QR_Code](https://drive.google.com/uc?id=15fswFC8AD_lw1lxznEItCBXYoc2zELTv)\n",
        "\n",
        "This QR code leads to the same link. Confirm before following it that the link is the same!\n",
        "\n",
        "This will lead you to Colab where you will see a copy of this notebook. Click the \"connect\" link in the top right if you want to follow along live using your Google account. You could also copy the file to your drive."
      ],
      "metadata": {
        "id": "uzdG3XA5pPUX"
      }
    },
    {
      "cell_type": "markdown",
      "source": [
        "## What is data?\n",
        "For our purposes, let's assume your data is a set of examples where each example consists of one or more feature values. These might be continuous or discrete numbers, text strings, etc."
      ],
      "metadata": {
        "id": "Icp67TFeoKrn"
      }
    },
    {
      "cell_type": "markdown",
      "source": [
        "\n",
        "## What is Exploratory Data Analysis?\n",
        "\n",
        "![EDA](https://drive.google.com/uc?id=14mUr53z56MX3217JYfVsinusnI6iX-6Z)\n",
        "\n",
        "[Exploratory Data Analysis (EDA)](https://en.wikipedia.org/wiki/Exploratory_data_analysis) is typically a first step in any methodical use of data. It is closely tied to the concepts of [data summarization](https://en.wikipedia.org/wiki/Summary_statistics) and [reduction](https://en.wikipedia.org/wiki/Data_reduction) introduced by statisticians throughout the 20th century. As the availability, variety, accuracy, and storage efficiency of large datasets increases, much of the burden of scientific research and development has shifted from theory-driven experiments to data-driven analysis. It is steadily more and more valuable to ask \"what can we learn from the data we have.\" EDA attempts to address this question by characterizing the dataset, highlighting patterns and trends within the data, and visualizing these in descriptive ways. Effetive EDA can build intuitional understanding of complex datasets, and suggest what modeling activities will be most effective in later processing."
      ],
      "metadata": {
        "id": "hLVOSULgoDxF"
      }
    },
    {
      "cell_type": "markdown",
      "source": [
        "### EDA and Machine Learning\n",
        "\n",
        "In Machine Learning we are concerned with approximating a function that maps data (a domain) to labels (a range). Often we use the following terms:\n",
        "\n",
        "\n",
        "|                | finite range | continuous range |\n",
        "|----------------|--------------|------------------|\n",
        "| Supervised (observed range) | classification | regression     |\n",
        "| Unsupervised (unobserved range) | clustering | density estimation |\n",
        "\n",
        "Fast unsupervised methods can come in handy when you are exploring data. For example, you might want to check how well a clustering algorithm like K-Means fits your data, or if the histogram of a feature value indicates a known distrobution (a form of density estimation).\n"
      ],
      "metadata": {
        "id": "jV16S14IoTl3"
      }
    },
    {
      "cell_type": "markdown",
      "source": [
        "\n",
        "### Common EDA activities\n",
        "\n",
        "These include\n",
        "- LOOKING AT THE DATA!\n",
        "- Confirm what you think you already know. Compare to the data documentation or your collection plan.\n",
        "- Check assumptions for modeling or statistical methods.\n",
        "- Compute summary statistics.\n",
        "- Identify correlations among features.\n",
        "- Weed out or engineer features.\n",
        "- Examine feature distributions.\n",
        "- Map data over time or space.\n",
        "- Identify outliers.\n",
        "- Reduce the data dimensionality.\n",
        "- Cluster!\n",
        "- Find and inject relevant domain knowledge.\n",
        "- Identify (potential) lurking variables.\n",
        "- Check statistical significance.\n",
        "- LOOK AT THE DATA!\n"
      ],
      "metadata": {
        "id": "G4hSvoxjoX_Q"
      }
    },
    {
      "cell_type": "markdown",
      "source": [
        "\n",
        "## Why Python?\n",
        "Python is [the most popular programming language in the world](https://www.tiobe.com/tiobe-index/) and it is particaticularly respected in the data science community. Python is an [interpreted language](https://en.wikipedia.org/wiki/Interpreter_(computing)), meaning we use it to write instructions for computers that are processed by an interpreter and then executed on the fly, rather than passing through a pre-compiler (like you do with C, Go, Julia, etc.). Python is simple to learn. It is built around [a simple philosophy](https://peps.python.org/pep-0020/) and famously builds its documentation right into the source code with docstrings and other objects that explain how to use the associated code.\n",
        "\n",
        "From this point onward we will talk ONLY about Python 3.x.\n",
        "\n"
      ],
      "metadata": {
        "id": "hSVbTz71oeWv"
      }
    },
    {
      "cell_type": "markdown",
      "source": [
        "\n",
        "## How should I get Python?\n",
        "You have several options. We'll defer a proper discussion of this until the end so we can dive in. This notebook is designed to run live in a tool called [Google Colab](https://colab.research.google.com/) which is available for free to anyone with a Google Account. \n"
      ],
      "metadata": {
        "id": "Jnt_VWHfo29p"
      }
    },
    {
      "cell_type": "markdown",
      "source": [
        "## What is this file anyway?\n",
        "You are viewing a Jupyter Notebook file. Jupyter is a convenient environment in which to interact with Python. It is similar to Mathematica, R notebooks, and MATLAB notebooks if you have seen those before. This mixes markdown text (optionally math) and code in units called cells. The next cell gives you a chance to try this yourself. Click the code in the cell and push SHIFT-ENTER on your keyboard to evaluate it."
      ],
      "metadata": {
        "id": "RH3-CGXQonBn"
      }
    },
    {
      "cell_type": "code",
      "source": [
        "print(\"This is a string\")"
      ],
      "metadata": {
        "colab": {
          "base_uri": "https://localhost:8080/"
        },
        "id": "9deLax5ecb9I",
        "outputId": "c06ea532-1cf3-4236-afe8-7267a1146755"
      },
      "execution_count": 1,
      "outputs": [
        {
          "output_type": "stream",
          "name": "stdout",
          "text": [
            "This is a string\n"
          ]
        }
      ]
    },
    {
      "cell_type": "markdown",
      "source": [
        "You should see the output \n",
        "```\n",
        "This is a string\n",
        "```\n",
        "printed on your screen. That cell used the `print` function to write a string to the output buffer."
      ],
      "metadata": {
        "id": "l3OAC_rncgZD"
      }
    },
    {
      "cell_type": "markdown",
      "source": [
        "## Basic Python"
      ],
      "metadata": {
        "id": "Sd02qjAKm3SJ"
      }
    },
    {
      "cell_type": "markdown",
      "source": [
        "### Some Python objects\n",
        "\n",
        "Let's talk briefly about the objects you may use in Python.\n",
        "\n",
        "The next cell declares a list. Try SHIFT-ENTER to run the cell and place this object in memory."
      ],
      "metadata": {
        "id": "ClINn448cbBh"
      }
    },
    {
      "cell_type": "code",
      "source": [
        "my_list = [] # this is the same as saying my_list = list()"
      ],
      "metadata": {
        "id": "ZVSmnJHkObI4"
      },
      "execution_count": 2,
      "outputs": []
    },
    {
      "cell_type": "markdown",
      "source": [
        "The part starting with `#` is an inline comment in Python. Nothing after the `#` character will be interpreted."
      ],
      "metadata": {
        "id": "WklqLOqnd9mJ"
      }
    },
    {
      "cell_type": "markdown",
      "source": [
        "In Python you can always print out the contents of a variable, and in this Jupyter environment you can just type the objects name and run the cell to see its contents."
      ],
      "metadata": {
        "id": "RHX3jQlbc33d"
      }
    },
    {
      "cell_type": "code",
      "source": [
        "my_list"
      ],
      "metadata": {
        "colab": {
          "base_uri": "https://localhost:8080/"
        },
        "id": "I-dMHit3cz2I",
        "outputId": "39466df0-0927-49df-820e-e29f33758f05"
      },
      "execution_count": 3,
      "outputs": [
        {
          "output_type": "execute_result",
          "data": {
            "text/plain": [
              "[]"
            ]
          },
          "metadata": {},
          "execution_count": 3
        }
      ]
    },
    {
      "cell_type": "markdown",
      "source": [
        "A list is a [mutable](https://en.wikipedia.org/wiki/Immutable_object) array that contains other objects. These objects might be number types like `float` or `int`, strings (`str`), or any other Python object. If you want an immutable ordered collection instead, you can declare a tuple:"
      ],
      "metadata": {
        "id": "tWX5i69rdKd3"
      }
    },
    {
      "cell_type": "code",
      "source": [
        "my_tuple = (1,2,3)\n",
        "my_tuple"
      ],
      "metadata": {
        "colab": {
          "base_uri": "https://localhost:8080/"
        },
        "id": "4MoB0MLxdIXy",
        "outputId": "2e681db5-dca9-497d-d063-a00e10eca38b"
      },
      "execution_count": 4,
      "outputs": [
        {
          "output_type": "execute_result",
          "data": {
            "text/plain": [
              "(1, 2, 3)"
            ]
          },
          "metadata": {},
          "execution_count": 4
        }
      ]
    },
    {
      "cell_type": "markdown",
      "source": [
        "Python objects have member functions that allow you to operate on the object in standard ways. For example, we can expand a list using the `append` function:"
      ],
      "metadata": {
        "id": "7KOavZWtegj_"
      }
    },
    {
      "cell_type": "code",
      "source": [
        "my_list.append(4)\n",
        "my_list"
      ],
      "metadata": {
        "colab": {
          "base_uri": "https://localhost:8080/"
        },
        "id": "fEdhuLRKef4a",
        "outputId": "83810e8f-3e70-4b95-c76d-a7c4e922e7c1"
      },
      "execution_count": 5,
      "outputs": [
        {
          "output_type": "execute_result",
          "data": {
            "text/plain": [
              "[4]"
            ]
          },
          "metadata": {},
          "execution_count": 5
        }
      ]
    },
    {
      "cell_type": "markdown",
      "source": [
        "But as you might expect, you cannot do this with a tuple."
      ],
      "metadata": {
        "id": "ECSeZ1qdewLb"
      }
    },
    {
      "cell_type": "code",
      "source": [
        "my_tuple.append(4)"
      ],
      "metadata": {
        "colab": {
          "base_uri": "https://localhost:8080/",
          "height": 168
        },
        "id": "kVOZ8CigeOAD",
        "outputId": "61bca239-d904-468e-dadb-9741030f9e58"
      },
      "execution_count": 6,
      "outputs": [
        {
          "output_type": "error",
          "ename": "AttributeError",
          "evalue": "ignored",
          "traceback": [
            "\u001b[0;31m---------------------------------------------------------------------------\u001b[0m",
            "\u001b[0;31mAttributeError\u001b[0m                            Traceback (most recent call last)",
            "\u001b[0;32m<ipython-input-6-5cb3df206248>\u001b[0m in \u001b[0;36m<module>\u001b[0;34m\u001b[0m\n\u001b[0;32m----> 1\u001b[0;31m \u001b[0mmy_tuple\u001b[0m\u001b[0;34m.\u001b[0m\u001b[0mappend\u001b[0m\u001b[0;34m(\u001b[0m\u001b[0;36m4\u001b[0m\u001b[0;34m)\u001b[0m\u001b[0;34m\u001b[0m\u001b[0;34m\u001b[0m\u001b[0m\n\u001b[0m",
            "\u001b[0;31mAttributeError\u001b[0m: 'tuple' object has no attribute 'append'"
          ]
        }
      ]
    },
    {
      "cell_type": "markdown",
      "source": [
        "Objects also may have attributes you can access with the `.` character, meaning data that is stored as part of that object. "
      ],
      "metadata": {
        "id": "ImIGekhvtBnG"
      }
    },
    {
      "cell_type": "markdown",
      "source": [
        "In Python and Jupyter it is SUPER easy to see what you can do with an object. Try putting your cursor at the end of `my_list` below and typing `.`, then pause. You should see possible completions follow."
      ],
      "metadata": {
        "id": "iJeAxqD5e4KN"
      }
    },
    {
      "cell_type": "code",
      "source": [
        "my_list"
      ],
      "metadata": {
        "colab": {
          "base_uri": "https://localhost:8080/"
        },
        "id": "WWMdpL9Pe3G-",
        "outputId": "f4e0ff9c-a698-4a1f-93c0-178cee8bbfdb"
      },
      "execution_count": 7,
      "outputs": [
        {
          "output_type": "execute_result",
          "data": {
            "text/plain": [
              "[4]"
            ]
          },
          "metadata": {},
          "execution_count": 7
        }
      ]
    },
    {
      "cell_type": "markdown",
      "source": [
        "Functions are similarly well documented. You can type the name and opening parenthesis for a function, and then push SHIFT-TAB to see what the arguments to the function should be. Try that next!"
      ],
      "metadata": {
        "id": "_1BadRCOfZk1"
      }
    },
    {
      "cell_type": "code",
      "source": [
        "print()"
      ],
      "metadata": {
        "colab": {
          "base_uri": "https://localhost:8080/"
        },
        "id": "V9UCIwP-fhLg",
        "outputId": "678eaef1-a212-4743-81e5-75d5b90ce049"
      },
      "execution_count": 8,
      "outputs": [
        {
          "output_type": "stream",
          "name": "stdout",
          "text": [
            "\n"
          ]
        }
      ]
    },
    {
      "cell_type": "markdown",
      "source": [
        "You can also use \"magic\" commands to ask Python to show you the relevant documentation for the function or object. Try the next two cells to see this at work with the magic `?` command."
      ],
      "metadata": {
        "id": "lNulIPhBfy7w"
      }
    },
    {
      "cell_type": "code",
      "source": [
        "print?"
      ],
      "metadata": {
        "id": "ExqfF14Cf9MB"
      },
      "execution_count": 9,
      "outputs": []
    },
    {
      "cell_type": "code",
      "source": [
        "my_list?"
      ],
      "metadata": {
        "id": "Q3jpqBSjgANx"
      },
      "execution_count": 10,
      "outputs": []
    },
    {
      "cell_type": "markdown",
      "source": [
        "Python dictionaries allow you to store a list of keys and the values you want them to point to, kind of like a real dictionary stores a list of words and the meanings of each word."
      ],
      "metadata": {
        "id": "uvOkWJJ_qPHY"
      }
    },
    {
      "cell_type": "code",
      "source": [
        "ages = dict()\n",
        "ages[\"Carl\"] = 27\n",
        "ages[\"Sandy\"] = 33\n",
        "ages[\"Isa\"] = 51\n",
        "ages"
      ],
      "metadata": {
        "colab": {
          "base_uri": "https://localhost:8080/"
        },
        "id": "aDjfT5qpqd7a",
        "outputId": "437d035e-8c45-48cc-e4c2-4b1d8a2a8f8f"
      },
      "execution_count": 11,
      "outputs": [
        {
          "output_type": "execute_result",
          "data": {
            "text/plain": [
              "{'Carl': 27, 'Sandy': 33, 'Isa': 51}"
            ]
          },
          "metadata": {},
          "execution_count": 11
        }
      ]
    },
    {
      "cell_type": "markdown",
      "source": [
        "### Python functions"
      ],
      "metadata": {
        "id": "L8xoO7zSmyBH"
      }
    },
    {
      "cell_type": "markdown",
      "source": [
        "To define a function in Python, you write `def function_name` followed by parenthesis containing the function arguments (inputs). You should then include a string called a docstring that describes the function. Your function usually should end with a `return` line indicating the output."
      ],
      "metadata": {
        "id": "jZxtvgX6qwrx"
      }
    },
    {
      "cell_type": "code",
      "source": [
        "def MyFunction(x, y):\n",
        "  \"\"\"Summary of the function's task\n",
        "\n",
        "  Longer description of the function, arguments, and outputs.\n",
        "  Note that the tripple quoted string allows the string to run over multiple\n",
        "  lines. Also note that all but the first line of the function are indented\n",
        "  a few spaces. Python is indentation sensitive!\n",
        "  \"\"\"\n",
        "  z = x*y\n",
        "  print(\"computing\")\n",
        "  return z"
      ],
      "metadata": {
        "id": "p7iTc-MSq0vD"
      },
      "execution_count": 12,
      "outputs": []
    },
    {
      "cell_type": "code",
      "source": [
        "output = MyFunction(5, 4)\n",
        "output"
      ],
      "metadata": {
        "colab": {
          "base_uri": "https://localhost:8080/"
        },
        "id": "g0UOdyc9rKhx",
        "outputId": "24b84e23-6650-4963-a29f-c6203d9336c9"
      },
      "execution_count": 13,
      "outputs": [
        {
          "output_type": "stream",
          "name": "stdout",
          "text": [
            "computing\n"
          ]
        },
        {
          "output_type": "execute_result",
          "data": {
            "text/plain": [
              "20"
            ]
          },
          "metadata": {},
          "execution_count": 13
        }
      ]
    },
    {
      "cell_type": "markdown",
      "source": [
        "Creating your own classes and objects is similar and straightforward,\n",
        "but outside the scope of this demo. Many articles and tutorials like [this one](https://towardsdatascience.com/python-objects-and-classes-a957d113063e) can help you get going writing your own classes."
      ],
      "metadata": {
        "id": "D5IN1UR4qz8w"
      }
    },
    {
      "cell_type": "markdown",
      "source": [
        "### Python loops\n",
        "Python loops are quite simple, and rely again on indentation to define the scope."
      ],
      "metadata": {
        "id": "uTIkHaUynDeQ"
      }
    },
    {
      "cell_type": "code",
      "source": [
        "for i in range(5):\n",
        "  print(\"This is the \", i, \"th iteration.\")"
      ],
      "metadata": {
        "colab": {
          "base_uri": "https://localhost:8080/"
        },
        "id": "85YExAP8sjOn",
        "outputId": "9de00353-50b2-4b7f-9170-c5f26f6ed2cf"
      },
      "execution_count": 14,
      "outputs": [
        {
          "output_type": "stream",
          "name": "stdout",
          "text": [
            "This is the  0 th iteration.\n",
            "This is the  1 th iteration.\n",
            "This is the  2 th iteration.\n",
            "This is the  3 th iteration.\n",
            "This is the  4 th iteration.\n"
          ]
        }
      ]
    },
    {
      "cell_type": "code",
      "source": [
        "i = 0\n",
        "while i<=5:\n",
        "  print(\"This is the \", i, \"th iteration.\")\n",
        "  i+=1"
      ],
      "metadata": {
        "colab": {
          "base_uri": "https://localhost:8080/"
        },
        "id": "HYYDvvK8swNk",
        "outputId": "249f7c33-c332-4081-bacc-794b33b7dcb7"
      },
      "execution_count": 15,
      "outputs": [
        {
          "output_type": "stream",
          "name": "stdout",
          "text": [
            "This is the  0 th iteration.\n",
            "This is the  1 th iteration.\n",
            "This is the  2 th iteration.\n",
            "This is the  3 th iteration.\n",
            "This is the  4 th iteration.\n",
            "This is the  5 th iteration.\n"
          ]
        }
      ]
    },
    {
      "cell_type": "markdown",
      "source": [
        "Switching statements are similar."
      ],
      "metadata": {
        "id": "cmjFiOkXs7Qp"
      }
    },
    {
      "cell_type": "code",
      "source": [
        "indicator = 1\n",
        "if indicator:\n",
        "  print(indicator)"
      ],
      "metadata": {
        "colab": {
          "base_uri": "https://localhost:8080/"
        },
        "id": "OaEYnmd2s-am",
        "outputId": "5d23c3af-f64b-466e-eb7d-2d1104fa037d"
      },
      "execution_count": 16,
      "outputs": [
        {
          "output_type": "stream",
          "name": "stdout",
          "text": [
            "1\n"
          ]
        }
      ]
    },
    {
      "cell_type": "code",
      "source": [
        "alternate = \"stuff\"\n",
        "if not indicator:\n",
        "  print(\"not indicator\")\n",
        "elif alternate==\"stuff\":\n",
        "  print(alternate)"
      ],
      "metadata": {
        "colab": {
          "base_uri": "https://localhost:8080/"
        },
        "id": "IM2n0arWtGF1",
        "outputId": "a8eb16c8-8abd-458b-e594-2923abaa3e56"
      },
      "execution_count": 17,
      "outputs": [
        {
          "output_type": "stream",
          "name": "stdout",
          "text": [
            "stuff\n"
          ]
        }
      ]
    },
    {
      "cell_type": "markdown",
      "source": [
        "### Python libraries\n",
        "Python code is easy to package and share. Usually you will take advantage of standard libraries that will provide you pre-made tools to do your work. These are added to your active environment using `import` commands, like this."
      ],
      "metadata": {
        "id": "Bv8upUg3gE75"
      }
    },
    {
      "cell_type": "code",
      "source": [
        "import this"
      ],
      "metadata": {
        "colab": {
          "base_uri": "https://localhost:8080/"
        },
        "id": "Jhl0w7QTiHh4",
        "outputId": "c020aec4-f5e1-4e1f-aafb-d6f4d0254ef6"
      },
      "execution_count": 18,
      "outputs": [
        {
          "output_type": "stream",
          "name": "stdout",
          "text": [
            "The Zen of Python, by Tim Peters\n",
            "\n",
            "Beautiful is better than ugly.\n",
            "Explicit is better than implicit.\n",
            "Simple is better than complex.\n",
            "Complex is better than complicated.\n",
            "Flat is better than nested.\n",
            "Sparse is better than dense.\n",
            "Readability counts.\n",
            "Special cases aren't special enough to break the rules.\n",
            "Although practicality beats purity.\n",
            "Errors should never pass silently.\n",
            "Unless explicitly silenced.\n",
            "In the face of ambiguity, refuse the temptation to guess.\n",
            "There should be one-- and preferably only one --obvious way to do it.\n",
            "Although that way may not be obvious at first unless you're Dutch.\n",
            "Now is better than never.\n",
            "Although never is often better than *right* now.\n",
            "If the implementation is hard to explain, it's a bad idea.\n",
            "If the implementation is easy to explain, it may be a good idea.\n",
            "Namespaces are one honking great idea -- let's do more of those!\n"
          ]
        }
      ]
    },
    {
      "cell_type": "markdown",
      "source": [
        "(The above cell doesn't actually provide you anything other than printing the Zen of Python.)\n",
        "\n",
        "You can choose how you add the contents of the library to your namespace: you may want to import everything directly with a `from library import *`, but more often you want to keep everything associated with the library you are importing from. For example, this next cell will import the `Pandas` data management library and give it the prefix name `pd`."
      ],
      "metadata": {
        "id": "RlfZKmMmiK1s"
      }
    },
    {
      "cell_type": "code",
      "source": [
        "import pandas as pd"
      ],
      "metadata": {
        "id": "fcvHWk1OxAoE"
      },
      "execution_count": 19,
      "outputs": []
    },
    {
      "cell_type": "markdown",
      "source": [
        "## Simple EDA"
      ],
      "metadata": {
        "id": "yHS16FnUuiFH"
      }
    },
    {
      "cell_type": "markdown",
      "source": [
        "### Pandas Dataframes\n",
        "This library introduces a nice data-container called a dataframe. These store data a little like a CSV file, and provide a rich environment for interacting with the data using built-in functions."
      ],
      "metadata": {
        "id": "n1kYlEuniyZ_"
      }
    },
    {
      "cell_type": "code",
      "source": [
        "my_data = [[\"Jane Dao\", 49, 1971],\n",
        "           [\"John Doe\", 48, 1927],]  \n",
        "names = [\"Jane Dao\", \"John Doe\"]\n",
        "ranks = [49, 48]\n",
        "dates = [1971, 1927]"
      ],
      "metadata": {
        "id": "_gN8473piv9M"
      },
      "execution_count": 20,
      "outputs": []
    },
    {
      "cell_type": "code",
      "source": [
        "df = pd.DataFrame() # This declares a dataframe object and calls it df\n",
        "df[\"names\"] = names # This line says the \"names\" column should contain the names list  as its data\n",
        "df[\"ranks\"] = ranks # etc.\n",
        "df[\"dates\"] = dates\n",
        "df # show the dataframe object"
      ],
      "metadata": {
        "colab": {
          "base_uri": "https://localhost:8080/",
          "height": 112
        },
        "id": "Jw8_cWbakGCm",
        "outputId": "69833a03-5314-4b76-ba2b-ca85556f5213"
      },
      "execution_count": 21,
      "outputs": [
        {
          "output_type": "execute_result",
          "data": {
            "text/plain": [
              "      names  ranks  dates\n",
              "0  Jane Dao     49   1971\n",
              "1  John Doe     48   1927"
            ],
            "text/html": [
              "\n",
              "  <div id=\"df-ed61bdbd-d722-4013-bc39-8dd390a450b8\">\n",
              "    <div class=\"colab-df-container\">\n",
              "      <div>\n",
              "<style scoped>\n",
              "    .dataframe tbody tr th:only-of-type {\n",
              "        vertical-align: middle;\n",
              "    }\n",
              "\n",
              "    .dataframe tbody tr th {\n",
              "        vertical-align: top;\n",
              "    }\n",
              "\n",
              "    .dataframe thead th {\n",
              "        text-align: right;\n",
              "    }\n",
              "</style>\n",
              "<table border=\"1\" class=\"dataframe\">\n",
              "  <thead>\n",
              "    <tr style=\"text-align: right;\">\n",
              "      <th></th>\n",
              "      <th>names</th>\n",
              "      <th>ranks</th>\n",
              "      <th>dates</th>\n",
              "    </tr>\n",
              "  </thead>\n",
              "  <tbody>\n",
              "    <tr>\n",
              "      <th>0</th>\n",
              "      <td>Jane Dao</td>\n",
              "      <td>49</td>\n",
              "      <td>1971</td>\n",
              "    </tr>\n",
              "    <tr>\n",
              "      <th>1</th>\n",
              "      <td>John Doe</td>\n",
              "      <td>48</td>\n",
              "      <td>1927</td>\n",
              "    </tr>\n",
              "  </tbody>\n",
              "</table>\n",
              "</div>\n",
              "      <button class=\"colab-df-convert\" onclick=\"convertToInteractive('df-ed61bdbd-d722-4013-bc39-8dd390a450b8')\"\n",
              "              title=\"Convert this dataframe to an interactive table.\"\n",
              "              style=\"display:none;\">\n",
              "        \n",
              "  <svg xmlns=\"http://www.w3.org/2000/svg\" height=\"24px\"viewBox=\"0 0 24 24\"\n",
              "       width=\"24px\">\n",
              "    <path d=\"M0 0h24v24H0V0z\" fill=\"none\"/>\n",
              "    <path d=\"M18.56 5.44l.94 2.06.94-2.06 2.06-.94-2.06-.94-.94-2.06-.94 2.06-2.06.94zm-11 1L8.5 8.5l.94-2.06 2.06-.94-2.06-.94L8.5 2.5l-.94 2.06-2.06.94zm10 10l.94 2.06.94-2.06 2.06-.94-2.06-.94-.94-2.06-.94 2.06-2.06.94z\"/><path d=\"M17.41 7.96l-1.37-1.37c-.4-.4-.92-.59-1.43-.59-.52 0-1.04.2-1.43.59L10.3 9.45l-7.72 7.72c-.78.78-.78 2.05 0 2.83L4 21.41c.39.39.9.59 1.41.59.51 0 1.02-.2 1.41-.59l7.78-7.78 2.81-2.81c.8-.78.8-2.07 0-2.86zM5.41 20L4 18.59l7.72-7.72 1.47 1.35L5.41 20z\"/>\n",
              "  </svg>\n",
              "      </button>\n",
              "      \n",
              "  <style>\n",
              "    .colab-df-container {\n",
              "      display:flex;\n",
              "      flex-wrap:wrap;\n",
              "      gap: 12px;\n",
              "    }\n",
              "\n",
              "    .colab-df-convert {\n",
              "      background-color: #E8F0FE;\n",
              "      border: none;\n",
              "      border-radius: 50%;\n",
              "      cursor: pointer;\n",
              "      display: none;\n",
              "      fill: #1967D2;\n",
              "      height: 32px;\n",
              "      padding: 0 0 0 0;\n",
              "      width: 32px;\n",
              "    }\n",
              "\n",
              "    .colab-df-convert:hover {\n",
              "      background-color: #E2EBFA;\n",
              "      box-shadow: 0px 1px 2px rgba(60, 64, 67, 0.3), 0px 1px 3px 1px rgba(60, 64, 67, 0.15);\n",
              "      fill: #174EA6;\n",
              "    }\n",
              "\n",
              "    [theme=dark] .colab-df-convert {\n",
              "      background-color: #3B4455;\n",
              "      fill: #D2E3FC;\n",
              "    }\n",
              "\n",
              "    [theme=dark] .colab-df-convert:hover {\n",
              "      background-color: #434B5C;\n",
              "      box-shadow: 0px 1px 3px 1px rgba(0, 0, 0, 0.15);\n",
              "      filter: drop-shadow(0px 1px 2px rgba(0, 0, 0, 0.3));\n",
              "      fill: #FFFFFF;\n",
              "    }\n",
              "  </style>\n",
              "\n",
              "      <script>\n",
              "        const buttonEl =\n",
              "          document.querySelector('#df-ed61bdbd-d722-4013-bc39-8dd390a450b8 button.colab-df-convert');\n",
              "        buttonEl.style.display =\n",
              "          google.colab.kernel.accessAllowed ? 'block' : 'none';\n",
              "\n",
              "        async function convertToInteractive(key) {\n",
              "          const element = document.querySelector('#df-ed61bdbd-d722-4013-bc39-8dd390a450b8');\n",
              "          const dataTable =\n",
              "            await google.colab.kernel.invokeFunction('convertToInteractive',\n",
              "                                                     [key], {});\n",
              "          if (!dataTable) return;\n",
              "\n",
              "          const docLinkHtml = 'Like what you see? Visit the ' +\n",
              "            '<a target=\"_blank\" href=https://colab.research.google.com/notebooks/data_table.ipynb>data table notebook</a>'\n",
              "            + ' to learn more about interactive tables.';\n",
              "          element.innerHTML = '';\n",
              "          dataTable['output_type'] = 'display_data';\n",
              "          await google.colab.output.renderOutput(dataTable, element);\n",
              "          const docLink = document.createElement('div');\n",
              "          docLink.innerHTML = docLinkHtml;\n",
              "          element.appendChild(docLink);\n",
              "        }\n",
              "      </script>\n",
              "    </div>\n",
              "  </div>\n",
              "  "
            ]
          },
          "metadata": {},
          "execution_count": 21
        }
      ]
    },
    {
      "cell_type": "markdown",
      "source": [
        "This built a dataframe object for us. There are lots of shortcuts and alternative ways to get your data into a dataframe."
      ],
      "metadata": {
        "id": "NvDd6VA3llYS"
      }
    },
    {
      "cell_type": "code",
      "source": [
        "pd.DataFrame(my_data, columns=[\"names\",\"ranks\",\"dates\"])"
      ],
      "metadata": {
        "colab": {
          "base_uri": "https://localhost:8080/",
          "height": 112
        },
        "id": "I8ntr67TlsF4",
        "outputId": "eee0f750-085b-457a-8f9f-b844fe22de14"
      },
      "execution_count": 22,
      "outputs": [
        {
          "output_type": "execute_result",
          "data": {
            "text/plain": [
              "      names  ranks  dates\n",
              "0  Jane Dao     49   1971\n",
              "1  John Doe     48   1927"
            ],
            "text/html": [
              "\n",
              "  <div id=\"df-9a3dc324-9cc6-4d5f-9840-89dd8c7483f6\">\n",
              "    <div class=\"colab-df-container\">\n",
              "      <div>\n",
              "<style scoped>\n",
              "    .dataframe tbody tr th:only-of-type {\n",
              "        vertical-align: middle;\n",
              "    }\n",
              "\n",
              "    .dataframe tbody tr th {\n",
              "        vertical-align: top;\n",
              "    }\n",
              "\n",
              "    .dataframe thead th {\n",
              "        text-align: right;\n",
              "    }\n",
              "</style>\n",
              "<table border=\"1\" class=\"dataframe\">\n",
              "  <thead>\n",
              "    <tr style=\"text-align: right;\">\n",
              "      <th></th>\n",
              "      <th>names</th>\n",
              "      <th>ranks</th>\n",
              "      <th>dates</th>\n",
              "    </tr>\n",
              "  </thead>\n",
              "  <tbody>\n",
              "    <tr>\n",
              "      <th>0</th>\n",
              "      <td>Jane Dao</td>\n",
              "      <td>49</td>\n",
              "      <td>1971</td>\n",
              "    </tr>\n",
              "    <tr>\n",
              "      <th>1</th>\n",
              "      <td>John Doe</td>\n",
              "      <td>48</td>\n",
              "      <td>1927</td>\n",
              "    </tr>\n",
              "  </tbody>\n",
              "</table>\n",
              "</div>\n",
              "      <button class=\"colab-df-convert\" onclick=\"convertToInteractive('df-9a3dc324-9cc6-4d5f-9840-89dd8c7483f6')\"\n",
              "              title=\"Convert this dataframe to an interactive table.\"\n",
              "              style=\"display:none;\">\n",
              "        \n",
              "  <svg xmlns=\"http://www.w3.org/2000/svg\" height=\"24px\"viewBox=\"0 0 24 24\"\n",
              "       width=\"24px\">\n",
              "    <path d=\"M0 0h24v24H0V0z\" fill=\"none\"/>\n",
              "    <path d=\"M18.56 5.44l.94 2.06.94-2.06 2.06-.94-2.06-.94-.94-2.06-.94 2.06-2.06.94zm-11 1L8.5 8.5l.94-2.06 2.06-.94-2.06-.94L8.5 2.5l-.94 2.06-2.06.94zm10 10l.94 2.06.94-2.06 2.06-.94-2.06-.94-.94-2.06-.94 2.06-2.06.94z\"/><path d=\"M17.41 7.96l-1.37-1.37c-.4-.4-.92-.59-1.43-.59-.52 0-1.04.2-1.43.59L10.3 9.45l-7.72 7.72c-.78.78-.78 2.05 0 2.83L4 21.41c.39.39.9.59 1.41.59.51 0 1.02-.2 1.41-.59l7.78-7.78 2.81-2.81c.8-.78.8-2.07 0-2.86zM5.41 20L4 18.59l7.72-7.72 1.47 1.35L5.41 20z\"/>\n",
              "  </svg>\n",
              "      </button>\n",
              "      \n",
              "  <style>\n",
              "    .colab-df-container {\n",
              "      display:flex;\n",
              "      flex-wrap:wrap;\n",
              "      gap: 12px;\n",
              "    }\n",
              "\n",
              "    .colab-df-convert {\n",
              "      background-color: #E8F0FE;\n",
              "      border: none;\n",
              "      border-radius: 50%;\n",
              "      cursor: pointer;\n",
              "      display: none;\n",
              "      fill: #1967D2;\n",
              "      height: 32px;\n",
              "      padding: 0 0 0 0;\n",
              "      width: 32px;\n",
              "    }\n",
              "\n",
              "    .colab-df-convert:hover {\n",
              "      background-color: #E2EBFA;\n",
              "      box-shadow: 0px 1px 2px rgba(60, 64, 67, 0.3), 0px 1px 3px 1px rgba(60, 64, 67, 0.15);\n",
              "      fill: #174EA6;\n",
              "    }\n",
              "\n",
              "    [theme=dark] .colab-df-convert {\n",
              "      background-color: #3B4455;\n",
              "      fill: #D2E3FC;\n",
              "    }\n",
              "\n",
              "    [theme=dark] .colab-df-convert:hover {\n",
              "      background-color: #434B5C;\n",
              "      box-shadow: 0px 1px 3px 1px rgba(0, 0, 0, 0.15);\n",
              "      filter: drop-shadow(0px 1px 2px rgba(0, 0, 0, 0.3));\n",
              "      fill: #FFFFFF;\n",
              "    }\n",
              "  </style>\n",
              "\n",
              "      <script>\n",
              "        const buttonEl =\n",
              "          document.querySelector('#df-9a3dc324-9cc6-4d5f-9840-89dd8c7483f6 button.colab-df-convert');\n",
              "        buttonEl.style.display =\n",
              "          google.colab.kernel.accessAllowed ? 'block' : 'none';\n",
              "\n",
              "        async function convertToInteractive(key) {\n",
              "          const element = document.querySelector('#df-9a3dc324-9cc6-4d5f-9840-89dd8c7483f6');\n",
              "          const dataTable =\n",
              "            await google.colab.kernel.invokeFunction('convertToInteractive',\n",
              "                                                     [key], {});\n",
              "          if (!dataTable) return;\n",
              "\n",
              "          const docLinkHtml = 'Like what you see? Visit the ' +\n",
              "            '<a target=\"_blank\" href=https://colab.research.google.com/notebooks/data_table.ipynb>data table notebook</a>'\n",
              "            + ' to learn more about interactive tables.';\n",
              "          element.innerHTML = '';\n",
              "          dataTable['output_type'] = 'display_data';\n",
              "          await google.colab.output.renderOutput(dataTable, element);\n",
              "          const docLink = document.createElement('div');\n",
              "          docLink.innerHTML = docLinkHtml;\n",
              "          element.appendChild(docLink);\n",
              "        }\n",
              "      </script>\n",
              "    </div>\n",
              "  </div>\n",
              "  "
            ]
          },
          "metadata": {},
          "execution_count": 22
        }
      ]
    },
    {
      "cell_type": "markdown",
      "source": [
        "### Example 1: Getting a sample dataset\n",
        "\n",
        "Let's pull in some sample data. We'll look at [US baby name popularity data](https://www.ssa.gov/OACT/babynames/limits.html) provided by the US Social Security Administration. First, let's introduce another magic command: the `!` prefix. This allows us to run a command through the Linux Bash system that is hosting your notebook. Note that the commands we write with `!` are NOT Python but rather Bash commands.\n",
        "\n",
        "\n",
        "The next cell will show your working directory."
      ],
      "metadata": {
        "id": "M495X3KhmKZk"
      }
    },
    {
      "cell_type": "code",
      "source": [
        "!pwd"
      ],
      "metadata": {
        "colab": {
          "base_uri": "https://localhost:8080/"
        },
        "id": "JRdMIjrimJi-",
        "outputId": "a9a7f83c-693e-4fa0-a0be-63b7fcd11beb"
      },
      "execution_count": 23,
      "outputs": [
        {
          "output_type": "stream",
          "name": "stdout",
          "text": [
            "/content\n"
          ]
        }
      ]
    },
    {
      "cell_type": "markdown",
      "source": [
        "The following cell will download the baby names data."
      ],
      "metadata": {
        "id": "WhgE5cUVnTbP"
      }
    },
    {
      "cell_type": "code",
      "source": [
        "!wget https://www.ssa.gov/OACT/babynames/names.zip"
      ],
      "metadata": {
        "colab": {
          "base_uri": "https://localhost:8080/"
        },
        "id": "CyQAVEftwcHh",
        "outputId": "6d8c351b-b54e-4208-ab16-05861af9b57f"
      },
      "execution_count": 24,
      "outputs": [
        {
          "output_type": "stream",
          "name": "stdout",
          "text": [
            "--2022-09-29 01:01:19--  https://www.ssa.gov/OACT/babynames/names.zip\n",
            "Resolving www.ssa.gov (www.ssa.gov)... 23.12.147.14, 23.12.147.30, 2600:1408:c400:11::17cd:6b5b, ...\n",
            "Connecting to www.ssa.gov (www.ssa.gov)|23.12.147.14|:443... connected.\n",
            "HTTP request sent, awaiting response... 200 OK\n",
            "Length: 7405327 (7.1M) [application/zip]\n",
            "Saving to: ‘names.zip’\n",
            "\n",
            "names.zip           100%[===================>]   7.06M  --.-KB/s    in 0.1s    \n",
            "\n",
            "2022-09-29 01:01:19 (67.3 MB/s) - ‘names.zip’ saved [7405327/7405327]\n",
            "\n"
          ]
        }
      ]
    },
    {
      "cell_type": "markdown",
      "source": [
        "Now we will decompress and check the data."
      ],
      "metadata": {
        "id": "NDpliUTQnbLC"
      }
    },
    {
      "cell_type": "code",
      "source": [
        "!unzip names.zip"
      ],
      "metadata": {
        "colab": {
          "base_uri": "https://localhost:8080/"
        },
        "id": "tikm6-MewiDP",
        "outputId": "e2b1c057-d62a-475d-beef-f961a93bc829"
      },
      "execution_count": 25,
      "outputs": [
        {
          "output_type": "stream",
          "name": "stdout",
          "text": [
            "Archive:  names.zip\n",
            "  inflating: yob1880.txt             \n",
            "  inflating: yob1881.txt             \n",
            "  inflating: yob1882.txt             \n",
            "  inflating: yob1883.txt             \n",
            "  inflating: yob1884.txt             \n",
            "  inflating: yob1885.txt             \n",
            "  inflating: yob1886.txt             \n",
            "  inflating: yob1887.txt             \n",
            "  inflating: yob1888.txt             \n",
            "  inflating: yob1889.txt             \n",
            "  inflating: yob1890.txt             \n",
            "  inflating: yob1891.txt             \n",
            "  inflating: yob1892.txt             \n",
            "  inflating: yob1893.txt             \n",
            "  inflating: yob1894.txt             \n",
            "  inflating: yob1895.txt             \n",
            "  inflating: yob1896.txt             \n",
            "  inflating: yob1897.txt             \n",
            "  inflating: yob1898.txt             \n",
            "  inflating: yob1899.txt             \n",
            "  inflating: yob1900.txt             \n",
            "  inflating: yob1901.txt             \n",
            "  inflating: yob1902.txt             \n",
            "  inflating: yob1903.txt             \n",
            "  inflating: yob1904.txt             \n",
            "  inflating: yob1905.txt             \n",
            "  inflating: yob1906.txt             \n",
            "  inflating: yob1907.txt             \n",
            "  inflating: yob1908.txt             \n",
            "  inflating: yob1909.txt             \n",
            "  inflating: yob1910.txt             \n",
            "  inflating: yob1911.txt             \n",
            "  inflating: yob1912.txt             \n",
            "  inflating: yob1913.txt             \n",
            "  inflating: yob1914.txt             \n",
            "  inflating: yob1915.txt             \n",
            "  inflating: yob1916.txt             \n",
            "  inflating: yob1917.txt             \n",
            "  inflating: yob1918.txt             \n",
            "  inflating: yob1919.txt             \n",
            "  inflating: yob1920.txt             \n",
            "  inflating: yob1921.txt             \n",
            "  inflating: yob1922.txt             \n",
            "  inflating: yob1923.txt             \n",
            "  inflating: yob1924.txt             \n",
            "  inflating: yob1925.txt             \n",
            "  inflating: yob1926.txt             \n",
            "  inflating: yob1927.txt             \n",
            "  inflating: yob1928.txt             \n",
            "  inflating: yob1929.txt             \n",
            "  inflating: yob1930.txt             \n",
            "  inflating: yob1931.txt             \n",
            "  inflating: yob1932.txt             \n",
            "  inflating: yob1933.txt             \n",
            "  inflating: yob1934.txt             \n",
            "  inflating: yob1935.txt             \n",
            "  inflating: yob1936.txt             \n",
            "  inflating: yob1937.txt             \n",
            "  inflating: yob1938.txt             \n",
            "  inflating: yob1939.txt             \n",
            "  inflating: yob1940.txt             \n",
            "  inflating: yob1941.txt             \n",
            "  inflating: yob1942.txt             \n",
            "  inflating: yob1943.txt             \n",
            "  inflating: yob1944.txt             \n",
            "  inflating: yob1945.txt             \n",
            "  inflating: yob1946.txt             \n",
            "  inflating: yob1947.txt             \n",
            "  inflating: yob1948.txt             \n",
            "  inflating: yob1949.txt             \n",
            "  inflating: yob1950.txt             \n",
            "  inflating: yob1951.txt             \n",
            "  inflating: yob1952.txt             \n",
            "  inflating: yob1953.txt             \n",
            "  inflating: yob1954.txt             \n",
            "  inflating: yob1955.txt             \n",
            "  inflating: yob1956.txt             \n",
            "  inflating: yob1957.txt             \n",
            "  inflating: yob1958.txt             \n",
            "  inflating: yob1959.txt             \n",
            "  inflating: yob1960.txt             \n",
            "  inflating: yob1961.txt             \n",
            "  inflating: yob1962.txt             \n",
            "  inflating: yob1963.txt             \n",
            "  inflating: yob1964.txt             \n",
            "  inflating: yob1965.txt             \n",
            "  inflating: yob1966.txt             \n",
            "  inflating: yob1967.txt             \n",
            "  inflating: yob1968.txt             \n",
            "  inflating: yob1969.txt             \n",
            "  inflating: yob1970.txt             \n",
            "  inflating: yob1971.txt             \n",
            "  inflating: yob1972.txt             \n",
            "  inflating: yob1973.txt             \n",
            "  inflating: yob1974.txt             \n",
            "  inflating: yob1975.txt             \n",
            "  inflating: yob1976.txt             \n",
            "  inflating: yob1977.txt             \n",
            "  inflating: yob1978.txt             \n",
            "  inflating: yob1979.txt             \n",
            "  inflating: yob1980.txt             \n",
            "  inflating: yob1981.txt             \n",
            "  inflating: yob1982.txt             \n",
            "  inflating: yob1983.txt             \n",
            "  inflating: yob1984.txt             \n",
            "  inflating: yob1985.txt             \n",
            "  inflating: yob1986.txt             \n",
            "  inflating: yob1987.txt             \n",
            "  inflating: yob1988.txt             \n",
            "  inflating: yob1989.txt             \n",
            "  inflating: yob1990.txt             \n",
            "  inflating: yob1991.txt             \n",
            "  inflating: yob1992.txt             \n",
            "  inflating: yob1993.txt             \n",
            "  inflating: yob1994.txt             \n",
            "  inflating: yob1995.txt             \n",
            "  inflating: yob1996.txt             \n",
            "  inflating: yob1997.txt             \n",
            "  inflating: yob1998.txt             \n",
            "  inflating: yob1999.txt             \n",
            "  inflating: yob2000.txt             \n",
            "  inflating: yob2001.txt             \n",
            "  inflating: yob2002.txt             \n",
            "  inflating: yob2003.txt             \n",
            "  inflating: yob2004.txt             \n",
            "  inflating: yob2005.txt             \n",
            "  inflating: yob2006.txt             \n",
            "  inflating: yob2007.txt             \n",
            "  inflating: yob2008.txt             \n",
            "  inflating: yob2009.txt             \n",
            "  inflating: yob2010.txt             \n",
            "  inflating: yob2011.txt             \n",
            "  inflating: yob2012.txt             \n",
            "  inflating: yob2013.txt             \n",
            "  inflating: yob2014.txt             \n",
            "  inflating: yob2015.txt             \n",
            "  inflating: yob2016.txt             \n",
            "  inflating: yob2017.txt             \n",
            "  inflating: yob2018.txt             \n",
            "  inflating: yob2019.txt             \n",
            "  inflating: yob2020.txt             \n",
            "  inflating: yob2021.txt             \n",
            "  inflating: NationalReadMe.pdf      \n"
          ]
        }
      ]
    },
    {
      "cell_type": "code",
      "source": [
        "!head yob2021.txt"
      ],
      "metadata": {
        "colab": {
          "base_uri": "https://localhost:8080/"
        },
        "id": "fM-_oef0wy3L",
        "outputId": "8c6b53a8-ee0d-4960-922f-f17b7b3499f4"
      },
      "execution_count": 26,
      "outputs": [
        {
          "output_type": "stream",
          "name": "stdout",
          "text": [
            "Olivia,F,17728\r\n",
            "Emma,F,15433\r\n",
            "Charlotte,F,13285\r\n",
            "Amelia,F,12952\r\n",
            "Ava,F,12759\r\n",
            "Sophia,F,12496\r\n",
            "Isabella,F,11201\r\n",
            "Mia,F,11096\r\n",
            "Evelyn,F,9434\r\n",
            "Harper,F,8388\r\n"
          ]
        }
      ]
    },
    {
      "cell_type": "markdown",
      "source": [
        "Let's put the data in a Pandas dataframe for review."
      ],
      "metadata": {
        "id": "2GL5YJi_nhRA"
      }
    },
    {
      "cell_type": "code",
      "source": [
        "# this function treats \"yob2021.txt\" as the name of a csv file\n",
        "# in your working directory and tries to read it in as a dataframe.\n",
        "df = pd.read_csv(\"yob2021.txt\",names=[\"Name\",\"Sex\",\"Counts\"]) \n",
        "df"
      ],
      "metadata": {
        "colab": {
          "base_uri": "https://localhost:8080/",
          "height": 424
        },
        "id": "ixVAM232ngpQ",
        "outputId": "84dc7972-9811-46f4-ad1e-6e7d6ae8e27f"
      },
      "execution_count": 27,
      "outputs": [
        {
          "output_type": "execute_result",
          "data": {
            "text/plain": [
              "            Name Sex  Counts\n",
              "0         Olivia   F   17728\n",
              "1           Emma   F   15433\n",
              "2      Charlotte   F   13285\n",
              "3         Amelia   F   12952\n",
              "4            Ava   F   12759\n",
              "...          ...  ..     ...\n",
              "31532     Zyeire   M       5\n",
              "31533       Zyel   M       5\n",
              "31534      Zyian   M       5\n",
              "31535      Zylar   M       5\n",
              "31536        Zyn   M       5\n",
              "\n",
              "[31537 rows x 3 columns]"
            ],
            "text/html": [
              "\n",
              "  <div id=\"df-e1073e57-1414-42c7-95e6-57ebb6790f7e\">\n",
              "    <div class=\"colab-df-container\">\n",
              "      <div>\n",
              "<style scoped>\n",
              "    .dataframe tbody tr th:only-of-type {\n",
              "        vertical-align: middle;\n",
              "    }\n",
              "\n",
              "    .dataframe tbody tr th {\n",
              "        vertical-align: top;\n",
              "    }\n",
              "\n",
              "    .dataframe thead th {\n",
              "        text-align: right;\n",
              "    }\n",
              "</style>\n",
              "<table border=\"1\" class=\"dataframe\">\n",
              "  <thead>\n",
              "    <tr style=\"text-align: right;\">\n",
              "      <th></th>\n",
              "      <th>Name</th>\n",
              "      <th>Sex</th>\n",
              "      <th>Counts</th>\n",
              "    </tr>\n",
              "  </thead>\n",
              "  <tbody>\n",
              "    <tr>\n",
              "      <th>0</th>\n",
              "      <td>Olivia</td>\n",
              "      <td>F</td>\n",
              "      <td>17728</td>\n",
              "    </tr>\n",
              "    <tr>\n",
              "      <th>1</th>\n",
              "      <td>Emma</td>\n",
              "      <td>F</td>\n",
              "      <td>15433</td>\n",
              "    </tr>\n",
              "    <tr>\n",
              "      <th>2</th>\n",
              "      <td>Charlotte</td>\n",
              "      <td>F</td>\n",
              "      <td>13285</td>\n",
              "    </tr>\n",
              "    <tr>\n",
              "      <th>3</th>\n",
              "      <td>Amelia</td>\n",
              "      <td>F</td>\n",
              "      <td>12952</td>\n",
              "    </tr>\n",
              "    <tr>\n",
              "      <th>4</th>\n",
              "      <td>Ava</td>\n",
              "      <td>F</td>\n",
              "      <td>12759</td>\n",
              "    </tr>\n",
              "    <tr>\n",
              "      <th>...</th>\n",
              "      <td>...</td>\n",
              "      <td>...</td>\n",
              "      <td>...</td>\n",
              "    </tr>\n",
              "    <tr>\n",
              "      <th>31532</th>\n",
              "      <td>Zyeire</td>\n",
              "      <td>M</td>\n",
              "      <td>5</td>\n",
              "    </tr>\n",
              "    <tr>\n",
              "      <th>31533</th>\n",
              "      <td>Zyel</td>\n",
              "      <td>M</td>\n",
              "      <td>5</td>\n",
              "    </tr>\n",
              "    <tr>\n",
              "      <th>31534</th>\n",
              "      <td>Zyian</td>\n",
              "      <td>M</td>\n",
              "      <td>5</td>\n",
              "    </tr>\n",
              "    <tr>\n",
              "      <th>31535</th>\n",
              "      <td>Zylar</td>\n",
              "      <td>M</td>\n",
              "      <td>5</td>\n",
              "    </tr>\n",
              "    <tr>\n",
              "      <th>31536</th>\n",
              "      <td>Zyn</td>\n",
              "      <td>M</td>\n",
              "      <td>5</td>\n",
              "    </tr>\n",
              "  </tbody>\n",
              "</table>\n",
              "<p>31537 rows × 3 columns</p>\n",
              "</div>\n",
              "      <button class=\"colab-df-convert\" onclick=\"convertToInteractive('df-e1073e57-1414-42c7-95e6-57ebb6790f7e')\"\n",
              "              title=\"Convert this dataframe to an interactive table.\"\n",
              "              style=\"display:none;\">\n",
              "        \n",
              "  <svg xmlns=\"http://www.w3.org/2000/svg\" height=\"24px\"viewBox=\"0 0 24 24\"\n",
              "       width=\"24px\">\n",
              "    <path d=\"M0 0h24v24H0V0z\" fill=\"none\"/>\n",
              "    <path d=\"M18.56 5.44l.94 2.06.94-2.06 2.06-.94-2.06-.94-.94-2.06-.94 2.06-2.06.94zm-11 1L8.5 8.5l.94-2.06 2.06-.94-2.06-.94L8.5 2.5l-.94 2.06-2.06.94zm10 10l.94 2.06.94-2.06 2.06-.94-2.06-.94-.94-2.06-.94 2.06-2.06.94z\"/><path d=\"M17.41 7.96l-1.37-1.37c-.4-.4-.92-.59-1.43-.59-.52 0-1.04.2-1.43.59L10.3 9.45l-7.72 7.72c-.78.78-.78 2.05 0 2.83L4 21.41c.39.39.9.59 1.41.59.51 0 1.02-.2 1.41-.59l7.78-7.78 2.81-2.81c.8-.78.8-2.07 0-2.86zM5.41 20L4 18.59l7.72-7.72 1.47 1.35L5.41 20z\"/>\n",
              "  </svg>\n",
              "      </button>\n",
              "      \n",
              "  <style>\n",
              "    .colab-df-container {\n",
              "      display:flex;\n",
              "      flex-wrap:wrap;\n",
              "      gap: 12px;\n",
              "    }\n",
              "\n",
              "    .colab-df-convert {\n",
              "      background-color: #E8F0FE;\n",
              "      border: none;\n",
              "      border-radius: 50%;\n",
              "      cursor: pointer;\n",
              "      display: none;\n",
              "      fill: #1967D2;\n",
              "      height: 32px;\n",
              "      padding: 0 0 0 0;\n",
              "      width: 32px;\n",
              "    }\n",
              "\n",
              "    .colab-df-convert:hover {\n",
              "      background-color: #E2EBFA;\n",
              "      box-shadow: 0px 1px 2px rgba(60, 64, 67, 0.3), 0px 1px 3px 1px rgba(60, 64, 67, 0.15);\n",
              "      fill: #174EA6;\n",
              "    }\n",
              "\n",
              "    [theme=dark] .colab-df-convert {\n",
              "      background-color: #3B4455;\n",
              "      fill: #D2E3FC;\n",
              "    }\n",
              "\n",
              "    [theme=dark] .colab-df-convert:hover {\n",
              "      background-color: #434B5C;\n",
              "      box-shadow: 0px 1px 3px 1px rgba(0, 0, 0, 0.15);\n",
              "      filter: drop-shadow(0px 1px 2px rgba(0, 0, 0, 0.3));\n",
              "      fill: #FFFFFF;\n",
              "    }\n",
              "  </style>\n",
              "\n",
              "      <script>\n",
              "        const buttonEl =\n",
              "          document.querySelector('#df-e1073e57-1414-42c7-95e6-57ebb6790f7e button.colab-df-convert');\n",
              "        buttonEl.style.display =\n",
              "          google.colab.kernel.accessAllowed ? 'block' : 'none';\n",
              "\n",
              "        async function convertToInteractive(key) {\n",
              "          const element = document.querySelector('#df-e1073e57-1414-42c7-95e6-57ebb6790f7e');\n",
              "          const dataTable =\n",
              "            await google.colab.kernel.invokeFunction('convertToInteractive',\n",
              "                                                     [key], {});\n",
              "          if (!dataTable) return;\n",
              "\n",
              "          const docLinkHtml = 'Like what you see? Visit the ' +\n",
              "            '<a target=\"_blank\" href=https://colab.research.google.com/notebooks/data_table.ipynb>data table notebook</a>'\n",
              "            + ' to learn more about interactive tables.';\n",
              "          element.innerHTML = '';\n",
              "          dataTable['output_type'] = 'display_data';\n",
              "          await google.colab.output.renderOutput(dataTable, element);\n",
              "          const docLink = document.createElement('div');\n",
              "          docLink.innerHTML = docLinkHtml;\n",
              "          element.appendChild(docLink);\n",
              "        }\n",
              "      </script>\n",
              "    </div>\n",
              "  </div>\n",
              "  "
            ]
          },
          "metadata": {},
          "execution_count": 27
        }
      ]
    },
    {
      "cell_type": "markdown",
      "source": [
        "Pandas is probably the least \"pythonic\" standard library you will use. It is strongly influenced by older Database structures and inherits some of their confusing language and interaction methods. Don't worry if it feels like it is not intuitive. Often you'll find yourself googling how to do something for your first time in Pandas.\n",
        "\n",
        "Let's ask how many `M` and `F` children names total were recorded in 2021."
      ],
      "metadata": {
        "id": "UARLr2z4o6N5"
      }
    },
    {
      "cell_type": "code",
      "source": [
        "df[df['Sex']=='M'][\"Counts\"].sum()"
      ],
      "metadata": {
        "colab": {
          "base_uri": "https://localhost:8080/"
        },
        "id": "rHDdC-AtpYHg",
        "outputId": "618fea02-4b19-467d-e7de-e5980e492f71"
      },
      "execution_count": 28,
      "outputs": [
        {
          "output_type": "execute_result",
          "data": {
            "text/plain": [
              "1734277"
            ]
          },
          "metadata": {},
          "execution_count": 28
        }
      ]
    },
    {
      "cell_type": "code",
      "source": [
        "df[df['Sex']=='F'][\"Counts\"].sum()"
      ],
      "metadata": {
        "colab": {
          "base_uri": "https://localhost:8080/"
        },
        "id": "lh4QPXoQp4AS",
        "outputId": "b3c362cd-329a-423d-905c-250d054ad0cc"
      },
      "execution_count": 29,
      "outputs": [
        {
          "output_type": "execute_result",
          "data": {
            "text/plain": [
              "1627098"
            ]
          },
          "metadata": {},
          "execution_count": 29
        }
      ]
    },
    {
      "cell_type": "markdown",
      "source": [
        "### Plotting"
      ],
      "metadata": {
        "id": "z1dJPkMmu7UJ"
      }
    },
    {
      "cell_type": "markdown",
      "source": [
        "Now let's examine the distribution of name counts."
      ],
      "metadata": {
        "id": "BsERLIp6qezG"
      }
    },
    {
      "cell_type": "code",
      "source": [
        "df[\"Counts\"].hist(); # The semicolon here suppresses printing any extra information"
      ],
      "metadata": {
        "colab": {
          "base_uri": "https://localhost:8080/",
          "height": 0
        },
        "id": "BVOKGPcHqdeE",
        "outputId": "b0b08a08-d01f-403c-bb4d-3f09061db3f2"
      },
      "execution_count": 30,
      "outputs": [
        {
          "output_type": "display_data",
          "data": {
            "text/plain": [
              "<Figure size 432x288 with 1 Axes>"
            ],
            "image/png": "[encoded data removed]"
          },
          "metadata": {
            "needs_background": "light"
          }
        }
      ]
    },
    {
      "cell_type": "markdown",
      "source": [
        "Pandas includes quite a few built-in plotting mechanisms. It is very common to use other Python plotting libraries instead to provide more features, however. The most common of these is `matplotlib`, which was inspired by the MATLAB plotting library. If you are coming from R and love GGPLOT, that has also been ported as `plotnine`. Many other options exist."
      ],
      "metadata": {
        "id": "UoK5HeOOrAk6"
      }
    },
    {
      "cell_type": "code",
      "source": [
        "# This is another magic command. This one imports Matplotlib\n",
        "# and tells it to display in a notebook-friendly way.\n",
        "# It is actually already deprecated in the latest Python versions,\n",
        "# but Colab is a bit behind.\n",
        "%pylab inline "
      ],
      "metadata": {
        "colab": {
          "base_uri": "https://localhost:8080/"
        },
        "id": "E7Pai40Crw8h",
        "outputId": "dfaf3963-9cfe-4fb1-b48b-b7d53890712c"
      },
      "execution_count": 31,
      "outputs": [
        {
          "output_type": "stream",
          "name": "stdout",
          "text": [
            "Populating the interactive namespace from numpy and matplotlib\n"
          ]
        }
      ]
    },
    {
      "cell_type": "code",
      "source": [
        "hist(df[\"Counts\"]);"
      ],
      "metadata": {
        "colab": {
          "base_uri": "https://localhost:8080/",
          "height": 0
        },
        "id": "JCHx-MWorJuC",
        "outputId": "b243a951-4925-4af7-ae68-adc0aeb8fee9"
      },
      "execution_count": 32,
      "outputs": [
        {
          "output_type": "display_data",
          "data": {
            "text/plain": [
              "<Figure size 432x288 with 1 Axes>"
            ],
            "image/png": "[encoded data removed]"
          },
          "metadata": {
            "needs_background": "light"
          }
        }
      ]
    },
    {
      "cell_type": "markdown",
      "source": [
        "We could also plot the data values themselves as a scatter plot. Note how this shows us that the data is NOT sorted."
      ],
      "metadata": {
        "id": "rCxzyBXtuQDR"
      }
    },
    {
      "cell_type": "code",
      "source": [
        "plot(df[\"Counts\"], '.');"
      ],
      "metadata": {
        "colab": {
          "base_uri": "https://localhost:8080/",
          "height": 0
        },
        "id": "VbolADQBsIUg",
        "outputId": "262aa147-cc02-42d4-b21e-2a97b0187d68"
      },
      "execution_count": 33,
      "outputs": [
        {
          "output_type": "display_data",
          "data": {
            "text/plain": [
              "<Figure size 432x288 with 1 Axes>"
            ],
            "image/png": "[encoded data removed]"
          },
          "metadata": {
            "needs_background": "light"
          }
        }
      ]
    },
    {
      "cell_type": "markdown",
      "source": [
        "### From qualitative to quantitative data: dummy variables\n",
        "\n",
        "If your data contains a qualitative variable that has a discrete finite domain (e.g. smoker/nonsmoker) you may wish to represent the data numerically. It is common to do this via [one-hot-encoding](https://en.wikipedia.org/wiki/One-hot) or [dummy variables](https://en.wikipedia.org/wiki/Dummy_variable_(statistics)). Suppose we want to answer the question \"is there a relationship between boy/girl assignment and name popularity?\" We can answer this with point-biserial correlation if we encode the sexes as integers. "
      ],
      "metadata": {
        "id": "S-H236isxyBJ"
      }
    },
    {
      "cell_type": "code",
      "source": [
        "pd.get_dummies(df[\"Sex\"])"
      ],
      "metadata": {
        "colab": {
          "base_uri": "https://localhost:8080/",
          "height": 424
        },
        "id": "V7axTyNU010h",
        "outputId": "12098e73-a74e-4081-e14b-0d3f71af8d5c"
      },
      "execution_count": 34,
      "outputs": [
        {
          "output_type": "execute_result",
          "data": {
            "text/plain": [
              "       F  M\n",
              "0      1  0\n",
              "1      1  0\n",
              "2      1  0\n",
              "3      1  0\n",
              "4      1  0\n",
              "...   .. ..\n",
              "31532  0  1\n",
              "31533  0  1\n",
              "31534  0  1\n",
              "31535  0  1\n",
              "31536  0  1\n",
              "\n",
              "[31537 rows x 2 columns]"
            ],
            "text/html": [
              "\n",
              "  <div id=\"df-fe92bf65-fc01-408b-a219-8454f72fbb7d\">\n",
              "    <div class=\"colab-df-container\">\n",
              "      <div>\n",
              "<style scoped>\n",
              "    .dataframe tbody tr th:only-of-type {\n",
              "        vertical-align: middle;\n",
              "    }\n",
              "\n",
              "    .dataframe tbody tr th {\n",
              "        vertical-align: top;\n",
              "    }\n",
              "\n",
              "    .dataframe thead th {\n",
              "        text-align: right;\n",
              "    }\n",
              "</style>\n",
              "<table border=\"1\" class=\"dataframe\">\n",
              "  <thead>\n",
              "    <tr style=\"text-align: right;\">\n",
              "      <th></th>\n",
              "      <th>F</th>\n",
              "      <th>M</th>\n",
              "    </tr>\n",
              "  </thead>\n",
              "  <tbody>\n",
              "    <tr>\n",
              "      <th>0</th>\n",
              "      <td>1</td>\n",
              "      <td>0</td>\n",
              "    </tr>\n",
              "    <tr>\n",
              "      <th>1</th>\n",
              "      <td>1</td>\n",
              "      <td>0</td>\n",
              "    </tr>\n",
              "    <tr>\n",
              "      <th>2</th>\n",
              "      <td>1</td>\n",
              "      <td>0</td>\n",
              "    </tr>\n",
              "    <tr>\n",
              "      <th>3</th>\n",
              "      <td>1</td>\n",
              "      <td>0</td>\n",
              "    </tr>\n",
              "    <tr>\n",
              "      <th>4</th>\n",
              "      <td>1</td>\n",
              "      <td>0</td>\n",
              "    </tr>\n",
              "    <tr>\n",
              "      <th>...</th>\n",
              "      <td>...</td>\n",
              "      <td>...</td>\n",
              "    </tr>\n",
              "    <tr>\n",
              "      <th>31532</th>\n",
              "      <td>0</td>\n",
              "      <td>1</td>\n",
              "    </tr>\n",
              "    <tr>\n",
              "      <th>31533</th>\n",
              "      <td>0</td>\n",
              "      <td>1</td>\n",
              "    </tr>\n",
              "    <tr>\n",
              "      <th>31534</th>\n",
              "      <td>0</td>\n",
              "      <td>1</td>\n",
              "    </tr>\n",
              "    <tr>\n",
              "      <th>31535</th>\n",
              "      <td>0</td>\n",
              "      <td>1</td>\n",
              "    </tr>\n",
              "    <tr>\n",
              "      <th>31536</th>\n",
              "      <td>0</td>\n",
              "      <td>1</td>\n",
              "    </tr>\n",
              "  </tbody>\n",
              "</table>\n",
              "<p>31537 rows × 2 columns</p>\n",
              "</div>\n",
              "      <button class=\"colab-df-convert\" onclick=\"convertToInteractive('df-fe92bf65-fc01-408b-a219-8454f72fbb7d')\"\n",
              "              title=\"Convert this dataframe to an interactive table.\"\n",
              "              style=\"display:none;\">\n",
              "        \n",
              "  <svg xmlns=\"http://www.w3.org/2000/svg\" height=\"24px\"viewBox=\"0 0 24 24\"\n",
              "       width=\"24px\">\n",
              "    <path d=\"M0 0h24v24H0V0z\" fill=\"none\"/>\n",
              "    <path d=\"M18.56 5.44l.94 2.06.94-2.06 2.06-.94-2.06-.94-.94-2.06-.94 2.06-2.06.94zm-11 1L8.5 8.5l.94-2.06 2.06-.94-2.06-.94L8.5 2.5l-.94 2.06-2.06.94zm10 10l.94 2.06.94-2.06 2.06-.94-2.06-.94-.94-2.06-.94 2.06-2.06.94z\"/><path d=\"M17.41 7.96l-1.37-1.37c-.4-.4-.92-.59-1.43-.59-.52 0-1.04.2-1.43.59L10.3 9.45l-7.72 7.72c-.78.78-.78 2.05 0 2.83L4 21.41c.39.39.9.59 1.41.59.51 0 1.02-.2 1.41-.59l7.78-7.78 2.81-2.81c.8-.78.8-2.07 0-2.86zM5.41 20L4 18.59l7.72-7.72 1.47 1.35L5.41 20z\"/>\n",
              "  </svg>\n",
              "      </button>\n",
              "      \n",
              "  <style>\n",
              "    .colab-df-container {\n",
              "      display:flex;\n",
              "      flex-wrap:wrap;\n",
              "      gap: 12px;\n",
              "    }\n",
              "\n",
              "    .colab-df-convert {\n",
              "      background-color: #E8F0FE;\n",
              "      border: none;\n",
              "      border-radius: 50%;\n",
              "      cursor: pointer;\n",
              "      display: none;\n",
              "      fill: #1967D2;\n",
              "      height: 32px;\n",
              "      padding: 0 0 0 0;\n",
              "      width: 32px;\n",
              "    }\n",
              "\n",
              "    .colab-df-convert:hover {\n",
              "      background-color: #E2EBFA;\n",
              "      box-shadow: 0px 1px 2px rgba(60, 64, 67, 0.3), 0px 1px 3px 1px rgba(60, 64, 67, 0.15);\n",
              "      fill: #174EA6;\n",
              "    }\n",
              "\n",
              "    [theme=dark] .colab-df-convert {\n",
              "      background-color: #3B4455;\n",
              "      fill: #D2E3FC;\n",
              "    }\n",
              "\n",
              "    [theme=dark] .colab-df-convert:hover {\n",
              "      background-color: #434B5C;\n",
              "      box-shadow: 0px 1px 3px 1px rgba(0, 0, 0, 0.15);\n",
              "      filter: drop-shadow(0px 1px 2px rgba(0, 0, 0, 0.3));\n",
              "      fill: #FFFFFF;\n",
              "    }\n",
              "  </style>\n",
              "\n",
              "      <script>\n",
              "        const buttonEl =\n",
              "          document.querySelector('#df-fe92bf65-fc01-408b-a219-8454f72fbb7d button.colab-df-convert');\n",
              "        buttonEl.style.display =\n",
              "          google.colab.kernel.accessAllowed ? 'block' : 'none';\n",
              "\n",
              "        async function convertToInteractive(key) {\n",
              "          const element = document.querySelector('#df-fe92bf65-fc01-408b-a219-8454f72fbb7d');\n",
              "          const dataTable =\n",
              "            await google.colab.kernel.invokeFunction('convertToInteractive',\n",
              "                                                     [key], {});\n",
              "          if (!dataTable) return;\n",
              "\n",
              "          const docLinkHtml = 'Like what you see? Visit the ' +\n",
              "            '<a target=\"_blank\" href=https://colab.research.google.com/notebooks/data_table.ipynb>data table notebook</a>'\n",
              "            + ' to learn more about interactive tables.';\n",
              "          element.innerHTML = '';\n",
              "          dataTable['output_type'] = 'display_data';\n",
              "          await google.colab.output.renderOutput(dataTable, element);\n",
              "          const docLink = document.createElement('div');\n",
              "          docLink.innerHTML = docLinkHtml;\n",
              "          element.appendChild(docLink);\n",
              "        }\n",
              "      </script>\n",
              "    </div>\n",
              "  </div>\n",
              "  "
            ]
          },
          "metadata": {},
          "execution_count": 34
        }
      ]
    },
    {
      "cell_type": "code",
      "source": [
        "df = pd.merge(df,pd.get_dummies(df[\"Sex\"]), how=\"outer\", left_index=True, right_index=True)\n",
        "df"
      ],
      "metadata": {
        "colab": {
          "base_uri": "https://localhost:8080/",
          "height": 424
        },
        "id": "pgXJ1hmz1Zr9",
        "outputId": "d99c88c5-0353-4f29-86a5-a3bf069a5330"
      },
      "execution_count": 35,
      "outputs": [
        {
          "output_type": "execute_result",
          "data": {
            "text/plain": [
              "            Name Sex  Counts  F  M\n",
              "0         Olivia   F   17728  1  0\n",
              "1           Emma   F   15433  1  0\n",
              "2      Charlotte   F   13285  1  0\n",
              "3         Amelia   F   12952  1  0\n",
              "4            Ava   F   12759  1  0\n",
              "...          ...  ..     ... .. ..\n",
              "31532     Zyeire   M       5  0  1\n",
              "31533       Zyel   M       5  0  1\n",
              "31534      Zyian   M       5  0  1\n",
              "31535      Zylar   M       5  0  1\n",
              "31536        Zyn   M       5  0  1\n",
              "\n",
              "[31537 rows x 5 columns]"
            ],
            "text/html": [
              "\n",
              "  <div id=\"df-9bac8d23-79c5-4dbd-88c5-b4e778967791\">\n",
              "    <div class=\"colab-df-container\">\n",
              "      <div>\n",
              "<style scoped>\n",
              "    .dataframe tbody tr th:only-of-type {\n",
              "        vertical-align: middle;\n",
              "    }\n",
              "\n",
              "    .dataframe tbody tr th {\n",
              "        vertical-align: top;\n",
              "    }\n",
              "\n",
              "    .dataframe thead th {\n",
              "        text-align: right;\n",
              "    }\n",
              "</style>\n",
              "<table border=\"1\" class=\"dataframe\">\n",
              "  <thead>\n",
              "    <tr style=\"text-align: right;\">\n",
              "      <th></th>\n",
              "      <th>Name</th>\n",
              "      <th>Sex</th>\n",
              "      <th>Counts</th>\n",
              "      <th>F</th>\n",
              "      <th>M</th>\n",
              "    </tr>\n",
              "  </thead>\n",
              "  <tbody>\n",
              "    <tr>\n",
              "      <th>0</th>\n",
              "      <td>Olivia</td>\n",
              "      <td>F</td>\n",
              "      <td>17728</td>\n",
              "      <td>1</td>\n",
              "      <td>0</td>\n",
              "    </tr>\n",
              "    <tr>\n",
              "      <th>1</th>\n",
              "      <td>Emma</td>\n",
              "      <td>F</td>\n",
              "      <td>15433</td>\n",
              "      <td>1</td>\n",
              "      <td>0</td>\n",
              "    </tr>\n",
              "    <tr>\n",
              "      <th>2</th>\n",
              "      <td>Charlotte</td>\n",
              "      <td>F</td>\n",
              "      <td>13285</td>\n",
              "      <td>1</td>\n",
              "      <td>0</td>\n",
              "    </tr>\n",
              "    <tr>\n",
              "      <th>3</th>\n",
              "      <td>Amelia</td>\n",
              "      <td>F</td>\n",
              "      <td>12952</td>\n",
              "      <td>1</td>\n",
              "      <td>0</td>\n",
              "    </tr>\n",
              "    <tr>\n",
              "      <th>4</th>\n",
              "      <td>Ava</td>\n",
              "      <td>F</td>\n",
              "      <td>12759</td>\n",
              "      <td>1</td>\n",
              "      <td>0</td>\n",
              "    </tr>\n",
              "    <tr>\n",
              "      <th>...</th>\n",
              "      <td>...</td>\n",
              "      <td>...</td>\n",
              "      <td>...</td>\n",
              "      <td>...</td>\n",
              "      <td>...</td>\n",
              "    </tr>\n",
              "    <tr>\n",
              "      <th>31532</th>\n",
              "      <td>Zyeire</td>\n",
              "      <td>M</td>\n",
              "      <td>5</td>\n",
              "      <td>0</td>\n",
              "      <td>1</td>\n",
              "    </tr>\n",
              "    <tr>\n",
              "      <th>31533</th>\n",
              "      <td>Zyel</td>\n",
              "      <td>M</td>\n",
              "      <td>5</td>\n",
              "      <td>0</td>\n",
              "      <td>1</td>\n",
              "    </tr>\n",
              "    <tr>\n",
              "      <th>31534</th>\n",
              "      <td>Zyian</td>\n",
              "      <td>M</td>\n",
              "      <td>5</td>\n",
              "      <td>0</td>\n",
              "      <td>1</td>\n",
              "    </tr>\n",
              "    <tr>\n",
              "      <th>31535</th>\n",
              "      <td>Zylar</td>\n",
              "      <td>M</td>\n",
              "      <td>5</td>\n",
              "      <td>0</td>\n",
              "      <td>1</td>\n",
              "    </tr>\n",
              "    <tr>\n",
              "      <th>31536</th>\n",
              "      <td>Zyn</td>\n",
              "      <td>M</td>\n",
              "      <td>5</td>\n",
              "      <td>0</td>\n",
              "      <td>1</td>\n",
              "    </tr>\n",
              "  </tbody>\n",
              "</table>\n",
              "<p>31537 rows × 5 columns</p>\n",
              "</div>\n",
              "      <button class=\"colab-df-convert\" onclick=\"convertToInteractive('df-9bac8d23-79c5-4dbd-88c5-b4e778967791')\"\n",
              "              title=\"Convert this dataframe to an interactive table.\"\n",
              "              style=\"display:none;\">\n",
              "        \n",
              "  <svg xmlns=\"http://www.w3.org/2000/svg\" height=\"24px\"viewBox=\"0 0 24 24\"\n",
              "       width=\"24px\">\n",
              "    <path d=\"M0 0h24v24H0V0z\" fill=\"none\"/>\n",
              "    <path d=\"M18.56 5.44l.94 2.06.94-2.06 2.06-.94-2.06-.94-.94-2.06-.94 2.06-2.06.94zm-11 1L8.5 8.5l.94-2.06 2.06-.94-2.06-.94L8.5 2.5l-.94 2.06-2.06.94zm10 10l.94 2.06.94-2.06 2.06-.94-2.06-.94-.94-2.06-.94 2.06-2.06.94z\"/><path d=\"M17.41 7.96l-1.37-1.37c-.4-.4-.92-.59-1.43-.59-.52 0-1.04.2-1.43.59L10.3 9.45l-7.72 7.72c-.78.78-.78 2.05 0 2.83L4 21.41c.39.39.9.59 1.41.59.51 0 1.02-.2 1.41-.59l7.78-7.78 2.81-2.81c.8-.78.8-2.07 0-2.86zM5.41 20L4 18.59l7.72-7.72 1.47 1.35L5.41 20z\"/>\n",
              "  </svg>\n",
              "      </button>\n",
              "      \n",
              "  <style>\n",
              "    .colab-df-container {\n",
              "      display:flex;\n",
              "      flex-wrap:wrap;\n",
              "      gap: 12px;\n",
              "    }\n",
              "\n",
              "    .colab-df-convert {\n",
              "      background-color: #E8F0FE;\n",
              "      border: none;\n",
              "      border-radius: 50%;\n",
              "      cursor: pointer;\n",
              "      display: none;\n",
              "      fill: #1967D2;\n",
              "      height: 32px;\n",
              "      padding: 0 0 0 0;\n",
              "      width: 32px;\n",
              "    }\n",
              "\n",
              "    .colab-df-convert:hover {\n",
              "      background-color: #E2EBFA;\n",
              "      box-shadow: 0px 1px 2px rgba(60, 64, 67, 0.3), 0px 1px 3px 1px rgba(60, 64, 67, 0.15);\n",
              "      fill: #174EA6;\n",
              "    }\n",
              "\n",
              "    [theme=dark] .colab-df-convert {\n",
              "      background-color: #3B4455;\n",
              "      fill: #D2E3FC;\n",
              "    }\n",
              "\n",
              "    [theme=dark] .colab-df-convert:hover {\n",
              "      background-color: #434B5C;\n",
              "      box-shadow: 0px 1px 3px 1px rgba(0, 0, 0, 0.15);\n",
              "      filter: drop-shadow(0px 1px 2px rgba(0, 0, 0, 0.3));\n",
              "      fill: #FFFFFF;\n",
              "    }\n",
              "  </style>\n",
              "\n",
              "      <script>\n",
              "        const buttonEl =\n",
              "          document.querySelector('#df-9bac8d23-79c5-4dbd-88c5-b4e778967791 button.colab-df-convert');\n",
              "        buttonEl.style.display =\n",
              "          google.colab.kernel.accessAllowed ? 'block' : 'none';\n",
              "\n",
              "        async function convertToInteractive(key) {\n",
              "          const element = document.querySelector('#df-9bac8d23-79c5-4dbd-88c5-b4e778967791');\n",
              "          const dataTable =\n",
              "            await google.colab.kernel.invokeFunction('convertToInteractive',\n",
              "                                                     [key], {});\n",
              "          if (!dataTable) return;\n",
              "\n",
              "          const docLinkHtml = 'Like what you see? Visit the ' +\n",
              "            '<a target=\"_blank\" href=https://colab.research.google.com/notebooks/data_table.ipynb>data table notebook</a>'\n",
              "            + ' to learn more about interactive tables.';\n",
              "          element.innerHTML = '';\n",
              "          dataTable['output_type'] = 'display_data';\n",
              "          await google.colab.output.renderOutput(dataTable, element);\n",
              "          const docLink = document.createElement('div');\n",
              "          docLink.innerHTML = docLinkHtml;\n",
              "          element.appendChild(docLink);\n",
              "        }\n",
              "      </script>\n",
              "    </div>\n",
              "  </div>\n",
              "  "
            ]
          },
          "metadata": {},
          "execution_count": 35
        }
      ]
    },
    {
      "cell_type": "markdown",
      "source": [
        "Now we can investigate the correlation."
      ],
      "metadata": {
        "id": "ZrDIACsW3KNs"
      }
    },
    {
      "cell_type": "code",
      "source": [
        "df.corr()"
      ],
      "metadata": {
        "colab": {
          "base_uri": "https://localhost:8080/",
          "height": 143
        },
        "id": "Cu9Q1M7D3N59",
        "outputId": "64df7fd0-a176-413c-c31f-a8b970837f7d"
      },
      "execution_count": 36,
      "outputs": [
        {
          "output_type": "execute_result",
          "data": {
            "text/plain": [
              "          Counts         F         M\n",
              "Counts  1.000000 -0.026666  0.026666\n",
              "F      -0.026666  1.000000 -1.000000\n",
              "M       0.026666 -1.000000  1.000000"
            ],
            "text/html": [
              "\n",
              "  <div id=\"df-bcaa1325-7584-4b89-a7d1-ae75f6085015\">\n",
              "    <div class=\"colab-df-container\">\n",
              "      <div>\n",
              "<style scoped>\n",
              "    .dataframe tbody tr th:only-of-type {\n",
              "        vertical-align: middle;\n",
              "    }\n",
              "\n",
              "    .dataframe tbody tr th {\n",
              "        vertical-align: top;\n",
              "    }\n",
              "\n",
              "    .dataframe thead th {\n",
              "        text-align: right;\n",
              "    }\n",
              "</style>\n",
              "<table border=\"1\" class=\"dataframe\">\n",
              "  <thead>\n",
              "    <tr style=\"text-align: right;\">\n",
              "      <th></th>\n",
              "      <th>Counts</th>\n",
              "      <th>F</th>\n",
              "      <th>M</th>\n",
              "    </tr>\n",
              "  </thead>\n",
              "  <tbody>\n",
              "    <tr>\n",
              "      <th>Counts</th>\n",
              "      <td>1.000000</td>\n",
              "      <td>-0.026666</td>\n",
              "      <td>0.026666</td>\n",
              "    </tr>\n",
              "    <tr>\n",
              "      <th>F</th>\n",
              "      <td>-0.026666</td>\n",
              "      <td>1.000000</td>\n",
              "      <td>-1.000000</td>\n",
              "    </tr>\n",
              "    <tr>\n",
              "      <th>M</th>\n",
              "      <td>0.026666</td>\n",
              "      <td>-1.000000</td>\n",
              "      <td>1.000000</td>\n",
              "    </tr>\n",
              "  </tbody>\n",
              "</table>\n",
              "</div>\n",
              "      <button class=\"colab-df-convert\" onclick=\"convertToInteractive('df-bcaa1325-7584-4b89-a7d1-ae75f6085015')\"\n",
              "              title=\"Convert this dataframe to an interactive table.\"\n",
              "              style=\"display:none;\">\n",
              "        \n",
              "  <svg xmlns=\"http://www.w3.org/2000/svg\" height=\"24px\"viewBox=\"0 0 24 24\"\n",
              "       width=\"24px\">\n",
              "    <path d=\"M0 0h24v24H0V0z\" fill=\"none\"/>\n",
              "    <path d=\"M18.56 5.44l.94 2.06.94-2.06 2.06-.94-2.06-.94-.94-2.06-.94 2.06-2.06.94zm-11 1L8.5 8.5l.94-2.06 2.06-.94-2.06-.94L8.5 2.5l-.94 2.06-2.06.94zm10 10l.94 2.06.94-2.06 2.06-.94-2.06-.94-.94-2.06-.94 2.06-2.06.94z\"/><path d=\"M17.41 7.96l-1.37-1.37c-.4-.4-.92-.59-1.43-.59-.52 0-1.04.2-1.43.59L10.3 9.45l-7.72 7.72c-.78.78-.78 2.05 0 2.83L4 21.41c.39.39.9.59 1.41.59.51 0 1.02-.2 1.41-.59l7.78-7.78 2.81-2.81c.8-.78.8-2.07 0-2.86zM5.41 20L4 18.59l7.72-7.72 1.47 1.35L5.41 20z\"/>\n",
              "  </svg>\n",
              "      </button>\n",
              "      \n",
              "  <style>\n",
              "    .colab-df-container {\n",
              "      display:flex;\n",
              "      flex-wrap:wrap;\n",
              "      gap: 12px;\n",
              "    }\n",
              "\n",
              "    .colab-df-convert {\n",
              "      background-color: #E8F0FE;\n",
              "      border: none;\n",
              "      border-radius: 50%;\n",
              "      cursor: pointer;\n",
              "      display: none;\n",
              "      fill: #1967D2;\n",
              "      height: 32px;\n",
              "      padding: 0 0 0 0;\n",
              "      width: 32px;\n",
              "    }\n",
              "\n",
              "    .colab-df-convert:hover {\n",
              "      background-color: #E2EBFA;\n",
              "      box-shadow: 0px 1px 2px rgba(60, 64, 67, 0.3), 0px 1px 3px 1px rgba(60, 64, 67, 0.15);\n",
              "      fill: #174EA6;\n",
              "    }\n",
              "\n",
              "    [theme=dark] .colab-df-convert {\n",
              "      background-color: #3B4455;\n",
              "      fill: #D2E3FC;\n",
              "    }\n",
              "\n",
              "    [theme=dark] .colab-df-convert:hover {\n",
              "      background-color: #434B5C;\n",
              "      box-shadow: 0px 1px 3px 1px rgba(0, 0, 0, 0.15);\n",
              "      filter: drop-shadow(0px 1px 2px rgba(0, 0, 0, 0.3));\n",
              "      fill: #FFFFFF;\n",
              "    }\n",
              "  </style>\n",
              "\n",
              "      <script>\n",
              "        const buttonEl =\n",
              "          document.querySelector('#df-bcaa1325-7584-4b89-a7d1-ae75f6085015 button.colab-df-convert');\n",
              "        buttonEl.style.display =\n",
              "          google.colab.kernel.accessAllowed ? 'block' : 'none';\n",
              "\n",
              "        async function convertToInteractive(key) {\n",
              "          const element = document.querySelector('#df-bcaa1325-7584-4b89-a7d1-ae75f6085015');\n",
              "          const dataTable =\n",
              "            await google.colab.kernel.invokeFunction('convertToInteractive',\n",
              "                                                     [key], {});\n",
              "          if (!dataTable) return;\n",
              "\n",
              "          const docLinkHtml = 'Like what you see? Visit the ' +\n",
              "            '<a target=\"_blank\" href=https://colab.research.google.com/notebooks/data_table.ipynb>data table notebook</a>'\n",
              "            + ' to learn more about interactive tables.';\n",
              "          element.innerHTML = '';\n",
              "          dataTable['output_type'] = 'display_data';\n",
              "          await google.colab.output.renderOutput(dataTable, element);\n",
              "          const docLink = document.createElement('div');\n",
              "          docLink.innerHTML = docLinkHtml;\n",
              "          element.appendChild(docLink);\n",
              "        }\n",
              "      </script>\n",
              "    </div>\n",
              "  </div>\n",
              "  "
            ]
          },
          "metadata": {},
          "execution_count": 36
        }
      ]
    },
    {
      "cell_type": "markdown",
      "source": [
        "Scatter matrices are a common visualization tool for quickly assessing variable interdependence."
      ],
      "metadata": {
        "id": "OJYQd8-j8Enq"
      }
    },
    {
      "cell_type": "code",
      "source": [
        "pd.plotting.scatter_matrix(df);"
      ],
      "metadata": {
        "colab": {
          "base_uri": "https://localhost:8080/",
          "height": 295
        },
        "id": "IUqNx2Cq63C_",
        "outputId": "9e822cc3-b64b-4933-97b8-c6f0ac20aee0"
      },
      "execution_count": 37,
      "outputs": [
        {
          "output_type": "display_data",
          "data": {
            "text/plain": [
              "<Figure size 432x288 with 9 Axes>"
            ],
            "image/png": "[encoded data removed]"
          },
          "metadata": {
            "needs_background": "light"
          }
        }
      ]
    },
    {
      "cell_type": "markdown",
      "source": [
        "### Example 2: Digit classification OCR data"
      ],
      "metadata": {
        "id": "6uPWSoxuxTj_"
      }
    },
    {
      "cell_type": "markdown",
      "source": [
        "The next toy dataset we'll play with comes from famous efforts to build OCR models tuned to classify handwritten digits. For now we'll play with the unlabeled data, as if it was new data we just encountered and wish to explore."
      ],
      "metadata": {
        "id": "iWYO59DF5qUN"
      }
    },
    {
      "cell_type": "markdown",
      "source": [
        "The next few cells are just library imports."
      ],
      "metadata": {
        "id": "DYMDW-8YHp90"
      }
    },
    {
      "cell_type": "code",
      "source": [
        "! pip install umap-learn[plot]"
      ],
      "metadata": {
        "colab": {
          "base_uri": "https://localhost:8080/"
        },
        "id": "3-X3GMZs-5MP",
        "outputId": "67ab39af-4a3e-44b7-e85a-ffca3d8141bd"
      },
      "execution_count": 38,
      "outputs": [
        {
          "output_type": "stream",
          "name": "stdout",
          "text": [
            "Looking in indexes: https://pypi.org/simple, https://us-python.pkg.dev/colab-wheels/public/simple/\n",
            "Requirement already satisfied: umap-learn[plot] in /usr/local/lib/python3.7/dist-packages (0.5.3)\n",
            "Requirement already satisfied: scikit-learn>=0.22 in /usr/local/lib/python3.7/dist-packages (from umap-learn[plot]) (1.0.2)\n",
            "Requirement already satisfied: scipy>=1.0 in /usr/local/lib/python3.7/dist-packages (from umap-learn[plot]) (1.7.3)\n",
            "Requirement already satisfied: numba>=0.49 in /usr/local/lib/python3.7/dist-packages (from umap-learn[plot]) (0.56.2)\n",
            "Requirement already satisfied: numpy>=1.17 in /usr/local/lib/python3.7/dist-packages (from umap-learn[plot]) (1.21.6)\n",
            "Requirement already satisfied: pynndescent>=0.5 in /usr/local/lib/python3.7/dist-packages (from umap-learn[plot]) (0.5.7)\n",
            "Requirement already satisfied: tqdm in /usr/local/lib/python3.7/dist-packages (from umap-learn[plot]) (4.64.1)\n",
            "Requirement already satisfied: bokeh in /usr/local/lib/python3.7/dist-packages (from umap-learn[plot]) (2.3.3)\n",
            "Requirement already satisfied: holoviews in /usr/local/lib/python3.7/dist-packages (from umap-learn[plot]) (1.14.9)\n",
            "Requirement already satisfied: scikit-image in /usr/local/lib/python3.7/dist-packages (from umap-learn[plot]) (0.18.3)\n",
            "Requirement already satisfied: matplotlib in /usr/local/lib/python3.7/dist-packages (from umap-learn[plot]) (3.2.2)\n",
            "Requirement already satisfied: datashader in /usr/local/lib/python3.7/dist-packages (from umap-learn[plot]) (0.14.2)\n",
            "Requirement already satisfied: pandas in /usr/local/lib/python3.7/dist-packages (from umap-learn[plot]) (1.3.5)\n",
            "Requirement already satisfied: seaborn in /usr/local/lib/python3.7/dist-packages (from umap-learn[plot]) (0.11.2)\n",
            "Requirement already satisfied: colorcet in /usr/local/lib/python3.7/dist-packages (from umap-learn[plot]) (3.0.0)\n",
            "Requirement already satisfied: llvmlite<0.40,>=0.39.0dev0 in /usr/local/lib/python3.7/dist-packages (from numba>=0.49->umap-learn[plot]) (0.39.1)\n",
            "Requirement already satisfied: importlib-metadata in /usr/local/lib/python3.7/dist-packages (from numba>=0.49->umap-learn[plot]) (4.12.0)\n",
            "Requirement already satisfied: setuptools<60 in /usr/local/lib/python3.7/dist-packages (from numba>=0.49->umap-learn[plot]) (57.4.0)\n",
            "Requirement already satisfied: joblib>=0.11 in /usr/local/lib/python3.7/dist-packages (from pynndescent>=0.5->umap-learn[plot]) (1.1.0)\n",
            "Requirement already satisfied: threadpoolctl>=2.0.0 in /usr/local/lib/python3.7/dist-packages (from scikit-learn>=0.22->umap-learn[plot]) (3.1.0)\n",
            "Requirement already satisfied: python-dateutil>=2.1 in /usr/local/lib/python3.7/dist-packages (from bokeh->umap-learn[plot]) (2.8.2)\n",
            "Requirement already satisfied: tornado>=5.1 in /usr/local/lib/python3.7/dist-packages (from bokeh->umap-learn[plot]) (5.1.1)\n",
            "Requirement already satisfied: PyYAML>=3.10 in /usr/local/lib/python3.7/dist-packages (from bokeh->umap-learn[plot]) (6.0)\n",
            "Requirement already satisfied: pillow>=7.1.0 in /usr/local/lib/python3.7/dist-packages (from bokeh->umap-learn[plot]) (7.1.2)\n",
            "Requirement already satisfied: packaging>=16.8 in /usr/local/lib/python3.7/dist-packages (from bokeh->umap-learn[plot]) (21.3)\n",
            "Requirement already satisfied: typing-extensions>=3.7.4 in /usr/local/lib/python3.7/dist-packages (from bokeh->umap-learn[plot]) (4.1.1)\n",
            "Requirement already satisfied: Jinja2>=2.9 in /usr/local/lib/python3.7/dist-packages (from bokeh->umap-learn[plot]) (2.11.3)\n",
            "Requirement already satisfied: MarkupSafe>=0.23 in /usr/local/lib/python3.7/dist-packages (from Jinja2>=2.9->bokeh->umap-learn[plot]) (2.0.1)\n",
            "Requirement already satisfied: pyparsing!=3.0.5,>=2.0.2 in /usr/local/lib/python3.7/dist-packages (from packaging>=16.8->bokeh->umap-learn[plot]) (3.0.9)\n",
            "Requirement already satisfied: six>=1.5 in /usr/local/lib/python3.7/dist-packages (from python-dateutil>=2.1->bokeh->umap-learn[plot]) (1.15.0)\n",
            "Requirement already satisfied: param>=1.7.0 in /usr/local/lib/python3.7/dist-packages (from colorcet->umap-learn[plot]) (1.12.2)\n",
            "Requirement already satisfied: pyct>=0.4.4 in /usr/local/lib/python3.7/dist-packages (from colorcet->umap-learn[plot]) (0.4.8)\n",
            "Requirement already satisfied: dask[complete] in /usr/local/lib/python3.7/dist-packages (from datashader->umap-learn[plot]) (2022.2.0)\n",
            "Requirement already satisfied: datashape>=0.5.1 in /usr/local/lib/python3.7/dist-packages (from datashader->umap-learn[plot]) (0.5.2)\n",
            "Requirement already satisfied: xarray>=0.9.6 in /usr/local/lib/python3.7/dist-packages (from datashader->umap-learn[plot]) (0.20.2)\n",
            "Requirement already satisfied: requests in /usr/local/lib/python3.7/dist-packages (from datashader->umap-learn[plot]) (2.23.0)\n",
            "Requirement already satisfied: multipledispatch>=0.4.7 in /usr/local/lib/python3.7/dist-packages (from datashape>=0.5.1->datashader->umap-learn[plot]) (0.6.0)\n",
            "Requirement already satisfied: pytz>=2017.3 in /usr/local/lib/python3.7/dist-packages (from pandas->umap-learn[plot]) (2022.2.1)\n",
            "Requirement already satisfied: partd>=0.3.10 in /usr/local/lib/python3.7/dist-packages (from dask[complete]->datashader->umap-learn[plot]) (1.3.0)\n",
            "Requirement already satisfied: cloudpickle>=1.1.1 in /usr/local/lib/python3.7/dist-packages (from dask[complete]->datashader->umap-learn[plot]) (1.5.0)\n",
            "Requirement already satisfied: fsspec>=0.6.0 in /usr/local/lib/python3.7/dist-packages (from dask[complete]->datashader->umap-learn[plot]) (2022.8.2)\n",
            "Requirement already satisfied: toolz>=0.8.2 in /usr/local/lib/python3.7/dist-packages (from dask[complete]->datashader->umap-learn[plot]) (0.12.0)\n",
            "Requirement already satisfied: distributed==2022.02.0 in /usr/local/lib/python3.7/dist-packages (from dask[complete]->datashader->umap-learn[plot]) (2022.2.0)\n",
            "Requirement already satisfied: psutil>=5.0 in /usr/local/lib/python3.7/dist-packages (from distributed==2022.02.0->dask[complete]->datashader->umap-learn[plot]) (5.4.8)\n",
            "Requirement already satisfied: msgpack>=0.6.0 in /usr/local/lib/python3.7/dist-packages (from distributed==2022.02.0->dask[complete]->datashader->umap-learn[plot]) (1.0.4)\n",
            "Requirement already satisfied: tblib>=1.6.0 in /usr/local/lib/python3.7/dist-packages (from distributed==2022.02.0->dask[complete]->datashader->umap-learn[plot]) (1.7.0)\n",
            "Requirement already satisfied: zict>=0.1.3 in /usr/local/lib/python3.7/dist-packages (from distributed==2022.02.0->dask[complete]->datashader->umap-learn[plot]) (2.2.0)\n",
            "Requirement already satisfied: click>=6.6 in /usr/local/lib/python3.7/dist-packages (from distributed==2022.02.0->dask[complete]->datashader->umap-learn[plot]) (7.1.2)\n",
            "Requirement already satisfied: sortedcontainers!=2.0.0,!=2.0.1 in /usr/local/lib/python3.7/dist-packages (from distributed==2022.02.0->dask[complete]->datashader->umap-learn[plot]) (2.4.0)\n",
            "Requirement already satisfied: locket in /usr/local/lib/python3.7/dist-packages (from partd>=0.3.10->dask[complete]->datashader->umap-learn[plot]) (1.0.0)\n",
            "Requirement already satisfied: heapdict in /usr/local/lib/python3.7/dist-packages (from zict>=0.1.3->distributed==2022.02.0->dask[complete]->datashader->umap-learn[plot]) (1.0.1)\n",
            "Requirement already satisfied: panel>=0.8.0 in /usr/local/lib/python3.7/dist-packages (from holoviews->umap-learn[plot]) (0.12.1)\n",
            "Requirement already satisfied: pyviz-comms>=0.7.4 in /usr/local/lib/python3.7/dist-packages (from holoviews->umap-learn[plot]) (2.2.1)\n",
            "Requirement already satisfied: markdown in /usr/local/lib/python3.7/dist-packages (from panel>=0.8.0->holoviews->umap-learn[plot]) (3.4.1)\n",
            "Requirement already satisfied: bleach in /usr/local/lib/python3.7/dist-packages (from panel>=0.8.0->holoviews->umap-learn[plot]) (5.0.1)\n",
            "Requirement already satisfied: webencodings in /usr/local/lib/python3.7/dist-packages (from bleach->panel>=0.8.0->holoviews->umap-learn[plot]) (0.5.1)\n",
            "Requirement already satisfied: zipp>=0.5 in /usr/local/lib/python3.7/dist-packages (from importlib-metadata->numba>=0.49->umap-learn[plot]) (3.8.1)\n",
            "Requirement already satisfied: cycler>=0.10 in /usr/local/lib/python3.7/dist-packages (from matplotlib->umap-learn[plot]) (0.11.0)\n",
            "Requirement already satisfied: kiwisolver>=1.0.1 in /usr/local/lib/python3.7/dist-packages (from matplotlib->umap-learn[plot]) (1.4.4)\n",
            "Requirement already satisfied: urllib3!=1.25.0,!=1.25.1,<1.26,>=1.21.1 in /usr/local/lib/python3.7/dist-packages (from requests->datashader->umap-learn[plot]) (1.24.3)\n",
            "Requirement already satisfied: chardet<4,>=3.0.2 in /usr/local/lib/python3.7/dist-packages (from requests->datashader->umap-learn[plot]) (3.0.4)\n",
            "Requirement already satisfied: certifi>=2017.4.17 in /usr/local/lib/python3.7/dist-packages (from requests->datashader->umap-learn[plot]) (2022.6.15)\n",
            "Requirement already satisfied: idna<3,>=2.5 in /usr/local/lib/python3.7/dist-packages (from requests->datashader->umap-learn[plot]) (2.10)\n",
            "Requirement already satisfied: networkx>=2.0 in /usr/local/lib/python3.7/dist-packages (from scikit-image->umap-learn[plot]) (2.6.3)\n",
            "Requirement already satisfied: imageio>=2.3.0 in /usr/local/lib/python3.7/dist-packages (from scikit-image->umap-learn[plot]) (2.9.0)\n",
            "Requirement already satisfied: tifffile>=2019.7.26 in /usr/local/lib/python3.7/dist-packages (from scikit-image->umap-learn[plot]) (2021.11.2)\n",
            "Requirement already satisfied: PyWavelets>=1.1.1 in /usr/local/lib/python3.7/dist-packages (from scikit-image->umap-learn[plot]) (1.3.0)\n"
          ]
        }
      ]
    },
    {
      "cell_type": "code",
      "source": [
        "! pip install hdbscan"
      ],
      "metadata": {
        "colab": {
          "base_uri": "https://localhost:8080/"
        },
        "id": "DaLcdmABCpAE",
        "outputId": "06c49002-d8fc-4e02-968a-a66e0fce7c55"
      },
      "execution_count": 39,
      "outputs": [
        {
          "output_type": "stream",
          "name": "stdout",
          "text": [
            "Looking in indexes: https://pypi.org/simple, https://us-python.pkg.dev/colab-wheels/public/simple/\n",
            "Requirement already satisfied: hdbscan in /usr/local/lib/python3.7/dist-packages (0.8.28)\n",
            "Requirement already satisfied: scikit-learn>=0.20 in /usr/local/lib/python3.7/dist-packages (from hdbscan) (1.0.2)\n",
            "Requirement already satisfied: scipy>=1.0 in /usr/local/lib/python3.7/dist-packages (from hdbscan) (1.7.3)\n",
            "Requirement already satisfied: cython>=0.27 in /usr/local/lib/python3.7/dist-packages (from hdbscan) (0.29.32)\n",
            "Requirement already satisfied: joblib>=1.0 in /usr/local/lib/python3.7/dist-packages (from hdbscan) (1.1.0)\n",
            "Requirement already satisfied: numpy>=1.20 in /usr/local/lib/python3.7/dist-packages (from hdbscan) (1.21.6)\n",
            "Requirement already satisfied: threadpoolctl>=2.0.0 in /usr/local/lib/python3.7/dist-packages (from scikit-learn>=0.20->hdbscan) (3.1.0)\n"
          ]
        }
      ]
    },
    {
      "cell_type": "code",
      "source": [
        "# Typically you should put your imports all\n",
        "# at the top of your Python code or notebook\n",
        "# and be cautious to keep the notebook linear.\n",
        "# This means make sure cells should execute in \n",
        "# order.\n",
        "%pylab inline\n",
        "import pandas as pd\n",
        "from sklearn.datasets import load_digits"
      ],
      "metadata": {
        "id": "jceCRADIxO4T",
        "colab": {
          "base_uri": "https://localhost:8080/"
        },
        "outputId": "ad427d47-bebf-4c27-fe7e-a86200603a5c"
      },
      "execution_count": 40,
      "outputs": [
        {
          "output_type": "stream",
          "name": "stdout",
          "text": [
            "Populating the interactive namespace from numpy and matplotlib\n"
          ]
        }
      ]
    },
    {
      "cell_type": "code",
      "source": [
        "from scipy.cluster.hierarchy import dendrogram\n",
        "from scipy.cluster.hierarchy import linkage\n",
        "from sklearn.cluster import AgglomerativeClustering\n",
        "from sklearn.decomposition import PCA\n",
        "import umap\n",
        "import umap.plot"
      ],
      "metadata": {
        "id": "v0XNOAZl7YC_"
      },
      "execution_count": 41,
      "outputs": []
    },
    {
      "cell_type": "code",
      "source": [
        "import hdbscan"
      ],
      "metadata": {
        "id": "rl1xpCLGCgOs"
      },
      "execution_count": 42,
      "outputs": []
    },
    {
      "cell_type": "markdown",
      "source": [
        "The toy dataset we are using can be read in simply as follows."
      ],
      "metadata": {
        "id": "RjQ6nRFiHvst"
      }
    },
    {
      "cell_type": "code",
      "source": [
        "digits = load_digits()"
      ],
      "metadata": {
        "id": "bhfAE8KX5Pi-"
      },
      "execution_count": 43,
      "outputs": []
    },
    {
      "cell_type": "markdown",
      "source": [
        "This next cell tells us what the array size is for the data we are working with. The first number indicates the number of rows, the second indicates the number of features. In this case, each feature is the value for that pixel in a 8x8 pixel picture of a handwritten digit."
      ],
      "metadata": {
        "id": "EUdMUDPj54gk"
      }
    },
    {
      "cell_type": "code",
      "source": [
        "digits.data.shape"
      ],
      "metadata": {
        "colab": {
          "base_uri": "https://localhost:8080/"
        },
        "id": "l9QeatcO5Yls",
        "outputId": "333d9172-a58b-411a-f7fd-95bc033b15bf"
      },
      "execution_count": 44,
      "outputs": [
        {
          "output_type": "execute_result",
          "data": {
            "text/plain": [
              "(1797, 64)"
            ]
          },
          "metadata": {},
          "execution_count": 44
        }
      ]
    },
    {
      "cell_type": "markdown",
      "source": [
        "Here's what a couple of the data points look like."
      ],
      "metadata": {
        "id": "9iW7TtqZH0OE"
      }
    },
    {
      "cell_type": "code",
      "source": [
        "imshow(digits.data[0].reshape((8,8)));"
      ],
      "metadata": {
        "colab": {
          "base_uri": "https://localhost:8080/",
          "height": 265
        },
        "id": "U8puwWMzFqa8",
        "outputId": "cc344733-3499-4c4a-c8a6-923a37134903"
      },
      "execution_count": 45,
      "outputs": [
        {
          "output_type": "display_data",
          "data": {
            "text/plain": [
              "<Figure size 432x288 with 1 Axes>"
            ],
            "image/png": "[encoded data removed]"
          },
          "metadata": {
            "needs_background": "light"
          }
        }
      ]
    },
    {
      "cell_type": "code",
      "source": [
        "imshow(digits.data[15].reshape((8,8)));"
      ],
      "metadata": {
        "colab": {
          "base_uri": "https://localhost:8080/",
          "height": 265
        },
        "id": "8f80mddGF1S_",
        "outputId": "b9a699a8-c3b9-4428-85e3-f03e59313af7"
      },
      "execution_count": 46,
      "outputs": [
        {
          "output_type": "display_data",
          "data": {
            "text/plain": [
              "<Figure size 432x288 with 1 Axes>"
            ],
            "image/png": "[encoded data removed]"
          },
          "metadata": {
            "needs_background": "light"
          }
        }
      ]
    },
    {
      "cell_type": "markdown",
      "source": [
        "We'll very informally check the correlation between features using Pandas."
      ],
      "metadata": {
        "id": "ub2pek4oH5zn"
      }
    },
    {
      "cell_type": "code",
      "source": [
        "ddf = pd.DataFrame.from_records(digits.data)\n",
        "ddf"
      ],
      "metadata": {
        "colab": {
          "base_uri": "https://localhost:8080/",
          "height": 424
        },
        "id": "WFCUeFlCE3w0",
        "outputId": "078bc6e9-3ed1-4db6-9433-16aefd7ea376"
      },
      "execution_count": 47,
      "outputs": [
        {
          "output_type": "execute_result",
          "data": {
            "text/plain": [
              "       0    1     2     3     4     5    6    7    8    9   ...   54   55  \\\n",
              "0     0.0  0.0   5.0  13.0   9.0   1.0  0.0  0.0  0.0  0.0  ...  0.0  0.0   \n",
              "1     0.0  0.0   0.0  12.0  13.0   5.0  0.0  0.0  0.0  0.0  ...  0.0  0.0   \n",
              "2     0.0  0.0   0.0   4.0  15.0  12.0  0.0  0.0  0.0  0.0  ...  5.0  0.0   \n",
              "3     0.0  0.0   7.0  15.0  13.0   1.0  0.0  0.0  0.0  8.0  ...  9.0  0.0   \n",
              "4     0.0  0.0   0.0   1.0  11.0   0.0  0.0  0.0  0.0  0.0  ...  0.0  0.0   \n",
              "...   ...  ...   ...   ...   ...   ...  ...  ...  ...  ...  ...  ...  ...   \n",
              "1792  0.0  0.0   4.0  10.0  13.0   6.0  0.0  0.0  0.0  1.0  ...  4.0  0.0   \n",
              "1793  0.0  0.0   6.0  16.0  13.0  11.0  1.0  0.0  0.0  0.0  ...  1.0  0.0   \n",
              "1794  0.0  0.0   1.0  11.0  15.0   1.0  0.0  0.0  0.0  0.0  ...  0.0  0.0   \n",
              "1795  0.0  0.0   2.0  10.0   7.0   0.0  0.0  0.0  0.0  0.0  ...  2.0  0.0   \n",
              "1796  0.0  0.0  10.0  14.0   8.0   1.0  0.0  0.0  0.0  2.0  ...  8.0  0.0   \n",
              "\n",
              "       56   57   58    59    60    61   62   63  \n",
              "0     0.0  0.0  6.0  13.0  10.0   0.0  0.0  0.0  \n",
              "1     0.0  0.0  0.0  11.0  16.0  10.0  0.0  0.0  \n",
              "2     0.0  0.0  0.0   3.0  11.0  16.0  9.0  0.0  \n",
              "3     0.0  0.0  7.0  13.0  13.0   9.0  0.0  0.0  \n",
              "4     0.0  0.0  0.0   2.0  16.0   4.0  0.0  0.0  \n",
              "...   ...  ...  ...   ...   ...   ...  ...  ...  \n",
              "1792  0.0  0.0  2.0  14.0  15.0   9.0  0.0  0.0  \n",
              "1793  0.0  0.0  6.0  16.0  14.0   6.0  0.0  0.0  \n",
              "1794  0.0  0.0  2.0   9.0  13.0   6.0  0.0  0.0  \n",
              "1795  0.0  0.0  5.0  12.0  16.0  12.0  0.0  0.0  \n",
              "1796  0.0  1.0  8.0  12.0  14.0  12.0  1.0  0.0  \n",
              "\n",
              "[1797 rows x 64 columns]"
            ],
            "text/html": [
              "\n",
              "  <div id=\"df-71078798-72d6-4bb3-968d-a36bcabdfecf\">\n",
              "    <div class=\"colab-df-container\">\n",
              "      <div>\n",
              "<style scoped>\n",
              "    .dataframe tbody tr th:only-of-type {\n",
              "        vertical-align: middle;\n",
              "    }\n",
              "\n",
              "    .dataframe tbody tr th {\n",
              "        vertical-align: top;\n",
              "    }\n",
              "\n",
              "    .dataframe thead th {\n",
              "        text-align: right;\n",
              "    }\n",
              "</style>\n",
              "<table border=\"1\" class=\"dataframe\">\n",
              "  <thead>\n",
              "    <tr style=\"text-align: right;\">\n",
              "      <th></th>\n",
              "      <th>0</th>\n",
              "      <th>1</th>\n",
              "      <th>2</th>\n",
              "      <th>3</th>\n",
              "      <th>4</th>\n",
              "      <th>5</th>\n",
              "      <th>6</th>\n",
              "      <th>7</th>\n",
              "      <th>8</th>\n",
              "      <th>9</th>\n",
              "      <th>...</th>\n",
              "      <th>54</th>\n",
              "      <th>55</th>\n",
              "      <th>56</th>\n",
              "      <th>57</th>\n",
              "      <th>58</th>\n",
              "      <th>59</th>\n",
              "      <th>60</th>\n",
              "      <th>61</th>\n",
              "      <th>62</th>\n",
              "      <th>63</th>\n",
              "    </tr>\n",
              "  </thead>\n",
              "  <tbody>\n",
              "    <tr>\n",
              "      <th>0</th>\n",
              "      <td>0.0</td>\n",
              "      <td>0.0</td>\n",
              "      <td>5.0</td>\n",
              "      <td>13.0</td>\n",
              "      <td>9.0</td>\n",
              "      <td>1.0</td>\n",
              "      <td>0.0</td>\n",
              "      <td>0.0</td>\n",
              "      <td>0.0</td>\n",
              "      <td>0.0</td>\n",
              "      <td>...</td>\n",
              "      <td>0.0</td>\n",
              "      <td>0.0</td>\n",
              "      <td>0.0</td>\n",
              "      <td>0.0</td>\n",
              "      <td>6.0</td>\n",
              "      <td>13.0</td>\n",
              "      <td>10.0</td>\n",
              "      <td>0.0</td>\n",
              "      <td>0.0</td>\n",
              "      <td>0.0</td>\n",
              "    </tr>\n",
              "    <tr>\n",
              "      <th>1</th>\n",
              "      <td>0.0</td>\n",
              "      <td>0.0</td>\n",
              "      <td>0.0</td>\n",
              "      <td>12.0</td>\n",
              "      <td>13.0</td>\n",
              "      <td>5.0</td>\n",
              "      <td>0.0</td>\n",
              "      <td>0.0</td>\n",
              "      <td>0.0</td>\n",
              "      <td>0.0</td>\n",
              "      <td>...</td>\n",
              "      <td>0.0</td>\n",
              "      <td>0.0</td>\n",
              "      <td>0.0</td>\n",
              "      <td>0.0</td>\n",
              "      <td>0.0</td>\n",
              "      <td>11.0</td>\n",
              "      <td>16.0</td>\n",
              "      <td>10.0</td>\n",
              "      <td>0.0</td>\n",
              "      <td>0.0</td>\n",
              "    </tr>\n",
              "    <tr>\n",
              "      <th>2</th>\n",
              "      <td>0.0</td>\n",
              "      <td>0.0</td>\n",
              "      <td>0.0</td>\n",
              "      <td>4.0</td>\n",
              "      <td>15.0</td>\n",
              "      <td>12.0</td>\n",
              "      <td>0.0</td>\n",
              "      <td>0.0</td>\n",
              "      <td>0.0</td>\n",
              "      <td>0.0</td>\n",
              "      <td>...</td>\n",
              "      <td>5.0</td>\n",
              "      <td>0.0</td>\n",
              "      <td>0.0</td>\n",
              "      <td>0.0</td>\n",
              "      <td>0.0</td>\n",
              "      <td>3.0</td>\n",
              "      <td>11.0</td>\n",
              "      <td>16.0</td>\n",
              "      <td>9.0</td>\n",
              "      <td>0.0</td>\n",
              "    </tr>\n",
              "    <tr>\n",
              "      <th>3</th>\n",
              "      <td>0.0</td>\n",
              "      <td>0.0</td>\n",
              "      <td>7.0</td>\n",
              "      <td>15.0</td>\n",
              "      <td>13.0</td>\n",
              "      <td>1.0</td>\n",
              "      <td>0.0</td>\n",
              "      <td>0.0</td>\n",
              "      <td>0.0</td>\n",
              "      <td>8.0</td>\n",
              "      <td>...</td>\n",
              "      <td>9.0</td>\n",
              "      <td>0.0</td>\n",
              "      <td>0.0</td>\n",
              "      <td>0.0</td>\n",
              "      <td>7.0</td>\n",
              "      <td>13.0</td>\n",
              "      <td>13.0</td>\n",
              "      <td>9.0</td>\n",
              "      <td>0.0</td>\n",
              "      <td>0.0</td>\n",
              "    </tr>\n",
              "    <tr>\n",
              "      <th>4</th>\n",
              "      <td>0.0</td>\n",
              "      <td>0.0</td>\n",
              "      <td>0.0</td>\n",
              "      <td>1.0</td>\n",
              "      <td>11.0</td>\n",
              "      <td>0.0</td>\n",
              "      <td>0.0</td>\n",
              "      <td>0.0</td>\n",
              "      <td>0.0</td>\n",
              "      <td>0.0</td>\n",
              "      <td>...</td>\n",
              "      <td>0.0</td>\n",
              "      <td>0.0</td>\n",
              "      <td>0.0</td>\n",
              "      <td>0.0</td>\n",
              "      <td>0.0</td>\n",
              "      <td>2.0</td>\n",
              "      <td>16.0</td>\n",
              "      <td>4.0</td>\n",
              "      <td>0.0</td>\n",
              "      <td>0.0</td>\n",
              "    </tr>\n",
              "    <tr>\n",
              "      <th>...</th>\n",
              "      <td>...</td>\n",
              "      <td>...</td>\n",
              "      <td>...</td>\n",
              "      <td>...</td>\n",
              "      <td>...</td>\n",
              "      <td>...</td>\n",
              "      <td>...</td>\n",
              "      <td>...</td>\n",
              "      <td>...</td>\n",
              "      <td>...</td>\n",
              "      <td>...</td>\n",
              "      <td>...</td>\n",
              "      <td>...</td>\n",
              "      <td>...</td>\n",
              "      <td>...</td>\n",
              "      <td>...</td>\n",
              "      <td>...</td>\n",
              "      <td>...</td>\n",
              "      <td>...</td>\n",
              "      <td>...</td>\n",
              "      <td>...</td>\n",
              "    </tr>\n",
              "    <tr>\n",
              "      <th>1792</th>\n",
              "      <td>0.0</td>\n",
              "      <td>0.0</td>\n",
              "      <td>4.0</td>\n",
              "      <td>10.0</td>\n",
              "      <td>13.0</td>\n",
              "      <td>6.0</td>\n",
              "      <td>0.0</td>\n",
              "      <td>0.0</td>\n",
              "      <td>0.0</td>\n",
              "      <td>1.0</td>\n",
              "      <td>...</td>\n",
              "      <td>4.0</td>\n",
              "      <td>0.0</td>\n",
              "      <td>0.0</td>\n",
              "      <td>0.0</td>\n",
              "      <td>2.0</td>\n",
              "      <td>14.0</td>\n",
              "      <td>15.0</td>\n",
              "      <td>9.0</td>\n",
              "      <td>0.0</td>\n",
              "      <td>0.0</td>\n",
              "    </tr>\n",
              "    <tr>\n",
              "      <th>1793</th>\n",
              "      <td>0.0</td>\n",
              "      <td>0.0</td>\n",
              "      <td>6.0</td>\n",
              "      <td>16.0</td>\n",
              "      <td>13.0</td>\n",
              "      <td>11.0</td>\n",
              "      <td>1.0</td>\n",
              "      <td>0.0</td>\n",
              "      <td>0.0</td>\n",
              "      <td>0.0</td>\n",
              "      <td>...</td>\n",
              "      <td>1.0</td>\n",
              "      <td>0.0</td>\n",
              "      <td>0.0</td>\n",
              "      <td>0.0</td>\n",
              "      <td>6.0</td>\n",
              "      <td>16.0</td>\n",
              "      <td>14.0</td>\n",
              "      <td>6.0</td>\n",
              "      <td>0.0</td>\n",
              "      <td>0.0</td>\n",
              "    </tr>\n",
              "    <tr>\n",
              "      <th>1794</th>\n",
              "      <td>0.0</td>\n",
              "      <td>0.0</td>\n",
              "      <td>1.0</td>\n",
              "      <td>11.0</td>\n",
              "      <td>15.0</td>\n",
              "      <td>1.0</td>\n",
              "      <td>0.0</td>\n",
              "      <td>0.0</td>\n",
              "      <td>0.0</td>\n",
              "      <td>0.0</td>\n",
              "      <td>...</td>\n",
              "      <td>0.0</td>\n",
              "      <td>0.0</td>\n",
              "      <td>0.0</td>\n",
              "      <td>0.0</td>\n",
              "      <td>2.0</td>\n",
              "      <td>9.0</td>\n",
              "      <td>13.0</td>\n",
              "      <td>6.0</td>\n",
              "      <td>0.0</td>\n",
              "      <td>0.0</td>\n",
              "    </tr>\n",
              "    <tr>\n",
              "      <th>1795</th>\n",
              "      <td>0.0</td>\n",
              "      <td>0.0</td>\n",
              "      <td>2.0</td>\n",
              "      <td>10.0</td>\n",
              "      <td>7.0</td>\n",
              "      <td>0.0</td>\n",
              "      <td>0.0</td>\n",
              "      <td>0.0</td>\n",
              "      <td>0.0</td>\n",
              "      <td>0.0</td>\n",
              "      <td>...</td>\n",
              "      <td>2.0</td>\n",
              "      <td>0.0</td>\n",
              "      <td>0.0</td>\n",
              "      <td>0.0</td>\n",
              "      <td>5.0</td>\n",
              "      <td>12.0</td>\n",
              "      <td>16.0</td>\n",
              "      <td>12.0</td>\n",
              "      <td>0.0</td>\n",
              "      <td>0.0</td>\n",
              "    </tr>\n",
              "    <tr>\n",
              "      <th>1796</th>\n",
              "      <td>0.0</td>\n",
              "      <td>0.0</td>\n",
              "      <td>10.0</td>\n",
              "      <td>14.0</td>\n",
              "      <td>8.0</td>\n",
              "      <td>1.0</td>\n",
              "      <td>0.0</td>\n",
              "      <td>0.0</td>\n",
              "      <td>0.0</td>\n",
              "      <td>2.0</td>\n",
              "      <td>...</td>\n",
              "      <td>8.0</td>\n",
              "      <td>0.0</td>\n",
              "      <td>0.0</td>\n",
              "      <td>1.0</td>\n",
              "      <td>8.0</td>\n",
              "      <td>12.0</td>\n",
              "      <td>14.0</td>\n",
              "      <td>12.0</td>\n",
              "      <td>1.0</td>\n",
              "      <td>0.0</td>\n",
              "    </tr>\n",
              "  </tbody>\n",
              "</table>\n",
              "<p>1797 rows × 64 columns</p>\n",
              "</div>\n",
              "      <button class=\"colab-df-convert\" onclick=\"convertToInteractive('df-71078798-72d6-4bb3-968d-a36bcabdfecf')\"\n",
              "              title=\"Convert this dataframe to an interactive table.\"\n",
              "              style=\"display:none;\">\n",
              "        \n",
              "  <svg xmlns=\"http://www.w3.org/2000/svg\" height=\"24px\"viewBox=\"0 0 24 24\"\n",
              "       width=\"24px\">\n",
              "    <path d=\"M0 0h24v24H0V0z\" fill=\"none\"/>\n",
              "    <path d=\"M18.56 5.44l.94 2.06.94-2.06 2.06-.94-2.06-.94-.94-2.06-.94 2.06-2.06.94zm-11 1L8.5 8.5l.94-2.06 2.06-.94-2.06-.94L8.5 2.5l-.94 2.06-2.06.94zm10 10l.94 2.06.94-2.06 2.06-.94-2.06-.94-.94-2.06-.94 2.06-2.06.94z\"/><path d=\"M17.41 7.96l-1.37-1.37c-.4-.4-.92-.59-1.43-.59-.52 0-1.04.2-1.43.59L10.3 9.45l-7.72 7.72c-.78.78-.78 2.05 0 2.83L4 21.41c.39.39.9.59 1.41.59.51 0 1.02-.2 1.41-.59l7.78-7.78 2.81-2.81c.8-.78.8-2.07 0-2.86zM5.41 20L4 18.59l7.72-7.72 1.47 1.35L5.41 20z\"/>\n",
              "  </svg>\n",
              "      </button>\n",
              "      \n",
              "  <style>\n",
              "    .colab-df-container {\n",
              "      display:flex;\n",
              "      flex-wrap:wrap;\n",
              "      gap: 12px;\n",
              "    }\n",
              "\n",
              "    .colab-df-convert {\n",
              "      background-color: #E8F0FE;\n",
              "      border: none;\n",
              "      border-radius: 50%;\n",
              "      cursor: pointer;\n",
              "      display: none;\n",
              "      fill: #1967D2;\n",
              "      height: 32px;\n",
              "      padding: 0 0 0 0;\n",
              "      width: 32px;\n",
              "    }\n",
              "\n",
              "    .colab-df-convert:hover {\n",
              "      background-color: #E2EBFA;\n",
              "      box-shadow: 0px 1px 2px rgba(60, 64, 67, 0.3), 0px 1px 3px 1px rgba(60, 64, 67, 0.15);\n",
              "      fill: #174EA6;\n",
              "    }\n",
              "\n",
              "    [theme=dark] .colab-df-convert {\n",
              "      background-color: #3B4455;\n",
              "      fill: #D2E3FC;\n",
              "    }\n",
              "\n",
              "    [theme=dark] .colab-df-convert:hover {\n",
              "      background-color: #434B5C;\n",
              "      box-shadow: 0px 1px 3px 1px rgba(0, 0, 0, 0.15);\n",
              "      filter: drop-shadow(0px 1px 2px rgba(0, 0, 0, 0.3));\n",
              "      fill: #FFFFFF;\n",
              "    }\n",
              "  </style>\n",
              "\n",
              "      <script>\n",
              "        const buttonEl =\n",
              "          document.querySelector('#df-71078798-72d6-4bb3-968d-a36bcabdfecf button.colab-df-convert');\n",
              "        buttonEl.style.display =\n",
              "          google.colab.kernel.accessAllowed ? 'block' : 'none';\n",
              "\n",
              "        async function convertToInteractive(key) {\n",
              "          const element = document.querySelector('#df-71078798-72d6-4bb3-968d-a36bcabdfecf');\n",
              "          const dataTable =\n",
              "            await google.colab.kernel.invokeFunction('convertToInteractive',\n",
              "                                                     [key], {});\n",
              "          if (!dataTable) return;\n",
              "\n",
              "          const docLinkHtml = 'Like what you see? Visit the ' +\n",
              "            '<a target=\"_blank\" href=https://colab.research.google.com/notebooks/data_table.ipynb>data table notebook</a>'\n",
              "            + ' to learn more about interactive tables.';\n",
              "          element.innerHTML = '';\n",
              "          dataTable['output_type'] = 'display_data';\n",
              "          await google.colab.output.renderOutput(dataTable, element);\n",
              "          const docLink = document.createElement('div');\n",
              "          docLink.innerHTML = docLinkHtml;\n",
              "          element.appendChild(docLink);\n",
              "        }\n",
              "      </script>\n",
              "    </div>\n",
              "  </div>\n",
              "  "
            ]
          },
          "metadata": {},
          "execution_count": 47
        }
      ]
    },
    {
      "cell_type": "markdown",
      "source": [
        "Wait a minute... did you notice that the first feature seems to always be zero? Let's check those values."
      ],
      "metadata": {
        "id": "9gFGeZqMH_33"
      }
    },
    {
      "cell_type": "code",
      "source": [
        "ddf[0].unique()"
      ],
      "metadata": {
        "colab": {
          "base_uri": "https://localhost:8080/"
        },
        "id": "5FfDOrVSFQbX",
        "outputId": "5a0c1cbc-bd85-464a-9e0f-7839000581d6"
      },
      "execution_count": 48,
      "outputs": [
        {
          "output_type": "execute_result",
          "data": {
            "text/plain": [
              "array([0.])"
            ]
          },
          "metadata": {},
          "execution_count": 48
        }
      ]
    },
    {
      "cell_type": "markdown",
      "source": [
        "Sure enough, that feature is always empty. That probably means we can ignore it (within this dataset at least)."
      ],
      "metadata": {
        "id": "DM2t03-xIHdf"
      }
    },
    {
      "cell_type": "code",
      "source": [
        "ddf.corr()"
      ],
      "metadata": {
        "colab": {
          "base_uri": "https://localhost:8080/",
          "height": 488
        },
        "id": "U0dUcIfZFanL",
        "outputId": "fe4e9e01-37f3-4b2b-8ead-48f82f8002ea"
      },
      "execution_count": 49,
      "outputs": [
        {
          "output_type": "execute_result",
          "data": {
            "text/plain": [
              "    0         1         2         3         4         5         6         7   \\\n",
              "0  NaN       NaN       NaN       NaN       NaN       NaN       NaN       NaN   \n",
              "1  NaN  1.000000  0.556618  0.207814 -0.018761  0.060776  0.048388 -0.038927   \n",
              "2  NaN  0.556618  1.000000  0.560180 -0.084235  0.043569  0.002841 -0.062278   \n",
              "3  NaN  0.207814  0.560180  1.000000  0.023938 -0.171377 -0.115732 -0.040139   \n",
              "4  NaN -0.018761 -0.084235  0.023938  1.000000  0.507731  0.127764  0.010065   \n",
              "..  ..       ...       ...       ...       ...       ...       ...       ...   \n",
              "59 NaN  0.147646  0.499840  0.767945 -0.008867 -0.068038 -0.045845  0.001013   \n",
              "60 NaN -0.102349 -0.134754 -0.065957 -0.082125 -0.351146 -0.383522 -0.178243   \n",
              "61 NaN -0.029870 -0.041183 -0.054936 -0.215809 -0.268818 -0.304111 -0.141174   \n",
              "62 NaN  0.026547  0.072599  0.053437 -0.250699 -0.267659 -0.178945 -0.063220   \n",
              "63 NaN -0.043889  0.082523  0.081971 -0.215349 -0.167727 -0.080309 -0.024505   \n",
              "\n",
              "          8         9   ...        54        55        56        57        58  \\\n",
              "0        NaN       NaN  ...       NaN       NaN       NaN       NaN       NaN   \n",
              "1   0.032320  0.556372  ...  0.030953 -0.045342 -0.007905  0.855610  0.555727   \n",
              "2   0.022311  0.582259  ...  0.050849 -0.003804 -0.025837  0.515276  0.937623   \n",
              "3   0.035663  0.328344  ...  0.139397  0.075335 -0.049085  0.175804  0.560326   \n",
              "4   0.042065  0.051657  ... -0.264968 -0.212220  0.017352 -0.047223 -0.020176   \n",
              "..       ...       ...  ...       ...       ...       ...       ...       ...   \n",
              "59  0.043374  0.305191  ...  0.094718  0.050032 -0.038248  0.112972  0.481711   \n",
              "60  0.048996 -0.000604  ...  0.394280  0.105101  0.005697 -0.117908 -0.207957   \n",
              "61  0.033409  0.071488  ...  0.707519  0.262795 -0.003056 -0.043889 -0.091839   \n",
              "62  0.020689  0.111569  ...  0.602267  0.511726 -0.011932  0.014557  0.035369   \n",
              "63 -0.005226 -0.001404  ...  0.196296  0.563989 -0.004625 -0.047089  0.031193   \n",
              "\n",
              "          59        60        61        62        63  \n",
              "0        NaN       NaN       NaN       NaN       NaN  \n",
              "1   0.147646 -0.102349 -0.029870  0.026547 -0.043889  \n",
              "2   0.499840 -0.134754 -0.041183  0.072599  0.082523  \n",
              "3   0.767945 -0.065957 -0.054936  0.053437  0.081971  \n",
              "4  -0.008867 -0.082125 -0.215809 -0.250699 -0.215349  \n",
              "..       ...       ...       ...       ...       ...  \n",
              "59  1.000000  0.058390 -0.094956  0.006849  0.099671  \n",
              "60  0.058390  1.000000  0.609515  0.243305  0.103015  \n",
              "61 -0.094956  0.609515  1.000000  0.648328  0.261991  \n",
              "62  0.006849  0.243305  0.648328  1.000000  0.620428  \n",
              "63  0.099671  0.103015  0.261991  0.620428  1.000000  \n",
              "\n",
              "[64 rows x 64 columns]"
            ],
            "text/html": [
              "\n",
              "  <div id=\"df-c6c95294-9fee-4e37-9f54-599668f04c25\">\n",
              "    <div class=\"colab-df-container\">\n",
              "      <div>\n",
              "<style scoped>\n",
              "    .dataframe tbody tr th:only-of-type {\n",
              "        vertical-align: middle;\n",
              "    }\n",
              "\n",
              "    .dataframe tbody tr th {\n",
              "        vertical-align: top;\n",
              "    }\n",
              "\n",
              "    .dataframe thead th {\n",
              "        text-align: right;\n",
              "    }\n",
              "</style>\n",
              "<table border=\"1\" class=\"dataframe\">\n",
              "  <thead>\n",
              "    <tr style=\"text-align: right;\">\n",
              "      <th></th>\n",
              "      <th>0</th>\n",
              "      <th>1</th>\n",
              "      <th>2</th>\n",
              "      <th>3</th>\n",
              "      <th>4</th>\n",
              "      <th>5</th>\n",
              "      <th>6</th>\n",
              "      <th>7</th>\n",
              "      <th>8</th>\n",
              "      <th>9</th>\n",
              "      <th>...</th>\n",
              "      <th>54</th>\n",
              "      <th>55</th>\n",
              "      <th>56</th>\n",
              "      <th>57</th>\n",
              "      <th>58</th>\n",
              "      <th>59</th>\n",
              "      <th>60</th>\n",
              "      <th>61</th>\n",
              "      <th>62</th>\n",
              "      <th>63</th>\n",
              "    </tr>\n",
              "  </thead>\n",
              "  <tbody>\n",
              "    <tr>\n",
              "      <th>0</th>\n",
              "      <td>NaN</td>\n",
              "      <td>NaN</td>\n",
              "      <td>NaN</td>\n",
              "      <td>NaN</td>\n",
              "      <td>NaN</td>\n",
              "      <td>NaN</td>\n",
              "      <td>NaN</td>\n",
              "      <td>NaN</td>\n",
              "      <td>NaN</td>\n",
              "      <td>NaN</td>\n",
              "      <td>...</td>\n",
              "      <td>NaN</td>\n",
              "      <td>NaN</td>\n",
              "      <td>NaN</td>\n",
              "      <td>NaN</td>\n",
              "      <td>NaN</td>\n",
              "      <td>NaN</td>\n",
              "      <td>NaN</td>\n",
              "      <td>NaN</td>\n",
              "      <td>NaN</td>\n",
              "      <td>NaN</td>\n",
              "    </tr>\n",
              "    <tr>\n",
              "      <th>1</th>\n",
              "      <td>NaN</td>\n",
              "      <td>1.000000</td>\n",
              "      <td>0.556618</td>\n",
              "      <td>0.207814</td>\n",
              "      <td>-0.018761</td>\n",
              "      <td>0.060776</td>\n",
              "      <td>0.048388</td>\n",
              "      <td>-0.038927</td>\n",
              "      <td>0.032320</td>\n",
              "      <td>0.556372</td>\n",
              "      <td>...</td>\n",
              "      <td>0.030953</td>\n",
              "      <td>-0.045342</td>\n",
              "      <td>-0.007905</td>\n",
              "      <td>0.855610</td>\n",
              "      <td>0.555727</td>\n",
              "      <td>0.147646</td>\n",
              "      <td>-0.102349</td>\n",
              "      <td>-0.029870</td>\n",
              "      <td>0.026547</td>\n",
              "      <td>-0.043889</td>\n",
              "    </tr>\n",
              "    <tr>\n",
              "      <th>2</th>\n",
              "      <td>NaN</td>\n",
              "      <td>0.556618</td>\n",
              "      <td>1.000000</td>\n",
              "      <td>0.560180</td>\n",
              "      <td>-0.084235</td>\n",
              "      <td>0.043569</td>\n",
              "      <td>0.002841</td>\n",
              "      <td>-0.062278</td>\n",
              "      <td>0.022311</td>\n",
              "      <td>0.582259</td>\n",
              "      <td>...</td>\n",
              "      <td>0.050849</td>\n",
              "      <td>-0.003804</td>\n",
              "      <td>-0.025837</td>\n",
              "      <td>0.515276</td>\n",
              "      <td>0.937623</td>\n",
              "      <td>0.499840</td>\n",
              "      <td>-0.134754</td>\n",
              "      <td>-0.041183</td>\n",
              "      <td>0.072599</td>\n",
              "      <td>0.082523</td>\n",
              "    </tr>\n",
              "    <tr>\n",
              "      <th>3</th>\n",
              "      <td>NaN</td>\n",
              "      <td>0.207814</td>\n",
              "      <td>0.560180</td>\n",
              "      <td>1.000000</td>\n",
              "      <td>0.023938</td>\n",
              "      <td>-0.171377</td>\n",
              "      <td>-0.115732</td>\n",
              "      <td>-0.040139</td>\n",
              "      <td>0.035663</td>\n",
              "      <td>0.328344</td>\n",
              "      <td>...</td>\n",
              "      <td>0.139397</td>\n",
              "      <td>0.075335</td>\n",
              "      <td>-0.049085</td>\n",
              "      <td>0.175804</td>\n",
              "      <td>0.560326</td>\n",
              "      <td>0.767945</td>\n",
              "      <td>-0.065957</td>\n",
              "      <td>-0.054936</td>\n",
              "      <td>0.053437</td>\n",
              "      <td>0.081971</td>\n",
              "    </tr>\n",
              "    <tr>\n",
              "      <th>4</th>\n",
              "      <td>NaN</td>\n",
              "      <td>-0.018761</td>\n",
              "      <td>-0.084235</td>\n",
              "      <td>0.023938</td>\n",
              "      <td>1.000000</td>\n",
              "      <td>0.507731</td>\n",
              "      <td>0.127764</td>\n",
              "      <td>0.010065</td>\n",
              "      <td>0.042065</td>\n",
              "      <td>0.051657</td>\n",
              "      <td>...</td>\n",
              "      <td>-0.264968</td>\n",
              "      <td>-0.212220</td>\n",
              "      <td>0.017352</td>\n",
              "      <td>-0.047223</td>\n",
              "      <td>-0.020176</td>\n",
              "      <td>-0.008867</td>\n",
              "      <td>-0.082125</td>\n",
              "      <td>-0.215809</td>\n",
              "      <td>-0.250699</td>\n",
              "      <td>-0.215349</td>\n",
              "    </tr>\n",
              "    <tr>\n",
              "      <th>...</th>\n",
              "      <td>...</td>\n",
              "      <td>...</td>\n",
              "      <td>...</td>\n",
              "      <td>...</td>\n",
              "      <td>...</td>\n",
              "      <td>...</td>\n",
              "      <td>...</td>\n",
              "      <td>...</td>\n",
              "      <td>...</td>\n",
              "      <td>...</td>\n",
              "      <td>...</td>\n",
              "      <td>...</td>\n",
              "      <td>...</td>\n",
              "      <td>...</td>\n",
              "      <td>...</td>\n",
              "      <td>...</td>\n",
              "      <td>...</td>\n",
              "      <td>...</td>\n",
              "      <td>...</td>\n",
              "      <td>...</td>\n",
              "      <td>...</td>\n",
              "    </tr>\n",
              "    <tr>\n",
              "      <th>59</th>\n",
              "      <td>NaN</td>\n",
              "      <td>0.147646</td>\n",
              "      <td>0.499840</td>\n",
              "      <td>0.767945</td>\n",
              "      <td>-0.008867</td>\n",
              "      <td>-0.068038</td>\n",
              "      <td>-0.045845</td>\n",
              "      <td>0.001013</td>\n",
              "      <td>0.043374</td>\n",
              "      <td>0.305191</td>\n",
              "      <td>...</td>\n",
              "      <td>0.094718</td>\n",
              "      <td>0.050032</td>\n",
              "      <td>-0.038248</td>\n",
              "      <td>0.112972</td>\n",
              "      <td>0.481711</td>\n",
              "      <td>1.000000</td>\n",
              "      <td>0.058390</td>\n",
              "      <td>-0.094956</td>\n",
              "      <td>0.006849</td>\n",
              "      <td>0.099671</td>\n",
              "    </tr>\n",
              "    <tr>\n",
              "      <th>60</th>\n",
              "      <td>NaN</td>\n",
              "      <td>-0.102349</td>\n",
              "      <td>-0.134754</td>\n",
              "      <td>-0.065957</td>\n",
              "      <td>-0.082125</td>\n",
              "      <td>-0.351146</td>\n",
              "      <td>-0.383522</td>\n",
              "      <td>-0.178243</td>\n",
              "      <td>0.048996</td>\n",
              "      <td>-0.000604</td>\n",
              "      <td>...</td>\n",
              "      <td>0.394280</td>\n",
              "      <td>0.105101</td>\n",
              "      <td>0.005697</td>\n",
              "      <td>-0.117908</td>\n",
              "      <td>-0.207957</td>\n",
              "      <td>0.058390</td>\n",
              "      <td>1.000000</td>\n",
              "      <td>0.609515</td>\n",
              "      <td>0.243305</td>\n",
              "      <td>0.103015</td>\n",
              "    </tr>\n",
              "    <tr>\n",
              "      <th>61</th>\n",
              "      <td>NaN</td>\n",
              "      <td>-0.029870</td>\n",
              "      <td>-0.041183</td>\n",
              "      <td>-0.054936</td>\n",
              "      <td>-0.215809</td>\n",
              "      <td>-0.268818</td>\n",
              "      <td>-0.304111</td>\n",
              "      <td>-0.141174</td>\n",
              "      <td>0.033409</td>\n",
              "      <td>0.071488</td>\n",
              "      <td>...</td>\n",
              "      <td>0.707519</td>\n",
              "      <td>0.262795</td>\n",
              "      <td>-0.003056</td>\n",
              "      <td>-0.043889</td>\n",
              "      <td>-0.091839</td>\n",
              "      <td>-0.094956</td>\n",
              "      <td>0.609515</td>\n",
              "      <td>1.000000</td>\n",
              "      <td>0.648328</td>\n",
              "      <td>0.261991</td>\n",
              "    </tr>\n",
              "    <tr>\n",
              "      <th>62</th>\n",
              "      <td>NaN</td>\n",
              "      <td>0.026547</td>\n",
              "      <td>0.072599</td>\n",
              "      <td>0.053437</td>\n",
              "      <td>-0.250699</td>\n",
              "      <td>-0.267659</td>\n",
              "      <td>-0.178945</td>\n",
              "      <td>-0.063220</td>\n",
              "      <td>0.020689</td>\n",
              "      <td>0.111569</td>\n",
              "      <td>...</td>\n",
              "      <td>0.602267</td>\n",
              "      <td>0.511726</td>\n",
              "      <td>-0.011932</td>\n",
              "      <td>0.014557</td>\n",
              "      <td>0.035369</td>\n",
              "      <td>0.006849</td>\n",
              "      <td>0.243305</td>\n",
              "      <td>0.648328</td>\n",
              "      <td>1.000000</td>\n",
              "      <td>0.620428</td>\n",
              "    </tr>\n",
              "    <tr>\n",
              "      <th>63</th>\n",
              "      <td>NaN</td>\n",
              "      <td>-0.043889</td>\n",
              "      <td>0.082523</td>\n",
              "      <td>0.081971</td>\n",
              "      <td>-0.215349</td>\n",
              "      <td>-0.167727</td>\n",
              "      <td>-0.080309</td>\n",
              "      <td>-0.024505</td>\n",
              "      <td>-0.005226</td>\n",
              "      <td>-0.001404</td>\n",
              "      <td>...</td>\n",
              "      <td>0.196296</td>\n",
              "      <td>0.563989</td>\n",
              "      <td>-0.004625</td>\n",
              "      <td>-0.047089</td>\n",
              "      <td>0.031193</td>\n",
              "      <td>0.099671</td>\n",
              "      <td>0.103015</td>\n",
              "      <td>0.261991</td>\n",
              "      <td>0.620428</td>\n",
              "      <td>1.000000</td>\n",
              "    </tr>\n",
              "  </tbody>\n",
              "</table>\n",
              "<p>64 rows × 64 columns</p>\n",
              "</div>\n",
              "      <button class=\"colab-df-convert\" onclick=\"convertToInteractive('df-c6c95294-9fee-4e37-9f54-599668f04c25')\"\n",
              "              title=\"Convert this dataframe to an interactive table.\"\n",
              "              style=\"display:none;\">\n",
              "        \n",
              "  <svg xmlns=\"http://www.w3.org/2000/svg\" height=\"24px\"viewBox=\"0 0 24 24\"\n",
              "       width=\"24px\">\n",
              "    <path d=\"M0 0h24v24H0V0z\" fill=\"none\"/>\n",
              "    <path d=\"M18.56 5.44l.94 2.06.94-2.06 2.06-.94-2.06-.94-.94-2.06-.94 2.06-2.06.94zm-11 1L8.5 8.5l.94-2.06 2.06-.94-2.06-.94L8.5 2.5l-.94 2.06-2.06.94zm10 10l.94 2.06.94-2.06 2.06-.94-2.06-.94-.94-2.06-.94 2.06-2.06.94z\"/><path d=\"M17.41 7.96l-1.37-1.37c-.4-.4-.92-.59-1.43-.59-.52 0-1.04.2-1.43.59L10.3 9.45l-7.72 7.72c-.78.78-.78 2.05 0 2.83L4 21.41c.39.39.9.59 1.41.59.51 0 1.02-.2 1.41-.59l7.78-7.78 2.81-2.81c.8-.78.8-2.07 0-2.86zM5.41 20L4 18.59l7.72-7.72 1.47 1.35L5.41 20z\"/>\n",
              "  </svg>\n",
              "      </button>\n",
              "      \n",
              "  <style>\n",
              "    .colab-df-container {\n",
              "      display:flex;\n",
              "      flex-wrap:wrap;\n",
              "      gap: 12px;\n",
              "    }\n",
              "\n",
              "    .colab-df-convert {\n",
              "      background-color: #E8F0FE;\n",
              "      border: none;\n",
              "      border-radius: 50%;\n",
              "      cursor: pointer;\n",
              "      display: none;\n",
              "      fill: #1967D2;\n",
              "      height: 32px;\n",
              "      padding: 0 0 0 0;\n",
              "      width: 32px;\n",
              "    }\n",
              "\n",
              "    .colab-df-convert:hover {\n",
              "      background-color: #E2EBFA;\n",
              "      box-shadow: 0px 1px 2px rgba(60, 64, 67, 0.3), 0px 1px 3px 1px rgba(60, 64, 67, 0.15);\n",
              "      fill: #174EA6;\n",
              "    }\n",
              "\n",
              "    [theme=dark] .colab-df-convert {\n",
              "      background-color: #3B4455;\n",
              "      fill: #D2E3FC;\n",
              "    }\n",
              "\n",
              "    [theme=dark] .colab-df-convert:hover {\n",
              "      background-color: #434B5C;\n",
              "      box-shadow: 0px 1px 3px 1px rgba(0, 0, 0, 0.15);\n",
              "      filter: drop-shadow(0px 1px 2px rgba(0, 0, 0, 0.3));\n",
              "      fill: #FFFFFF;\n",
              "    }\n",
              "  </style>\n",
              "\n",
              "      <script>\n",
              "        const buttonEl =\n",
              "          document.querySelector('#df-c6c95294-9fee-4e37-9f54-599668f04c25 button.colab-df-convert');\n",
              "        buttonEl.style.display =\n",
              "          google.colab.kernel.accessAllowed ? 'block' : 'none';\n",
              "\n",
              "        async function convertToInteractive(key) {\n",
              "          const element = document.querySelector('#df-c6c95294-9fee-4e37-9f54-599668f04c25');\n",
              "          const dataTable =\n",
              "            await google.colab.kernel.invokeFunction('convertToInteractive',\n",
              "                                                     [key], {});\n",
              "          if (!dataTable) return;\n",
              "\n",
              "          const docLinkHtml = 'Like what you see? Visit the ' +\n",
              "            '<a target=\"_blank\" href=https://colab.research.google.com/notebooks/data_table.ipynb>data table notebook</a>'\n",
              "            + ' to learn more about interactive tables.';\n",
              "          element.innerHTML = '';\n",
              "          dataTable['output_type'] = 'display_data';\n",
              "          await google.colab.output.renderOutput(dataTable, element);\n",
              "          const docLink = document.createElement('div');\n",
              "          docLink.innerHTML = docLinkHtml;\n",
              "          element.appendChild(docLink);\n",
              "        }\n",
              "      </script>\n",
              "    </div>\n",
              "  </div>\n",
              "  "
            ]
          },
          "metadata": {},
          "execution_count": 49
        }
      ]
    },
    {
      "cell_type": "markdown",
      "source": [
        "The correlations above show some highly connected pixels. We should expect a LOT of structure. And more structure means that clustering and dimensionality reduction should work well."
      ],
      "metadata": {
        "id": "DgCEvlPUIPNF"
      }
    },
    {
      "cell_type": "markdown",
      "source": [
        "#### Clustering"
      ],
      "metadata": {
        "id": "1sSpHbS36Sm7"
      }
    },
    {
      "cell_type": "markdown",
      "source": [
        "Let's start with a very simple hierarchical clustering method. These can be useful because they highlight decisions made in the clustering and nearby clusters, making the method rather interpretable."
      ],
      "metadata": {
        "id": "7SDQiJ1WIf2O"
      }
    },
    {
      "cell_type": "code",
      "source": [
        "def plot_dendrogram(model, **kwargs):\n",
        "  \"\"\"Create linkage matrix and then plot the dendrogram\n",
        "\n",
        "  Taken from \n",
        "  https://scikit-learn.org/stable/auto_examples/cluster/plot_agglomerative_dendrogram.html\n",
        "  \"\"\"\n",
        "  # create the counts of samples under each node\n",
        "  counts = np.zeros(model.children_.shape[0])\n",
        "  n_samples = len(model.labels_)\n",
        "  for i, merge in enumerate(model.children_):\n",
        "      current_count = 0\n",
        "      for child_idx in merge:\n",
        "          if child_idx < n_samples:\n",
        "              current_count += 1  # leaf node\n",
        "          else:\n",
        "              current_count += counts[child_idx - n_samples]\n",
        "      counts[i] = current_count\n",
        "\n",
        "  linkage_matrix = np.column_stack(\n",
        "      [model.children_, model.distances_, counts]\n",
        "  ).astype(float)\n",
        "\n",
        "  # Plot the corresponding dendrogram\n",
        "  dendrogram(linkage_matrix, **kwargs)"
      ],
      "metadata": {
        "id": "uDSRdOSj7yoh"
      },
      "execution_count": 50,
      "outputs": []
    },
    {
      "cell_type": "code",
      "source": [
        "model = AgglomerativeClustering(n_clusters=10)\n",
        "model = model.fit(digits.data)"
      ],
      "metadata": {
        "id": "5gRl-cvz-IRM"
      },
      "execution_count": 51,
      "outputs": []
    },
    {
      "cell_type": "code",
      "source": [
        "model = AgglomerativeClustering(distance_threshold=0, n_clusters=None)\n",
        "model = model.fit(digits.data)\n",
        "figure(figsize=(12,6))\n",
        "plot_dendrogram(model, truncate_mode=\"level\", p=2)"
      ],
      "metadata": {
        "colab": {
          "base_uri": "https://localhost:8080/",
          "height": 377
        },
        "id": "t-eu_8ju6dgR",
        "outputId": "becdc61f-2e61-4092-8941-611b14d44183"
      },
      "execution_count": 52,
      "outputs": [
        {
          "output_type": "display_data",
          "data": {
            "text/plain": [
              "<Figure size 864x432 with 1 Axes>"
            ],
            "image/png": "[encoded data removed]"
          },
          "metadata": {
            "needs_background": "light"
          }
        }
      ]
    },
    {
      "cell_type": "markdown",
      "source": [
        "A very common first step when clustering is to ask how many clusters the data seems to show. This can be hard to visualize in very high dimensions. [Principal Component Analysis (PCA)](https://en.wikipedia.org/wiki/Principal_component_analysis) transforms the data into a new representation where as much of the variance in the data as possible is put into the first feature, and so on through the remaining dimensions. We can visualize the amount of explained variance remaining if we drop some of the later features/dimensions. "
      ],
      "metadata": {
        "id": "bpLFMmOVIsG4"
      }
    },
    {
      "cell_type": "code",
      "source": [
        "pca = PCA()\n",
        "pca.fit(digits.data)"
      ],
      "metadata": {
        "colab": {
          "base_uri": "https://localhost:8080/"
        },
        "id": "bcnhMI7h9IzY",
        "outputId": "de0db034-0721-4f6e-86d1-5e77b14ed2f0"
      },
      "execution_count": 53,
      "outputs": [
        {
          "output_type": "execute_result",
          "data": {
            "text/plain": [
              "PCA()"
            ]
          },
          "metadata": {},
          "execution_count": 53
        }
      ]
    },
    {
      "cell_type": "code",
      "source": [
        "plot(pca.explained_variance_ratio_);"
      ],
      "metadata": {
        "colab": {
          "base_uri": "https://localhost:8080/",
          "height": 265
        },
        "id": "EoO8wudQ9ppy",
        "outputId": "04c36a08-9142-47f0-cb9c-1b55f230faef"
      },
      "execution_count": 54,
      "outputs": [
        {
          "output_type": "display_data",
          "data": {
            "text/plain": [
              "<Figure size 432x288 with 1 Axes>"
            ],
            "image/png": "[encoded data removed]"
          },
          "metadata": {
            "needs_background": "light"
          }
        }
      ]
    },
    {
      "cell_type": "markdown",
      "source": [
        "Unsurprisingly, you see a clear elbow at 10. This is because there are 10 digits, so our domain knowledge confirms this discovery.\n",
        "\n",
        "Does this mean the data \"IS\" ten clusters? Not exactly. Even using 60 components doesn't preserve ALL the data's meaning, since the original data required 63 pixels to reproduce perfectly. But this elbow plot (commonly called a scree plot) suggests that something interesting happens if we view the data as the product of ten unique processes. In this particular case we know that the only part of the data the dataset authors cared about was the digit label. But suppose we take into account the different kinds of twos someone might write: then maybe twos can be split into 3 different classes. If your goal was to find the handwriting of a particular criminal, you might care much more about other details of the data than the dataset authors do. So ten is not the \"right\" number of clusters, but it is the most probable number to be useful."
      ],
      "metadata": {
        "id": "y-DtUdx6JZEX"
      }
    },
    {
      "cell_type": "markdown",
      "source": [
        "Another common early step in cluster analysis is to project the data to a smaller dimension and visualize the data in this new embedding. Many algorithms for this form of dimensionality reduction have been proposed. The most popular successful tool for this is [Uniform Manifold Approximation and Projection (UMAP)](https://umap-learn.readthedocs.io/en/latest/). This technique is based on some cool topological theory. [Here's a short talk](https://youtu.be/iN_eq_vqKH8) I've given on the subject. For now, the important thing is that UMAP is very good at representing high dimensional data in two or three dimensions for a visual that accurately portrays distances between data points."
      ],
      "metadata": {
        "id": "hkpG4o9ipFqI"
      }
    },
    {
      "cell_type": "code",
      "source": [
        "umap_model = umap.UMAP()\n",
        "ld_data = umap_model.fit_transform(digits.data)"
      ],
      "metadata": {
        "id": "uJ9Wtf_NtiMO"
      },
      "execution_count": 55,
      "outputs": []
    },
    {
      "cell_type": "code",
      "source": [
        "umap.plot.points(umap_model)"
      ],
      "metadata": {
        "colab": {
          "base_uri": "https://localhost:8080/",
          "height": 694
        },
        "id": "6TUoBL8t_RUF",
        "outputId": "9edd266b-b88b-4591-b6fc-1141c4dad3c9"
      },
      "execution_count": 56,
      "outputs": [
        {
          "output_type": "stream",
          "name": "stderr",
          "text": [
            "WARNING:matplotlib.axes._axes:*c* argument looks like a single numeric RGB or RGBA sequence, which should be avoided as value-mapping will have precedence in case its length matches with *x* & *y*.  Please use the *color* keyword-argument or provide a 2-D array with a single row if you intend to specify the same RGB or RGBA value for all points.\n"
          ]
        },
        {
          "output_type": "execute_result",
          "data": {
            "text/plain": [
              "<matplotlib.axes._subplots.AxesSubplot at 0x7fa7f464c810>"
            ]
          },
          "metadata": {},
          "execution_count": 56
        },
        {
          "output_type": "display_data",
          "data": {
            "text/plain": [
              "<Figure size 800x800 with 1 Axes>"
            ],
            "image/png": "[encoded data removed]"
          },
          "metadata": {}
        }
      ]
    },
    {
      "cell_type": "markdown",
      "source": [
        "As you can see, there are clear clusters, which is good. We happen to have access to the real data labels, so let's paint those clusters according to the data labels."
      ],
      "metadata": {
        "id": "-t8Yx8ugqoIZ"
      }
    },
    {
      "cell_type": "code",
      "source": [
        "umap.plot.output_notebook()"
      ],
      "metadata": {
        "id": "xcm10piNAH4y"
      },
      "execution_count": 57,
      "outputs": []
    },
    {
      "cell_type": "code",
      "source": [
        "# You could just run this:\n",
        "# umap.plot.points(mapper, labels=digits.target)\n",
        "# but I prefer to get hover details. This requires that we use\n",
        "# a javascript-friendly plotting tool, in this case Bokeh.\n",
        "hover_data = pd.DataFrame({'index':np.arange(len(digits.target)),\n",
        "                           'label':digits.target})\n",
        "p = umap.plot.interactive(umap_model, labels=digits.target, hover_data=hover_data, point_size=5)\n",
        "umap.plot.show(p)"
      ],
      "metadata": {
        "colab": {
          "base_uri": "https://localhost:8080/",
          "height": 817
        },
        "id": "hhCvMqHa_U-G",
        "outputId": "5b5a57bc-61d3-4462-e1a0-4334b761f13b"
      },
      "execution_count": 58,
      "outputs": [
        {
          "output_type": "display_data",
          "data": {
            "application/javascript": [
              "\n",
              "(function(root) {\n",
              "  function now() {\n",
              "    return new Date();\n",
              "  }\n",
              "\n",
              "  var force = true;\n",
              "\n",
              "  if (typeof root._bokeh_onload_callbacks === \"undefined\" || force === true) {\n",
              "    root._bokeh_onload_callbacks = [];\n",
              "    root._bokeh_is_loading = undefined;\n",
              "  }\n",
              "\n",
              "  var JS_MIME_TYPE = 'application/javascript';\n",
              "  var HTML_MIME_TYPE = 'text/html';\n",
              "  var EXEC_MIME_TYPE = 'application/vnd.bokehjs_exec.v0+json';\n",
              "  var CLASS_NAME = 'output_bokeh rendered_html';\n",
              "\n",
              "  /**\n",
              "   * Render data to the DOM node\n",
              "   */\n",
              "  function render(props, node) {\n",
              "    var script = document.createElement(\"script\");\n",
              "    node.appendChild(script);\n",
              "  }\n",
              "\n",
              "  /**\n",
              "   * Handle when an output is cleared or removed\n",
              "   */\n",
              "  function handleClearOutput(event, handle) {\n",
              "    var cell = handle.cell;\n",
              "\n",
              "    var id = cell.output_area._bokeh_element_id;\n",
              "    var server_id = cell.output_area._bokeh_server_id;\n",
              "    // Clean up Bokeh references\n",
              "    if (id != null && id in Bokeh.index) {\n",
              "      Bokeh.index[id].model.document.clear();\n",
              "      delete Bokeh.index[id];\n",
              "    }\n",
              "\n",
              "    if (server_id !== undefined) {\n",
              "      // Clean up Bokeh references\n",
              "      var cmd = \"from bokeh.io.state import curstate; print(curstate().uuid_to_server['\" + server_id + \"'].get_sessions()[0].document.roots[0]._id)\";\n",
              "      cell.notebook.kernel.execute(cmd, {\n",
              "        iopub: {\n",
              "          output: function(msg) {\n",
              "            var id = msg.content.text.trim();\n",
              "            if (id in Bokeh.index) {\n",
              "              Bokeh.index[id].model.document.clear();\n",
              "              delete Bokeh.index[id];\n",
              "            }\n",
              "          }\n",
              "        }\n",
              "      });\n",
              "      // Destroy server and session\n",
              "      var cmd = \"import bokeh.io.notebook as ion; ion.destroy_server('\" + server_id + \"')\";\n",
              "      cell.notebook.kernel.execute(cmd);\n",
              "    }\n",
              "  }\n",
              "\n",
              "  /**\n",
              "   * Handle when a new output is added\n",
              "   */\n",
              "  function handleAddOutput(event, handle) {\n",
              "    var output_area = handle.output_area;\n",
              "    var output = handle.output;\n",
              "\n",
              "    // limit handleAddOutput to display_data with EXEC_MIME_TYPE content only\n",
              "    if ((output.output_type != \"display_data\") || (!Object.prototype.hasOwnProperty.call(output.data, EXEC_MIME_TYPE))) {\n",
              "      return\n",
              "    }\n",
              "\n",
              "    var toinsert = output_area.element.find(\".\" + CLASS_NAME.split(' ')[0]);\n",
              "\n",
              "    if (output.metadata[EXEC_MIME_TYPE][\"id\"] !== undefined) {\n",
              "      toinsert[toinsert.length - 1].firstChild.textContent = output.data[JS_MIME_TYPE];\n",
              "      // store reference to embed id on output_area\n",
              "      output_area._bokeh_element_id = output.metadata[EXEC_MIME_TYPE][\"id\"];\n",
              "    }\n",
              "    if (output.metadata[EXEC_MIME_TYPE][\"server_id\"] !== undefined) {\n",
              "      var bk_div = document.createElement(\"div\");\n",
              "      bk_div.innerHTML = output.data[HTML_MIME_TYPE];\n",
              "      var script_attrs = bk_div.children[0].attributes;\n",
              "      for (var i = 0; i < script_attrs.length; i++) {\n",
              "        toinsert[toinsert.length - 1].firstChild.setAttribute(script_attrs[i].name, script_attrs[i].value);\n",
              "        toinsert[toinsert.length - 1].firstChild.textContent = bk_div.children[0].textContent\n",
              "      }\n",
              "      // store reference to server id on output_area\n",
              "      output_area._bokeh_server_id = output.metadata[EXEC_MIME_TYPE][\"server_id\"];\n",
              "    }\n",
              "  }\n",
              "\n",
              "  function register_renderer(events, OutputArea) {\n",
              "\n",
              "    function append_mime(data, metadata, element) {\n",
              "      // create a DOM node to render to\n",
              "      var toinsert = this.create_output_subarea(\n",
              "        metadata,\n",
              "        CLASS_NAME,\n",
              "        EXEC_MIME_TYPE\n",
              "      );\n",
              "      this.keyboard_manager.register_events(toinsert);\n",
              "      // Render to node\n",
              "      var props = {data: data, metadata: metadata[EXEC_MIME_TYPE]};\n",
              "      render(props, toinsert[toinsert.length - 1]);\n",
              "      element.append(toinsert);\n",
              "      return toinsert\n",
              "    }\n",
              "\n",
              "    /* Handle when an output is cleared or removed */\n",
              "    events.on('clear_output.CodeCell', handleClearOutput);\n",
              "    events.on('delete.Cell', handleClearOutput);\n",
              "\n",
              "    /* Handle when a new output is added */\n",
              "    events.on('output_added.OutputArea', handleAddOutput);\n",
              "\n",
              "    /**\n",
              "     * Register the mime type and append_mime function with output_area\n",
              "     */\n",
              "    OutputArea.prototype.register_mime_type(EXEC_MIME_TYPE, append_mime, {\n",
              "      /* Is output safe? */\n",
              "      safe: true,\n",
              "      /* Index of renderer in `output_area.display_order` */\n",
              "      index: 0\n",
              "    });\n",
              "  }\n",
              "\n",
              "  // register the mime type if in Jupyter Notebook environment and previously unregistered\n",
              "  if (root.Jupyter !== undefined) {\n",
              "    var events = require('base/js/events');\n",
              "    var OutputArea = require('notebook/js/outputarea').OutputArea;\n",
              "\n",
              "    if (OutputArea.prototype.mime_types().indexOf(EXEC_MIME_TYPE) == -1) {\n",
              "      register_renderer(events, OutputArea);\n",
              "    }\n",
              "  }\n",
              "\n",
              "  \n",
              "  if (typeof (root._bokeh_timeout) === \"undefined\" || force === true) {\n",
              "    root._bokeh_timeout = Date.now() + 5000;\n",
              "    root._bokeh_failed_load = false;\n",
              "  }\n",
              "\n",
              "  var NB_LOAD_WARNING = {'data': {'text/html':\n",
              "     \"<div style='background-color: #fdd'>\\n\"+\n",
              "     \"<p>\\n\"+\n",
              "     \"BokehJS does not appear to have successfully loaded. If loading BokehJS from CDN, this \\n\"+\n",
              "     \"may be due to a slow or bad network connection. Possible fixes:\\n\"+\n",
              "     \"</p>\\n\"+\n",
              "     \"<ul>\\n\"+\n",
              "     \"<li>re-rerun `output_notebook()` to attempt to load from CDN again, or</li>\\n\"+\n",
              "     \"<li>use INLINE resources instead, as so:</li>\\n\"+\n",
              "     \"</ul>\\n\"+\n",
              "     \"<code>\\n\"+\n",
              "     \"from bokeh.resources import INLINE\\n\"+\n",
              "     \"output_notebook(resources=INLINE)\\n\"+\n",
              "     \"</code>\\n\"+\n",
              "     \"</div>\"}};\n",
              "\n",
              "  function display_loaded() {\n",
              "    var el = document.getElementById(null);\n",
              "    if (el != null) {\n",
              "      el.textContent = \"BokehJS is loading...\";\n",
              "    }\n",
              "    if (root.Bokeh !== undefined) {\n",
              "      if (el != null) {\n",
              "        el.textContent = \"BokehJS \" + root.Bokeh.version + \" successfully loaded.\";\n",
              "      }\n",
              "    } else if (Date.now() < root._bokeh_timeout) {\n",
              "      setTimeout(display_loaded, 100)\n",
              "    }\n",
              "  }\n",
              "\n",
              "\n",
              "  function run_callbacks() {\n",
              "    try {\n",
              "      root._bokeh_onload_callbacks.forEach(function(callback) {\n",
              "        if (callback != null)\n",
              "          callback();\n",
              "      });\n",
              "    } finally {\n",
              "      delete root._bokeh_onload_callbacks\n",
              "    }\n",
              "    console.debug(\"Bokeh: all callbacks have finished\");\n",
              "  }\n",
              "\n",
              "  function load_libs(css_urls, js_urls, callback) {\n",
              "    if (css_urls == null) css_urls = [];\n",
              "    if (js_urls == null) js_urls = [];\n",
              "\n",
              "    root._bokeh_onload_callbacks.push(callback);\n",
              "    if (root._bokeh_is_loading > 0) {\n",
              "      console.debug(\"Bokeh: BokehJS is being loaded, scheduling callback at\", now());\n",
              "      return null;\n",
              "    }\n",
              "    if (js_urls == null || js_urls.length === 0) {\n",
              "      run_callbacks();\n",
              "      return null;\n",
              "    }\n",
              "    console.debug(\"Bokeh: BokehJS not loaded, scheduling load and callback at\", now());\n",
              "    root._bokeh_is_loading = css_urls.length + js_urls.length;\n",
              "\n",
              "    function on_load() {\n",
              "      root._bokeh_is_loading--;\n",
              "      if (root._bokeh_is_loading === 0) {\n",
              "        console.debug(\"Bokeh: all BokehJS libraries/stylesheets loaded\");\n",
              "        run_callbacks()\n",
              "      }\n",
              "    }\n",
              "\n",
              "    function on_error(url) {\n",
              "      console.error(\"failed to load \" + url);\n",
              "    }\n",
              "\n",
              "    for (let i = 0; i < css_urls.length; i++) {\n",
              "      const url = css_urls[i];\n",
              "      const element = document.createElement(\"link\");\n",
              "      element.onload = on_load;\n",
              "      element.onerror = on_error.bind(null, url);\n",
              "      element.rel = \"stylesheet\";\n",
              "      element.type = \"text/css\";\n",
              "      element.href = url;\n",
              "      console.debug(\"Bokeh: injecting link tag for BokehJS stylesheet: \", url);\n",
              "      document.body.appendChild(element);\n",
              "    }\n",
              "\n",
              "    const hashes = {\"https://cdn.bokeh.org/bokeh/release/bokeh-2.3.3.min.js\": \"dM3QQsP+wXdHg42wTqW85BjZQdLNNIXqlPw/BgKoExPmTG7ZLML4EGqLMfqHT6ON\", \"https://cdn.bokeh.org/bokeh/release/bokeh-tables-2.3.3.min.js\": \"8x57I4YuIfu8XyZfFo0XVr2WAT8EK4rh/uDe3wF7YuW2FNUSNEpJbsPaB1nJ2fz2\", \"https://cdn.bokeh.org/bokeh/release/bokeh-widgets-2.3.3.min.js\": \"3QTqdz9LyAm2i0sG5XTePsHec3UHWwVsrOL68SYRoAXsafvfAyqtQ+h440+qIBhS\"};\n",
              "\n",
              "    for (let i = 0; i < js_urls.length; i++) {\n",
              "      const url = js_urls[i];\n",
              "      const element = document.createElement('script');\n",
              "      element.onload = on_load;\n",
              "      element.onerror = on_error.bind(null, url);\n",
              "      element.async = false;\n",
              "      element.src = url;\n",
              "      if (url in hashes) {\n",
              "        element.crossOrigin = \"anonymous\";\n",
              "        element.integrity = \"sha384-\" + hashes[url];\n",
              "      }\n",
              "      console.debug(\"Bokeh: injecting script tag for BokehJS library: \", url);\n",
              "      document.head.appendChild(element);\n",
              "    }\n",
              "  };\n",
              "\n",
              "  function inject_raw_css(css) {\n",
              "    const element = document.createElement(\"style\");\n",
              "    element.appendChild(document.createTextNode(css));\n",
              "    document.body.appendChild(element);\n",
              "  }\n",
              "\n",
              "  \n",
              "  var js_urls = [\"https://cdn.bokeh.org/bokeh/release/bokeh-2.3.3.min.js\", \"https://cdn.bokeh.org/bokeh/release/bokeh-widgets-2.3.3.min.js\", \"https://cdn.bokeh.org/bokeh/release/bokeh-tables-2.3.3.min.js\", \"https://unpkg.com/@holoviz/panel@0.12.1/dist/panel.min.js\"];\n",
              "  var css_urls = [];\n",
              "  \n",
              "\n",
              "  var inline_js = [\n",
              "    function(Bokeh) {\n",
              "      Bokeh.set_log_level(\"info\");\n",
              "    },\n",
              "    function(Bokeh) {\n",
              "    \n",
              "    \n",
              "    }\n",
              "  ];\n",
              "\n",
              "  function run_inline_js() {\n",
              "    \n",
              "    if (root.Bokeh !== undefined || force === true) {\n",
              "      \n",
              "    for (var i = 0; i < inline_js.length; i++) {\n",
              "      inline_js[i].call(root, root.Bokeh);\n",
              "    }\n",
              "    } else if (Date.now() < root._bokeh_timeout) {\n",
              "      setTimeout(run_inline_js, 100);\n",
              "    } else if (!root._bokeh_failed_load) {\n",
              "      console.log(\"Bokeh: BokehJS failed to load within specified timeout.\");\n",
              "      root._bokeh_failed_load = true;\n",
              "    } else if (force !== true) {\n",
              "      var cell = $(document.getElementById(null)).parents('.cell').data().cell;\n",
              "      cell.output_area.append_execute_result(NB_LOAD_WARNING)\n",
              "    }\n",
              "\n",
              "  }\n",
              "\n",
              "  if (root._bokeh_is_loading === 0) {\n",
              "    console.debug(\"Bokeh: BokehJS loaded, going straight to plotting\");\n",
              "    run_inline_js();\n",
              "  } else {\n",
              "    load_libs(css_urls, js_urls, function() {\n",
              "      console.debug(\"Bokeh: BokehJS plotting callback run at\", now());\n",
              "      run_inline_js();\n",
              "    });\n",
              "  }\n",
              "}(window));"
            ],
            "application/vnd.bokehjs_load.v0+json": "\n(function(root) {\n  function now() {\n    return new Date();\n  }\n\n  var force = true;\n\n  if (typeof root._bokeh_onload_callbacks === \"undefined\" || force === true) {\n    root._bokeh_onload_callbacks = [];\n    root._bokeh_is_loading = undefined;\n  }\n\n  \n\n  \n  if (typeof (root._bokeh_timeout) === \"undefined\" || force === true) {\n    root._bokeh_timeout = Date.now() + 5000;\n    root._bokeh_failed_load = false;\n  }\n\n  var NB_LOAD_WARNING = {'data': {'text/html':\n     \"<div style='background-color: #fdd'>\\n\"+\n     \"<p>\\n\"+\n     \"BokehJS does not appear to have successfully loaded. If loading BokehJS from CDN, this \\n\"+\n     \"may be due to a slow or bad network connection. Possible fixes:\\n\"+\n     \"</p>\\n\"+\n     \"<ul>\\n\"+\n     \"<li>re-rerun `output_notebook()` to attempt to load from CDN again, or</li>\\n\"+\n     \"<li>use INLINE resources instead, as so:</li>\\n\"+\n     \"</ul>\\n\"+\n     \"<code>\\n\"+\n     \"from bokeh.resources import INLINE\\n\"+\n     \"output_notebook(resources=INLINE)\\n\"+\n     \"</code>\\n\"+\n     \"</div>\"}};\n\n  function display_loaded() {\n    var el = document.getElementById(null);\n    if (el != null) {\n      el.textContent = \"BokehJS is loading...\";\n    }\n    if (root.Bokeh !== undefined) {\n      if (el != null) {\n        el.textContent = \"BokehJS \" + root.Bokeh.version + \" successfully loaded.\";\n      }\n    } else if (Date.now() < root._bokeh_timeout) {\n      setTimeout(display_loaded, 100)\n    }\n  }\n\n\n  function run_callbacks() {\n    try {\n      root._bokeh_onload_callbacks.forEach(function(callback) {\n        if (callback != null)\n          callback();\n      });\n    } finally {\n      delete root._bokeh_onload_callbacks\n    }\n    console.debug(\"Bokeh: all callbacks have finished\");\n  }\n\n  function load_libs(css_urls, js_urls, callback) {\n    if (css_urls == null) css_urls = [];\n    if (js_urls == null) js_urls = [];\n\n    root._bokeh_onload_callbacks.push(callback);\n    if (root._bokeh_is_loading > 0) {\n      console.debug(\"Bokeh: BokehJS is being loaded, scheduling callback at\", now());\n      return null;\n    }\n    if (js_urls == null || js_urls.length === 0) {\n      run_callbacks();\n      return null;\n    }\n    console.debug(\"Bokeh: BokehJS not loaded, scheduling load and callback at\", now());\n    root._bokeh_is_loading = css_urls.length + js_urls.length;\n\n    function on_load() {\n      root._bokeh_is_loading--;\n      if (root._bokeh_is_loading === 0) {\n        console.debug(\"Bokeh: all BokehJS libraries/stylesheets loaded\");\n        run_callbacks()\n      }\n    }\n\n    function on_error(url) {\n      console.error(\"failed to load \" + url);\n    }\n\n    for (let i = 0; i < css_urls.length; i++) {\n      const url = css_urls[i];\n      const element = document.createElement(\"link\");\n      element.onload = on_load;\n      element.onerror = on_error.bind(null, url);\n      element.rel = \"stylesheet\";\n      element.type = \"text/css\";\n      element.href = url;\n      console.debug(\"Bokeh: injecting link tag for BokehJS stylesheet: \", url);\n      document.body.appendChild(element);\n    }\n\n    const hashes = {\"https://cdn.bokeh.org/bokeh/release/bokeh-2.3.3.min.js\": \"dM3QQsP+wXdHg42wTqW85BjZQdLNNIXqlPw/BgKoExPmTG7ZLML4EGqLMfqHT6ON\", \"https://cdn.bokeh.org/bokeh/release/bokeh-tables-2.3.3.min.js\": \"8x57I4YuIfu8XyZfFo0XVr2WAT8EK4rh/uDe3wF7YuW2FNUSNEpJbsPaB1nJ2fz2\", \"https://cdn.bokeh.org/bokeh/release/bokeh-widgets-2.3.3.min.js\": \"3QTqdz9LyAm2i0sG5XTePsHec3UHWwVsrOL68SYRoAXsafvfAyqtQ+h440+qIBhS\"};\n\n    for (let i = 0; i < js_urls.length; i++) {\n      const url = js_urls[i];\n      const element = document.createElement('script');\n      element.onload = on_load;\n      element.onerror = on_error.bind(null, url);\n      element.async = false;\n      element.src = url;\n      if (url in hashes) {\n        element.crossOrigin = \"anonymous\";\n        element.integrity = \"sha384-\" + hashes[url];\n      }\n      console.debug(\"Bokeh: injecting script tag for BokehJS library: \", url);\n      document.head.appendChild(element);\n    }\n  };\n\n  function inject_raw_css(css) {\n    const element = document.createElement(\"style\");\n    element.appendChild(document.createTextNode(css));\n    document.body.appendChild(element);\n  }\n\n  \n  var js_urls = [\"https://cdn.bokeh.org/bokeh/release/bokeh-2.3.3.min.js\", \"https://cdn.bokeh.org/bokeh/release/bokeh-widgets-2.3.3.min.js\", \"https://cdn.bokeh.org/bokeh/release/bokeh-tables-2.3.3.min.js\", \"https://unpkg.com/@holoviz/panel@0.12.1/dist/panel.min.js\"];\n  var css_urls = [];\n  \n\n  var inline_js = [\n    function(Bokeh) {\n      Bokeh.set_log_level(\"info\");\n    },\n    function(Bokeh) {\n    \n    \n    }\n  ];\n\n  function run_inline_js() {\n    \n    if (root.Bokeh !== undefined || force === true) {\n      \n    for (var i = 0; i < inline_js.length; i++) {\n      inline_js[i].call(root, root.Bokeh);\n    }\n    } else if (Date.now() < root._bokeh_timeout) {\n      setTimeout(run_inline_js, 100);\n    } else if (!root._bokeh_failed_load) {\n      console.log(\"Bokeh: BokehJS failed to load within specified timeout.\");\n      root._bokeh_failed_load = true;\n    } else if (force !== true) {\n      var cell = $(document.getElementById(null)).parents('.cell').data().cell;\n      cell.output_area.append_execute_result(NB_LOAD_WARNING)\n    }\n\n  }\n\n  if (root._bokeh_is_loading === 0) {\n    console.debug(\"Bokeh: BokehJS loaded, going straight to plotting\");\n    run_inline_js();\n  } else {\n    load_libs(css_urls, js_urls, function() {\n      console.debug(\"Bokeh: BokehJS plotting callback run at\", now());\n      run_inline_js();\n    });\n  }\n}(window));"
          },
          "metadata": {}
        },
        {
          "output_type": "display_data",
          "data": {
            "text/html": [
              "\n",
              "\n",
              "\n",
              "\n",
              "\n",
              "\n",
              "  <div class=\"bk-root\" id=\"b1620ee3-d8f6-4ead-92ce-a6bd44f99eb4\" data-root-id=\"1003\"></div>\n"
            ]
          },
          "metadata": {}
        },
        {
          "output_type": "display_data",
          "data": {
            "application/javascript": [
              "(function(root) {\n",
              "  function embed_document(root) {\n",
              "    \n",
              "  var docs_json = {\"86dd81c8-ed5f-46ac-a1ec-6121178cf18e\":{\"defs\":[{\"extends\":null,\"module\":null,\"name\":\"ReactiveHTML1\",\"overrides\":[],\"properties\":[]},{\"extends\":null,\"module\":null,\"name\":\"FlexBox1\",\"overrides\":[],\"properties\":[{\"default\":\"flex-start\",\"kind\":null,\"name\":\"align_content\"},{\"default\":\"flex-start\",\"kind\":null,\"name\":\"align_items\"},{\"default\":\"row\",\"kind\":null,\"name\":\"flex_direction\"},{\"default\":\"wrap\",\"kind\":null,\"name\":\"flex_wrap\"},{\"default\":\"flex-start\",\"kind\":null,\"name\":\"justify_content\"}]},{\"extends\":null,\"module\":null,\"name\":\"TemplateActions1\",\"overrides\":[],\"properties\":[{\"default\":0,\"kind\":null,\"name\":\"open_modal\"},{\"default\":0,\"kind\":null,\"name\":\"close_modal\"}]},{\"extends\":null,\"module\":null,\"name\":\"MaterialTemplateActions1\",\"overrides\":[],\"properties\":[{\"default\":0,\"kind\":null,\"name\":\"open_modal\"},{\"default\":0,\"kind\":null,\"name\":\"close_modal\"}]}],\"roots\":{\"references\":[{\"attributes\":{\"background_fill_color\":\"white\",\"below\":[{\"id\":\"1012\"}],\"center\":[{\"id\":\"1015\"},{\"id\":\"1019\"}],\"height\":800,\"left\":[{\"id\":\"1016\"}],\"renderers\":[{\"id\":\"1039\"}],\"title\":{\"id\":\"1042\"},\"toolbar\":{\"id\":\"1028\"},\"width\":800,\"x_range\":{\"id\":\"1004\"},\"x_scale\":{\"id\":\"1008\"},\"y_range\":{\"id\":\"1006\"},\"y_scale\":{\"id\":\"1010\"}},\"id\":\"1003\",\"subtype\":\"Figure\",\"type\":\"Plot\"},{\"attributes\":{},\"id\":\"1024\",\"type\":\"ResetTool\"},{\"attributes\":{},\"id\":\"1008\",\"type\":\"LinearScale\"},{\"attributes\":{},\"id\":\"1044\",\"type\":\"AllLabels\"},{\"attributes\":{},\"id\":\"1046\",\"type\":\"BasicTickFormatter\"},{\"attributes\":{},\"id\":\"1013\",\"type\":\"BasicTicker\"},{\"attributes\":{\"fill_alpha\":{\"value\":0.1},\"fill_color\":{\"field\":\"color\"},\"line_alpha\":{\"value\":0.1},\"line_color\":{\"field\":\"color\"},\"size\":{\"value\":5},\"x\":{\"field\":\"x\"},\"y\":{\"field\":\"y\"}},\"id\":\"1038\",\"type\":\"Circle\"},{\"attributes\":{\"formatter\":{\"id\":\"1043\"},\"major_label_policy\":{\"id\":\"1044\"},\"ticker\":{\"id\":\"1017\"},\"visible\":false},\"id\":\"1016\",\"type\":\"LinearAxis\"},{\"attributes\":{\"data\":{\"alpha\":[1,1,1,1,1,1,1,1,1,1,1,1,1,1,1,1,1,1,1,1,1,1,1,1,1,1,1,1,1,1,1,1,1,1,1,1,1,1,1,1,1,1,1,1,1,1,1,1,1,1,1,1,1,1,1,1,1,1,1,1,1,1,1,1,1,1,1,1,1,1,1,1,1,1,1,1,1,1,1,1,1,1,1,1,1,1,1,1,1,1,1,1,1,1,1,1,1,1,1,1,1,1,1,1,1,1,1,1,1,1,1,1,1,1,1,1,1,1,1,1,1,1,1,1,1,1,1,1,1,1,1,1,1,1,1,1,1,1,1,1,1,1,1,1,1,1,1,1,1,1,1,1,1,1,1,1,1,1,1,1,1,1,1,1,1,1,1,1,1,1,1,1,1,1,1,1,1,1,1,1,1,1,1,1,1,1,1,1,1,1,1,1,1,1,1,1,1,1,1,1,1,1,1,1,1,1,1,1,1,1,1,1,1,1,1,1,1,1,1,1,1,1,1,1,1,1,1,1,1,1,1,1,1,1,1,1,1,1,1,1,1,1,1,1,1,1,1,1,1,1,1,1,1,1,1,1,1,1,1,1,1,1,1,1,1,1,1,1,1,1,1,1,1,1,1,1,1,1,1,1,1,1,1,1,1,1,1,1,1,1,1,1,1,1,1,1,1,1,1,1,1,1,1,1,1,1,1,1,1,1,1,1,1,1,1,1,1,1,1,1,1,1,1,1,1,1,1,1,1,1,1,1,1,1,1,1,1,1,1,1,1,1,1,1,1,1,1,1,1,1,1,1,1,1,1,1,1,1,1,1,1,1,1,1,1,1,1,1,1,1,1,1,1,1,1,1,1,1,1,1,1,1,1,1,1,1,1,1,1,1,1,1,1,1,1,1,1,1,1,1,1,1,1,1,1,1,1,1,1,1,1,1,1,1,1,1,1,1,1,1,1,1,1,1,1,1,1,1,1,1,1,1,1,1,1,1,1,1,1,1,1,1,1,1,1,1,1,1,1,1,1,1,1,1,1,1,1,1,1,1,1,1,1,1,1,1,1,1,1,1,1,1,1,1,1,1,1,1,1,1,1,1,1,1,1,1,1,1,1,1,1,1,1,1,1,1,1,1,1,1,1,1,1,1,1,1,1,1,1,1,1,1,1,1,1,1,1,1,1,1,1,1,1,1,1,1,1,1,1,1,1,1,1,1,1,1,1,1,1,1,1,1,1,1,1,1,1,1,1,1,1,1,1,1,1,1,1,1,1,1,1,1,1,1,1,1,1,1,1,1,1,1,1,1,1,1,1,1,1,1,1,1,1,1,1,1,1,1,1,1,1,1,1,1,1,1,1,1,1,1,1,1,1,1,1,1,1,1,1,1,1,1,1,1,1,1,1,1,1,1,1,1,1,1,1,1,1,1,1,1,1,1,1,1,1,1,1,1,1,1,1,1,1,1,1,1,1,1,1,1,1,1,1,1,1,1,1,1,1,1,1,1,1,1,1,1,1,1,1,1,1,1,1,1,1,1,1,1,1,1,1,1,1,1,1,1,1,1,1,1,1,1,1,1,1,1,1,1,1,1,1,1,1,1,1,1,1,1,1,1,1,1,1,1,1,1,1,1,1,1,1,1,1,1,1,1,1,1,1,1,1,1,1,1,1,1,1,1,1,1,1,1,1,1,1,1,1,1,1,1,1,1,1,1,1,1,1,1,1,1,1,1,1,1,1,1,1,1,1,1,1,1,1,1,1,1,1,1,1,1,1,1,1,1,1,1,1,1,1,1,1,1,1,1,1,1,1,1,1,1,1,1,1,1,1,1,1,1,1,1,1,1,1,1,1,1,1,1,1,1,1,1,1,1,1,1,1,1,1,1,1,1,1,1,1,1,1,1,1,1,1,1,1,1,1,1,1,1,1,1,1,1,1,1,1,1,1,1,1,1,1,1,1,1,1,1,1,1,1,1,1,1,1,1,1,1,1,1,1,1,1,1,1,1,1,1,1,1,1,1,1,1,1,1,1,1,1,1,1,1,1,1,1,1,1,1,1,1,1,1,1,1,1,1,1,1,1,1,1,1,1,1,1,1,1,1,1,1,1,1,1,1,1,1,1,1,1,1,1,1,1,1,1,1,1,1,1,1,1,1,1,1,1,1,1,1,1,1,1,1,1,1,1,1,1,1,1,1,1,1,1,1,1,1,1,1,1,1,1,1,1,1,1,1,1,1,1,1,1,1,1,1,1,1,1,1,1,1,1,1,1,1,1,1,1,1,1,1,1,1,1,1,1,1,1,1,1,1,1,1,1,1,1,1,1,1,1,1,1,1,1,1,1,1,1,1,1,1,1,1,1,1,1,1,1,1,1,1,1,1,1,1,1,1,1,1,1,1,1,1,1,1,1,1,1,1,1,1,1,1,1,1,1,1,1,1,1,1,1,1,1,1,1,1,1,1,1,1,1,1,1,1,1,1,1,1,1,1,1,1,1,1,1,1,1,1,1,1,1,1,1,1,1,1,1,1,1,1,1,1,1,1,1,1,1,1,1,1,1,1,1,1,1,1,1,1,1,1,1,1,1,1,1,1,1,1,1,1,1,1,1,1,1,1,1,1,1,1,1,1,1,1,1,1,1,1,1,1,1,1,1,1,1,1,1,1,1,1,1,1,1,1,1,1,1,1,1,1,1,1,1,1,1,1,1,1,1,1,1,1,1,1,1,1,1,1,1,1,1,1,1,1,1,1,1,1,1,1,1,1,1,1,1,1,1,1,1,1,1,1,1,1,1,1,1,1,1,1,1,1,1,1,1,1,1,1,1,1,1,1,1,1,1,1,1,1,1,1,1,1,1,1,1,1,1,1,1,1,1,1,1,1,1,1,1,1,1,1,1,1,1,1,1,1,1,1,1,1,1,1,1,1,1,1,1,1,1,1,1,1,1,1,1,1,1,1,1,1,1,1,1,1,1,1,1,1,1,1,1,1,1,1,1,1,1,1,1,1,1,1,1,1,1,1,1,1,1,1,1,1,1,1,1,1,1,1,1,1,1,1,1,1,1,1,1,1,1,1,1,1,1,1,1,1,1,1,1,1,1,1,1,1,1,1,1,1,1,1,1,1,1,1,1,1,1,1,1,1,1,1,1,1,1,1,1,1,1,1,1,1,1,1,1,1,1,1,1,1,1,1,1,1,1,1,1,1,1,1,1,1,1,1,1,1,1,1,1,1,1,1,1,1,1,1,1,1,1,1,1,1,1,1,1,1,1,1,1,1,1,1,1,1,1,1,1,1,1,1,1,1,1,1,1,1,1,1,1,1,1,1,1,1,1,1,1,1,1,1,1,1,1,1,1,1,1,1,1,1,1,1,1,1,1,1,1,1,1,1,1,1,1,1,1,1,1,1,1,1,1,1,1,1,1,1,1,1,1,1,1,1,1,1,1,1,1,1,1,1,1,1,1,1,1,1,1,1,1,1,1,1,1,1,1,1,1,1,1,1,1,1,1,1,1,1,1,1,1,1,1,1,1,1,1,1,1,1,1,1,1,1,1,1,1,1,1,1,1,1,1,1,1,1,1,1,1,1,1,1,1,1,1,1,1,1,1,1,1,1,1,1,1,1,1,1,1,1,1,1,1,1,1,1,1,1,1,1,1,1,1,1,1,1,1,1,1,1,1,1,1,1,1,1,1,1,1,1,1,1,1,1,1,1,1,1,1,1,1,1,1,1,1,1,1,1,1,1,1,1,1,1,1,1,1,1,1,1,1,1,1,1,1,1,1,1,1,1,1,1,1,1,1,1,1,1,1,1,1,1,1,1,1,1,1,1,1,1,1,1,1,1,1,1,1,1,1,1,1,1,1,1,1,1,1,1,1,1,1,1,1,1,1,1,1,1,1,1,1,1,1,1,1,1,1,1,1,1,1,1,1,1,1,1,1,1,1,1,1,1,1,1,1,1,1,1,1,1,1,1,1,1,1,1,1,1,1,1,1,1,1,1,1,1,1,1,1,1,1,1,1,1,1,1,1,1,1,1,1,1,1,1,1,1,1,1,1,1,1],\"color\":[\"#9e0142\",\"#d8434e\",\"#f67a49\",\"#fdbf6f\",\"#feeda1\",\"#f1f9a9\",\"#bfe5a0\",\"#74c7a5\",\"#378ebb\",\"#5e4fa2\",\"#9e0142\",\"#d8434e\",\"#f67a49\",\"#fdbf6f\",\"#feeda1\",\"#f1f9a9\",\"#bfe5a0\",\"#74c7a5\",\"#378ebb\",\"#5e4fa2\",\"#9e0142\",\"#d8434e\",\"#f67a49\",\"#fdbf6f\",\"#feeda1\",\"#f1f9a9\",\"#bfe5a0\",\"#74c7a5\",\"#378ebb\",\"#5e4fa2\",\"#9e0142\",\"#5e4fa2\",\"#f1f9a9\",\"#f1f9a9\",\"#bfe5a0\",\"#f1f9a9\",\"#9e0142\",\"#5e4fa2\",\"#378ebb\",\"#5e4fa2\",\"#378ebb\",\"#feeda1\",\"#d8434e\",\"#74c7a5\",\"#74c7a5\",\"#fdbf6f\",\"#f1f9a9\",\"#d8434e\",\"#9e0142\",\"#9e0142\",\"#f67a49\",\"#f67a49\",\"#74c7a5\",\"#378ebb\",\"#f67a49\",\"#9e0142\",\"#d8434e\",\"#f67a49\",\"#bfe5a0\",\"#fdbf6f\",\"#fdbf6f\",\"#74c7a5\",\"#fdbf6f\",\"#fdbf6f\",\"#feeda1\",\"#bfe5a0\",\"#bfe5a0\",\"#bfe5a0\",\"#feeda1\",\"#5e4fa2\",\"#d8434e\",\"#f1f9a9\",\"#9e0142\",\"#5e4fa2\",\"#f1f9a9\",\"#f67a49\",\"#378ebb\",\"#f67a49\",\"#9e0142\",\"#9e0142\",\"#d8434e\",\"#74c7a5\",\"#bfe5a0\",\"#fdbf6f\",\"#f67a49\",\"#d8434e\",\"#74c7a5\",\"#feeda1\",\"#bfe5a0\",\"#fdbf6f\",\"#d8434e\",\"#fdbf6f\",\"#5e4fa2\",\"#d8434e\",\"#74c7a5\",\"#bfe5a0\",\"#378ebb\",\"#feeda1\",\"#fdbf6f\",\"#d8434e\",\"#feeda1\",\"#9e0142\",\"#f1f9a9\",\"#fdbf6f\",\"#bfe5a0\",\"#5e4fa2\",\"#bfe5a0\",\"#d8434e\",\"#74c7a5\",\"#f1f9a9\",\"#feeda1\",\"#feeda1\",\"#74c7a5\",\"#f67a49\",\"#378ebb\",\"#f67a49\",\"#f67a49\",\"#f1f9a9\",\"#74c7a5\",\"#5e4fa2\",\"#f1f9a9\",\"#feeda1\",\"#378ebb\",\"#378ebb\",\"#feeda1\",\"#5e4fa2\",\"#9e0142\",\"#378ebb\",\"#5e4fa2\",\"#378ebb\",\"#9e0142\",\"#d8434e\",\"#f67a49\",\"#fdbf6f\",\"#feeda1\",\"#f1f9a9\",\"#bfe5a0\",\"#74c7a5\",\"#378ebb\",\"#5e4fa2\",\"#9e0142\",\"#d8434e\",\"#f67a49\",\"#fdbf6f\",\"#feeda1\",\"#f1f9a9\",\"#bfe5a0\",\"#74c7a5\",\"#378ebb\",\"#5e4fa2\",\"#9e0142\",\"#d8434e\",\"#f67a49\",\"#fdbf6f\",\"#feeda1\",\"#f1f9a9\",\"#bfe5a0\",\"#74c7a5\",\"#378ebb\",\"#5e4fa2\",\"#9e0142\",\"#5e4fa2\",\"#f1f9a9\",\"#f1f9a9\",\"#bfe5a0\",\"#f1f9a9\",\"#9e0142\",\"#5e4fa2\",\"#378ebb\",\"#5e4fa2\",\"#378ebb\",\"#feeda1\",\"#d8434e\",\"#74c7a5\",\"#74c7a5\",\"#fdbf6f\",\"#f1f9a9\",\"#d8434e\",\"#9e0142\",\"#9e0142\",\"#f67a49\",\"#f67a49\",\"#74c7a5\",\"#378ebb\",\"#f67a49\",\"#9e0142\",\"#d8434e\",\"#f67a49\",\"#bfe5a0\",\"#fdbf6f\",\"#fdbf6f\",\"#74c7a5\",\"#fdbf6f\",\"#fdbf6f\",\"#feeda1\",\"#bfe5a0\",\"#bfe5a0\",\"#bfe5a0\",\"#feeda1\",\"#5e4fa2\",\"#d8434e\",\"#f1f9a9\",\"#9e0142\",\"#5e4fa2\",\"#f1f9a9\",\"#f67a49\",\"#378ebb\",\"#f67a49\",\"#9e0142\",\"#9e0142\",\"#d8434e\",\"#74c7a5\",\"#bfe5a0\",\"#fdbf6f\",\"#f67a49\",\"#d8434e\",\"#74c7a5\",\"#fdbf6f\",\"#d8434e\",\"#fdbf6f\",\"#5e4fa2\",\"#d8434e\",\"#74c7a5\",\"#bfe5a0\",\"#378ebb\",\"#feeda1\",\"#fdbf6f\",\"#d8434e\",\"#feeda1\",\"#9e0142\",\"#f1f9a9\",\"#fdbf6f\",\"#bfe5a0\",\"#5e4fa2\",\"#bfe5a0\",\"#d8434e\",\"#74c7a5\",\"#f1f9a9\",\"#feeda1\",\"#feeda1\",\"#74c7a5\",\"#f67a49\",\"#378ebb\",\"#f67a49\",\"#f67a49\",\"#f1f9a9\",\"#f1f9a9\",\"#feeda1\",\"#378ebb\",\"#378ebb\",\"#feeda1\",\"#5e4fa2\",\"#9e0142\",\"#378ebb\",\"#5e4fa2\",\"#378ebb\",\"#9e0142\",\"#d8434e\",\"#f67a49\",\"#fdbf6f\",\"#feeda1\",\"#f1f9a9\",\"#bfe5a0\",\"#74c7a5\",\"#378ebb\",\"#5e4fa2\",\"#9e0142\",\"#d8434e\",\"#f67a49\",\"#fdbf6f\",\"#feeda1\",\"#f1f9a9\",\"#bfe5a0\",\"#74c7a5\",\"#378ebb\",\"#5e4fa2\",\"#9e0142\",\"#d8434e\",\"#f67a49\",\"#fdbf6f\",\"#feeda1\",\"#f1f9a9\",\"#bfe5a0\",\"#74c7a5\",\"#378ebb\",\"#5e4fa2\",\"#9e0142\",\"#5e4fa2\",\"#f1f9a9\",\"#f1f9a9\",\"#bfe5a0\",\"#f1f9a9\",\"#9e0142\",\"#5e4fa2\",\"#378ebb\",\"#5e4fa2\",\"#378ebb\",\"#feeda1\",\"#d8434e\",\"#74c7a5\",\"#74c7a5\",\"#fdbf6f\",\"#f1f9a9\",\"#d8434e\",\"#9e0142\",\"#9e0142\",\"#f67a49\",\"#f67a49\",\"#74c7a5\",\"#378ebb\",\"#f67a49\",\"#9e0142\",\"#d8434e\",\"#f67a49\",\"#bfe5a0\",\"#fdbf6f\",\"#fdbf6f\",\"#74c7a5\",\"#fdbf6f\",\"#fdbf6f\",\"#feeda1\",\"#bfe5a0\",\"#bfe5a0\",\"#bfe5a0\",\"#feeda1\",\"#5e4fa2\",\"#d8434e\",\"#f1f9a9\",\"#9e0142\",\"#5e4fa2\",\"#f1f9a9\",\"#f67a49\",\"#378ebb\",\"#f67a49\",\"#9e0142\",\"#9e0142\",\"#d8434e\",\"#74c7a5\",\"#bfe5a0\",\"#fdbf6f\",\"#f67a49\",\"#d8434e\",\"#74c7a5\",\"#feeda1\",\"#bfe5a0\",\"#fdbf6f\",\"#d8434e\",\"#fdbf6f\",\"#5e4fa2\",\"#d8434e\",\"#74c7a5\",\"#bfe5a0\",\"#378ebb\",\"#feeda1\",\"#fdbf6f\",\"#d8434e\",\"#feeda1\",\"#9e0142\",\"#f1f9a9\",\"#fdbf6f\",\"#bfe5a0\",\"#5e4fa2\",\"#bfe5a0\",\"#d8434e\",\"#74c7a5\",\"#f1f9a9\",\"#feeda1\",\"#feeda1\",\"#74c7a5\",\"#f67a49\",\"#378ebb\",\"#f67a49\",\"#f67a49\",\"#f1f9a9\",\"#74c7a5\",\"#5e4fa2\",\"#f1f9a9\",\"#feeda1\",\"#378ebb\",\"#378ebb\",\"#feeda1\",\"#5e4fa2\",\"#9e0142\",\"#378ebb\",\"#5e4fa2\",\"#fdbf6f\",\"#9e0142\",\"#d8434e\",\"#f67a49\",\"#fdbf6f\",\"#feeda1\",\"#f1f9a9\",\"#bfe5a0\",\"#74c7a5\",\"#378ebb\",\"#5e4fa2\",\"#9e0142\",\"#d8434e\",\"#f67a49\",\"#fdbf6f\",\"#feeda1\",\"#f1f9a9\",\"#bfe5a0\",\"#74c7a5\",\"#378ebb\",\"#5e4fa2\",\"#9e0142\",\"#d8434e\",\"#f67a49\",\"#fdbf6f\",\"#feeda1\",\"#f1f9a9\",\"#bfe5a0\",\"#74c7a5\",\"#378ebb\",\"#5e4fa2\",\"#9e0142\",\"#5e4fa2\",\"#f1f9a9\",\"#f1f9a9\",\"#bfe5a0\",\"#f1f9a9\",\"#9e0142\",\"#5e4fa2\",\"#378ebb\",\"#5e4fa2\",\"#378ebb\",\"#feeda1\",\"#d8434e\",\"#74c7a5\",\"#74c7a5\",\"#fdbf6f\",\"#f1f9a9\",\"#d8434e\",\"#9e0142\",\"#9e0142\",\"#f67a49\",\"#f67a49\",\"#74c7a5\",\"#378ebb\",\"#f67a49\",\"#9e0142\",\"#d8434e\",\"#f67a49\",\"#bfe5a0\",\"#fdbf6f\",\"#fdbf6f\",\"#74c7a5\",\"#fdbf6f\",\"#fdbf6f\",\"#feeda1\",\"#bfe5a0\",\"#bfe5a0\",\"#bfe5a0\",\"#feeda1\",\"#5e4fa2\",\"#d8434e\",\"#f1f9a9\",\"#9e0142\",\"#5e4fa2\",\"#f1f9a9\",\"#f67a49\",\"#378ebb\",\"#f67a49\",\"#9e0142\",\"#9e0142\",\"#d8434e\",\"#74c7a5\",\"#bfe5a0\",\"#fdbf6f\",\"#f67a49\",\"#d8434e\",\"#74c7a5\",\"#feeda1\",\"#bfe5a0\",\"#fdbf6f\",\"#d8434e\",\"#fdbf6f\",\"#5e4fa2\",\"#d8434e\",\"#74c7a5\",\"#bfe5a0\",\"#378ebb\",\"#feeda1\",\"#fdbf6f\",\"#d8434e\",\"#feeda1\",\"#9e0142\",\"#f1f9a9\",\"#fdbf6f\",\"#bfe5a0\",\"#5e4fa2\",\"#bfe5a0\",\"#d8434e\",\"#74c7a5\",\"#f1f9a9\",\"#feeda1\",\"#feeda1\",\"#74c7a5\",\"#f67a49\",\"#378ebb\",\"#f67a49\",\"#f67a49\",\"#f1f9a9\",\"#74c7a5\",\"#5e4fa2\",\"#f1f9a9\",\"#feeda1\",\"#378ebb\",\"#378ebb\",\"#feeda1\",\"#5e4fa2\",\"#9e0142\",\"#378ebb\",\"#5e4fa2\",\"#378ebb\",\"#9e0142\",\"#d8434e\",\"#f67a49\",\"#fdbf6f\",\"#feeda1\",\"#f1f9a9\",\"#bfe5a0\",\"#74c7a5\",\"#378ebb\",\"#5e4fa2\",\"#9e0142\",\"#d8434e\",\"#f67a49\",\"#fdbf6f\",\"#feeda1\",\"#f1f9a9\",\"#bfe5a0\",\"#74c7a5\",\"#378ebb\",\"#5e4fa2\",\"#9e0142\",\"#d8434e\",\"#f67a49\",\"#fdbf6f\",\"#feeda1\",\"#f1f9a9\",\"#bfe5a0\",\"#74c7a5\",\"#378ebb\",\"#5e4fa2\",\"#9e0142\",\"#5e4fa2\",\"#f1f9a9\",\"#f1f9a9\",\"#bfe5a0\",\"#f1f9a9\",\"#9e0142\",\"#5e4fa2\",\"#378ebb\",\"#5e4fa2\",\"#378ebb\",\"#feeda1\",\"#d8434e\",\"#74c7a5\",\"#74c7a5\",\"#fdbf6f\",\"#f1f9a9\",\"#d8434e\",\"#9e0142\",\"#9e0142\",\"#f67a49\",\"#f67a49\",\"#74c7a5\",\"#378ebb\",\"#f67a49\",\"#9e0142\",\"#d8434e\",\"#f67a49\",\"#bfe5a0\",\"#fdbf6f\",\"#fdbf6f\",\"#74c7a5\",\"#fdbf6f\",\"#fdbf6f\",\"#feeda1\",\"#bfe5a0\",\"#bfe5a0\",\"#bfe5a0\",\"#feeda1\",\"#5e4fa2\",\"#d8434e\",\"#f1f9a9\",\"#9e0142\",\"#5e4fa2\",\"#f1f9a9\",\"#f67a49\",\"#378ebb\",\"#f67a49\",\"#9e0142\",\"#9e0142\",\"#d8434e\",\"#74c7a5\",\"#bfe5a0\",\"#fdbf6f\",\"#f67a49\",\"#d8434e\",\"#74c7a5\",\"#feeda1\",\"#bfe5a0\",\"#fdbf6f\",\"#d8434e\",\"#fdbf6f\",\"#5e4fa2\",\"#d8434e\",\"#74c7a5\",\"#bfe5a0\",\"#378ebb\",\"#feeda1\",\"#fdbf6f\",\"#d8434e\",\"#feeda1\",\"#9e0142\",\"#f1f9a9\",\"#fdbf6f\",\"#bfe5a0\",\"#5e4fa2\",\"#bfe5a0\",\"#d8434e\",\"#74c7a5\",\"#f1f9a9\",\"#feeda1\",\"#feeda1\",\"#74c7a5\",\"#f67a49\",\"#378ebb\",\"#f67a49\",\"#f67a49\",\"#f1f9a9\",\"#74c7a5\",\"#5e4fa2\",\"#f1f9a9\",\"#feeda1\",\"#378ebb\",\"#378ebb\",\"#feeda1\",\"#5e4fa2\",\"#9e0142\",\"#378ebb\",\"#5e4fa2\",\"#378ebb\",\"#9e0142\",\"#d8434e\",\"#f67a49\",\"#fdbf6f\",\"#feeda1\",\"#f1f9a9\",\"#bfe5a0\",\"#74c7a5\",\"#378ebb\",\"#5e4fa2\",\"#9e0142\",\"#d8434e\",\"#f67a49\",\"#fdbf6f\",\"#feeda1\",\"#f1f9a9\",\"#bfe5a0\",\"#74c7a5\",\"#378ebb\",\"#5e4fa2\",\"#9e0142\",\"#d8434e\",\"#f67a49\",\"#fdbf6f\",\"#feeda1\",\"#f1f9a9\",\"#bfe5a0\",\"#74c7a5\",\"#378ebb\",\"#5e4fa2\",\"#9e0142\",\"#5e4fa2\",\"#f1f9a9\",\"#f1f9a9\",\"#bfe5a0\",\"#f1f9a9\",\"#9e0142\",\"#5e4fa2\",\"#378ebb\",\"#5e4fa2\",\"#378ebb\",\"#feeda1\",\"#d8434e\",\"#74c7a5\",\"#74c7a5\",\"#fdbf6f\",\"#f1f9a9\",\"#d8434e\",\"#9e0142\",\"#9e0142\",\"#f67a49\",\"#f67a49\",\"#74c7a5\",\"#378ebb\",\"#f67a49\",\"#9e0142\",\"#d8434e\",\"#f67a49\",\"#bfe5a0\",\"#fdbf6f\",\"#fdbf6f\",\"#74c7a5\",\"#fdbf6f\",\"#fdbf6f\",\"#feeda1\",\"#bfe5a0\",\"#bfe5a0\",\"#bfe5a0\",\"#feeda1\",\"#5e4fa2\",\"#d8434e\",\"#f1f9a9\",\"#9e0142\",\"#5e4fa2\",\"#f1f9a9\",\"#f67a49\",\"#378ebb\",\"#f67a49\",\"#9e0142\",\"#9e0142\",\"#d8434e\",\"#74c7a5\",\"#bfe5a0\",\"#fdbf6f\",\"#f67a49\",\"#d8434e\",\"#74c7a5\",\"#feeda1\",\"#bfe5a0\",\"#fdbf6f\",\"#d8434e\",\"#fdbf6f\",\"#5e4fa2\",\"#d8434e\",\"#74c7a5\",\"#bfe5a0\",\"#378ebb\",\"#feeda1\",\"#fdbf6f\",\"#d8434e\",\"#feeda1\",\"#9e0142\",\"#f1f9a9\",\"#fdbf6f\",\"#bfe5a0\",\"#5e4fa2\",\"#bfe5a0\",\"#d8434e\",\"#74c7a5\",\"#f1f9a9\",\"#feeda1\",\"#feeda1\",\"#74c7a5\",\"#f67a49\",\"#378ebb\",\"#f67a49\",\"#f67a49\",\"#f1f9a9\",\"#74c7a5\",\"#5e4fa2\",\"#f1f9a9\",\"#feeda1\",\"#378ebb\",\"#378ebb\",\"#feeda1\",\"#5e4fa2\",\"#9e0142\",\"#378ebb\",\"#5e4fa2\",\"#378ebb\",\"#9e0142\",\"#d8434e\",\"#f67a49\",\"#fdbf6f\",\"#feeda1\",\"#f1f9a9\",\"#bfe5a0\",\"#74c7a5\",\"#378ebb\",\"#5e4fa2\",\"#9e0142\",\"#d8434e\",\"#f67a49\",\"#fdbf6f\",\"#feeda1\",\"#f1f9a9\",\"#bfe5a0\",\"#74c7a5\",\"#378ebb\",\"#5e4fa2\",\"#9e0142\",\"#d8434e\",\"#f67a49\",\"#fdbf6f\",\"#feeda1\",\"#f1f9a9\",\"#bfe5a0\",\"#74c7a5\",\"#378ebb\",\"#5e4fa2\",\"#9e0142\",\"#5e4fa2\",\"#f1f9a9\",\"#f1f9a9\",\"#bfe5a0\",\"#f1f9a9\",\"#9e0142\",\"#5e4fa2\",\"#378ebb\",\"#5e4fa2\",\"#378ebb\",\"#feeda1\",\"#d8434e\",\"#74c7a5\",\"#74c7a5\",\"#fdbf6f\",\"#f1f9a9\",\"#d8434e\",\"#9e0142\",\"#9e0142\",\"#f67a49\",\"#f67a49\",\"#74c7a5\",\"#378ebb\",\"#f67a49\",\"#9e0142\",\"#d8434e\",\"#f67a49\",\"#bfe5a0\",\"#fdbf6f\",\"#fdbf6f\",\"#74c7a5\",\"#fdbf6f\",\"#fdbf6f\",\"#feeda1\",\"#bfe5a0\",\"#bfe5a0\",\"#bfe5a0\",\"#feeda1\",\"#5e4fa2\",\"#d8434e\",\"#f1f9a9\",\"#9e0142\",\"#5e4fa2\",\"#f1f9a9\",\"#f67a49\",\"#378ebb\",\"#f67a49\",\"#9e0142\",\"#9e0142\",\"#d8434e\",\"#74c7a5\",\"#bfe5a0\",\"#fdbf6f\",\"#f67a49\",\"#d8434e\",\"#74c7a5\",\"#feeda1\",\"#bfe5a0\",\"#fdbf6f\",\"#d8434e\",\"#fdbf6f\",\"#5e4fa2\",\"#d8434e\",\"#74c7a5\",\"#bfe5a0\",\"#378ebb\",\"#feeda1\",\"#fdbf6f\",\"#d8434e\",\"#feeda1\",\"#9e0142\",\"#f1f9a9\",\"#fdbf6f\",\"#bfe5a0\",\"#5e4fa2\",\"#bfe5a0\",\"#d8434e\",\"#74c7a5\",\"#f1f9a9\",\"#feeda1\",\"#feeda1\",\"#74c7a5\",\"#f67a49\",\"#378ebb\",\"#f67a49\",\"#f67a49\",\"#f1f9a9\",\"#74c7a5\",\"#5e4fa2\",\"#f1f9a9\",\"#feeda1\",\"#378ebb\",\"#378ebb\",\"#feeda1\",\"#5e4fa2\",\"#9e0142\",\"#378ebb\",\"#5e4fa2\",\"#378ebb\",\"#d8434e\",\"#f67a49\",\"#fdbf6f\",\"#feeda1\",\"#f1f9a9\",\"#bfe5a0\",\"#74c7a5\",\"#378ebb\",\"#5e4fa2\",\"#9e0142\",\"#d8434e\",\"#f67a49\",\"#fdbf6f\",\"#feeda1\",\"#f1f9a9\",\"#bfe5a0\",\"#74c7a5\",\"#378ebb\",\"#5e4fa2\",\"#9e0142\",\"#d8434e\",\"#f67a49\",\"#fdbf6f\",\"#feeda1\",\"#f1f9a9\",\"#bfe5a0\",\"#74c7a5\",\"#378ebb\",\"#5e4fa2\",\"#9e0142\",\"#5e4fa2\",\"#f1f9a9\",\"#f1f9a9\",\"#bfe5a0\",\"#f1f9a9\",\"#9e0142\",\"#5e4fa2\",\"#378ebb\",\"#5e4fa2\",\"#378ebb\",\"#feeda1\",\"#d8434e\",\"#74c7a5\",\"#74c7a5\",\"#fdbf6f\",\"#f1f9a9\",\"#d8434e\",\"#f67a49\",\"#74c7a5\",\"#378ebb\",\"#f67a49\",\"#9e0142\",\"#d8434e\",\"#f67a49\",\"#bfe5a0\",\"#fdbf6f\",\"#fdbf6f\",\"#74c7a5\",\"#fdbf6f\",\"#fdbf6f\",\"#feeda1\",\"#bfe5a0\",\"#bfe5a0\",\"#bfe5a0\",\"#feeda1\",\"#5e4fa2\",\"#d8434e\",\"#f1f9a9\",\"#9e0142\",\"#5e4fa2\",\"#f1f9a9\",\"#f67a49\",\"#378ebb\",\"#f67a49\",\"#9e0142\",\"#9e0142\",\"#d8434e\",\"#74c7a5\",\"#bfe5a0\",\"#fdbf6f\",\"#f67a49\",\"#d8434e\",\"#feeda1\",\"#bfe5a0\",\"#fdbf6f\",\"#d8434e\",\"#fdbf6f\",\"#5e4fa2\",\"#d8434e\",\"#74c7a5\",\"#bfe5a0\",\"#378ebb\",\"#feeda1\",\"#fdbf6f\",\"#d8434e\",\"#feeda1\",\"#9e0142\",\"#f1f9a9\",\"#fdbf6f\",\"#bfe5a0\",\"#5e4fa2\",\"#bfe5a0\",\"#d8434e\",\"#74c7a5\",\"#f1f9a9\",\"#feeda1\",\"#feeda1\",\"#74c7a5\",\"#f67a49\",\"#378ebb\",\"#f67a49\",\"#f67a49\",\"#f1f9a9\",\"#74c7a5\",\"#5e4fa2\",\"#f1f9a9\",\"#feeda1\",\"#feeda1\",\"#5e4fa2\",\"#9e0142\",\"#378ebb\",\"#5e4fa2\",\"#378ebb\",\"#9e0142\",\"#d8434e\",\"#f67a49\",\"#fdbf6f\",\"#feeda1\",\"#f1f9a9\",\"#bfe5a0\",\"#74c7a5\",\"#378ebb\",\"#5e4fa2\",\"#9e0142\",\"#d8434e\",\"#f67a49\",\"#fdbf6f\",\"#feeda1\",\"#f1f9a9\",\"#bfe5a0\",\"#74c7a5\",\"#378ebb\",\"#5e4fa2\",\"#9e0142\",\"#d8434e\",\"#f67a49\",\"#fdbf6f\",\"#feeda1\",\"#f1f9a9\",\"#bfe5a0\",\"#74c7a5\",\"#378ebb\",\"#5e4fa2\",\"#9e0142\",\"#5e4fa2\",\"#f1f9a9\",\"#f1f9a9\",\"#bfe5a0\",\"#f1f9a9\",\"#9e0142\",\"#5e4fa2\",\"#378ebb\",\"#5e4fa2\",\"#378ebb\",\"#feeda1\",\"#d8434e\",\"#74c7a5\",\"#74c7a5\",\"#fdbf6f\",\"#f1f9a9\",\"#d8434e\",\"#9e0142\",\"#9e0142\",\"#74c7a5\",\"#378ebb\",\"#f67a49\",\"#9e0142\",\"#d8434e\",\"#f67a49\",\"#bfe5a0\",\"#fdbf6f\",\"#fdbf6f\",\"#74c7a5\",\"#fdbf6f\",\"#fdbf6f\",\"#feeda1\",\"#bfe5a0\",\"#bfe5a0\",\"#bfe5a0\",\"#feeda1\",\"#5e4fa2\",\"#d8434e\",\"#f1f9a9\",\"#9e0142\",\"#5e4fa2\",\"#f1f9a9\",\"#f67a49\",\"#378ebb\",\"#f67a49\",\"#9e0142\",\"#9e0142\",\"#d8434e\",\"#74c7a5\",\"#bfe5a0\",\"#fdbf6f\",\"#f67a49\",\"#d8434e\",\"#74c7a5\",\"#feeda1\",\"#bfe5a0\",\"#fdbf6f\",\"#d8434e\",\"#fdbf6f\",\"#5e4fa2\",\"#d8434e\",\"#74c7a5\",\"#bfe5a0\",\"#378ebb\",\"#feeda1\",\"#fdbf6f\",\"#d8434e\",\"#feeda1\",\"#9e0142\",\"#f1f9a9\",\"#fdbf6f\",\"#bfe5a0\",\"#5e4fa2\",\"#bfe5a0\",\"#d8434e\",\"#74c7a5\",\"#f1f9a9\",\"#feeda1\",\"#feeda1\",\"#74c7a5\",\"#f67a49\",\"#378ebb\",\"#f67a49\",\"#f67a49\",\"#f1f9a9\",\"#74c7a5\",\"#5e4fa2\",\"#f1f9a9\",\"#feeda1\",\"#378ebb\",\"#378ebb\",\"#feeda1\",\"#5e4fa2\",\"#9e0142\",\"#378ebb\",\"#5e4fa2\",\"#378ebb\",\"#9e0142\",\"#d8434e\",\"#f67a49\",\"#fdbf6f\",\"#feeda1\",\"#f1f9a9\",\"#bfe5a0\",\"#74c7a5\",\"#378ebb\",\"#5e4fa2\",\"#9e0142\",\"#d8434e\",\"#f67a49\",\"#fdbf6f\",\"#feeda1\",\"#f1f9a9\",\"#bfe5a0\",\"#74c7a5\",\"#378ebb\",\"#5e4fa2\",\"#9e0142\",\"#d8434e\",\"#f67a49\",\"#fdbf6f\",\"#feeda1\",\"#f1f9a9\",\"#bfe5a0\",\"#74c7a5\",\"#378ebb\",\"#5e4fa2\",\"#9e0142\",\"#5e4fa2\",\"#f1f9a9\",\"#f1f9a9\",\"#bfe5a0\",\"#f1f9a9\",\"#9e0142\",\"#5e4fa2\",\"#378ebb\",\"#5e4fa2\",\"#378ebb\",\"#feeda1\",\"#d8434e\",\"#74c7a5\",\"#74c7a5\",\"#fdbf6f\",\"#f1f9a9\",\"#d8434e\",\"#9e0142\",\"#9e0142\",\"#f67a49\",\"#f67a49\",\"#74c7a5\",\"#378ebb\",\"#f67a49\",\"#9e0142\",\"#d8434e\",\"#f67a49\",\"#bfe5a0\",\"#fdbf6f\",\"#fdbf6f\",\"#74c7a5\",\"#fdbf6f\",\"#fdbf6f\",\"#feeda1\",\"#bfe5a0\",\"#bfe5a0\",\"#bfe5a0\",\"#feeda1\",\"#5e4fa2\",\"#d8434e\",\"#f1f9a9\",\"#9e0142\",\"#5e4fa2\",\"#f1f9a9\",\"#f67a49\",\"#378ebb\",\"#f67a49\",\"#9e0142\",\"#9e0142\",\"#d8434e\",\"#74c7a5\",\"#bfe5a0\",\"#fdbf6f\",\"#f67a49\",\"#d8434e\",\"#74c7a5\",\"#feeda1\",\"#bfe5a0\",\"#fdbf6f\",\"#d8434e\",\"#fdbf6f\",\"#5e4fa2\",\"#d8434e\",\"#74c7a5\",\"#bfe5a0\",\"#378ebb\",\"#feeda1\",\"#fdbf6f\",\"#d8434e\",\"#feeda1\",\"#9e0142\",\"#f1f9a9\",\"#fdbf6f\",\"#bfe5a0\",\"#5e4fa2\",\"#bfe5a0\",\"#d8434e\",\"#74c7a5\",\"#f1f9a9\",\"#feeda1\",\"#feeda1\",\"#74c7a5\",\"#f67a49\",\"#378ebb\",\"#f67a49\",\"#f67a49\",\"#f1f9a9\",\"#74c7a5\",\"#5e4fa2\",\"#f1f9a9\",\"#feeda1\",\"#378ebb\",\"#378ebb\",\"#feeda1\",\"#5e4fa2\",\"#9e0142\",\"#378ebb\",\"#5e4fa2\",\"#378ebb\",\"#9e0142\",\"#d8434e\",\"#f67a49\",\"#fdbf6f\",\"#feeda1\",\"#f1f9a9\",\"#bfe5a0\",\"#74c7a5\",\"#378ebb\",\"#5e4fa2\",\"#9e0142\",\"#d8434e\",\"#f67a49\",\"#fdbf6f\",\"#feeda1\",\"#f1f9a9\",\"#bfe5a0\",\"#74c7a5\",\"#378ebb\",\"#5e4fa2\",\"#9e0142\",\"#d8434e\",\"#f67a49\",\"#fdbf6f\",\"#feeda1\",\"#f1f9a9\",\"#bfe5a0\",\"#74c7a5\",\"#378ebb\",\"#5e4fa2\",\"#9e0142\",\"#5e4fa2\",\"#f1f9a9\",\"#f1f9a9\",\"#bfe5a0\",\"#f1f9a9\",\"#9e0142\",\"#5e4fa2\",\"#378ebb\",\"#5e4fa2\",\"#378ebb\",\"#feeda1\",\"#d8434e\",\"#74c7a5\",\"#74c7a5\",\"#fdbf6f\",\"#f1f9a9\",\"#d8434e\",\"#9e0142\",\"#9e0142\",\"#f67a49\",\"#f67a49\",\"#74c7a5\",\"#378ebb\",\"#f67a49\",\"#9e0142\",\"#d8434e\",\"#f67a49\",\"#bfe5a0\",\"#fdbf6f\",\"#fdbf6f\",\"#74c7a5\",\"#fdbf6f\",\"#fdbf6f\",\"#feeda1\",\"#bfe5a0\",\"#bfe5a0\",\"#bfe5a0\",\"#feeda1\",\"#5e4fa2\",\"#d8434e\",\"#f1f9a9\",\"#9e0142\",\"#5e4fa2\",\"#f1f9a9\",\"#f67a49\",\"#378ebb\",\"#f67a49\",\"#9e0142\",\"#9e0142\",\"#d8434e\",\"#74c7a5\",\"#bfe5a0\",\"#fdbf6f\",\"#f67a49\",\"#d8434e\",\"#74c7a5\",\"#feeda1\",\"#bfe5a0\",\"#fdbf6f\",\"#d8434e\",\"#fdbf6f\",\"#5e4fa2\",\"#d8434e\",\"#74c7a5\",\"#bfe5a0\",\"#378ebb\",\"#feeda1\",\"#fdbf6f\",\"#d8434e\",\"#feeda1\",\"#9e0142\",\"#f1f9a9\",\"#fdbf6f\",\"#bfe5a0\",\"#5e4fa2\",\"#bfe5a0\",\"#d8434e\",\"#74c7a5\",\"#f1f9a9\",\"#feeda1\",\"#feeda1\",\"#74c7a5\",\"#f67a49\",\"#378ebb\",\"#f67a49\",\"#f67a49\",\"#f1f9a9\",\"#74c7a5\",\"#5e4fa2\",\"#f1f9a9\",\"#feeda1\",\"#378ebb\",\"#378ebb\",\"#feeda1\",\"#5e4fa2\",\"#9e0142\",\"#378ebb\",\"#9e0142\",\"#d8434e\",\"#f67a49\",\"#fdbf6f\",\"#feeda1\",\"#f1f9a9\",\"#bfe5a0\",\"#74c7a5\",\"#378ebb\",\"#5e4fa2\",\"#9e0142\",\"#d8434e\",\"#f67a49\",\"#fdbf6f\",\"#feeda1\",\"#f1f9a9\",\"#bfe5a0\",\"#74c7a5\",\"#378ebb\",\"#5e4fa2\",\"#9e0142\",\"#d8434e\",\"#f67a49\",\"#fdbf6f\",\"#feeda1\",\"#f1f9a9\",\"#bfe5a0\",\"#74c7a5\",\"#378ebb\",\"#5e4fa2\",\"#9e0142\",\"#5e4fa2\",\"#f1f9a9\",\"#f1f9a9\",\"#bfe5a0\",\"#f1f9a9\",\"#9e0142\",\"#5e4fa2\",\"#378ebb\",\"#5e4fa2\",\"#378ebb\",\"#feeda1\",\"#d8434e\",\"#74c7a5\",\"#74c7a5\",\"#fdbf6f\",\"#f1f9a9\",\"#d8434e\",\"#9e0142\",\"#9e0142\",\"#f67a49\",\"#f67a49\",\"#74c7a5\",\"#378ebb\",\"#f67a49\",\"#9e0142\",\"#d8434e\",\"#f67a49\",\"#bfe5a0\",\"#fdbf6f\",\"#fdbf6f\",\"#74c7a5\",\"#fdbf6f\",\"#fdbf6f\",\"#feeda1\",\"#bfe5a0\",\"#bfe5a0\",\"#bfe5a0\",\"#feeda1\",\"#5e4fa2\",\"#d8434e\",\"#f1f9a9\",\"#9e0142\",\"#5e4fa2\",\"#f1f9a9\",\"#f67a49\",\"#378ebb\",\"#f67a49\",\"#9e0142\",\"#9e0142\",\"#d8434e\",\"#74c7a5\",\"#bfe5a0\",\"#fdbf6f\",\"#f67a49\",\"#d8434e\",\"#74c7a5\",\"#feeda1\",\"#bfe5a0\",\"#fdbf6f\",\"#d8434e\",\"#fdbf6f\",\"#5e4fa2\",\"#d8434e\",\"#74c7a5\",\"#bfe5a0\",\"#378ebb\",\"#feeda1\",\"#fdbf6f\",\"#d8434e\",\"#feeda1\",\"#9e0142\",\"#f1f9a9\",\"#fdbf6f\",\"#bfe5a0\",\"#5e4fa2\",\"#bfe5a0\",\"#d8434e\",\"#74c7a5\",\"#f1f9a9\",\"#feeda1\",\"#feeda1\",\"#74c7a5\",\"#f67a49\",\"#378ebb\",\"#f67a49\",\"#f67a49\",\"#f1f9a9\",\"#74c7a5\",\"#5e4fa2\",\"#f1f9a9\",\"#feeda1\",\"#378ebb\",\"#378ebb\",\"#feeda1\",\"#5e4fa2\",\"#9e0142\",\"#378ebb\",\"#5e4fa2\",\"#378ebb\",\"#9e0142\",\"#d8434e\",\"#f67a49\",\"#fdbf6f\",\"#feeda1\",\"#f1f9a9\",\"#bfe5a0\",\"#74c7a5\",\"#378ebb\",\"#5e4fa2\",\"#9e0142\",\"#d8434e\",\"#f67a49\",\"#fdbf6f\",\"#feeda1\",\"#f1f9a9\",\"#bfe5a0\",\"#5e4fa2\",\"#9e0142\",\"#d8434e\",\"#f67a49\",\"#fdbf6f\",\"#feeda1\",\"#f1f9a9\",\"#bfe5a0\",\"#74c7a5\",\"#378ebb\",\"#5e4fa2\",\"#9e0142\",\"#5e4fa2\",\"#f1f9a9\",\"#f1f9a9\",\"#bfe5a0\",\"#f1f9a9\",\"#9e0142\",\"#5e4fa2\",\"#378ebb\",\"#5e4fa2\",\"#378ebb\",\"#feeda1\",\"#d8434e\",\"#74c7a5\",\"#74c7a5\",\"#fdbf6f\",\"#f1f9a9\",\"#d8434e\",\"#9e0142\",\"#9e0142\",\"#f67a49\",\"#f67a49\",\"#74c7a5\",\"#378ebb\",\"#f67a49\",\"#9e0142\",\"#d8434e\",\"#f67a49\",\"#bfe5a0\",\"#fdbf6f\",\"#fdbf6f\",\"#74c7a5\",\"#fdbf6f\",\"#fdbf6f\",\"#feeda1\",\"#bfe5a0\",\"#bfe5a0\",\"#bfe5a0\",\"#feeda1\",\"#5e4fa2\",\"#d8434e\",\"#f1f9a9\",\"#9e0142\",\"#5e4fa2\",\"#f1f9a9\",\"#f67a49\",\"#378ebb\",\"#9e0142\",\"#d8434e\",\"#74c7a5\",\"#bfe5a0\",\"#fdbf6f\",\"#f67a49\",\"#d8434e\",\"#74c7a5\",\"#feeda1\",\"#bfe5a0\",\"#fdbf6f\",\"#d8434e\",\"#fdbf6f\",\"#5e4fa2\",\"#d8434e\",\"#74c7a5\",\"#bfe5a0\",\"#378ebb\",\"#feeda1\",\"#fdbf6f\",\"#d8434e\",\"#feeda1\",\"#9e0142\",\"#f1f9a9\",\"#fdbf6f\",\"#bfe5a0\",\"#5e4fa2\",\"#bfe5a0\",\"#d8434e\",\"#74c7a5\",\"#f1f9a9\",\"#feeda1\",\"#feeda1\",\"#74c7a5\",\"#f67a49\",\"#f67a49\",\"#f1f9a9\",\"#74c7a5\",\"#5e4fa2\",\"#f1f9a9\",\"#feeda1\",\"#feeda1\",\"#5e4fa2\",\"#9e0142\",\"#378ebb\",\"#5e4fa2\",\"#378ebb\",\"#9e0142\",\"#d8434e\",\"#f67a49\",\"#fdbf6f\",\"#feeda1\",\"#f1f9a9\",\"#bfe5a0\",\"#74c7a5\",\"#378ebb\",\"#5e4fa2\",\"#9e0142\",\"#d8434e\",\"#f67a49\",\"#fdbf6f\",\"#feeda1\",\"#f1f9a9\",\"#bfe5a0\",\"#74c7a5\",\"#378ebb\",\"#5e4fa2\",\"#9e0142\",\"#d8434e\",\"#f67a49\",\"#fdbf6f\",\"#feeda1\",\"#f1f9a9\",\"#bfe5a0\",\"#74c7a5\",\"#378ebb\",\"#5e4fa2\",\"#9e0142\",\"#5e4fa2\",\"#f1f9a9\",\"#f1f9a9\",\"#bfe5a0\",\"#f1f9a9\",\"#9e0142\",\"#5e4fa2\",\"#378ebb\",\"#5e4fa2\",\"#378ebb\",\"#feeda1\",\"#d8434e\",\"#74c7a5\",\"#74c7a5\",\"#fdbf6f\",\"#f1f9a9\",\"#d8434e\",\"#9e0142\",\"#9e0142\",\"#f67a49\",\"#f67a49\",\"#74c7a5\",\"#378ebb\",\"#f67a49\",\"#9e0142\",\"#d8434e\",\"#f67a49\",\"#bfe5a0\",\"#fdbf6f\",\"#fdbf6f\",\"#74c7a5\",\"#fdbf6f\",\"#fdbf6f\",\"#feeda1\",\"#bfe5a0\",\"#bfe5a0\",\"#bfe5a0\",\"#feeda1\",\"#5e4fa2\",\"#d8434e\",\"#f1f9a9\",\"#9e0142\",\"#5e4fa2\",\"#f1f9a9\",\"#f67a49\",\"#378ebb\",\"#f67a49\",\"#9e0142\",\"#9e0142\",\"#d8434e\",\"#74c7a5\",\"#bfe5a0\",\"#fdbf6f\",\"#f67a49\",\"#d8434e\",\"#74c7a5\",\"#feeda1\",\"#bfe5a0\",\"#fdbf6f\",\"#d8434e\",\"#fdbf6f\",\"#5e4fa2\",\"#d8434e\",\"#74c7a5\",\"#bfe5a0\",\"#378ebb\",\"#feeda1\",\"#fdbf6f\",\"#d8434e\",\"#feeda1\",\"#9e0142\",\"#f1f9a9\",\"#fdbf6f\",\"#bfe5a0\",\"#5e4fa2\",\"#bfe5a0\",\"#d8434e\",\"#74c7a5\",\"#f1f9a9\",\"#feeda1\",\"#feeda1\",\"#74c7a5\",\"#f67a49\",\"#378ebb\",\"#f67a49\",\"#f67a49\",\"#f1f9a9\",\"#74c7a5\",\"#5e4fa2\",\"#f1f9a9\",\"#feeda1\",\"#378ebb\",\"#378ebb\",\"#feeda1\",\"#5e4fa2\",\"#9e0142\",\"#378ebb\",\"#5e4fa2\",\"#378ebb\"],\"index\":[0,1,2,3,4,5,6,7,8,9,10,11,12,13,14,15,16,17,18,19,20,21,22,23,24,25,26,27,28,29,30,31,32,33,34,35,36,37,38,39,40,41,42,43,44,45,46,47,48,49,50,51,52,53,54,55,56,57,58,59,60,61,62,63,64,65,66,67,68,69,70,71,72,73,74,75,76,77,78,79,80,81,82,83,84,85,86,87,88,89,90,91,92,93,94,95,96,97,98,99,100,101,102,103,104,105,106,107,108,109,110,111,112,113,114,115,116,117,118,119,120,121,122,123,124,125,126,127,128,129,130,131,132,133,134,135,136,137,138,139,140,141,142,143,144,145,146,147,148,149,150,151,152,153,154,155,156,157,158,159,160,161,162,163,164,165,166,167,168,169,170,171,172,173,174,175,176,177,178,179,180,181,182,183,184,185,186,187,188,189,190,191,192,193,194,195,196,197,198,199,200,201,202,203,204,205,206,207,208,209,210,211,212,213,214,215,216,217,218,219,220,221,222,223,224,225,226,227,228,229,230,231,232,233,234,235,236,237,238,239,240,241,242,243,244,245,246,247,248,249,250,251,252,253,254,255,256,257,258,259,260,261,262,263,264,265,266,267,268,269,270,271,272,273,274,275,276,277,278,279,280,281,282,283,284,285,286,287,288,289,290,291,292,293,294,295,296,297,298,299,300,301,302,303,304,305,306,307,308,309,310,311,312,313,314,315,316,317,318,319,320,321,322,323,324,325,326,327,328,329,330,331,332,333,334,335,336,337,338,339,340,341,342,343,344,345,346,347,348,349,350,351,352,353,354,355,356,357,358,359,360,361,362,363,364,365,366,367,368,369,370,371,372,373,374,375,376,377,378,379,380,381,382,383,384,385,386,387,388,389,390,391,392,393,394,395,396,397,398,399,400,401,402,403,404,405,406,407,408,409,410,411,412,413,414,415,416,417,418,419,420,421,422,423,424,425,426,427,428,429,430,431,432,433,434,435,436,437,438,439,440,441,442,443,444,445,446,447,448,449,450,451,452,453,454,455,456,457,458,459,460,461,462,463,464,465,466,467,468,469,470,471,472,473,474,475,476,477,478,479,480,481,482,483,484,485,486,487,488,489,490,491,492,493,494,495,496,497,498,499,500,501,502,503,504,505,506,507,508,509,510,511,512,513,514,515,516,517,518,519,520,521,522,523,524,525,526,527,528,529,530,531,532,533,534,535,536,537,538,539,540,541,542,543,544,545,546,547,548,549,550,551,552,553,554,555,556,557,558,559,560,561,562,563,564,565,566,567,568,569,570,571,572,573,574,575,576,577,578,579,580,581,582,583,584,585,586,587,588,589,590,591,592,593,594,595,596,597,598,599,600,601,602,603,604,605,606,607,608,609,610,611,612,613,614,615,616,617,618,619,620,621,622,623,624,625,626,627,628,629,630,631,632,633,634,635,636,637,638,639,640,641,642,643,644,645,646,647,648,649,650,651,652,653,654,655,656,657,658,659,660,661,662,663,664,665,666,667,668,669,670,671,672,673,674,675,676,677,678,679,680,681,682,683,684,685,686,687,688,689,690,691,692,693,694,695,696,697,698,699,700,701,702,703,704,705,706,707,708,709,710,711,712,713,714,715,716,717,718,719,720,721,722,723,724,725,726,727,728,729,730,731,732,733,734,735,736,737,738,739,740,741,742,743,744,745,746,747,748,749,750,751,752,753,754,755,756,757,758,759,760,761,762,763,764,765,766,767,768,769,770,771,772,773,774,775,776,777,778,779,780,781,782,783,784,785,786,787,788,789,790,791,792,793,794,795,796,797,798,799,800,801,802,803,804,805,806,807,808,809,810,811,812,813,814,815,816,817,818,819,820,821,822,823,824,825,826,827,828,829,830,831,832,833,834,835,836,837,838,839,840,841,842,843,844,845,846,847,848,849,850,851,852,853,854,855,856,857,858,859,860,861,862,863,864,865,866,867,868,869,870,871,872,873,874,875,876,877,878,879,880,881,882,883,884,885,886,887,888,889,890,891,892,893,894,895,896,897,898,899,900,901,902,903,904,905,906,907,908,909,910,911,912,913,914,915,916,917,918,919,920,921,922,923,924,925,926,927,928,929,930,931,932,933,934,935,936,937,938,939,940,941,942,943,944,945,946,947,948,949,950,951,952,953,954,955,956,957,958,959,960,961,962,963,964,965,966,967,968,969,970,971,972,973,974,975,976,977,978,979,980,981,982,983,984,985,986,987,988,989,990,991,992,993,994,995,996,997,998,999,1000,1001,1002,1003,1004,1005,1006,1007,1008,1009,1010,1011,1012,1013,1014,1015,1016,1017,1018,1019,1020,1021,1022,1023,1024,1025,1026,1027,1028,1029,1030,1031,1032,1033,1034,1035,1036,1037,1038,1039,1040,1041,1042,1043,1044,1045,1046,1047,1048,1049,1050,1051,1052,1053,1054,1055,1056,1057,1058,1059,1060,1061,1062,1063,1064,1065,1066,1067,1068,1069,1070,1071,1072,1073,1074,1075,1076,1077,1078,1079,1080,1081,1082,1083,1084,1085,1086,1087,1088,1089,1090,1091,1092,1093,1094,1095,1096,1097,1098,1099,1100,1101,1102,1103,1104,1105,1106,1107,1108,1109,1110,1111,1112,1113,1114,1115,1116,1117,1118,1119,1120,1121,1122,1123,1124,1125,1126,1127,1128,1129,1130,1131,1132,1133,1134,1135,1136,1137,1138,1139,1140,1141,1142,1143,1144,1145,1146,1147,1148,1149,1150,1151,1152,1153,1154,1155,1156,1157,1158,1159,1160,1161,1162,1163,1164,1165,1166,1167,1168,1169,1170,1171,1172,1173,1174,1175,1176,1177,1178,1179,1180,1181,1182,1183,1184,1185,1186,1187,1188,1189,1190,1191,1192,1193,1194,1195,1196,1197,1198,1199,1200,1201,1202,1203,1204,1205,1206,1207,1208,1209,1210,1211,1212,1213,1214,1215,1216,1217,1218,1219,1220,1221,1222,1223,1224,1225,1226,1227,1228,1229,1230,1231,1232,1233,1234,1235,1236,1237,1238,1239,1240,1241,1242,1243,1244,1245,1246,1247,1248,1249,1250,1251,1252,1253,1254,1255,1256,1257,1258,1259,1260,1261,1262,1263,1264,1265,1266,1267,1268,1269,1270,1271,1272,1273,1274,1275,1276,1277,1278,1279,1280,1281,1282,1283,1284,1285,1286,1287,1288,1289,1290,1291,1292,1293,1294,1295,1296,1297,1298,1299,1300,1301,1302,1303,1304,1305,1306,1307,1308,1309,1310,1311,1312,1313,1314,1315,1316,1317,1318,1319,1320,1321,1322,1323,1324,1325,1326,1327,1328,1329,1330,1331,1332,1333,1334,1335,1336,1337,1338,1339,1340,1341,1342,1343,1344,1345,1346,1347,1348,1349,1350,1351,1352,1353,1354,1355,1356,1357,1358,1359,1360,1361,1362,1363,1364,1365,1366,1367,1368,1369,1370,1371,1372,1373,1374,1375,1376,1377,1378,1379,1380,1381,1382,1383,1384,1385,1386,1387,1388,1389,1390,1391,1392,1393,1394,1395,1396,1397,1398,1399,1400,1401,1402,1403,1404,1405,1406,1407,1408,1409,1410,1411,1412,1413,1414,1415,1416,1417,1418,1419,1420,1421,1422,1423,1424,1425,1426,1427,1428,1429,1430,1431,1432,1433,1434,1435,1436,1437,1438,1439,1440,1441,1442,1443,1444,1445,1446,1447,1448,1449,1450,1451,1452,1453,1454,1455,1456,1457,1458,1459,1460,1461,1462,1463,1464,1465,1466,1467,1468,1469,1470,1471,1472,1473,1474,1475,1476,1477,1478,1479,1480,1481,1482,1483,1484,1485,1486,1487,1488,1489,1490,1491,1492,1493,1494,1495,1496,1497,1498,1499,1500,1501,1502,1503,1504,1505,1506,1507,1508,1509,1510,1511,1512,1513,1514,1515,1516,1517,1518,1519,1520,1521,1522,1523,1524,1525,1526,1527,1528,1529,1530,1531,1532,1533,1534,1535,1536,1537,1538,1539,1540,1541,1542,1543,1544,1545,1546,1547,1548,1549,1550,1551,1552,1553,1554,1555,1556,1557,1558,1559,1560,1561,1562,1563,1564,1565,1566,1567,1568,1569,1570,1571,1572,1573,1574,1575,1576,1577,1578,1579,1580,1581,1582,1583,1584,1585,1586,1587,1588,1589,1590,1591,1592,1593,1594,1595,1596,1597,1598,1599,1600,1601,1602,1603,1604,1605,1606,1607,1608,1609,1610,1611,1612,1613,1614,1615,1616,1617,1618,1619,1620,1621,1622,1623,1624,1625,1626,1627,1628,1629,1630,1631,1632,1633,1634,1635,1636,1637,1638,1639,1640,1641,1642,1643,1644,1645,1646,1647,1648,1649,1650,1651,1652,1653,1654,1655,1656,1657,1658,1659,1660,1661,1662,1663,1664,1665,1666,1667,1668,1669,1670,1671,1672,1673,1674,1675,1676,1677,1678,1679,1680,1681,1682,1683,1684,1685,1686,1687,1688,1689,1690,1691,1692,1693,1694,1695,1696,1697,1698,1699,1700,1701,1702,1703,1704,1705,1706,1707,1708,1709,1710,1711,1712,1713,1714,1715,1716,1717,1718,1719,1720,1721,1722,1723,1724,1725,1726,1727,1728,1729,1730,1731,1732,1733,1734,1735,1736,1737,1738,1739,1740,1741,1742,1743,1744,1745,1746,1747,1748,1749,1750,1751,1752,1753,1754,1755,1756,1757,1758,1759,1760,1761,1762,1763,1764,1765,1766,1767,1768,1769,1770,1771,1772,1773,1774,1775,1776,1777,1778,1779,1780,1781,1782,1783,1784,1785,1786,1787,1788,1789,1790,1791,1792,1793,1794,1795,1796],\"label\":[0,1,2,3,4,5,6,7,8,9,0,1,2,3,4,5,6,7,8,9,0,1,2,3,4,5,6,7,8,9,0,9,5,5,6,5,0,9,8,9,8,4,1,7,7,3,5,1,0,0,2,2,7,8,2,0,1,2,6,3,3,7,3,3,4,6,6,6,4,9,1,5,0,9,5,2,8,2,0,0,1,7,6,3,2,1,7,4,6,3,1,3,9,1,7,6,8,4,3,1,4,0,5,3,6,9,6,1,7,5,4,4,7,2,8,2,2,5,7,9,5,4,8,8,4,9,0,8,9,8,0,1,2,3,4,5,6,7,8,9,0,1,2,3,4,5,6,7,8,9,0,1,2,3,4,5,6,7,8,9,0,9,5,5,6,5,0,9,8,9,8,4,1,7,7,3,5,1,0,0,2,2,7,8,2,0,1,2,6,3,3,7,3,3,4,6,6,6,4,9,1,5,0,9,5,2,8,2,0,0,1,7,6,3,2,1,7,3,1,3,9,1,7,6,8,4,3,1,4,0,5,3,6,9,6,1,7,5,4,4,7,2,8,2,2,5,5,4,8,8,4,9,0,8,9,8,0,1,2,3,4,5,6,7,8,9,0,1,2,3,4,5,6,7,8,9,0,1,2,3,4,5,6,7,8,9,0,9,5,5,6,5,0,9,8,9,8,4,1,7,7,3,5,1,0,0,2,2,7,8,2,0,1,2,6,3,3,7,3,3,4,6,6,6,4,9,1,5,0,9,5,2,8,2,0,0,1,7,6,3,2,1,7,4,6,3,1,3,9,1,7,6,8,4,3,1,4,0,5,3,6,9,6,1,7,5,4,4,7,2,8,2,2,5,7,9,5,4,8,8,4,9,0,8,9,3,0,1,2,3,4,5,6,7,8,9,0,1,2,3,4,5,6,7,8,9,0,1,2,3,4,5,6,7,8,9,0,9,5,5,6,5,0,9,8,9,8,4,1,7,7,3,5,1,0,0,2,2,7,8,2,0,1,2,6,3,3,7,3,3,4,6,6,6,4,9,1,5,0,9,5,2,8,2,0,0,1,7,6,3,2,1,7,4,6,3,1,3,9,1,7,6,8,4,3,1,4,0,5,3,6,9,6,1,7,5,4,4,7,2,8,2,2,5,7,9,5,4,8,8,4,9,0,8,9,8,0,1,2,3,4,5,6,7,8,9,0,1,2,3,4,5,6,7,8,9,0,1,2,3,4,5,6,7,8,9,0,9,5,5,6,5,0,9,8,9,8,4,1,7,7,3,5,1,0,0,2,2,7,8,2,0,1,2,6,3,3,7,3,3,4,6,6,6,4,9,1,5,0,9,5,2,8,2,0,0,1,7,6,3,2,1,7,4,6,3,1,3,9,1,7,6,8,4,3,1,4,0,5,3,6,9,6,1,7,5,4,4,7,2,8,2,2,5,7,9,5,4,8,8,4,9,0,8,9,8,0,1,2,3,4,5,6,7,8,9,0,1,2,3,4,5,6,7,8,9,0,1,2,3,4,5,6,7,8,9,0,9,5,5,6,5,0,9,8,9,8,4,1,7,7,3,5,1,0,0,2,2,7,8,2,0,1,2,6,3,3,7,3,3,4,6,6,6,4,9,1,5,0,9,5,2,8,2,0,0,1,7,6,3,2,1,7,4,6,3,1,3,9,1,7,6,8,4,3,1,4,0,5,3,6,9,6,1,7,5,4,4,7,2,8,2,2,5,7,9,5,4,8,8,4,9,0,8,9,8,0,1,2,3,4,5,6,7,8,9,0,1,2,3,4,5,6,7,8,9,0,1,2,3,4,5,6,7,8,9,0,9,5,5,6,5,0,9,8,9,8,4,1,7,7,3,5,1,0,0,2,2,7,8,2,0,1,2,6,3,3,7,3,3,4,6,6,6,4,9,1,5,0,9,5,2,8,2,0,0,1,7,6,3,2,1,7,4,6,3,1,3,9,1,7,6,8,4,3,1,4,0,5,3,6,9,6,1,7,5,4,4,7,2,8,2,2,5,7,9,5,4,8,8,4,9,0,8,9,8,1,2,3,4,5,6,7,8,9,0,1,2,3,4,5,6,7,8,9,0,1,2,3,4,5,6,7,8,9,0,9,5,5,6,5,0,9,8,9,8,4,1,7,7,3,5,1,2,7,8,2,0,1,2,6,3,3,7,3,3,4,6,6,6,4,9,1,5,0,9,5,2,8,2,0,0,1,7,6,3,2,1,4,6,3,1,3,9,1,7,6,8,4,3,1,4,0,5,3,6,9,6,1,7,5,4,4,7,2,8,2,2,5,7,9,5,4,4,9,0,8,9,8,0,1,2,3,4,5,6,7,8,9,0,1,2,3,4,5,6,7,8,9,0,1,2,3,4,5,6,7,8,9,0,9,5,5,6,5,0,9,8,9,8,4,1,7,7,3,5,1,0,0,7,8,2,0,1,2,6,3,3,7,3,3,4,6,6,6,4,9,1,5,0,9,5,2,8,2,0,0,1,7,6,3,2,1,7,4,6,3,1,3,9,1,7,6,8,4,3,1,4,0,5,3,6,9,6,1,7,5,4,4,7,2,8,2,2,5,7,9,5,4,8,8,4,9,0,8,9,8,0,1,2,3,4,5,6,7,8,9,0,1,2,3,4,5,6,7,8,9,0,1,2,3,4,5,6,7,8,9,0,9,5,5,6,5,0,9,8,9,8,4,1,7,7,3,5,1,0,0,2,2,7,8,2,0,1,2,6,3,3,7,3,3,4,6,6,6,4,9,1,5,0,9,5,2,8,2,0,0,1,7,6,3,2,1,7,4,6,3,1,3,9,1,7,6,8,4,3,1,4,0,5,3,6,9,6,1,7,5,4,4,7,2,8,2,2,5,7,9,5,4,8,8,4,9,0,8,9,8,0,1,2,3,4,5,6,7,8,9,0,1,2,3,4,5,6,7,8,9,0,1,2,3,4,5,6,7,8,9,0,9,5,5,6,5,0,9,8,9,8,4,1,7,7,3,5,1,0,0,2,2,7,8,2,0,1,2,6,3,3,7,3,3,4,6,6,6,4,9,1,5,0,9,5,2,8,2,0,0,1,7,6,3,2,1,7,4,6,3,1,3,9,1,7,6,8,4,3,1,4,0,5,3,6,9,6,1,7,5,4,4,7,2,8,2,2,5,7,9,5,4,8,8,4,9,0,8,0,1,2,3,4,5,6,7,8,9,0,1,2,3,4,5,6,7,8,9,0,1,2,3,4,5,6,7,8,9,0,9,5,5,6,5,0,9,8,9,8,4,1,7,7,3,5,1,0,0,2,2,7,8,2,0,1,2,6,3,3,7,3,3,4,6,6,6,4,9,1,5,0,9,5,2,8,2,0,0,1,7,6,3,2,1,7,4,6,3,1,3,9,1,7,6,8,4,3,1,4,0,5,3,6,9,6,1,7,5,4,4,7,2,8,2,2,5,7,9,5,4,8,8,4,9,0,8,9,8,0,1,2,3,4,5,6,7,8,9,0,1,2,3,4,5,6,9,0,1,2,3,4,5,6,7,8,9,0,9,5,5,6,5,0,9,8,9,8,4,1,7,7,3,5,1,0,0,2,2,7,8,2,0,1,2,6,3,3,7,3,3,4,6,6,6,4,9,1,5,0,9,5,2,8,0,1,7,6,3,2,1,7,4,6,3,1,3,9,1,7,6,8,4,3,1,4,0,5,3,6,9,6,1,7,5,4,4,7,2,2,5,7,9,5,4,4,9,0,8,9,8,0,1,2,3,4,5,6,7,8,9,0,1,2,3,4,5,6,7,8,9,0,1,2,3,4,5,6,7,8,9,0,9,5,5,6,5,0,9,8,9,8,4,1,7,7,3,5,1,0,0,2,2,7,8,2,0,1,2,6,3,3,7,3,3,4,6,6,6,4,9,1,5,0,9,5,2,8,2,0,0,1,7,6,3,2,1,7,4,6,3,1,3,9,1,7,6,8,4,3,1,4,0,5,3,6,9,6,1,7,5,4,4,7,2,8,2,2,5,7,9,5,4,8,8,4,9,0,8,9,8],\"level_0\":[0,1,2,3,4,5,6,7,8,9,10,11,12,13,14,15,16,17,18,19,20,21,22,23,24,25,26,27,28,29,30,31,32,33,34,35,36,37,38,39,40,41,42,43,44,45,46,47,48,49,50,51,52,53,54,55,56,57,58,59,60,61,62,63,64,65,66,67,68,69,70,71,72,73,74,75,76,77,78,79,80,81,82,83,84,85,86,87,88,89,90,91,92,93,94,95,96,97,98,99,100,101,102,103,104,105,106,107,108,109,110,111,112,113,114,115,116,117,118,119,120,121,122,123,124,125,126,127,128,129,130,131,132,133,134,135,136,137,138,139,140,141,142,143,144,145,146,147,148,149,150,151,152,153,154,155,156,157,158,159,160,161,162,163,164,165,166,167,168,169,170,171,172,173,174,175,176,177,178,179,180,181,182,183,184,185,186,187,188,189,190,191,192,193,194,195,196,197,198,199,200,201,202,203,204,205,206,207,208,209,210,211,212,213,214,215,216,217,218,219,220,221,222,223,224,225,226,227,228,229,230,231,232,233,234,235,236,237,238,239,240,241,242,243,244,245,246,247,248,249,250,251,252,253,254,255,256,257,258,259,260,261,262,263,264,265,266,267,268,269,270,271,272,273,274,275,276,277,278,279,280,281,282,283,284,285,286,287,288,289,290,291,292,293,294,295,296,297,298,299,300,301,302,303,304,305,306,307,308,309,310,311,312,313,314,315,316,317,318,319,320,321,322,323,324,325,326,327,328,329,330,331,332,333,334,335,336,337,338,339,340,341,342,343,344,345,346,347,348,349,350,351,352,353,354,355,356,357,358,359,360,361,362,363,364,365,366,367,368,369,370,371,372,373,374,375,376,377,378,379,380,381,382,383,384,385,386,387,388,389,390,391,392,393,394,395,396,397,398,399,400,401,402,403,404,405,406,407,408,409,410,411,412,413,414,415,416,417,418,419,420,421,422,423,424,425,426,427,428,429,430,431,432,433,434,435,436,437,438,439,440,441,442,443,444,445,446,447,448,449,450,451,452,453,454,455,456,457,458,459,460,461,462,463,464,465,466,467,468,469,470,471,472,473,474,475,476,477,478,479,480,481,482,483,484,485,486,487,488,489,490,491,492,493,494,495,496,497,498,499,500,501,502,503,504,505,506,507,508,509,510,511,512,513,514,515,516,517,518,519,520,521,522,523,524,525,526,527,528,529,530,531,532,533,534,535,536,537,538,539,540,541,542,543,544,545,546,547,548,549,550,551,552,553,554,555,556,557,558,559,560,561,562,563,564,565,566,567,568,569,570,571,572,573,574,575,576,577,578,579,580,581,582,583,584,585,586,587,588,589,590,591,592,593,594,595,596,597,598,599,600,601,602,603,604,605,606,607,608,609,610,611,612,613,614,615,616,617,618,619,620,621,622,623,624,625,626,627,628,629,630,631,632,633,634,635,636,637,638,639,640,641,642,643,644,645,646,647,648,649,650,651,652,653,654,655,656,657,658,659,660,661,662,663,664,665,666,667,668,669,670,671,672,673,674,675,676,677,678,679,680,681,682,683,684,685,686,687,688,689,690,691,692,693,694,695,696,697,698,699,700,701,702,703,704,705,706,707,708,709,710,711,712,713,714,715,716,717,718,719,720,721,722,723,724,725,726,727,728,729,730,731,732,733,734,735,736,737,738,739,740,741,742,743,744,745,746,747,748,749,750,751,752,753,754,755,756,757,758,759,760,761,762,763,764,765,766,767,768,769,770,771,772,773,774,775,776,777,778,779,780,781,782,783,784,785,786,787,788,789,790,791,792,793,794,795,796,797,798,799,800,801,802,803,804,805,806,807,808,809,810,811,812,813,814,815,816,817,818,819,820,821,822,823,824,825,826,827,828,829,830,831,832,833,834,835,836,837,838,839,840,841,842,843,844,845,846,847,848,849,850,851,852,853,854,855,856,857,858,859,860,861,862,863,864,865,866,867,868,869,870,871,872,873,874,875,876,877,878,879,880,881,882,883,884,885,886,887,888,889,890,891,892,893,894,895,896,897,898,899,900,901,902,903,904,905,906,907,908,909,910,911,912,913,914,915,916,917,918,919,920,921,922,923,924,925,926,927,928,929,930,931,932,933,934,935,936,937,938,939,940,941,942,943,944,945,946,947,948,949,950,951,952,953,954,955,956,957,958,959,960,961,962,963,964,965,966,967,968,969,970,971,972,973,974,975,976,977,978,979,980,981,982,983,984,985,986,987,988,989,990,991,992,993,994,995,996,997,998,999,1000,1001,1002,1003,1004,1005,1006,1007,1008,1009,1010,1011,1012,1013,1014,1015,1016,1017,1018,1019,1020,1021,1022,1023,1024,1025,1026,1027,1028,1029,1030,1031,1032,1033,1034,1035,1036,1037,1038,1039,1040,1041,1042,1043,1044,1045,1046,1047,1048,1049,1050,1051,1052,1053,1054,1055,1056,1057,1058,1059,1060,1061,1062,1063,1064,1065,1066,1067,1068,1069,1070,1071,1072,1073,1074,1075,1076,1077,1078,1079,1080,1081,1082,1083,1084,1085,1086,1087,1088,1089,1090,1091,1092,1093,1094,1095,1096,1097,1098,1099,1100,1101,1102,1103,1104,1105,1106,1107,1108,1109,1110,1111,1112,1113,1114,1115,1116,1117,1118,1119,1120,1121,1122,1123,1124,1125,1126,1127,1128,1129,1130,1131,1132,1133,1134,1135,1136,1137,1138,1139,1140,1141,1142,1143,1144,1145,1146,1147,1148,1149,1150,1151,1152,1153,1154,1155,1156,1157,1158,1159,1160,1161,1162,1163,1164,1165,1166,1167,1168,1169,1170,1171,1172,1173,1174,1175,1176,1177,1178,1179,1180,1181,1182,1183,1184,1185,1186,1187,1188,1189,1190,1191,1192,1193,1194,1195,1196,1197,1198,1199,1200,1201,1202,1203,1204,1205,1206,1207,1208,1209,1210,1211,1212,1213,1214,1215,1216,1217,1218,1219,1220,1221,1222,1223,1224,1225,1226,1227,1228,1229,1230,1231,1232,1233,1234,1235,1236,1237,1238,1239,1240,1241,1242,1243,1244,1245,1246,1247,1248,1249,1250,1251,1252,1253,1254,1255,1256,1257,1258,1259,1260,1261,1262,1263,1264,1265,1266,1267,1268,1269,1270,1271,1272,1273,1274,1275,1276,1277,1278,1279,1280,1281,1282,1283,1284,1285,1286,1287,1288,1289,1290,1291,1292,1293,1294,1295,1296,1297,1298,1299,1300,1301,1302,1303,1304,1305,1306,1307,1308,1309,1310,1311,1312,1313,1314,1315,1316,1317,1318,1319,1320,1321,1322,1323,1324,1325,1326,1327,1328,1329,1330,1331,1332,1333,1334,1335,1336,1337,1338,1339,1340,1341,1342,1343,1344,1345,1346,1347,1348,1349,1350,1351,1352,1353,1354,1355,1356,1357,1358,1359,1360,1361,1362,1363,1364,1365,1366,1367,1368,1369,1370,1371,1372,1373,1374,1375,1376,1377,1378,1379,1380,1381,1382,1383,1384,1385,1386,1387,1388,1389,1390,1391,1392,1393,1394,1395,1396,1397,1398,1399,1400,1401,1402,1403,1404,1405,1406,1407,1408,1409,1410,1411,1412,1413,1414,1415,1416,1417,1418,1419,1420,1421,1422,1423,1424,1425,1426,1427,1428,1429,1430,1431,1432,1433,1434,1435,1436,1437,1438,1439,1440,1441,1442,1443,1444,1445,1446,1447,1448,1449,1450,1451,1452,1453,1454,1455,1456,1457,1458,1459,1460,1461,1462,1463,1464,1465,1466,1467,1468,1469,1470,1471,1472,1473,1474,1475,1476,1477,1478,1479,1480,1481,1482,1483,1484,1485,1486,1487,1488,1489,1490,1491,1492,1493,1494,1495,1496,1497,1498,1499,1500,1501,1502,1503,1504,1505,1506,1507,1508,1509,1510,1511,1512,1513,1514,1515,1516,1517,1518,1519,1520,1521,1522,1523,1524,1525,1526,1527,1528,1529,1530,1531,1532,1533,1534,1535,1536,1537,1538,1539,1540,1541,1542,1543,1544,1545,1546,1547,1548,1549,1550,1551,1552,1553,1554,1555,1556,1557,1558,1559,1560,1561,1562,1563,1564,1565,1566,1567,1568,1569,1570,1571,1572,1573,1574,1575,1576,1577,1578,1579,1580,1581,1582,1583,1584,1585,1586,1587,1588,1589,1590,1591,1592,1593,1594,1595,1596,1597,1598,1599,1600,1601,1602,1603,1604,1605,1606,1607,1608,1609,1610,1611,1612,1613,1614,1615,1616,1617,1618,1619,1620,1621,1622,1623,1624,1625,1626,1627,1628,1629,1630,1631,1632,1633,1634,1635,1636,1637,1638,1639,1640,1641,1642,1643,1644,1645,1646,1647,1648,1649,1650,1651,1652,1653,1654,1655,1656,1657,1658,1659,1660,1661,1662,1663,1664,1665,1666,1667,1668,1669,1670,1671,1672,1673,1674,1675,1676,1677,1678,1679,1680,1681,1682,1683,1684,1685,1686,1687,1688,1689,1690,1691,1692,1693,1694,1695,1696,1697,1698,1699,1700,1701,1702,1703,1704,1705,1706,1707,1708,1709,1710,1711,1712,1713,1714,1715,1716,1717,1718,1719,1720,1721,1722,1723,1724,1725,1726,1727,1728,1729,1730,1731,1732,1733,1734,1735,1736,1737,1738,1739,1740,1741,1742,1743,1744,1745,1746,1747,1748,1749,1750,1751,1752,1753,1754,1755,1756,1757,1758,1759,1760,1761,1762,1763,1764,1765,1766,1767,1768,1769,1770,1771,1772,1773,1774,1775,1776,1777,1778,1779,1780,1781,1782,1783,1784,1785,1786,1787,1788,1789,1790,1791,1792,1793,1794,1795,1796],\"x\":{\"__ndarray__\":\"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\",\"dtype\":\"float32\",\"order\":\"little\",\"shape\":[1797]},\"y\":{\"__ndarray__\":\"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\",\"dtype\":\"float32\",\"order\":\"little\",\"shape\":[1797]}},\"selected\":{\"id\":\"1050\"},\"selection_policy\":{\"id\":\"1051\"}},\"id\":\"1002\",\"type\":\"ColumnDataSource\"},{\"attributes\":{\"overlay\":{\"id\":\"1026\"}},\"id\":\"1022\",\"type\":\"BoxZoomTool\"},{\"attributes\":{\"axis\":{\"id\":\"1012\"},\"ticker\":null,\"visible\":false},\"id\":\"1015\",\"type\":\"Grid\"},{\"attributes\":{},\"id\":\"1043\",\"type\":\"BasicTickFormatter\"},{\"attributes\":{\"source\":{\"id\":\"1002\"}},\"id\":\"1040\",\"type\":\"CDSView\"},{\"attributes\":{\"formatter\":{\"id\":\"1046\"},\"major_label_policy\":{\"id\":\"1047\"},\"ticker\":{\"id\":\"1013\"},\"visible\":false},\"id\":\"1012\",\"type\":\"LinearAxis\"},{\"attributes\":{\"axis\":{\"id\":\"1016\"},\"dimension\":1,\"ticker\":null,\"visible\":false},\"id\":\"1019\",\"type\":\"Grid\"},{\"attributes\":{},\"id\":\"1025\",\"type\":\"HelpTool\"},{\"attributes\":{\"data_source\":{\"id\":\"1002\"},\"glyph\":{\"id\":\"1037\"},\"hover_glyph\":null,\"muted_glyph\":null,\"nonselection_glyph\":{\"id\":\"1038\"},\"view\":{\"id\":\"1040\"}},\"id\":\"1039\",\"type\":\"GlyphRenderer\"},{\"attributes\":{},\"id\":\"1042\",\"type\":\"Title\"},{\"attributes\":{},\"id\":\"1006\",\"type\":\"DataRange1d\"},{\"attributes\":{},\"id\":\"1020\",\"type\":\"PanTool\"},{\"attributes\":{\"callback\":null,\"tooltips\":[[\"index\",\"@{index}\"],[\"label\",\"@{label}\"]]},\"id\":\"1027\",\"type\":\"HoverTool\"},{\"attributes\":{\"bottom_units\":\"screen\",\"fill_alpha\":0.5,\"fill_color\":\"lightgrey\",\"left_units\":\"screen\",\"level\":\"overlay\",\"line_alpha\":1.0,\"line_color\":\"black\",\"line_dash\":[4,4],\"line_width\":2,\"right_units\":\"screen\",\"syncable\":false,\"top_units\":\"screen\"},\"id\":\"1026\",\"type\":\"BoxAnnotation\"},{\"attributes\":{},\"id\":\"1050\",\"type\":\"Selection\"},{\"attributes\":{},\"id\":\"1021\",\"type\":\"WheelZoomTool\"},{\"attributes\":{},\"id\":\"1051\",\"type\":\"UnionRenderers\"},{\"attributes\":{},\"id\":\"1047\",\"type\":\"AllLabels\"},{\"attributes\":{\"active_multi\":null,\"tools\":[{\"id\":\"1020\"},{\"id\":\"1021\"},{\"id\":\"1022\"},{\"id\":\"1023\"},{\"id\":\"1024\"},{\"id\":\"1025\"},{\"id\":\"1027\"}]},\"id\":\"1028\",\"type\":\"Toolbar\"},{\"attributes\":{},\"id\":\"1004\",\"type\":\"DataRange1d\"},{\"attributes\":{},\"id\":\"1017\",\"type\":\"BasicTicker\"},{\"attributes\":{\"fill_alpha\":{\"field\":\"alpha\"},\"fill_color\":{\"field\":\"color\"},\"line_alpha\":{\"field\":\"alpha\"},\"line_color\":{\"field\":\"color\"},\"size\":{\"value\":5},\"x\":{\"field\":\"x\"},\"y\":{\"field\":\"y\"}},\"id\":\"1037\",\"type\":\"Circle\"},{\"attributes\":{},\"id\":\"1010\",\"type\":\"LinearScale\"},{\"attributes\":{},\"id\":\"1023\",\"type\":\"SaveTool\"}],\"root_ids\":[\"1003\"]},\"title\":\"Bokeh Application\",\"version\":\"2.3.3\"}};\n",
              "  var render_items = [{\"docid\":\"86dd81c8-ed5f-46ac-a1ec-6121178cf18e\",\"root_ids\":[\"1003\"],\"roots\":{\"1003\":\"b1620ee3-d8f6-4ead-92ce-a6bd44f99eb4\"}}];\n",
              "  root.Bokeh.embed.embed_items_notebook(docs_json, render_items);\n",
              "\n",
              "  }\n",
              "  if (root.Bokeh !== undefined) {\n",
              "    embed_document(root);\n",
              "  } else {\n",
              "    var attempts = 0;\n",
              "    var timer = setInterval(function(root) {\n",
              "      if (root.Bokeh !== undefined) {\n",
              "        clearInterval(timer);\n",
              "        embed_document(root);\n",
              "      } else {\n",
              "        attempts++;\n",
              "        if (attempts > 100) {\n",
              "          clearInterval(timer);\n",
              "          console.log(\"Bokeh: ERROR: Unable to run BokehJS code because BokehJS library is missing\");\n",
              "        }\n",
              "      }\n",
              "    }, 10, root)\n",
              "  }\n",
              "})(window);"
            ],
            "application/vnd.bokehjs_exec.v0+json": ""
          },
          "metadata": {
            "application/vnd.bokehjs_exec.v0+json": {
              "id": "1003"
            }
          }
        }
      ]
    },
    {
      "cell_type": "markdown",
      "source": [
        "The hover details here let us investigate the digits whose labels are unexpected, like a two in the the sevens cluster.\n",
        "There are many alternate ways to plot UMAP projections. This next plot highlights the intercluster connectivity (in an admittedly eldritch manner)."
      ],
      "metadata": {
        "id": "PnzZjtzZq-RW"
      }
    },
    {
      "cell_type": "code",
      "source": [
        "umap.plot.connectivity(umap_model, edge_bundling='hammer')"
      ],
      "metadata": {
        "colab": {
          "base_uri": "https://localhost:8080/",
          "height": 709
        },
        "id": "Wx7aakV8BzuM",
        "outputId": "fab1e10e-e196-4f8d-8fd2-7192d39b8304"
      },
      "execution_count": 59,
      "outputs": [
        {
          "output_type": "stream",
          "name": "stderr",
          "text": [
            "/usr/local/lib/python3.7/dist-packages/umap/plot.py:886: UserWarning: Hammer edge bundling is expensive for large graphs!\n",
            "This may take a long time to compute!\n",
            "  \"Hammer edge bundling is expensive for large graphs!\\n\"\n"
          ]
        },
        {
          "output_type": "execute_result",
          "data": {
            "text/plain": [
              "<matplotlib.axes._subplots.AxesSubplot at 0x7fa7ef48d2d0>"
            ]
          },
          "metadata": {},
          "execution_count": 59
        },
        {
          "output_type": "display_data",
          "data": {
            "text/plain": [
              "<Figure size 800x800 with 1 Axes>"
            ],
            "image/png": "[encoded data removed]"
          },
          "metadata": {}
        }
      ]
    },
    {
      "cell_type": "markdown",
      "source": [
        "Let's return to clustering one more time, this time using the hierarchical density based clustering tool [HDBSCAN](https://hdbscan.readthedocs.io/en/latest/index.html). This algorithm is preferable for cases where the clusters to be separated are sometimes wrapped around each other. \n",
        "First we will fit the original data (without the UMAP projection)."
      ],
      "metadata": {
        "id": "ECwUPfKvrVZe"
      }
    },
    {
      "cell_type": "code",
      "source": [
        "clusterer = hdbscan.HDBSCAN()\n",
        "clusterer.fit(digits.data)"
      ],
      "metadata": {
        "colab": {
          "base_uri": "https://localhost:8080/"
        },
        "id": "xeoDPbO5C_t9",
        "outputId": "45c3b9eb-a336-46b3-a55f-1e3f15ae5ba5"
      },
      "execution_count": 60,
      "outputs": [
        {
          "output_type": "execute_result",
          "data": {
            "text/plain": [
              "HDBSCAN()"
            ]
          },
          "metadata": {},
          "execution_count": 60
        }
      ]
    },
    {
      "cell_type": "code",
      "source": [
        "hover_data = pd.DataFrame({'index':np.arange(len(digits.target)),\n",
        "                           'truelabel':digits.target,\n",
        "                           'hdbscanlabel':clusterer.labels_,\n",
        "                           }\n",
        "                          )\n",
        "p = umap.plot.interactive(umap_model, labels=clusterer.labels_, hover_data=hover_data, point_size=5)\n",
        "umap.plot.show(p)"
      ],
      "metadata": {
        "colab": {
          "base_uri": "https://localhost:8080/",
          "height": 817
        },
        "id": "U9NF_PD-DL_c",
        "outputId": "dfbc788b-3940-4fff-85ba-ad043e3b81cb"
      },
      "execution_count": 61,
      "outputs": [
        {
          "output_type": "display_data",
          "data": {
            "application/javascript": [
              "\n",
              "(function(root) {\n",
              "  function now() {\n",
              "    return new Date();\n",
              "  }\n",
              "\n",
              "  var force = true;\n",
              "\n",
              "  if (typeof root._bokeh_onload_callbacks === \"undefined\" || force === true) {\n",
              "    root._bokeh_onload_callbacks = [];\n",
              "    root._bokeh_is_loading = undefined;\n",
              "  }\n",
              "\n",
              "  var JS_MIME_TYPE = 'application/javascript';\n",
              "  var HTML_MIME_TYPE = 'text/html';\n",
              "  var EXEC_MIME_TYPE = 'application/vnd.bokehjs_exec.v0+json';\n",
              "  var CLASS_NAME = 'output_bokeh rendered_html';\n",
              "\n",
              "  /**\n",
              "   * Render data to the DOM node\n",
              "   */\n",
              "  function render(props, node) {\n",
              "    var script = document.createElement(\"script\");\n",
              "    node.appendChild(script);\n",
              "  }\n",
              "\n",
              "  /**\n",
              "   * Handle when an output is cleared or removed\n",
              "   */\n",
              "  function handleClearOutput(event, handle) {\n",
              "    var cell = handle.cell;\n",
              "\n",
              "    var id = cell.output_area._bokeh_element_id;\n",
              "    var server_id = cell.output_area._bokeh_server_id;\n",
              "    // Clean up Bokeh references\n",
              "    if (id != null && id in Bokeh.index) {\n",
              "      Bokeh.index[id].model.document.clear();\n",
              "      delete Bokeh.index[id];\n",
              "    }\n",
              "\n",
              "    if (server_id !== undefined) {\n",
              "      // Clean up Bokeh references\n",
              "      var cmd = \"from bokeh.io.state import curstate; print(curstate().uuid_to_server['\" + server_id + \"'].get_sessions()[0].document.roots[0]._id)\";\n",
              "      cell.notebook.kernel.execute(cmd, {\n",
              "        iopub: {\n",
              "          output: function(msg) {\n",
              "            var id = msg.content.text.trim();\n",
              "            if (id in Bokeh.index) {\n",
              "              Bokeh.index[id].model.document.clear();\n",
              "              delete Bokeh.index[id];\n",
              "            }\n",
              "          }\n",
              "        }\n",
              "      });\n",
              "      // Destroy server and session\n",
              "      var cmd = \"import bokeh.io.notebook as ion; ion.destroy_server('\" + server_id + \"')\";\n",
              "      cell.notebook.kernel.execute(cmd);\n",
              "    }\n",
              "  }\n",
              "\n",
              "  /**\n",
              "   * Handle when a new output is added\n",
              "   */\n",
              "  function handleAddOutput(event, handle) {\n",
              "    var output_area = handle.output_area;\n",
              "    var output = handle.output;\n",
              "\n",
              "    // limit handleAddOutput to display_data with EXEC_MIME_TYPE content only\n",
              "    if ((output.output_type != \"display_data\") || (!Object.prototype.hasOwnProperty.call(output.data, EXEC_MIME_TYPE))) {\n",
              "      return\n",
              "    }\n",
              "\n",
              "    var toinsert = output_area.element.find(\".\" + CLASS_NAME.split(' ')[0]);\n",
              "\n",
              "    if (output.metadata[EXEC_MIME_TYPE][\"id\"] !== undefined) {\n",
              "      toinsert[toinsert.length - 1].firstChild.textContent = output.data[JS_MIME_TYPE];\n",
              "      // store reference to embed id on output_area\n",
              "      output_area._bokeh_element_id = output.metadata[EXEC_MIME_TYPE][\"id\"];\n",
              "    }\n",
              "    if (output.metadata[EXEC_MIME_TYPE][\"server_id\"] !== undefined) {\n",
              "      var bk_div = document.createElement(\"div\");\n",
              "      bk_div.innerHTML = output.data[HTML_MIME_TYPE];\n",
              "      var script_attrs = bk_div.children[0].attributes;\n",
              "      for (var i = 0; i < script_attrs.length; i++) {\n",
              "        toinsert[toinsert.length - 1].firstChild.setAttribute(script_attrs[i].name, script_attrs[i].value);\n",
              "        toinsert[toinsert.length - 1].firstChild.textContent = bk_div.children[0].textContent\n",
              "      }\n",
              "      // store reference to server id on output_area\n",
              "      output_area._bokeh_server_id = output.metadata[EXEC_MIME_TYPE][\"server_id\"];\n",
              "    }\n",
              "  }\n",
              "\n",
              "  function register_renderer(events, OutputArea) {\n",
              "\n",
              "    function append_mime(data, metadata, element) {\n",
              "      // create a DOM node to render to\n",
              "      var toinsert = this.create_output_subarea(\n",
              "        metadata,\n",
              "        CLASS_NAME,\n",
              "        EXEC_MIME_TYPE\n",
              "      );\n",
              "      this.keyboard_manager.register_events(toinsert);\n",
              "      // Render to node\n",
              "      var props = {data: data, metadata: metadata[EXEC_MIME_TYPE]};\n",
              "      render(props, toinsert[toinsert.length - 1]);\n",
              "      element.append(toinsert);\n",
              "      return toinsert\n",
              "    }\n",
              "\n",
              "    /* Handle when an output is cleared or removed */\n",
              "    events.on('clear_output.CodeCell', handleClearOutput);\n",
              "    events.on('delete.Cell', handleClearOutput);\n",
              "\n",
              "    /* Handle when a new output is added */\n",
              "    events.on('output_added.OutputArea', handleAddOutput);\n",
              "\n",
              "    /**\n",
              "     * Register the mime type and append_mime function with output_area\n",
              "     */\n",
              "    OutputArea.prototype.register_mime_type(EXEC_MIME_TYPE, append_mime, {\n",
              "      /* Is output safe? */\n",
              "      safe: true,\n",
              "      /* Index of renderer in `output_area.display_order` */\n",
              "      index: 0\n",
              "    });\n",
              "  }\n",
              "\n",
              "  // register the mime type if in Jupyter Notebook environment and previously unregistered\n",
              "  if (root.Jupyter !== undefined) {\n",
              "    var events = require('base/js/events');\n",
              "    var OutputArea = require('notebook/js/outputarea').OutputArea;\n",
              "\n",
              "    if (OutputArea.prototype.mime_types().indexOf(EXEC_MIME_TYPE) == -1) {\n",
              "      register_renderer(events, OutputArea);\n",
              "    }\n",
              "  }\n",
              "\n",
              "  \n",
              "  if (typeof (root._bokeh_timeout) === \"undefined\" || force === true) {\n",
              "    root._bokeh_timeout = Date.now() + 5000;\n",
              "    root._bokeh_failed_load = false;\n",
              "  }\n",
              "\n",
              "  var NB_LOAD_WARNING = {'data': {'text/html':\n",
              "     \"<div style='background-color: #fdd'>\\n\"+\n",
              "     \"<p>\\n\"+\n",
              "     \"BokehJS does not appear to have successfully loaded. If loading BokehJS from CDN, this \\n\"+\n",
              "     \"may be due to a slow or bad network connection. Possible fixes:\\n\"+\n",
              "     \"</p>\\n\"+\n",
              "     \"<ul>\\n\"+\n",
              "     \"<li>re-rerun `output_notebook()` to attempt to load from CDN again, or</li>\\n\"+\n",
              "     \"<li>use INLINE resources instead, as so:</li>\\n\"+\n",
              "     \"</ul>\\n\"+\n",
              "     \"<code>\\n\"+\n",
              "     \"from bokeh.resources import INLINE\\n\"+\n",
              "     \"output_notebook(resources=INLINE)\\n\"+\n",
              "     \"</code>\\n\"+\n",
              "     \"</div>\"}};\n",
              "\n",
              "  function display_loaded() {\n",
              "    var el = document.getElementById(null);\n",
              "    if (el != null) {\n",
              "      el.textContent = \"BokehJS is loading...\";\n",
              "    }\n",
              "    if (root.Bokeh !== undefined) {\n",
              "      if (el != null) {\n",
              "        el.textContent = \"BokehJS \" + root.Bokeh.version + \" successfully loaded.\";\n",
              "      }\n",
              "    } else if (Date.now() < root._bokeh_timeout) {\n",
              "      setTimeout(display_loaded, 100)\n",
              "    }\n",
              "  }\n",
              "\n",
              "\n",
              "  function run_callbacks() {\n",
              "    try {\n",
              "      root._bokeh_onload_callbacks.forEach(function(callback) {\n",
              "        if (callback != null)\n",
              "          callback();\n",
              "      });\n",
              "    } finally {\n",
              "      delete root._bokeh_onload_callbacks\n",
              "    }\n",
              "    console.debug(\"Bokeh: all callbacks have finished\");\n",
              "  }\n",
              "\n",
              "  function load_libs(css_urls, js_urls, callback) {\n",
              "    if (css_urls == null) css_urls = [];\n",
              "    if (js_urls == null) js_urls = [];\n",
              "\n",
              "    root._bokeh_onload_callbacks.push(callback);\n",
              "    if (root._bokeh_is_loading > 0) {\n",
              "      console.debug(\"Bokeh: BokehJS is being loaded, scheduling callback at\", now());\n",
              "      return null;\n",
              "    }\n",
              "    if (js_urls == null || js_urls.length === 0) {\n",
              "      run_callbacks();\n",
              "      return null;\n",
              "    }\n",
              "    console.debug(\"Bokeh: BokehJS not loaded, scheduling load and callback at\", now());\n",
              "    root._bokeh_is_loading = css_urls.length + js_urls.length;\n",
              "\n",
              "    function on_load() {\n",
              "      root._bokeh_is_loading--;\n",
              "      if (root._bokeh_is_loading === 0) {\n",
              "        console.debug(\"Bokeh: all BokehJS libraries/stylesheets loaded\");\n",
              "        run_callbacks()\n",
              "      }\n",
              "    }\n",
              "\n",
              "    function on_error(url) {\n",
              "      console.error(\"failed to load \" + url);\n",
              "    }\n",
              "\n",
              "    for (let i = 0; i < css_urls.length; i++) {\n",
              "      const url = css_urls[i];\n",
              "      const element = document.createElement(\"link\");\n",
              "      element.onload = on_load;\n",
              "      element.onerror = on_error.bind(null, url);\n",
              "      element.rel = \"stylesheet\";\n",
              "      element.type = \"text/css\";\n",
              "      element.href = url;\n",
              "      console.debug(\"Bokeh: injecting link tag for BokehJS stylesheet: \", url);\n",
              "      document.body.appendChild(element);\n",
              "    }\n",
              "\n",
              "    const hashes = {\"https://cdn.bokeh.org/bokeh/release/bokeh-2.3.3.min.js\": \"dM3QQsP+wXdHg42wTqW85BjZQdLNNIXqlPw/BgKoExPmTG7ZLML4EGqLMfqHT6ON\", \"https://cdn.bokeh.org/bokeh/release/bokeh-tables-2.3.3.min.js\": \"8x57I4YuIfu8XyZfFo0XVr2WAT8EK4rh/uDe3wF7YuW2FNUSNEpJbsPaB1nJ2fz2\", \"https://cdn.bokeh.org/bokeh/release/bokeh-widgets-2.3.3.min.js\": \"3QTqdz9LyAm2i0sG5XTePsHec3UHWwVsrOL68SYRoAXsafvfAyqtQ+h440+qIBhS\"};\n",
              "\n",
              "    for (let i = 0; i < js_urls.length; i++) {\n",
              "      const url = js_urls[i];\n",
              "      const element = document.createElement('script');\n",
              "      element.onload = on_load;\n",
              "      element.onerror = on_error.bind(null, url);\n",
              "      element.async = false;\n",
              "      element.src = url;\n",
              "      if (url in hashes) {\n",
              "        element.crossOrigin = \"anonymous\";\n",
              "        element.integrity = \"sha384-\" + hashes[url];\n",
              "      }\n",
              "      console.debug(\"Bokeh: injecting script tag for BokehJS library: \", url);\n",
              "      document.head.appendChild(element);\n",
              "    }\n",
              "  };\n",
              "\n",
              "  function inject_raw_css(css) {\n",
              "    const element = document.createElement(\"style\");\n",
              "    element.appendChild(document.createTextNode(css));\n",
              "    document.body.appendChild(element);\n",
              "  }\n",
              "\n",
              "  \n",
              "  var js_urls = [\"https://cdn.bokeh.org/bokeh/release/bokeh-2.3.3.min.js\", \"https://cdn.bokeh.org/bokeh/release/bokeh-widgets-2.3.3.min.js\", \"https://cdn.bokeh.org/bokeh/release/bokeh-tables-2.3.3.min.js\", \"https://unpkg.com/@holoviz/panel@0.12.1/dist/panel.min.js\"];\n",
              "  var css_urls = [];\n",
              "  \n",
              "\n",
              "  var inline_js = [\n",
              "    function(Bokeh) {\n",
              "      Bokeh.set_log_level(\"info\");\n",
              "    },\n",
              "    function(Bokeh) {\n",
              "    \n",
              "    \n",
              "    }\n",
              "  ];\n",
              "\n",
              "  function run_inline_js() {\n",
              "    \n",
              "    if (root.Bokeh !== undefined || force === true) {\n",
              "      \n",
              "    for (var i = 0; i < inline_js.length; i++) {\n",
              "      inline_js[i].call(root, root.Bokeh);\n",
              "    }\n",
              "    } else if (Date.now() < root._bokeh_timeout) {\n",
              "      setTimeout(run_inline_js, 100);\n",
              "    } else if (!root._bokeh_failed_load) {\n",
              "      console.log(\"Bokeh: BokehJS failed to load within specified timeout.\");\n",
              "      root._bokeh_failed_load = true;\n",
              "    } else if (force !== true) {\n",
              "      var cell = $(document.getElementById(null)).parents('.cell').data().cell;\n",
              "      cell.output_area.append_execute_result(NB_LOAD_WARNING)\n",
              "    }\n",
              "\n",
              "  }\n",
              "\n",
              "  if (root._bokeh_is_loading === 0) {\n",
              "    console.debug(\"Bokeh: BokehJS loaded, going straight to plotting\");\n",
              "    run_inline_js();\n",
              "  } else {\n",
              "    load_libs(css_urls, js_urls, function() {\n",
              "      console.debug(\"Bokeh: BokehJS plotting callback run at\", now());\n",
              "      run_inline_js();\n",
              "    });\n",
              "  }\n",
              "}(window));"
            ],
            "application/vnd.bokehjs_load.v0+json": "\n(function(root) {\n  function now() {\n    return new Date();\n  }\n\n  var force = true;\n\n  if (typeof root._bokeh_onload_callbacks === \"undefined\" || force === true) {\n    root._bokeh_onload_callbacks = [];\n    root._bokeh_is_loading = undefined;\n  }\n\n  \n\n  \n  if (typeof (root._bokeh_timeout) === \"undefined\" || force === true) {\n    root._bokeh_timeout = Date.now() + 5000;\n    root._bokeh_failed_load = false;\n  }\n\n  var NB_LOAD_WARNING = {'data': {'text/html':\n     \"<div style='background-color: #fdd'>\\n\"+\n     \"<p>\\n\"+\n     \"BokehJS does not appear to have successfully loaded. If loading BokehJS from CDN, this \\n\"+\n     \"may be due to a slow or bad network connection. Possible fixes:\\n\"+\n     \"</p>\\n\"+\n     \"<ul>\\n\"+\n     \"<li>re-rerun `output_notebook()` to attempt to load from CDN again, or</li>\\n\"+\n     \"<li>use INLINE resources instead, as so:</li>\\n\"+\n     \"</ul>\\n\"+\n     \"<code>\\n\"+\n     \"from bokeh.resources import INLINE\\n\"+\n     \"output_notebook(resources=INLINE)\\n\"+\n     \"</code>\\n\"+\n     \"</div>\"}};\n\n  function display_loaded() {\n    var el = document.getElementById(null);\n    if (el != null) {\n      el.textContent = \"BokehJS is loading...\";\n    }\n    if (root.Bokeh !== undefined) {\n      if (el != null) {\n        el.textContent = \"BokehJS \" + root.Bokeh.version + \" successfully loaded.\";\n      }\n    } else if (Date.now() < root._bokeh_timeout) {\n      setTimeout(display_loaded, 100)\n    }\n  }\n\n\n  function run_callbacks() {\n    try {\n      root._bokeh_onload_callbacks.forEach(function(callback) {\n        if (callback != null)\n          callback();\n      });\n    } finally {\n      delete root._bokeh_onload_callbacks\n    }\n    console.debug(\"Bokeh: all callbacks have finished\");\n  }\n\n  function load_libs(css_urls, js_urls, callback) {\n    if (css_urls == null) css_urls = [];\n    if (js_urls == null) js_urls = [];\n\n    root._bokeh_onload_callbacks.push(callback);\n    if (root._bokeh_is_loading > 0) {\n      console.debug(\"Bokeh: BokehJS is being loaded, scheduling callback at\", now());\n      return null;\n    }\n    if (js_urls == null || js_urls.length === 0) {\n      run_callbacks();\n      return null;\n    }\n    console.debug(\"Bokeh: BokehJS not loaded, scheduling load and callback at\", now());\n    root._bokeh_is_loading = css_urls.length + js_urls.length;\n\n    function on_load() {\n      root._bokeh_is_loading--;\n      if (root._bokeh_is_loading === 0) {\n        console.debug(\"Bokeh: all BokehJS libraries/stylesheets loaded\");\n        run_callbacks()\n      }\n    }\n\n    function on_error(url) {\n      console.error(\"failed to load \" + url);\n    }\n\n    for (let i = 0; i < css_urls.length; i++) {\n      const url = css_urls[i];\n      const element = document.createElement(\"link\");\n      element.onload = on_load;\n      element.onerror = on_error.bind(null, url);\n      element.rel = \"stylesheet\";\n      element.type = \"text/css\";\n      element.href = url;\n      console.debug(\"Bokeh: injecting link tag for BokehJS stylesheet: \", url);\n      document.body.appendChild(element);\n    }\n\n    const hashes = {\"https://cdn.bokeh.org/bokeh/release/bokeh-2.3.3.min.js\": \"dM3QQsP+wXdHg42wTqW85BjZQdLNNIXqlPw/BgKoExPmTG7ZLML4EGqLMfqHT6ON\", \"https://cdn.bokeh.org/bokeh/release/bokeh-tables-2.3.3.min.js\": \"8x57I4YuIfu8XyZfFo0XVr2WAT8EK4rh/uDe3wF7YuW2FNUSNEpJbsPaB1nJ2fz2\", \"https://cdn.bokeh.org/bokeh/release/bokeh-widgets-2.3.3.min.js\": \"3QTqdz9LyAm2i0sG5XTePsHec3UHWwVsrOL68SYRoAXsafvfAyqtQ+h440+qIBhS\"};\n\n    for (let i = 0; i < js_urls.length; i++) {\n      const url = js_urls[i];\n      const element = document.createElement('script');\n      element.onload = on_load;\n      element.onerror = on_error.bind(null, url);\n      element.async = false;\n      element.src = url;\n      if (url in hashes) {\n        element.crossOrigin = \"anonymous\";\n        element.integrity = \"sha384-\" + hashes[url];\n      }\n      console.debug(\"Bokeh: injecting script tag for BokehJS library: \", url);\n      document.head.appendChild(element);\n    }\n  };\n\n  function inject_raw_css(css) {\n    const element = document.createElement(\"style\");\n    element.appendChild(document.createTextNode(css));\n    document.body.appendChild(element);\n  }\n\n  \n  var js_urls = [\"https://cdn.bokeh.org/bokeh/release/bokeh-2.3.3.min.js\", \"https://cdn.bokeh.org/bokeh/release/bokeh-widgets-2.3.3.min.js\", \"https://cdn.bokeh.org/bokeh/release/bokeh-tables-2.3.3.min.js\", \"https://unpkg.com/@holoviz/panel@0.12.1/dist/panel.min.js\"];\n  var css_urls = [];\n  \n\n  var inline_js = [\n    function(Bokeh) {\n      Bokeh.set_log_level(\"info\");\n    },\n    function(Bokeh) {\n    \n    \n    }\n  ];\n\n  function run_inline_js() {\n    \n    if (root.Bokeh !== undefined || force === true) {\n      \n    for (var i = 0; i < inline_js.length; i++) {\n      inline_js[i].call(root, root.Bokeh);\n    }\n    } else if (Date.now() < root._bokeh_timeout) {\n      setTimeout(run_inline_js, 100);\n    } else if (!root._bokeh_failed_load) {\n      console.log(\"Bokeh: BokehJS failed to load within specified timeout.\");\n      root._bokeh_failed_load = true;\n    } else if (force !== true) {\n      var cell = $(document.getElementById(null)).parents('.cell').data().cell;\n      cell.output_area.append_execute_result(NB_LOAD_WARNING)\n    }\n\n  }\n\n  if (root._bokeh_is_loading === 0) {\n    console.debug(\"Bokeh: BokehJS loaded, going straight to plotting\");\n    run_inline_js();\n  } else {\n    load_libs(css_urls, js_urls, function() {\n      console.debug(\"Bokeh: BokehJS plotting callback run at\", now());\n      run_inline_js();\n    });\n  }\n}(window));"
          },
          "metadata": {}
        },
        {
          "output_type": "display_data",
          "data": {
            "text/html": [
              "\n",
              "\n",
              "\n",
              "\n",
              "\n",
              "\n",
              "  <div class=\"bk-root\" id=\"df394cfc-c712-484d-99a7-dfe8e19123bd\" data-root-id=\"1108\"></div>\n"
            ]
          },
          "metadata": {}
        },
        {
          "output_type": "display_data",
          "data": {
            "application/javascript": [
              "(function(root) {\n",
              "  function embed_document(root) {\n",
              "    \n",
              "  var docs_json = {\"a63dc7d2-01a5-4796-8e6c-c3157b492c54\":{\"defs\":[{\"extends\":null,\"module\":null,\"name\":\"ReactiveHTML1\",\"overrides\":[],\"properties\":[]},{\"extends\":null,\"module\":null,\"name\":\"FlexBox1\",\"overrides\":[],\"properties\":[{\"default\":\"flex-start\",\"kind\":null,\"name\":\"align_content\"},{\"default\":\"flex-start\",\"kind\":null,\"name\":\"align_items\"},{\"default\":\"row\",\"kind\":null,\"name\":\"flex_direction\"},{\"default\":\"wrap\",\"kind\":null,\"name\":\"flex_wrap\"},{\"default\":\"flex-start\",\"kind\":null,\"name\":\"justify_content\"}]},{\"extends\":null,\"module\":null,\"name\":\"TemplateActions1\",\"overrides\":[],\"properties\":[{\"default\":0,\"kind\":null,\"name\":\"open_modal\"},{\"default\":0,\"kind\":null,\"name\":\"close_modal\"}]},{\"extends\":null,\"module\":null,\"name\":\"MaterialTemplateActions1\",\"overrides\":[],\"properties\":[{\"default\":0,\"kind\":null,\"name\":\"open_modal\"},{\"default\":0,\"kind\":null,\"name\":\"close_modal\"}]}],\"roots\":{\"references\":[{\"attributes\":{\"background_fill_color\":\"white\",\"below\":[{\"id\":\"1117\"}],\"center\":[{\"id\":\"1120\"},{\"id\":\"1124\"}],\"height\":800,\"left\":[{\"id\":\"1121\"}],\"renderers\":[{\"id\":\"1144\"}],\"title\":{\"id\":\"1158\"},\"toolbar\":{\"id\":\"1133\"},\"width\":800,\"x_range\":{\"id\":\"1109\"},\"x_scale\":{\"id\":\"1113\"},\"y_range\":{\"id\":\"1111\"},\"y_scale\":{\"id\":\"1115\"}},\"id\":\"1108\",\"subtype\":\"Figure\",\"type\":\"Plot\"},{\"attributes\":{\"source\":{\"id\":\"1107\"}},\"id\":\"1145\",\"type\":\"CDSView\"},{\"attributes\":{},\"id\":\"1163\",\"type\":\"AllLabels\"},{\"attributes\":{},\"id\":\"1167\",\"type\":\"UnionRenderers\"},{\"attributes\":{\"axis\":{\"id\":\"1117\"},\"ticker\":null,\"visible\":false},\"id\":\"1120\",\"type\":\"Grid\"},{\"attributes\":{\"overlay\":{\"id\":\"1131\"}},\"id\":\"1127\",\"type\":\"BoxZoomTool\"},{\"attributes\":{\"data\":{\"alpha\":[1,1,1,1,1,1,1,1,1,1,1,1,1,1,1,1,1,1,1,1,1,1,1,1,1,1,1,1,1,1,1,1,1,1,1,1,1,1,1,1,1,1,1,1,1,1,1,1,1,1,1,1,1,1,1,1,1,1,1,1,1,1,1,1,1,1,1,1,1,1,1,1,1,1,1,1,1,1,1,1,1,1,1,1,1,1,1,1,1,1,1,1,1,1,1,1,1,1,1,1,1,1,1,1,1,1,1,1,1,1,1,1,1,1,1,1,1,1,1,1,1,1,1,1,1,1,1,1,1,1,1,1,1,1,1,1,1,1,1,1,1,1,1,1,1,1,1,1,1,1,1,1,1,1,1,1,1,1,1,1,1,1,1,1,1,1,1,1,1,1,1,1,1,1,1,1,1,1,1,1,1,1,1,1,1,1,1,1,1,1,1,1,1,1,1,1,1,1,1,1,1,1,1,1,1,1,1,1,1,1,1,1,1,1,1,1,1,1,1,1,1,1,1,1,1,1,1,1,1,1,1,1,1,1,1,1,1,1,1,1,1,1,1,1,1,1,1,1,1,1,1,1,1,1,1,1,1,1,1,1,1,1,1,1,1,1,1,1,1,1,1,1,1,1,1,1,1,1,1,1,1,1,1,1,1,1,1,1,1,1,1,1,1,1,1,1,1,1,1,1,1,1,1,1,1,1,1,1,1,1,1,1,1,1,1,1,1,1,1,1,1,1,1,1,1,1,1,1,1,1,1,1,1,1,1,1,1,1,1,1,1,1,1,1,1,1,1,1,1,1,1,1,1,1,1,1,1,1,1,1,1,1,1,1,1,1,1,1,1,1,1,1,1,1,1,1,1,1,1,1,1,1,1,1,1,1,1,1,1,1,1,1,1,1,1,1,1,1,1,1,1,1,1,1,1,1,1,1,1,1,1,1,1,1,1,1,1,1,1,1,1,1,1,1,1,1,1,1,1,1,1,1,1,1,1,1,1,1,1,1,1,1,1,1,1,1,1,1,1,1,1,1,1,1,1,1,1,1,1,1,1,1,1,1,1,1,1,1,1,1,1,1,1,1,1,1,1,1,1,1,1,1,1,1,1,1,1,1,1,1,1,1,1,1,1,1,1,1,1,1,1,1,1,1,1,1,1,1,1,1,1,1,1,1,1,1,1,1,1,1,1,1,1,1,1,1,1,1,1,1,1,1,1,1,1,1,1,1,1,1,1,1,1,1,1,1,1,1,1,1,1,1,1,1,1,1,1,1,1,1,1,1,1,1,1,1,1,1,1,1,1,1,1,1,1,1,1,1,1,1,1,1,1,1,1,1,1,1,1,1,1,1,1,1,1,1,1,1,1,1,1,1,1,1,1,1,1,1,1,1,1,1,1,1,1,1,1,1,1,1,1,1,1,1,1,1,1,1,1,1,1,1,1,1,1,1,1,1,1,1,1,1,1,1,1,1,1,1,1,1,1,1,1,1,1,1,1,1,1,1,1,1,1,1,1,1,1,1,1,1,1,1,1,1,1,1,1,1,1,1,1,1,1,1,1,1,1,1,1,1,1,1,1,1,1,1,1,1,1,1,1,1,1,1,1,1,1,1,1,1,1,1,1,1,1,1,1,1,1,1,1,1,1,1,1,1,1,1,1,1,1,1,1,1,1,1,1,1,1,1,1,1,1,1,1,1,1,1,1,1,1,1,1,1,1,1,1,1,1,1,1,1,1,1,1,1,1,1,1,1,1,1,1,1,1,1,1,1,1,1,1,1,1,1,1,1,1,1,1,1,1,1,1,1,1,1,1,1,1,1,1,1,1,1,1,1,1,1,1,1,1,1,1,1,1,1,1,1,1,1,1,1,1,1,1,1,1,1,1,1,1,1,1,1,1,1,1,1,1,1,1,1,1,1,1,1,1,1,1,1,1,1,1,1,1,1,1,1,1,1,1,1,1,1,1,1,1,1,1,1,1,1,1,1,1,1,1,1,1,1,1,1,1,1,1,1,1,1,1,1,1,1,1,1,1,1,1,1,1,1,1,1,1,1,1,1,1,1,1,1,1,1,1,1,1,1,1,1,1,1,1,1,1,1,1,1,1,1,1,1,1,1,1,1,1,1,1,1,1,1,1,1,1,1,1,1,1,1,1,1,1,1,1,1,1,1,1,1,1,1,1,1,1,1,1,1,1,1,1,1,1,1,1,1,1,1,1,1,1,1,1,1,1,1,1,1,1,1,1,1,1,1,1,1,1,1,1,1,1,1,1,1,1,1,1,1,1,1,1,1,1,1,1,1,1,1,1,1,1,1,1,1,1,1,1,1,1,1,1,1,1,1,1,1,1,1,1,1,1,1,1,1,1,1,1,1,1,1,1,1,1,1,1,1,1,1,1,1,1,1,1,1,1,1,1,1,1,1,1,1,1,1,1,1,1,1,1,1,1,1,1,1,1,1,1,1,1,1,1,1,1,1,1,1,1,1,1,1,1,1,1,1,1,1,1,1,1,1,1,1,1,1,1,1,1,1,1,1,1,1,1,1,1,1,1,1,1,1,1,1,1,1,1,1,1,1,1,1,1,1,1,1,1,1,1,1,1,1,1,1,1,1,1,1,1,1,1,1,1,1,1,1,1,1,1,1,1,1,1,1,1,1,1,1,1,1,1,1,1,1,1,1,1,1,1,1,1,1,1,1,1,1,1,1,1,1,1,1,1,1,1,1,1,1,1,1,1,1,1,1,1,1,1,1,1,1,1,1,1,1,1,1,1,1,1,1,1,1,1,1,1,1,1,1,1,1,1,1,1,1,1,1,1,1,1,1,1,1,1,1,1,1,1,1,1,1,1,1,1,1,1,1,1,1,1,1,1,1,1,1,1,1,1,1,1,1,1,1,1,1,1,1,1,1,1,1,1,1,1,1,1,1,1,1,1,1,1,1,1,1,1,1,1,1,1,1,1,1,1,1,1,1,1,1,1,1,1,1,1,1,1,1,1,1,1,1,1,1,1,1,1,1,1,1,1,1,1,1,1,1,1,1,1,1,1,1,1,1,1,1,1,1,1,1,1,1,1,1,1,1,1,1,1,1,1,1,1,1,1,1,1,1,1,1,1,1,1,1,1,1,1,1,1,1,1,1,1,1,1,1,1,1,1,1,1,1,1,1,1,1,1,1,1,1,1,1,1,1,1,1,1,1,1,1,1,1,1,1,1,1,1,1,1,1,1,1,1,1,1,1,1,1,1,1,1,1,1,1,1,1,1,1,1,1,1,1,1,1,1,1,1,1,1,1,1,1,1,1,1,1,1,1,1,1,1,1,1,1,1,1,1,1,1,1,1,1,1,1,1,1,1,1,1,1,1,1,1,1,1,1,1,1,1,1,1,1,1,1,1,1,1,1,1,1,1,1,1,1,1,1,1,1,1,1,1,1,1,1,1,1,1,1,1,1,1,1,1,1,1,1,1,1,1,1,1,1,1,1,1,1,1,1,1,1,1,1,1,1,1,1,1,1,1,1,1,1,1,1,1,1,1,1,1,1,1,1,1,1,1,1,1,1,1,1,1,1,1,1,1,1,1,1,1,1,1,1,1,1,1,1,1,1,1,1,1,1,1,1,1,1,1,1,1,1,1,1,1,1,1,1,1,1,1,1,1,1,1,1,1,1,1,1,1,1,1,1,1,1,1,1,1,1,1,1,1,1,1,1,1,1,1,1,1,1,1,1,1,1,1,1,1,1,1,1,1,1,1,1,1,1,1,1,1,1,1,1,1,1,1,1,1,1,1,1,1,1,1,1,1,1,1,1,1,1,1,1,1,1,1,1,1,1,1,1,1,1,1,1,1,1,1,1,1,1,1,1,1,1,1,1,1,1,1,1,1,1,1,1,1,1,1,1,1,1,1,1,1,1,1,1,1,1,1,1,1,1,1,1,1,1,1,1,1,1,1,1,1,1,1,1,1,1,1,1,1,1,1,1,1,1,1,1,1,1,1,1,1,1,1,1,1,1,1,1,1,1,1,1,1,1,1,1,1,1,1,1,1,1,1,1,1,1,1,1,1,1,1],\"color\":[\"#b81e48\",\"#9e0142\",\"#9e0142\",\"#66c2a5\",\"#fdad60\",\"#9e0142\",\"#ffffbe\",\"#9e0142\",\"#9e0142\",\"#9e0142\",\"#b81e48\",\"#c8e99e\",\"#f98e52\",\"#66c2a5\",\"#fdad60\",\"#496aaf\",\"#ffffbe\",\"#e45549\",\"#9e0142\",\"#9e0142\",\"#b81e48\",\"#c8e99e\",\"#f98e52\",\"#66c2a5\",\"#fdad60\",\"#9e0142\",\"#ffffbe\",\"#9e0142\",\"#9e0142\",\"#9e0142\",\"#b81e48\",\"#9e0142\",\"#3387bc\",\"#9e0142\",\"#ffffbe\",\"#9e0142\",\"#b81e48\",\"#9e0142\",\"#9e0142\",\"#4ba4b1\",\"#e6f598\",\"#fdad60\",\"#c8e99e\",\"#e45549\",\"#e45549\",\"#9e0142\",\"#9e0142\",\"#c8e99e\",\"#b81e48\",\"#b81e48\",\"#9e0142\",\"#9e0142\",\"#e45549\",\"#9e0142\",\"#9e0142\",\"#b81e48\",\"#c8e99e\",\"#9e0142\",\"#ffffbe\",\"#66c2a5\",\"#66c2a5\",\"#e45549\",\"#66c2a5\",\"#66c2a5\",\"#fdad60\",\"#ffffbe\",\"#ffffbe\",\"#ffffbe\",\"#fdad60\",\"#9e0142\",\"#c8e99e\",\"#9e0142\",\"#b81e48\",\"#9e0142\",\"#9e0142\",\"#9e0142\",\"#9e0142\",\"#9e0142\",\"#b81e48\",\"#b81e48\",\"#c8e99e\",\"#e45549\",\"#ffffbe\",\"#66c2a5\",\"#f98e52\",\"#9e0142\",\"#9e0142\",\"#9e0142\",\"#ffffbe\",\"#66c2a5\",\"#c8e99e\",\"#66c2a5\",\"#9e0142\",\"#9e0142\",\"#e45549\",\"#ffffbe\",\"#9e0142\",\"#fdad60\",\"#66c2a5\",\"#aadca4\",\"#fdad60\",\"#b81e48\",\"#496aaf\",\"#9e0142\",\"#9e0142\",\"#9e0142\",\"#9e0142\",\"#c8e99e\",\"#e45549\",\"#9e0142\",\"#fdad60\",\"#fdad60\",\"#e45549\",\"#9e0142\",\"#9e0142\",\"#9e0142\",\"#9e0142\",\"#496aaf\",\"#e45549\",\"#9e0142\",\"#9e0142\",\"#9e0142\",\"#9e0142\",\"#9e0142\",\"#fdad60\",\"#9e0142\",\"#b81e48\",\"#9e0142\",\"#4ba4b1\",\"#9e0142\",\"#b81e48\",\"#9e0142\",\"#f98e52\",\"#9e0142\",\"#9e0142\",\"#496aaf\",\"#ffffbe\",\"#e45549\",\"#9e0142\",\"#4ba4b1\",\"#b81e48\",\"#c8e99e\",\"#f98e52\",\"#66c2a5\",\"#fdad60\",\"#9e0142\",\"#ffffbe\",\"#e45549\",\"#9e0142\",\"#4ba4b1\",\"#b81e48\",\"#c8e99e\",\"#f98e52\",\"#66c2a5\",\"#fdad60\",\"#9e0142\",\"#ffffbe\",\"#e45549\",\"#9e0142\",\"#4ba4b1\",\"#b81e48\",\"#9e0142\",\"#496aaf\",\"#496aaf\",\"#ffffbe\",\"#496aaf\",\"#b81e48\",\"#4ba4b1\",\"#9e0142\",\"#4ba4b1\",\"#9e0142\",\"#fdad60\",\"#9e0142\",\"#e45549\",\"#e45549\",\"#66c2a5\",\"#496aaf\",\"#9e0142\",\"#b81e48\",\"#b81e48\",\"#f98e52\",\"#f98e52\",\"#e45549\",\"#e6f598\",\"#f98e52\",\"#b81e48\",\"#c8e99e\",\"#f98e52\",\"#ffffbe\",\"#66c2a5\",\"#9e0142\",\"#9e0142\",\"#9e0142\",\"#66c2a5\",\"#fdad60\",\"#ffffbe\",\"#ffffbe\",\"#ffffbe\",\"#9e0142\",\"#9e0142\",\"#c8e99e\",\"#496aaf\",\"#b81e48\",\"#9e0142\",\"#9e0142\",\"#f98e52\",\"#9e0142\",\"#f98e52\",\"#b81e48\",\"#b81e48\",\"#c8e99e\",\"#9e0142\",\"#ffffbe\",\"#66c2a5\",\"#f98e52\",\"#9e0142\",\"#e45549\",\"#9e0142\",\"#9e0142\",\"#66c2a5\",\"#9e0142\",\"#9e0142\",\"#e45549\",\"#ffffbe\",\"#9e0142\",\"#fdad60\",\"#9e0142\",\"#c8e99e\",\"#fdad60\",\"#b81e48\",\"#496aaf\",\"#9e0142\",\"#ffffbe\",\"#4ba4b1\",\"#ffffbe\",\"#9e0142\",\"#e45549\",\"#496aaf\",\"#fdad60\",\"#fdad60\",\"#e45549\",\"#f98e52\",\"#aadca4\",\"#f98e52\",\"#f98e52\",\"#9e0142\",\"#496aaf\",\"#9e0142\",\"#9e0142\",\"#9e0142\",\"#fdad60\",\"#9e0142\",\"#b81e48\",\"#9e0142\",\"#9e0142\",\"#9e0142\",\"#b81e48\",\"#aadca4\",\"#f98e52\",\"#66c2a5\",\"#fdad60\",\"#9e0142\",\"#ffffbe\",\"#e45549\",\"#9e0142\",\"#9e0142\",\"#b81e48\",\"#9e0142\",\"#f98e52\",\"#66c2a5\",\"#fdad60\",\"#9e0142\",\"#ffffbe\",\"#e45549\",\"#9e0142\",\"#9e0142\",\"#b81e48\",\"#9e0142\",\"#f98e52\",\"#66c2a5\",\"#fdad60\",\"#3387bc\",\"#ffffbe\",\"#9e0142\",\"#9e0142\",\"#4ba4b1\",\"#b81e48\",\"#4ba4b1\",\"#3387bc\",\"#9e0142\",\"#ffffbe\",\"#9e0142\",\"#b81e48\",\"#9e0142\",\"#9e0142\",\"#9e0142\",\"#9e0142\",\"#fdad60\",\"#aadca4\",\"#e45549\",\"#e45549\",\"#66c2a5\",\"#9e0142\",\"#9e0142\",\"#b81e48\",\"#b81e48\",\"#f98e52\",\"#f98e52\",\"#e45549\",\"#f3faac\",\"#f98e52\",\"#b81e48\",\"#9e0142\",\"#f98e52\",\"#ffffbe\",\"#66c2a5\",\"#66c2a5\",\"#e45549\",\"#66c2a5\",\"#66c2a5\",\"#fdad60\",\"#ffffbe\",\"#ffffbe\",\"#ffffbe\",\"#fdad60\",\"#fee08b\",\"#aadca4\",\"#9e0142\",\"#b81e48\",\"#fee08b\",\"#3387bc\",\"#f98e52\",\"#f3faac\",\"#f98e52\",\"#b81e48\",\"#b81e48\",\"#9e0142\",\"#e45549\",\"#ffffbe\",\"#66c2a5\",\"#f98e52\",\"#9e0142\",\"#e45549\",\"#fdad60\",\"#ffffbe\",\"#66c2a5\",\"#aadca4\",\"#66c2a5\",\"#fee08b\",\"#aadca4\",\"#e45549\",\"#ffffbe\",\"#9e0142\",\"#fdad60\",\"#9e0142\",\"#aadca4\",\"#fdad60\",\"#b81e48\",\"#9e0142\",\"#66c2a5\",\"#ffffbe\",\"#fee08b\",\"#ffffbe\",\"#9e0142\",\"#e45549\",\"#3387bc\",\"#fdad60\",\"#fdad60\",\"#e45549\",\"#f98e52\",\"#f3faac\",\"#f98e52\",\"#f98e52\",\"#9e0142\",\"#e45549\",\"#9e0142\",\"#496aaf\",\"#fdad60\",\"#9e0142\",\"#9e0142\",\"#fdad60\",\"#fdc776\",\"#b81e48\",\"#9e0142\",\"#fee08b\",\"#66c2a5\",\"#b81e48\",\"#c8e99e\",\"#f98e52\",\"#9e0142\",\"#fdad60\",\"#9e0142\",\"#ffffbe\",\"#d43d4f\",\"#9e0142\",\"#4ba4b1\",\"#b81e48\",\"#c8e99e\",\"#f98e52\",\"#66c2a5\",\"#fdad60\",\"#9e0142\",\"#9e0142\",\"#d43d4f\",\"#9e0142\",\"#4ba4b1\",\"#b81e48\",\"#c8e99e\",\"#f98e52\",\"#9e0142\",\"#fdad60\",\"#5e4fa2\",\"#ffffbe\",\"#d43d4f\",\"#9e0142\",\"#4ba4b1\",\"#b81e48\",\"#4ba4b1\",\"#9e0142\",\"#9e0142\",\"#9e0142\",\"#9e0142\",\"#b81e48\",\"#9e0142\",\"#9e0142\",\"#4ba4b1\",\"#9e0142\",\"#fdad60\",\"#c8e99e\",\"#d43d4f\",\"#9e0142\",\"#66c2a5\",\"#9e0142\",\"#c8e99e\",\"#b81e48\",\"#b81e48\",\"#f98e52\",\"#f98e52\",\"#d43d4f\",\"#9e0142\",\"#f98e52\",\"#b81e48\",\"#f46d43\",\"#f98e52\",\"#9e0142\",\"#9e0142\",\"#9e0142\",\"#d43d4f\",\"#66c2a5\",\"#66c2a5\",\"#fdad60\",\"#ffffbe\",\"#ffffbe\",\"#ffffbe\",\"#fdad60\",\"#4ba4b1\",\"#c8e99e\",\"#9e0142\",\"#b81e48\",\"#9e0142\",\"#5e4fa2\",\"#f98e52\",\"#9e0142\",\"#f98e52\",\"#b81e48\",\"#b81e48\",\"#c8e99e\",\"#d43d4f\",\"#ffffbe\",\"#66c2a5\",\"#f98e52\",\"#9e0142\",\"#d43d4f\",\"#fdad60\",\"#ffffbe\",\"#66c2a5\",\"#c8e99e\",\"#9e0142\",\"#4ba4b1\",\"#c8e99e\",\"#9e0142\",\"#ffffbe\",\"#9e0142\",\"#fdad60\",\"#66c2a5\",\"#c8e99e\",\"#fdad60\",\"#b81e48\",\"#9e0142\",\"#9e0142\",\"#ffffbe\",\"#9e0142\",\"#9e0142\",\"#c8e99e\",\"#d43d4f\",\"#9e0142\",\"#fdad60\",\"#fdad60\",\"#d43d4f\",\"#f98e52\",\"#9e0142\",\"#f98e52\",\"#9e0142\",\"#9e0142\",\"#d43d4f\",\"#4ba4b1\",\"#9e0142\",\"#fdad60\",\"#9e0142\",\"#9e0142\",\"#fdad60\",\"#9e0142\",\"#b81e48\",\"#9e0142\",\"#4ba4b1\",\"#9e0142\",\"#b81e48\",\"#f46d43\",\"#f98e52\",\"#9e0142\",\"#fdad60\",\"#9e0142\",\"#ffffbe\",\"#9e0142\",\"#9e0142\",\"#9e0142\",\"#b81e48\",\"#f46d43\",\"#9e0142\",\"#9e0142\",\"#fdad60\",\"#9e0142\",\"#ffffbe\",\"#e45549\",\"#9e0142\",\"#9e0142\",\"#b81e48\",\"#f46d43\",\"#9e0142\",\"#9e0142\",\"#fdad60\",\"#3387bc\",\"#ffffbe\",\"#e45549\",\"#e6f598\",\"#9e0142\",\"#b81e48\",\"#9e0142\",\"#9e0142\",\"#3387bc\",\"#ffffbe\",\"#3387bc\",\"#b81e48\",\"#9e0142\",\"#9e0142\",\"#9e0142\",\"#e6f598\",\"#fdad60\",\"#f46d43\",\"#e45549\",\"#e45549\",\"#fff0a6\",\"#3387bc\",\"#f46d43\",\"#b81e48\",\"#b81e48\",\"#f98e52\",\"#9e0142\",\"#e45549\",\"#9e0142\",\"#f98e52\",\"#b81e48\",\"#f46d43\",\"#9e0142\",\"#9e0142\",\"#fff0a6\",\"#9e0142\",\"#e45549\",\"#9e0142\",\"#fff0a6\",\"#fdad60\",\"#ffffbe\",\"#ffffbe\",\"#ffffbe\",\"#fdad60\",\"#9e0142\",\"#f46d43\",\"#3387bc\",\"#b81e48\",\"#9e0142\",\"#9e0142\",\"#f98e52\",\"#9e0142\",\"#f98e52\",\"#b81e48\",\"#b81e48\",\"#f46d43\",\"#e45549\",\"#ffffbe\",\"#9e0142\",\"#9e0142\",\"#f46d43\",\"#e45549\",\"#fdad60\",\"#9e0142\",\"#9e0142\",\"#9e0142\",\"#fff0a6\",\"#9e0142\",\"#f46d43\",\"#e45549\",\"#ffffbe\",\"#e6f598\",\"#fdad60\",\"#fff0a6\",\"#9e0142\",\"#fdad60\",\"#b81e48\",\"#3387bc\",\"#fff0a6\",\"#ffffbe\",\"#9e0142\",\"#ffffbe\",\"#9e0142\",\"#e45549\",\"#3387bc\",\"#9e0142\",\"#fdad60\",\"#e45549\",\"#f98e52\",\"#9e0142\",\"#f98e52\",\"#f98e52\",\"#9e0142\",\"#e45549\",\"#4ba4b1\",\"#3387bc\",\"#fdad60\",\"#9e0142\",\"#9e0142\",\"#fdad60\",\"#9e0142\",\"#b81e48\",\"#9e0142\",\"#4ba4b1\",\"#9e0142\",\"#b81e48\",\"#aadca4\",\"#f98e52\",\"#66c2a5\",\"#fdad60\",\"#9e0142\",\"#ffffbe\",\"#e45549\",\"#f3faac\",\"#fdc776\",\"#b81e48\",\"#aadca4\",\"#f98e52\",\"#9e0142\",\"#fdad60\",\"#9e0142\",\"#ffffbe\",\"#e45549\",\"#9e0142\",\"#fdc776\",\"#b81e48\",\"#aadca4\",\"#f98e52\",\"#66c2a5\",\"#9e0142\",\"#9e0142\",\"#ffffbe\",\"#9e0142\",\"#9e0142\",\"#fdc776\",\"#b81e48\",\"#fdc776\",\"#9e0142\",\"#9e0142\",\"#ffffbe\",\"#9e0142\",\"#b81e48\",\"#9e0142\",\"#9e0142\",\"#fdc776\",\"#f3faac\",\"#fdad60\",\"#9e0142\",\"#9e0142\",\"#9e0142\",\"#9e0142\",\"#496aaf\",\"#9e0142\",\"#b81e48\",\"#b81e48\",\"#f98e52\",\"#f98e52\",\"#e45549\",\"#9e0142\",\"#9e0142\",\"#b81e48\",\"#aadca4\",\"#9e0142\",\"#ffffbe\",\"#66c2a5\",\"#66c2a5\",\"#e45549\",\"#66c2a5\",\"#66c2a5\",\"#9e0142\",\"#ffffbe\",\"#ffffbe\",\"#ffffbe\",\"#fdad60\",\"#fdc776\",\"#aadca4\",\"#9e0142\",\"#b81e48\",\"#fdc776\",\"#9e0142\",\"#f98e52\",\"#9e0142\",\"#f98e52\",\"#b81e48\",\"#b81e48\",\"#9e0142\",\"#e45549\",\"#ffffbe\",\"#66c2a5\",\"#f98e52\",\"#9e0142\",\"#e45549\",\"#fdad60\",\"#9e0142\",\"#9e0142\",\"#9e0142\",\"#9e0142\",\"#fdc776\",\"#aadca4\",\"#e45549\",\"#ffffbe\",\"#9e0142\",\"#fdad60\",\"#9e0142\",\"#9e0142\",\"#9e0142\",\"#b81e48\",\"#9e0142\",\"#66c2a5\",\"#ffffbe\",\"#fdc776\",\"#ffffbe\",\"#aadca4\",\"#e45549\",\"#9e0142\",\"#9e0142\",\"#9e0142\",\"#e45549\",\"#f98e52\",\"#9e0142\",\"#f98e52\",\"#f98e52\",\"#496aaf\",\"#e45549\",\"#fdc776\",\"#9e0142\",\"#9e0142\",\"#f3faac\",\"#9e0142\",\"#9e0142\",\"#fdc776\",\"#b81e48\",\"#9e0142\",\"#9e0142\",\"#9e0142\",\"#b81e48\",\"#aadca4\",\"#f98e52\",\"#9e0142\",\"#9e0142\",\"#496aaf\",\"#9e0142\",\"#e45549\",\"#9e0142\",\"#4ba4b1\",\"#b81e48\",\"#aadca4\",\"#f98e52\",\"#66c2a5\",\"#fdad60\",\"#496aaf\",\"#9e0142\",\"#e45549\",\"#9e0142\",\"#9e0142\",\"#b81e48\",\"#aadca4\",\"#f98e52\",\"#66c2a5\",\"#fdad60\",\"#496aaf\",\"#ffffbe\",\"#e45549\",\"#9e0142\",\"#9e0142\",\"#b81e48\",\"#9e0142\",\"#9e0142\",\"#9e0142\",\"#ffffbe\",\"#9e0142\",\"#b81e48\",\"#9e0142\",\"#9e0142\",\"#4ba4b1\",\"#9e0142\",\"#fdad60\",\"#aadca4\",\"#e45549\",\"#e45549\",\"#66c2a5\",\"#9e0142\",\"#aadca4\",\"#b81e48\",\"#b81e48\",\"#f98e52\",\"#f98e52\",\"#e45549\",\"#9e0142\",\"#f98e52\",\"#b81e48\",\"#f46d43\",\"#f98e52\",\"#ffffbe\",\"#66c2a5\",\"#9e0142\",\"#e45549\",\"#9e0142\",\"#9e0142\",\"#fdad60\",\"#ffffbe\",\"#9e0142\",\"#b81e48\",\"#fdad60\",\"#9e0142\",\"#aadca4\",\"#9e0142\",\"#b81e48\",\"#4ba4b1\",\"#9e0142\",\"#f98e52\",\"#9e0142\",\"#f98e52\",\"#b81e48\",\"#b81e48\",\"#9e0142\",\"#e45549\",\"#ffffbe\",\"#66c2a5\",\"#9e0142\",\"#aadca4\",\"#e45549\",\"#fdad60\",\"#ffffbe\",\"#66c2a5\",\"#aadca4\",\"#66c2a5\",\"#4ba4b1\",\"#aadca4\",\"#e45549\",\"#ffffbe\",\"#9e0142\",\"#fdad60\",\"#66c2a5\",\"#aadca4\",\"#9e0142\",\"#b81e48\",\"#9e0142\",\"#9e0142\",\"#ffffbe\",\"#4ba4b1\",\"#ffffbe\",\"#9e0142\",\"#e45549\",\"#496aaf\",\"#fdad60\",\"#fdad60\",\"#e45549\",\"#f98e52\",\"#9e0142\",\"#9e0142\",\"#f98e52\",\"#9e0142\",\"#e45549\",\"#9e0142\",\"#496aaf\",\"#fdad60\",\"#9e0142\",\"#9e0142\",\"#fdad60\",\"#9e0142\",\"#b81e48\",\"#9e0142\",\"#4ba4b1\",\"#9e0142\",\"#f46d43\",\"#f98e52\",\"#66c2a5\",\"#fdad60\",\"#3387bc\",\"#ffffbe\",\"#e45549\",\"#9e0142\",\"#9e0142\",\"#b81e48\",\"#f46d43\",\"#f98e52\",\"#9e0142\",\"#fdad60\",\"#9e0142\",\"#ffffbe\",\"#e45549\",\"#f3faac\",\"#4ba4b1\",\"#b81e48\",\"#f46d43\",\"#f98e52\",\"#66c2a5\",\"#fdad60\",\"#9e0142\",\"#ffffbe\",\"#e45549\",\"#9e0142\",\"#4ba4b1\",\"#b81e48\",\"#4ba4b1\",\"#3387bc\",\"#3387bc\",\"#ffffbe\",\"#3387bc\",\"#b81e48\",\"#9e0142\",\"#f3faac\",\"#4ba4b1\",\"#f3faac\",\"#fdad60\",\"#f46d43\",\"#e45549\",\"#e45549\",\"#9e0142\",\"#9e0142\",\"#f46d43\",\"#f98e52\",\"#e45549\",\"#f3faac\",\"#f98e52\",\"#b81e48\",\"#f46d43\",\"#f98e52\",\"#ffffbe\",\"#66c2a5\",\"#9e0142\",\"#e45549\",\"#9e0142\",\"#9e0142\",\"#9e0142\",\"#ffffbe\",\"#ffffbe\",\"#ffffbe\",\"#fdad60\",\"#4ba4b1\",\"#f46d43\",\"#3387bc\",\"#b81e48\",\"#4ba4b1\",\"#3387bc\",\"#f98e52\",\"#f3faac\",\"#f98e52\",\"#b81e48\",\"#b81e48\",\"#f46d43\",\"#e45549\",\"#ffffbe\",\"#9e0142\",\"#f98e52\",\"#f46d43\",\"#9e0142\",\"#ffffbe\",\"#9e0142\",\"#f46d43\",\"#9e0142\",\"#4ba4b1\",\"#f46d43\",\"#e45549\",\"#ffffbe\",\"#9e0142\",\"#9e0142\",\"#66c2a5\",\"#f46d43\",\"#fdad60\",\"#b81e48\",\"#3387bc\",\"#9e0142\",\"#ffffbe\",\"#9e0142\",\"#ffffbe\",\"#f46d43\",\"#e45549\",\"#3387bc\",\"#fdad60\",\"#fdad60\",\"#e45549\",\"#f98e52\",\"#9e0142\",\"#f98e52\",\"#f98e52\",\"#3387bc\",\"#e45549\",\"#9e0142\",\"#9e0142\",\"#9e0142\",\"#fdad60\",\"#9e0142\",\"#b81e48\",\"#f3faac\",\"#4ba4b1\",\"#f3faac\",\"#b81e48\",\"#aadca4\",\"#f98e52\",\"#66c2a5\",\"#fdad60\",\"#496aaf\",\"#ffffbe\",\"#e45549\",\"#9e0142\",\"#9e0142\",\"#b81e48\",\"#aadca4\",\"#f98e52\",\"#66c2a5\",\"#fdad60\",\"#9e0142\",\"#ffffbe\",\"#e45549\",\"#9e0142\",\"#9e0142\",\"#b81e48\",\"#aadca4\",\"#f98e52\",\"#66c2a5\",\"#fdad60\",\"#9e0142\",\"#ffffbe\",\"#e45549\",\"#9e0142\",\"#9e0142\",\"#b81e48\",\"#9e0142\",\"#9e0142\",\"#9e0142\",\"#ffffbe\",\"#9e0142\",\"#b81e48\",\"#9e0142\",\"#9e0142\",\"#9e0142\",\"#9e0142\",\"#fdad60\",\"#aadca4\",\"#9e0142\",\"#e45549\",\"#66c2a5\",\"#3387bc\",\"#aadca4\",\"#b81e48\",\"#9e0142\",\"#9e0142\",\"#9e0142\",\"#f98e52\",\"#b81e48\",\"#9e0142\",\"#f98e52\",\"#9e0142\",\"#66c2a5\",\"#66c2a5\",\"#9e0142\",\"#9e0142\",\"#66c2a5\",\"#fdad60\",\"#ffffbe\",\"#ffffbe\",\"#ffffbe\",\"#9e0142\",\"#9e0142\",\"#aadca4\",\"#9e0142\",\"#b81e48\",\"#9e0142\",\"#9e0142\",\"#f98e52\",\"#9e0142\",\"#f98e52\",\"#b81e48\",\"#b81e48\",\"#aadca4\",\"#e45549\",\"#ffffbe\",\"#66c2a5\",\"#f98e52\",\"#aadca4\",\"#9e0142\",\"#fdad60\",\"#ffffbe\",\"#66c2a5\",\"#9e0142\",\"#9e0142\",\"#9e0142\",\"#aadca4\",\"#e45549\",\"#ffffbe\",\"#9e0142\",\"#fdad60\",\"#66c2a5\",\"#aadca4\",\"#fdad60\",\"#b81e48\",\"#9e0142\",\"#9e0142\",\"#ffffbe\",\"#9e0142\",\"#ffffbe\",\"#aadca4\",\"#e45549\",\"#9e0142\",\"#fdad60\",\"#fdad60\",\"#e45549\",\"#f98e52\",\"#9e0142\",\"#9e0142\",\"#f98e52\",\"#9e0142\",\"#9e0142\",\"#9e0142\",\"#9e0142\",\"#fdad60\",\"#9e0142\",\"#9e0142\",\"#fdad60\",\"#9e0142\",\"#b81e48\",\"#9e0142\",\"#9e0142\",\"#9e0142\",\"#b81e48\",\"#c8e99e\",\"#f98e52\",\"#66c2a5\",\"#fdad60\",\"#9e0142\",\"#ffffbe\",\"#e45549\",\"#9e0142\",\"#9e0142\",\"#b81e48\",\"#c8e99e\",\"#f98e52\",\"#66c2a5\",\"#fdad60\",\"#9e0142\",\"#ffffbe\",\"#e45549\",\"#9e0142\",\"#9e0142\",\"#b81e48\",\"#9e0142\",\"#f98e52\",\"#9e0142\",\"#fdad60\",\"#496aaf\",\"#ffffbe\",\"#e45549\",\"#9e0142\",\"#9e0142\",\"#b81e48\",\"#4ba4b1\",\"#9e0142\",\"#9e0142\",\"#ffffbe\",\"#9e0142\",\"#b81e48\",\"#9e0142\",\"#9e0142\",\"#4ba4b1\",\"#9e0142\",\"#fdad60\",\"#aadca4\",\"#e45549\",\"#e45549\",\"#9e0142\",\"#9e0142\",\"#9e0142\",\"#b81e48\",\"#b81e48\",\"#f98e52\",\"#f98e52\",\"#e45549\",\"#9e0142\",\"#f98e52\",\"#b81e48\",\"#aadca4\",\"#f98e52\",\"#ffffbe\",\"#9e0142\",\"#66c2a5\",\"#e45549\",\"#9e0142\",\"#9e0142\",\"#fdad60\",\"#ffffbe\",\"#ffffbe\",\"#ffffbe\",\"#fdad60\",\"#9e0142\",\"#aadca4\",\"#496aaf\",\"#b81e48\",\"#9e0142\",\"#9e0142\",\"#f98e52\",\"#9e0142\",\"#9e0142\",\"#b81e48\",\"#b81e48\",\"#aadca4\",\"#e45549\",\"#ffffbe\",\"#66c2a5\",\"#f98e52\",\"#9e0142\",\"#e45549\",\"#fdad60\",\"#ffffbe\",\"#66c2a5\",\"#aadca4\",\"#9e0142\",\"#4ba4b1\",\"#aadca4\",\"#e45549\",\"#ffffbe\",\"#9e0142\",\"#fdad60\",\"#9e0142\",\"#9e0142\",\"#fdad60\",\"#b81e48\",\"#9e0142\",\"#9e0142\",\"#ffffbe\",\"#9e0142\",\"#ffffbe\",\"#9e0142\",\"#e45549\",\"#496aaf\",\"#fdad60\",\"#fdad60\",\"#e45549\",\"#f98e52\",\"#9e0142\",\"#f98e52\",\"#f98e52\",\"#9e0142\",\"#9e0142\",\"#9e0142\",\"#9e0142\",\"#fdad60\",\"#9e0142\",\"#9e0142\",\"#fdad60\",\"#4ba4b1\",\"#b81e48\",\"#9e0142\",\"#9e0142\",\"#e6f598\",\"#b81e48\",\"#9e0142\",\"#9e0142\",\"#9e0142\",\"#fdad60\",\"#9e0142\",\"#ffffbe\",\"#e45549\",\"#86cfa5\",\"#9e0142\",\"#b81e48\",\"#9e0142\",\"#9e0142\",\"#66c2a5\",\"#fdad60\",\"#9e0142\",\"#ffffbe\",\"#e45549\",\"#9e0142\",\"#9e0142\",\"#b81e48\",\"#9e0142\",\"#f98e52\",\"#9e0142\",\"#fdad60\",\"#5e4fa2\",\"#9e0142\",\"#e45549\",\"#9e0142\",\"#9e0142\",\"#b81e48\",\"#4ba4b1\",\"#9e0142\",\"#5e4fa2\",\"#ffffbe\",\"#3387bc\",\"#b81e48\",\"#4ba4b1\",\"#86cfa5\",\"#9e0142\",\"#86cfa5\",\"#fdad60\",\"#aadca4\",\"#e45549\",\"#e45549\",\"#66c2a5\",\"#5e4fa2\",\"#aadca4\",\"#b81e48\",\"#b81e48\",\"#f98e52\",\"#9e0142\",\"#e45549\",\"#86cfa5\",\"#9e0142\",\"#b81e48\",\"#c8e99e\",\"#f98e52\",\"#ffffbe\",\"#66c2a5\",\"#66c2a5\",\"#e45549\",\"#66c2a5\",\"#9e0142\",\"#fdad60\",\"#ffffbe\",\"#ffffbe\",\"#ffffbe\",\"#fdad60\",\"#9e0142\",\"#aadca4\",\"#5e4fa2\",\"#b81e48\",\"#4ba4b1\",\"#9e0142\",\"#f98e52\",\"#9e0142\",\"#9e0142\",\"#b81e48\",\"#b81e48\",\"#c8e99e\",\"#e45549\",\"#ffffbe\",\"#66c2a5\",\"#f98e52\",\"#aadca4\",\"#e45549\",\"#fdad60\",\"#9e0142\",\"#66c2a5\",\"#aadca4\",\"#9e0142\",\"#9e0142\",\"#aadca4\",\"#e45549\",\"#ffffbe\",\"#e6f598\",\"#fdad60\",\"#66c2a5\",\"#aadca4\",\"#fdad60\",\"#b81e48\",\"#9e0142\",\"#66c2a5\",\"#9e0142\",\"#4ba4b1\",\"#9e0142\",\"#aadca4\",\"#e45549\",\"#9e0142\",\"#fdad60\",\"#fdad60\",\"#e45549\",\"#9e0142\",\"#9e0142\",\"#f98e52\",\"#f98e52\",\"#9e0142\",\"#e45549\",\"#9e0142\",\"#9e0142\",\"#fdad60\",\"#9e0142\",\"#86cfa5\",\"#fdad60\",\"#9e0142\",\"#b81e48\",\"#9e0142\",\"#b81e48\",\"#9e0142\",\"#f98e52\",\"#66c2a5\",\"#fdad60\",\"#3387bc\",\"#ffffbe\",\"#e45549\",\"#f3faac\",\"#4ba4b1\",\"#b81e48\",\"#c8e99e\",\"#f98e52\",\"#66c2a5\",\"#fdad60\",\"#3387bc\",\"#ffffbe\",\"#e45549\",\"#f3faac\",\"#4ba4b1\",\"#b81e48\",\"#c8e99e\",\"#f98e52\",\"#66c2a5\",\"#fdad60\",\"#9e0142\",\"#ffffbe\",\"#e45549\",\"#f3faac\",\"#4ba4b1\",\"#b81e48\",\"#4ba4b1\",\"#3387bc\",\"#3387bc\",\"#ffffbe\",\"#3387bc\",\"#b81e48\",\"#4ba4b1\",\"#f3faac\",\"#4ba4b1\",\"#f3faac\",\"#fdad60\",\"#9e0142\",\"#e45549\",\"#e45549\",\"#66c2a5\",\"#3387bc\",\"#9e0142\",\"#b81e48\",\"#b81e48\",\"#f98e52\",\"#f98e52\",\"#e45549\",\"#9e0142\",\"#f98e52\",\"#b81e48\",\"#c8e99e\",\"#f98e52\",\"#ffffbe\",\"#66c2a5\",\"#66c2a5\",\"#e45549\",\"#66c2a5\",\"#66c2a5\",\"#fdad60\",\"#ffffbe\",\"#ffffbe\",\"#ffffbe\",\"#fdad60\",\"#4ba4b1\",\"#c8e99e\",\"#9e0142\",\"#b81e48\",\"#4ba4b1\",\"#9e0142\",\"#f98e52\",\"#9e0142\",\"#f98e52\",\"#b81e48\",\"#b81e48\",\"#9e0142\",\"#e45549\",\"#ffffbe\",\"#66c2a5\",\"#f98e52\",\"#9e0142\",\"#e45549\",\"#fdad60\",\"#ffffbe\",\"#66c2a5\",\"#c8e99e\",\"#9e0142\",\"#4ba4b1\",\"#c8e99e\",\"#e45549\",\"#ffffbe\",\"#9e0142\",\"#fdad60\",\"#66c2a5\",\"#c8e99e\",\"#fdad60\",\"#b81e48\",\"#3387bc\",\"#66c2a5\",\"#ffffbe\",\"#4ba4b1\",\"#ffffbe\",\"#c8e99e\",\"#e45549\",\"#3387bc\",\"#fdad60\",\"#fdad60\",\"#e45549\",\"#f98e52\",\"#9e0142\",\"#f98e52\",\"#f98e52\",\"#9e0142\",\"#e45549\",\"#4ba4b1\",\"#3387bc\",\"#fdad60\",\"#9e0142\",\"#9e0142\",\"#fdad60\",\"#9e0142\",\"#b81e48\",\"#9e0142\",\"#9e0142\",\"#9e0142\",\"#b81e48\",\"#aadca4\",\"#f98e52\",\"#9e0142\",\"#fdad60\",\"#496aaf\",\"#9e0142\",\"#9e0142\",\"#9e0142\",\"#fdc776\",\"#b81e48\",\"#aadca4\",\"#9e0142\",\"#9e0142\",\"#fdad60\",\"#496aaf\",\"#ffffbe\",\"#9e0142\",\"#b81e48\",\"#9e0142\",\"#9e0142\",\"#66c2a5\",\"#fdad60\",\"#9e0142\",\"#9e0142\",\"#e45549\",\"#9e0142\",\"#9e0142\",\"#9e0142\",\"#9e0142\",\"#9e0142\",\"#9e0142\",\"#ffffbe\",\"#9e0142\",\"#b81e48\",\"#9e0142\",\"#9e0142\",\"#9e0142\",\"#9e0142\",\"#fdad60\",\"#aadca4\",\"#e45549\",\"#e45549\",\"#9e0142\",\"#9e0142\",\"#aadca4\",\"#b81e48\",\"#b81e48\",\"#9e0142\",\"#f98e52\",\"#9e0142\",\"#9e0142\",\"#9e0142\",\"#b81e48\",\"#9e0142\",\"#f98e52\",\"#ffffbe\",\"#9e0142\",\"#9e0142\",\"#e45549\",\"#9e0142\",\"#9e0142\",\"#fdad60\",\"#ffffbe\",\"#ffffbe\",\"#ffffbe\",\"#9e0142\",\"#9e0142\",\"#aadca4\",\"#496aaf\",\"#b81e48\",\"#4ba4b1\",\"#9e0142\",\"#9e0142\",\"#9e0142\",\"#b81e48\",\"#aadca4\",\"#e45549\",\"#ffffbe\",\"#66c2a5\",\"#f98e52\",\"#aadca4\",\"#9e0142\",\"#9e0142\",\"#ffffbe\",\"#66c2a5\",\"#aadca4\",\"#9e0142\",\"#9e0142\",\"#aadca4\",\"#e45549\",\"#ffffbe\",\"#9e0142\",\"#fdad60\",\"#66c2a5\",\"#aadca4\",\"#fdad60\",\"#b81e48\",\"#9e0142\",\"#66c2a5\",\"#ffffbe\",\"#9e0142\",\"#ffffbe\",\"#aadca4\",\"#e45549\",\"#9e0142\",\"#fdad60\",\"#fdad60\",\"#e45549\",\"#9e0142\",\"#f98e52\",\"#9e0142\",\"#9e0142\",\"#9e0142\",\"#9e0142\",\"#9e0142\",\"#fdad60\",\"#9e0142\",\"#b81e48\",\"#9e0142\",\"#9e0142\",\"#9e0142\",\"#b81e48\",\"#9e0142\",\"#f98e52\",\"#9e0142\",\"#9e0142\",\"#9e0142\",\"#ffffbe\",\"#e45549\",\"#9e0142\",\"#4ba4b1\",\"#b81e48\",\"#aadca4\",\"#f98e52\",\"#9e0142\",\"#fdad60\",\"#9e0142\",\"#ffffbe\",\"#e45549\",\"#9e0142\",\"#4ba4b1\",\"#b81e48\",\"#aadca4\",\"#9e0142\",\"#9e0142\",\"#fdad60\",\"#9e0142\",\"#ffffbe\",\"#e45549\",\"#9e0142\",\"#4ba4b1\",\"#b81e48\",\"#4ba4b1\",\"#9e0142\",\"#9e0142\",\"#ffffbe\",\"#9e0142\",\"#b81e48\",\"#9e0142\",\"#9e0142\",\"#4ba4b1\",\"#9e0142\",\"#9e0142\",\"#9e0142\",\"#9e0142\",\"#e45549\",\"#9e0142\",\"#9e0142\",\"#aadca4\",\"#b81e48\",\"#b81e48\",\"#f98e52\",\"#f98e52\",\"#e45549\",\"#9e0142\",\"#f98e52\",\"#b81e48\",\"#9e0142\",\"#f98e52\",\"#ffffbe\",\"#9e0142\",\"#9e0142\",\"#9e0142\",\"#9e0142\",\"#9e0142\",\"#fdad60\",\"#ffffbe\",\"#ffffbe\",\"#ffffbe\",\"#fdad60\",\"#4ba4b1\",\"#9e0142\",\"#9e0142\",\"#b81e48\",\"#4ba4b1\",\"#9e0142\",\"#9e0142\",\"#9e0142\",\"#f98e52\",\"#b81e48\",\"#b81e48\",\"#9e0142\",\"#e45549\",\"#ffffbe\",\"#9e0142\",\"#f98e52\",\"#9e0142\",\"#e45549\",\"#fdad60\",\"#ffffbe\",\"#66c2a5\",\"#aadca4\",\"#9e0142\",\"#4ba4b1\",\"#aadca4\",\"#e45549\",\"#ffffbe\",\"#9e0142\",\"#fdad60\",\"#9e0142\",\"#aadca4\",\"#fdad60\",\"#b81e48\",\"#3387bc\",\"#66c2a5\",\"#ffffbe\",\"#9e0142\",\"#ffffbe\",\"#aadca4\",\"#e45549\",\"#9e0142\",\"#fdad60\",\"#fdad60\",\"#e45549\",\"#f98e52\",\"#9e0142\",\"#f98e52\",\"#f98e52\",\"#9e0142\",\"#e45549\",\"#9e0142\",\"#9e0142\",\"#fdad60\",\"#9e0142\",\"#9e0142\",\"#fdad60\",\"#4ba4b1\",\"#b81e48\",\"#9e0142\",\"#9e0142\",\"#9e0142\"],\"hdbscanlabel\":[0,-1,-1,15,5,-1,9,-1,-1,-1,0,12,4,15,5,18,9,2,-1,-1,0,12,4,15,5,-1,9,-1,-1,-1,0,-1,17,-1,9,-1,0,-1,-1,16,11,5,12,2,2,-1,-1,12,0,0,-1,-1,2,-1,-1,0,12,-1,9,15,15,2,15,15,5,9,9,9,5,-1,12,-1,0,-1,-1,-1,-1,-1,0,0,12,2,9,15,4,-1,-1,-1,9,15,12,15,-1,-1,2,9,-1,5,15,13,5,0,18,-1,-1,-1,-1,12,2,-1,5,5,2,-1,-1,-1,-1,18,2,-1,-1,-1,-1,-1,5,-1,0,-1,16,-1,0,-1,4,-1,-1,18,9,2,-1,16,0,12,4,15,5,-1,9,2,-1,16,0,12,4,15,5,-1,9,2,-1,16,0,-1,18,18,9,18,0,16,-1,16,-1,5,-1,2,2,15,18,-1,0,0,4,4,2,11,4,0,12,4,9,15,-1,-1,-1,15,5,9,9,9,-1,-1,12,18,0,-1,-1,4,-1,4,0,0,12,-1,9,15,4,-1,2,-1,-1,15,-1,-1,2,9,-1,5,-1,12,5,0,18,-1,9,16,9,-1,2,18,5,5,2,4,13,4,4,-1,18,-1,-1,-1,5,-1,0,-1,-1,-1,0,13,4,15,5,-1,9,2,-1,-1,0,-1,4,15,5,-1,9,2,-1,-1,0,-1,4,15,5,17,9,-1,-1,16,0,16,17,-1,9,-1,0,-1,-1,-1,-1,5,13,2,2,15,-1,-1,0,0,4,4,2,10,4,0,-1,4,9,15,15,2,15,15,5,9,9,9,5,7,13,-1,0,7,17,4,10,4,0,0,-1,2,9,15,4,-1,2,5,9,15,13,15,7,13,2,9,-1,5,-1,13,5,0,-1,15,9,7,9,-1,2,17,5,5,2,4,10,4,4,-1,2,-1,18,5,-1,-1,5,6,0,-1,7,15,0,12,4,-1,5,-1,9,1,-1,16,0,12,4,15,5,-1,-1,1,-1,16,0,12,4,-1,5,19,9,1,-1,16,0,16,-1,-1,-1,-1,0,-1,-1,16,-1,5,12,1,-1,15,-1,12,0,0,4,4,1,-1,4,0,3,4,-1,-1,-1,1,15,15,5,9,9,9,5,16,12,-1,0,-1,19,4,-1,4,0,0,12,1,9,15,4,-1,1,5,9,15,12,-1,16,12,-1,9,-1,5,15,12,5,0,-1,-1,9,-1,-1,12,1,-1,5,5,1,4,-1,4,-1,-1,1,16,-1,5,-1,-1,5,-1,0,-1,16,-1,0,3,4,-1,5,-1,9,-1,-1,-1,0,3,-1,-1,5,-1,9,2,-1,-1,0,3,-1,-1,5,17,9,2,11,-1,0,-1,-1,17,9,17,0,-1,-1,-1,11,5,3,2,2,8,17,3,0,0,4,-1,2,-1,4,0,3,-1,-1,8,-1,2,-1,8,5,9,9,9,5,-1,3,17,0,-1,-1,4,-1,4,0,0,3,2,9,-1,-1,3,2,5,-1,-1,-1,8,-1,3,2,9,11,5,8,-1,5,0,17,8,9,-1,9,-1,2,17,-1,5,2,4,-1,4,4,-1,2,16,17,5,-1,-1,5,-1,0,-1,16,-1,0,13,4,15,5,-1,9,2,10,6,0,13,4,-1,5,-1,9,2,-1,6,0,13,4,15,-1,-1,9,-1,-1,6,0,6,-1,-1,9,-1,0,-1,-1,6,10,5,-1,-1,-1,-1,18,-1,0,0,4,4,2,-1,-1,0,13,-1,9,15,15,2,15,15,-1,9,9,9,5,6,13,-1,0,6,-1,4,-1,4,0,0,-1,2,9,15,4,-1,2,5,-1,-1,-1,-1,6,13,2,9,-1,5,-1,-1,-1,0,-1,15,9,6,9,13,2,-1,-1,-1,2,4,-1,4,4,18,2,6,-1,-1,10,-1,-1,6,0,-1,-1,-1,0,13,4,-1,-1,18,-1,2,-1,16,0,13,4,15,5,18,-1,2,-1,-1,0,13,4,15,5,18,9,2,-1,-1,0,-1,-1,-1,9,-1,0,-1,-1,16,-1,5,13,2,2,15,-1,13,0,0,4,4,2,-1,4,0,3,4,9,15,-1,2,-1,-1,5,9,-1,0,5,-1,13,-1,0,16,-1,4,-1,4,0,0,-1,2,9,15,-1,13,2,5,9,15,13,15,16,13,2,9,-1,5,15,13,-1,0,-1,-1,9,16,9,-1,2,18,5,5,2,4,-1,-1,4,-1,2,-1,18,5,-1,-1,5,-1,0,-1,16,-1,3,4,15,5,17,9,2,-1,-1,0,3,4,-1,5,-1,9,2,10,16,0,3,4,15,5,-1,9,2,-1,16,0,16,17,17,9,17,0,-1,10,16,10,5,3,2,2,-1,-1,3,4,2,10,4,0,3,4,9,15,-1,2,-1,-1,-1,9,9,9,5,16,3,17,0,16,17,4,10,4,0,0,3,2,9,-1,4,3,-1,9,-1,3,-1,16,3,2,9,-1,-1,15,3,5,0,17,-1,9,-1,9,3,2,17,5,5,2,4,-1,4,4,17,2,-1,-1,-1,5,-1,0,10,16,10,0,13,4,15,5,18,9,2,-1,-1,0,13,4,15,5,-1,9,2,-1,-1,0,13,4,15,5,-1,9,2,-1,-1,0,-1,-1,-1,9,-1,0,-1,-1,-1,-1,5,13,-1,2,15,17,13,0,-1,-1,-1,4,0,-1,4,-1,15,15,-1,-1,15,5,9,9,9,-1,-1,13,-1,0,-1,-1,4,-1,4,0,0,13,2,9,15,4,13,-1,5,9,15,-1,-1,-1,13,2,9,-1,5,15,13,5,0,-1,-1,9,-1,9,13,2,-1,5,5,2,4,-1,-1,4,-1,-1,-1,-1,5,-1,-1,5,-1,0,-1,-1,-1,0,12,4,15,5,-1,9,2,-1,-1,0,12,4,15,5,-1,9,2,-1,-1,0,-1,4,-1,5,18,9,2,-1,-1,0,16,-1,-1,9,-1,0,-1,-1,16,-1,5,13,2,2,-1,-1,-1,0,0,4,4,2,-1,4,0,13,4,9,-1,15,2,-1,-1,5,9,9,9,5,-1,13,18,0,-1,-1,4,-1,-1,0,0,13,2,9,15,4,-1,2,5,9,15,13,-1,16,13,2,9,-1,5,-1,-1,5,0,-1,-1,9,-1,9,-1,2,18,5,5,2,4,-1,4,4,-1,-1,-1,-1,5,-1,-1,5,16,0,-1,-1,11,0,-1,-1,-1,5,-1,9,2,14,-1,0,-1,-1,15,5,-1,9,2,-1,-1,0,-1,4,-1,5,19,-1,2,-1,-1,0,16,-1,19,9,17,0,16,14,-1,14,5,13,2,2,15,19,13,0,0,4,-1,2,14,-1,0,12,4,9,15,15,2,15,-1,5,9,9,9,5,-1,13,19,0,16,-1,4,-1,-1,0,0,12,2,9,15,4,13,2,5,-1,15,13,-1,-1,13,2,9,11,5,15,13,5,0,-1,15,-1,16,-1,13,2,-1,5,5,2,-1,-1,4,4,-1,2,-1,-1,5,-1,14,5,-1,0,-1,0,-1,4,15,5,17,9,2,10,16,0,12,4,15,5,17,9,2,10,16,0,12,4,15,5,-1,9,2,10,16,0,16,17,17,9,17,0,16,10,16,10,5,-1,2,2,15,17,-1,0,0,4,4,2,-1,4,0,12,4,9,15,15,2,15,15,5,9,9,9,5,16,12,-1,0,16,-1,4,-1,4,0,0,-1,2,9,15,4,-1,2,5,9,15,12,-1,16,12,2,9,-1,5,15,12,5,0,17,15,9,16,9,12,2,17,5,5,2,4,-1,4,4,-1,2,16,17,5,-1,-1,5,-1,0,-1,-1,-1,0,13,4,-1,5,18,-1,-1,-1,6,0,13,-1,-1,5,18,9,-1,0,-1,-1,15,5,-1,-1,2,-1,-1,-1,-1,-1,-1,9,-1,0,-1,-1,-1,-1,5,13,2,2,-1,-1,13,0,0,-1,4,-1,-1,-1,0,-1,4,9,-1,-1,2,-1,-1,5,9,9,9,-1,-1,13,18,0,16,-1,-1,-1,0,13,2,9,15,4,13,-1,-1,9,15,13,-1,-1,13,2,9,-1,5,15,13,5,0,-1,15,9,-1,9,13,2,-1,5,5,2,-1,4,-1,-1,-1,-1,-1,5,-1,0,-1,-1,-1,0,-1,4,-1,-1,-1,9,2,-1,16,0,13,4,-1,5,-1,9,2,-1,16,0,13,-1,-1,5,-1,9,2,-1,16,0,16,-1,-1,9,-1,0,-1,-1,16,-1,-1,-1,-1,2,-1,-1,13,0,0,4,4,2,-1,4,0,-1,4,9,-1,-1,-1,-1,-1,5,9,9,9,5,16,-1,-1,0,16,-1,-1,-1,4,0,0,-1,2,9,-1,4,-1,2,5,9,15,13,-1,16,13,2,9,-1,5,-1,13,5,0,17,15,9,-1,9,13,2,-1,5,5,2,4,-1,4,4,-1,2,-1,-1,5,-1,-1,5,16,0,-1,-1,-1],\"index\":[0,1,2,3,4,5,6,7,8,9,10,11,12,13,14,15,16,17,18,19,20,21,22,23,24,25,26,27,28,29,30,31,32,33,34,35,36,37,38,39,40,41,42,43,44,45,46,47,48,49,50,51,52,53,54,55,56,57,58,59,60,61,62,63,64,65,66,67,68,69,70,71,72,73,74,75,76,77,78,79,80,81,82,83,84,85,86,87,88,89,90,91,92,93,94,95,96,97,98,99,100,101,102,103,104,105,106,107,108,109,110,111,112,113,114,115,116,117,118,119,120,121,122,123,124,125,126,127,128,129,130,131,132,133,134,135,136,137,138,139,140,141,142,143,144,145,146,147,148,149,150,151,152,153,154,155,156,157,158,159,160,161,162,163,164,165,166,167,168,169,170,171,172,173,174,175,176,177,178,179,180,181,182,183,184,185,186,187,188,189,190,191,192,193,194,195,196,197,198,199,200,201,202,203,204,205,206,207,208,209,210,211,212,213,214,215,216,217,218,219,220,221,222,223,224,225,226,227,228,229,230,231,232,233,234,235,236,237,238,239,240,241,242,243,244,245,246,247,248,249,250,251,252,253,254,255,256,257,258,259,260,261,262,263,264,265,266,267,268,269,270,271,272,273,274,275,276,277,278,279,280,281,282,283,284,285,286,287,288,289,290,291,292,293,294,295,296,297,298,299,300,301,302,303,304,305,306,307,308,309,310,311,312,313,314,315,316,317,318,319,320,321,322,323,324,325,326,327,328,329,330,331,332,333,334,335,336,337,338,339,340,341,342,343,344,345,346,347,348,349,350,351,352,353,354,355,356,357,358,359,360,361,362,363,364,365,366,367,368,369,370,371,372,373,374,375,376,377,378,379,380,381,382,383,384,385,386,387,388,389,390,391,392,393,394,395,396,397,398,399,400,401,402,403,404,405,406,407,408,409,410,411,412,413,414,415,416,417,418,419,420,421,422,423,424,425,426,427,428,429,430,431,432,433,434,435,436,437,438,439,440,441,442,443,444,445,446,447,448,449,450,451,452,453,454,455,456,457,458,459,460,461,462,463,464,465,466,467,468,469,470,471,472,473,474,475,476,477,478,479,480,481,482,483,484,485,486,487,488,489,490,491,492,493,494,495,496,497,498,499,500,501,502,503,504,505,506,507,508,509,510,511,512,513,514,515,516,517,518,519,520,521,522,523,524,525,526,527,528,529,530,531,532,533,534,535,536,537,538,539,540,541,542,543,544,545,546,547,548,549,550,551,552,553,554,555,556,557,558,559,560,561,562,563,564,565,566,567,568,569,570,571,572,573,574,575,576,577,578,579,580,581,582,583,584,585,586,587,588,589,590,591,592,593,594,595,596,597,598,599,600,601,602,603,604,605,606,607,608,609,610,611,612,613,614,615,616,617,618,619,620,621,622,623,624,625,626,627,628,629,630,631,632,633,634,635,636,637,638,639,640,641,642,643,644,645,646,647,648,649,650,651,652,653,654,655,656,657,658,659,660,661,662,663,664,665,666,667,668,669,670,671,672,673,674,675,676,677,678,679,680,681,682,683,684,685,686,687,688,689,690,691,692,693,694,695,696,697,698,699,700,701,702,703,704,705,706,707,708,709,710,711,712,713,714,715,716,717,718,719,720,721,722,723,724,725,726,727,728,729,730,731,732,733,734,735,736,737,738,739,740,741,742,743,744,745,746,747,748,749,750,751,752,753,754,755,756,757,758,759,760,761,762,763,764,765,766,767,768,769,770,771,772,773,774,775,776,777,778,779,780,781,782,783,784,785,786,787,788,789,790,791,792,793,794,795,796,797,798,799,800,801,802,803,804,805,806,807,808,809,810,811,812,813,814,815,816,817,818,819,820,821,822,823,824,825,826,827,828,829,830,831,832,833,834,835,836,837,838,839,840,841,842,843,844,845,846,847,848,849,850,851,852,853,854,855,856,857,858,859,860,861,862,863,864,865,866,867,868,869,870,871,872,873,874,875,876,877,878,879,880,881,882,883,884,885,886,887,888,889,890,891,892,893,894,895,896,897,898,899,900,901,902,903,904,905,906,907,908,909,910,911,912,913,914,915,916,917,918,919,920,921,922,923,924,925,926,927,928,929,930,931,932,933,934,935,936,937,938,939,940,941,942,943,944,945,946,947,948,949,950,951,952,953,954,955,956,957,958,959,960,961,962,963,964,965,966,967,968,969,970,971,972,973,974,975,976,977,978,979,980,981,982,983,984,985,986,987,988,989,990,991,992,993,994,995,996,997,998,999,1000,1001,1002,1003,1004,1005,1006,1007,1008,1009,1010,1011,1012,1013,1014,1015,1016,1017,1018,1019,1020,1021,1022,1023,1024,1025,1026,1027,1028,1029,1030,1031,1032,1033,1034,1035,1036,1037,1038,1039,1040,1041,1042,1043,1044,1045,1046,1047,1048,1049,1050,1051,1052,1053,1054,1055,1056,1057,1058,1059,1060,1061,1062,1063,1064,1065,1066,1067,1068,1069,1070,1071,1072,1073,1074,1075,1076,1077,1078,1079,1080,1081,1082,1083,1084,1085,1086,1087,1088,1089,1090,1091,1092,1093,1094,1095,1096,1097,1098,1099,1100,1101,1102,1103,1104,1105,1106,1107,1108,1109,1110,1111,1112,1113,1114,1115,1116,1117,1118,1119,1120,1121,1122,1123,1124,1125,1126,1127,1128,1129,1130,1131,1132,1133,1134,1135,1136,1137,1138,1139,1140,1141,1142,1143,1144,1145,1146,1147,1148,1149,1150,1151,1152,1153,1154,1155,1156,1157,1158,1159,1160,1161,1162,1163,1164,1165,1166,1167,1168,1169,1170,1171,1172,1173,1174,1175,1176,1177,1178,1179,1180,1181,1182,1183,1184,1185,1186,1187,1188,1189,1190,1191,1192,1193,1194,1195,1196,1197,1198,1199,1200,1201,1202,1203,1204,1205,1206,1207,1208,1209,1210,1211,1212,1213,1214,1215,1216,1217,1218,1219,1220,1221,1222,1223,1224,1225,1226,1227,1228,1229,1230,1231,1232,1233,1234,1235,1236,1237,1238,1239,1240,1241,1242,1243,1244,1245,1246,1247,1248,1249,1250,1251,1252,1253,1254,1255,1256,1257,1258,1259,1260,1261,1262,1263,1264,1265,1266,1267,1268,1269,1270,1271,1272,1273,1274,1275,1276,1277,1278,1279,1280,1281,1282,1283,1284,1285,1286,1287,1288,1289,1290,1291,1292,1293,1294,1295,1296,1297,1298,1299,1300,1301,1302,1303,1304,1305,1306,1307,1308,1309,1310,1311,1312,1313,1314,1315,1316,1317,1318,1319,1320,1321,1322,1323,1324,1325,1326,1327,1328,1329,1330,1331,1332,1333,1334,1335,1336,1337,1338,1339,1340,1341,1342,1343,1344,1345,1346,1347,1348,1349,1350,1351,1352,1353,1354,1355,1356,1357,1358,1359,1360,1361,1362,1363,1364,1365,1366,1367,1368,1369,1370,1371,1372,1373,1374,1375,1376,1377,1378,1379,1380,1381,1382,1383,1384,1385,1386,1387,1388,1389,1390,1391,1392,1393,1394,1395,1396,1397,1398,1399,1400,1401,1402,1403,1404,1405,1406,1407,1408,1409,1410,1411,1412,1413,1414,1415,1416,1417,1418,1419,1420,1421,1422,1423,1424,1425,1426,1427,1428,1429,1430,1431,1432,1433,1434,1435,1436,1437,1438,1439,1440,1441,1442,1443,1444,1445,1446,1447,1448,1449,1450,1451,1452,1453,1454,1455,1456,1457,1458,1459,1460,1461,1462,1463,1464,1465,1466,1467,1468,1469,1470,1471,1472,1473,1474,1475,1476,1477,1478,1479,1480,1481,1482,1483,1484,1485,1486,1487,1488,1489,1490,1491,1492,1493,1494,1495,1496,1497,1498,1499,1500,1501,1502,1503,1504,1505,1506,1507,1508,1509,1510,1511,1512,1513,1514,1515,1516,1517,1518,1519,1520,1521,1522,1523,1524,1525,1526,1527,1528,1529,1530,1531,1532,1533,1534,1535,1536,1537,1538,1539,1540,1541,1542,1543,1544,1545,1546,1547,1548,1549,1550,1551,1552,1553,1554,1555,1556,1557,1558,1559,1560,1561,1562,1563,1564,1565,1566,1567,1568,1569,1570,1571,1572,1573,1574,1575,1576,1577,1578,1579,1580,1581,1582,1583,1584,1585,1586,1587,1588,1589,1590,1591,1592,1593,1594,1595,1596,1597,1598,1599,1600,1601,1602,1603,1604,1605,1606,1607,1608,1609,1610,1611,1612,1613,1614,1615,1616,1617,1618,1619,1620,1621,1622,1623,1624,1625,1626,1627,1628,1629,1630,1631,1632,1633,1634,1635,1636,1637,1638,1639,1640,1641,1642,1643,1644,1645,1646,1647,1648,1649,1650,1651,1652,1653,1654,1655,1656,1657,1658,1659,1660,1661,1662,1663,1664,1665,1666,1667,1668,1669,1670,1671,1672,1673,1674,1675,1676,1677,1678,1679,1680,1681,1682,1683,1684,1685,1686,1687,1688,1689,1690,1691,1692,1693,1694,1695,1696,1697,1698,1699,1700,1701,1702,1703,1704,1705,1706,1707,1708,1709,1710,1711,1712,1713,1714,1715,1716,1717,1718,1719,1720,1721,1722,1723,1724,1725,1726,1727,1728,1729,1730,1731,1732,1733,1734,1735,1736,1737,1738,1739,1740,1741,1742,1743,1744,1745,1746,1747,1748,1749,1750,1751,1752,1753,1754,1755,1756,1757,1758,1759,1760,1761,1762,1763,1764,1765,1766,1767,1768,1769,1770,1771,1772,1773,1774,1775,1776,1777,1778,1779,1780,1781,1782,1783,1784,1785,1786,1787,1788,1789,1790,1791,1792,1793,1794,1795,1796],\"label\":[0,-1,-1,15,5,-1,9,-1,-1,-1,0,12,4,15,5,18,9,2,-1,-1,0,12,4,15,5,-1,9,-1,-1,-1,0,-1,17,-1,9,-1,0,-1,-1,16,11,5,12,2,2,-1,-1,12,0,0,-1,-1,2,-1,-1,0,12,-1,9,15,15,2,15,15,5,9,9,9,5,-1,12,-1,0,-1,-1,-1,-1,-1,0,0,12,2,9,15,4,-1,-1,-1,9,15,12,15,-1,-1,2,9,-1,5,15,13,5,0,18,-1,-1,-1,-1,12,2,-1,5,5,2,-1,-1,-1,-1,18,2,-1,-1,-1,-1,-1,5,-1,0,-1,16,-1,0,-1,4,-1,-1,18,9,2,-1,16,0,12,4,15,5,-1,9,2,-1,16,0,12,4,15,5,-1,9,2,-1,16,0,-1,18,18,9,18,0,16,-1,16,-1,5,-1,2,2,15,18,-1,0,0,4,4,2,11,4,0,12,4,9,15,-1,-1,-1,15,5,9,9,9,-1,-1,12,18,0,-1,-1,4,-1,4,0,0,12,-1,9,15,4,-1,2,-1,-1,15,-1,-1,2,9,-1,5,-1,12,5,0,18,-1,9,16,9,-1,2,18,5,5,2,4,13,4,4,-1,18,-1,-1,-1,5,-1,0,-1,-1,-1,0,13,4,15,5,-1,9,2,-1,-1,0,-1,4,15,5,-1,9,2,-1,-1,0,-1,4,15,5,17,9,-1,-1,16,0,16,17,-1,9,-1,0,-1,-1,-1,-1,5,13,2,2,15,-1,-1,0,0,4,4,2,10,4,0,-1,4,9,15,15,2,15,15,5,9,9,9,5,7,13,-1,0,7,17,4,10,4,0,0,-1,2,9,15,4,-1,2,5,9,15,13,15,7,13,2,9,-1,5,-1,13,5,0,-1,15,9,7,9,-1,2,17,5,5,2,4,10,4,4,-1,2,-1,18,5,-1,-1,5,6,0,-1,7,15,0,12,4,-1,5,-1,9,1,-1,16,0,12,4,15,5,-1,-1,1,-1,16,0,12,4,-1,5,19,9,1,-1,16,0,16,-1,-1,-1,-1,0,-1,-1,16,-1,5,12,1,-1,15,-1,12,0,0,4,4,1,-1,4,0,3,4,-1,-1,-1,1,15,15,5,9,9,9,5,16,12,-1,0,-1,19,4,-1,4,0,0,12,1,9,15,4,-1,1,5,9,15,12,-1,16,12,-1,9,-1,5,15,12,5,0,-1,-1,9,-1,-1,12,1,-1,5,5,1,4,-1,4,-1,-1,1,16,-1,5,-1,-1,5,-1,0,-1,16,-1,0,3,4,-1,5,-1,9,-1,-1,-1,0,3,-1,-1,5,-1,9,2,-1,-1,0,3,-1,-1,5,17,9,2,11,-1,0,-1,-1,17,9,17,0,-1,-1,-1,11,5,3,2,2,8,17,3,0,0,4,-1,2,-1,4,0,3,-1,-1,8,-1,2,-1,8,5,9,9,9,5,-1,3,17,0,-1,-1,4,-1,4,0,0,3,2,9,-1,-1,3,2,5,-1,-1,-1,8,-1,3,2,9,11,5,8,-1,5,0,17,8,9,-1,9,-1,2,17,-1,5,2,4,-1,4,4,-1,2,16,17,5,-1,-1,5,-1,0,-1,16,-1,0,13,4,15,5,-1,9,2,10,6,0,13,4,-1,5,-1,9,2,-1,6,0,13,4,15,-1,-1,9,-1,-1,6,0,6,-1,-1,9,-1,0,-1,-1,6,10,5,-1,-1,-1,-1,18,-1,0,0,4,4,2,-1,-1,0,13,-1,9,15,15,2,15,15,-1,9,9,9,5,6,13,-1,0,6,-1,4,-1,4,0,0,-1,2,9,15,4,-1,2,5,-1,-1,-1,-1,6,13,2,9,-1,5,-1,-1,-1,0,-1,15,9,6,9,13,2,-1,-1,-1,2,4,-1,4,4,18,2,6,-1,-1,10,-1,-1,6,0,-1,-1,-1,0,13,4,-1,-1,18,-1,2,-1,16,0,13,4,15,5,18,-1,2,-1,-1,0,13,4,15,5,18,9,2,-1,-1,0,-1,-1,-1,9,-1,0,-1,-1,16,-1,5,13,2,2,15,-1,13,0,0,4,4,2,-1,4,0,3,4,9,15,-1,2,-1,-1,5,9,-1,0,5,-1,13,-1,0,16,-1,4,-1,4,0,0,-1,2,9,15,-1,13,2,5,9,15,13,15,16,13,2,9,-1,5,15,13,-1,0,-1,-1,9,16,9,-1,2,18,5,5,2,4,-1,-1,4,-1,2,-1,18,5,-1,-1,5,-1,0,-1,16,-1,3,4,15,5,17,9,2,-1,-1,0,3,4,-1,5,-1,9,2,10,16,0,3,4,15,5,-1,9,2,-1,16,0,16,17,17,9,17,0,-1,10,16,10,5,3,2,2,-1,-1,3,4,2,10,4,0,3,4,9,15,-1,2,-1,-1,-1,9,9,9,5,16,3,17,0,16,17,4,10,4,0,0,3,2,9,-1,4,3,-1,9,-1,3,-1,16,3,2,9,-1,-1,15,3,5,0,17,-1,9,-1,9,3,2,17,5,5,2,4,-1,4,4,17,2,-1,-1,-1,5,-1,0,10,16,10,0,13,4,15,5,18,9,2,-1,-1,0,13,4,15,5,-1,9,2,-1,-1,0,13,4,15,5,-1,9,2,-1,-1,0,-1,-1,-1,9,-1,0,-1,-1,-1,-1,5,13,-1,2,15,17,13,0,-1,-1,-1,4,0,-1,4,-1,15,15,-1,-1,15,5,9,9,9,-1,-1,13,-1,0,-1,-1,4,-1,4,0,0,13,2,9,15,4,13,-1,5,9,15,-1,-1,-1,13,2,9,-1,5,15,13,5,0,-1,-1,9,-1,9,13,2,-1,5,5,2,4,-1,-1,4,-1,-1,-1,-1,5,-1,-1,5,-1,0,-1,-1,-1,0,12,4,15,5,-1,9,2,-1,-1,0,12,4,15,5,-1,9,2,-1,-1,0,-1,4,-1,5,18,9,2,-1,-1,0,16,-1,-1,9,-1,0,-1,-1,16,-1,5,13,2,2,-1,-1,-1,0,0,4,4,2,-1,4,0,13,4,9,-1,15,2,-1,-1,5,9,9,9,5,-1,13,18,0,-1,-1,4,-1,-1,0,0,13,2,9,15,4,-1,2,5,9,15,13,-1,16,13,2,9,-1,5,-1,-1,5,0,-1,-1,9,-1,9,-1,2,18,5,5,2,4,-1,4,4,-1,-1,-1,-1,5,-1,-1,5,16,0,-1,-1,11,0,-1,-1,-1,5,-1,9,2,14,-1,0,-1,-1,15,5,-1,9,2,-1,-1,0,-1,4,-1,5,19,-1,2,-1,-1,0,16,-1,19,9,17,0,16,14,-1,14,5,13,2,2,15,19,13,0,0,4,-1,2,14,-1,0,12,4,9,15,15,2,15,-1,5,9,9,9,5,-1,13,19,0,16,-1,4,-1,-1,0,0,12,2,9,15,4,13,2,5,-1,15,13,-1,-1,13,2,9,11,5,15,13,5,0,-1,15,-1,16,-1,13,2,-1,5,5,2,-1,-1,4,4,-1,2,-1,-1,5,-1,14,5,-1,0,-1,0,-1,4,15,5,17,9,2,10,16,0,12,4,15,5,17,9,2,10,16,0,12,4,15,5,-1,9,2,10,16,0,16,17,17,9,17,0,16,10,16,10,5,-1,2,2,15,17,-1,0,0,4,4,2,-1,4,0,12,4,9,15,15,2,15,15,5,9,9,9,5,16,12,-1,0,16,-1,4,-1,4,0,0,-1,2,9,15,4,-1,2,5,9,15,12,-1,16,12,2,9,-1,5,15,12,5,0,17,15,9,16,9,12,2,17,5,5,2,4,-1,4,4,-1,2,16,17,5,-1,-1,5,-1,0,-1,-1,-1,0,13,4,-1,5,18,-1,-1,-1,6,0,13,-1,-1,5,18,9,-1,0,-1,-1,15,5,-1,-1,2,-1,-1,-1,-1,-1,-1,9,-1,0,-1,-1,-1,-1,5,13,2,2,-1,-1,13,0,0,-1,4,-1,-1,-1,0,-1,4,9,-1,-1,2,-1,-1,5,9,9,9,-1,-1,13,18,0,16,-1,-1,-1,0,13,2,9,15,4,13,-1,-1,9,15,13,-1,-1,13,2,9,-1,5,15,13,5,0,-1,15,9,-1,9,13,2,-1,5,5,2,-1,4,-1,-1,-1,-1,-1,5,-1,0,-1,-1,-1,0,-1,4,-1,-1,-1,9,2,-1,16,0,13,4,-1,5,-1,9,2,-1,16,0,13,-1,-1,5,-1,9,2,-1,16,0,16,-1,-1,9,-1,0,-1,-1,16,-1,-1,-1,-1,2,-1,-1,13,0,0,4,4,2,-1,4,0,-1,4,9,-1,-1,-1,-1,-1,5,9,9,9,5,16,-1,-1,0,16,-1,-1,-1,4,0,0,-1,2,9,-1,4,-1,2,5,9,15,13,-1,16,13,2,9,-1,5,-1,13,5,0,17,15,9,-1,9,13,2,-1,5,5,2,4,-1,4,4,-1,2,-1,-1,5,-1,-1,5,16,0,-1,-1,-1],\"level_0\":[0,1,2,3,4,5,6,7,8,9,10,11,12,13,14,15,16,17,18,19,20,21,22,23,24,25,26,27,28,29,30,31,32,33,34,35,36,37,38,39,40,41,42,43,44,45,46,47,48,49,50,51,52,53,54,55,56,57,58,59,60,61,62,63,64,65,66,67,68,69,70,71,72,73,74,75,76,77,78,79,80,81,82,83,84,85,86,87,88,89,90,91,92,93,94,95,96,97,98,99,100,101,102,103,104,105,106,107,108,109,110,111,112,113,114,115,116,117,118,119,120,121,122,123,124,125,126,127,128,129,130,131,132,133,134,135,136,137,138,139,140,141,142,143,144,145,146,147,148,149,150,151,152,153,154,155,156,157,158,159,160,161,162,163,164,165,166,167,168,169,170,171,172,173,174,175,176,177,178,179,180,181,182,183,184,185,186,187,188,189,190,191,192,193,194,195,196,197,198,199,200,201,202,203,204,205,206,207,208,209,210,211,212,213,214,215,216,217,218,219,220,221,222,223,224,225,226,227,228,229,230,231,232,233,234,235,236,237,238,239,240,241,242,243,244,245,246,247,248,249,250,251,252,253,254,255,256,257,258,259,260,261,262,263,264,265,266,267,268,269,270,271,272,273,274,275,276,277,278,279,280,281,282,283,284,285,286,287,288,289,290,291,292,293,294,295,296,297,298,299,300,301,302,303,304,305,306,307,308,309,310,311,312,313,314,315,316,317,318,319,320,321,322,323,324,325,326,327,328,329,330,331,332,333,334,335,336,337,338,339,340,341,342,343,344,345,346,347,348,349,350,351,352,353,354,355,356,357,358,359,360,361,362,363,364,365,366,367,368,369,370,371,372,373,374,375,376,377,378,379,380,381,382,383,384,385,386,387,388,389,390,391,392,393,394,395,396,397,398,399,400,401,402,403,404,405,406,407,408,409,410,411,412,413,414,415,416,417,418,419,420,421,422,423,424,425,426,427,428,429,430,431,432,433,434,435,436,437,438,439,440,441,442,443,444,445,446,447,448,449,450,451,452,453,454,455,456,457,458,459,460,461,462,463,464,465,466,467,468,469,470,471,472,473,474,475,476,477,478,479,480,481,482,483,484,485,486,487,488,489,490,491,492,493,494,495,496,497,498,499,500,501,502,503,504,505,506,507,508,509,510,511,512,513,514,515,516,517,518,519,520,521,522,523,524,525,526,527,528,529,530,531,532,533,534,535,536,537,538,539,540,541,542,543,544,545,546,547,548,549,550,551,552,553,554,555,556,557,558,559,560,561,562,563,564,565,566,567,568,569,570,571,572,573,574,575,576,577,578,579,580,581,582,583,584,585,586,587,588,589,590,591,592,593,594,595,596,597,598,599,600,601,602,603,604,605,606,607,608,609,610,611,612,613,614,615,616,617,618,619,620,621,622,623,624,625,626,627,628,629,630,631,632,633,634,635,636,637,638,639,640,641,642,643,644,645,646,647,648,649,650,651,652,653,654,655,656,657,658,659,660,661,662,663,664,665,666,667,668,669,670,671,672,673,674,675,676,677,678,679,680,681,682,683,684,685,686,687,688,689,690,691,692,693,694,695,696,697,698,699,700,701,702,703,704,705,706,707,708,709,710,711,712,713,714,715,716,717,718,719,720,721,722,723,724,725,726,727,728,729,730,731,732,733,734,735,736,737,738,739,740,741,742,743,744,745,746,747,748,749,750,751,752,753,754,755,756,757,758,759,760,761,762,763,764,765,766,767,768,769,770,771,772,773,774,775,776,777,778,779,780,781,782,783,784,785,786,787,788,789,790,791,792,793,794,795,796,797,798,799,800,801,802,803,804,805,806,807,808,809,810,811,812,813,814,815,816,817,818,819,820,821,822,823,824,825,826,827,828,829,830,831,832,833,834,835,836,837,838,839,840,841,842,843,844,845,846,847,848,849,850,851,852,853,854,855,856,857,858,859,860,861,862,863,864,865,866,867,868,869,870,871,872,873,874,875,876,877,878,879,880,881,882,883,884,885,886,887,888,889,890,891,892,893,894,895,896,897,898,899,900,901,902,903,904,905,906,907,908,909,910,911,912,913,914,915,916,917,918,919,920,921,922,923,924,925,926,927,928,929,930,931,932,933,934,935,936,937,938,939,940,941,942,943,944,945,946,947,948,949,950,951,952,953,954,955,956,957,958,959,960,961,962,963,964,965,966,967,968,969,970,971,972,973,974,975,976,977,978,979,980,981,982,983,984,985,986,987,988,989,990,991,992,993,994,995,996,997,998,999,1000,1001,1002,1003,1004,1005,1006,1007,1008,1009,1010,1011,1012,1013,1014,1015,1016,1017,1018,1019,1020,1021,1022,1023,1024,1025,1026,1027,1028,1029,1030,1031,1032,1033,1034,1035,1036,1037,1038,1039,1040,1041,1042,1043,1044,1045,1046,1047,1048,1049,1050,1051,1052,1053,1054,1055,1056,1057,1058,1059,1060,1061,1062,1063,1064,1065,1066,1067,1068,1069,1070,1071,1072,1073,1074,1075,1076,1077,1078,1079,1080,1081,1082,1083,1084,1085,1086,1087,1088,1089,1090,1091,1092,1093,1094,1095,1096,1097,1098,1099,1100,1101,1102,1103,1104,1105,1106,1107,1108,1109,1110,1111,1112,1113,1114,1115,1116,1117,1118,1119,1120,1121,1122,1123,1124,1125,1126,1127,1128,1129,1130,1131,1132,1133,1134,1135,1136,1137,1138,1139,1140,1141,1142,1143,1144,1145,1146,1147,1148,1149,1150,1151,1152,1153,1154,1155,1156,1157,1158,1159,1160,1161,1162,1163,1164,1165,1166,1167,1168,1169,1170,1171,1172,1173,1174,1175,1176,1177,1178,1179,1180,1181,1182,1183,1184,1185,1186,1187,1188,1189,1190,1191,1192,1193,1194,1195,1196,1197,1198,1199,1200,1201,1202,1203,1204,1205,1206,1207,1208,1209,1210,1211,1212,1213,1214,1215,1216,1217,1218,1219,1220,1221,1222,1223,1224,1225,1226,1227,1228,1229,1230,1231,1232,1233,1234,1235,1236,1237,1238,1239,1240,1241,1242,1243,1244,1245,1246,1247,1248,1249,1250,1251,1252,1253,1254,1255,1256,1257,1258,1259,1260,1261,1262,1263,1264,1265,1266,1267,1268,1269,1270,1271,1272,1273,1274,1275,1276,1277,1278,1279,1280,1281,1282,1283,1284,1285,1286,1287,1288,1289,1290,1291,1292,1293,1294,1295,1296,1297,1298,1299,1300,1301,1302,1303,1304,1305,1306,1307,1308,1309,1310,1311,1312,1313,1314,1315,1316,1317,1318,1319,1320,1321,1322,1323,1324,1325,1326,1327,1328,1329,1330,1331,1332,1333,1334,1335,1336,1337,1338,1339,1340,1341,1342,1343,1344,1345,1346,1347,1348,1349,1350,1351,1352,1353,1354,1355,1356,1357,1358,1359,1360,1361,1362,1363,1364,1365,1366,1367,1368,1369,1370,1371,1372,1373,1374,1375,1376,1377,1378,1379,1380,1381,1382,1383,1384,1385,1386,1387,1388,1389,1390,1391,1392,1393,1394,1395,1396,1397,1398,1399,1400,1401,1402,1403,1404,1405,1406,1407,1408,1409,1410,1411,1412,1413,1414,1415,1416,1417,1418,1419,1420,1421,1422,1423,1424,1425,1426,1427,1428,1429,1430,1431,1432,1433,1434,1435,1436,1437,1438,1439,1440,1441,1442,1443,1444,1445,1446,1447,1448,1449,1450,1451,1452,1453,1454,1455,1456,1457,1458,1459,1460,1461,1462,1463,1464,1465,1466,1467,1468,1469,1470,1471,1472,1473,1474,1475,1476,1477,1478,1479,1480,1481,1482,1483,1484,1485,1486,1487,1488,1489,1490,1491,1492,1493,1494,1495,1496,1497,1498,1499,1500,1501,1502,1503,1504,1505,1506,1507,1508,1509,1510,1511,1512,1513,1514,1515,1516,1517,1518,1519,1520,1521,1522,1523,1524,1525,1526,1527,1528,1529,1530,1531,1532,1533,1534,1535,1536,1537,1538,1539,1540,1541,1542,1543,1544,1545,1546,1547,1548,1549,1550,1551,1552,1553,1554,1555,1556,1557,1558,1559,1560,1561,1562,1563,1564,1565,1566,1567,1568,1569,1570,1571,1572,1573,1574,1575,1576,1577,1578,1579,1580,1581,1582,1583,1584,1585,1586,1587,1588,1589,1590,1591,1592,1593,1594,1595,1596,1597,1598,1599,1600,1601,1602,1603,1604,1605,1606,1607,1608,1609,1610,1611,1612,1613,1614,1615,1616,1617,1618,1619,1620,1621,1622,1623,1624,1625,1626,1627,1628,1629,1630,1631,1632,1633,1634,1635,1636,1637,1638,1639,1640,1641,1642,1643,1644,1645,1646,1647,1648,1649,1650,1651,1652,1653,1654,1655,1656,1657,1658,1659,1660,1661,1662,1663,1664,1665,1666,1667,1668,1669,1670,1671,1672,1673,1674,1675,1676,1677,1678,1679,1680,1681,1682,1683,1684,1685,1686,1687,1688,1689,1690,1691,1692,1693,1694,1695,1696,1697,1698,1699,1700,1701,1702,1703,1704,1705,1706,1707,1708,1709,1710,1711,1712,1713,1714,1715,1716,1717,1718,1719,1720,1721,1722,1723,1724,1725,1726,1727,1728,1729,1730,1731,1732,1733,1734,1735,1736,1737,1738,1739,1740,1741,1742,1743,1744,1745,1746,1747,1748,1749,1750,1751,1752,1753,1754,1755,1756,1757,1758,1759,1760,1761,1762,1763,1764,1765,1766,1767,1768,1769,1770,1771,1772,1773,1774,1775,1776,1777,1778,1779,1780,1781,1782,1783,1784,1785,1786,1787,1788,1789,1790,1791,1792,1793,1794,1795,1796],\"truelabel\":[0,1,2,3,4,5,6,7,8,9,0,1,2,3,4,5,6,7,8,9,0,1,2,3,4,5,6,7,8,9,0,9,5,5,6,5,0,9,8,9,8,4,1,7,7,3,5,1,0,0,2,2,7,8,2,0,1,2,6,3,3,7,3,3,4,6,6,6,4,9,1,5,0,9,5,2,8,2,0,0,1,7,6,3,2,1,7,4,6,3,1,3,9,1,7,6,8,4,3,1,4,0,5,3,6,9,6,1,7,5,4,4,7,2,8,2,2,5,7,9,5,4,8,8,4,9,0,8,9,8,0,1,2,3,4,5,6,7,8,9,0,1,2,3,4,5,6,7,8,9,0,1,2,3,4,5,6,7,8,9,0,9,5,5,6,5,0,9,8,9,8,4,1,7,7,3,5,1,0,0,2,2,7,8,2,0,1,2,6,3,3,7,3,3,4,6,6,6,4,9,1,5,0,9,5,2,8,2,0,0,1,7,6,3,2,1,7,3,1,3,9,1,7,6,8,4,3,1,4,0,5,3,6,9,6,1,7,5,4,4,7,2,8,2,2,5,5,4,8,8,4,9,0,8,9,8,0,1,2,3,4,5,6,7,8,9,0,1,2,3,4,5,6,7,8,9,0,1,2,3,4,5,6,7,8,9,0,9,5,5,6,5,0,9,8,9,8,4,1,7,7,3,5,1,0,0,2,2,7,8,2,0,1,2,6,3,3,7,3,3,4,6,6,6,4,9,1,5,0,9,5,2,8,2,0,0,1,7,6,3,2,1,7,4,6,3,1,3,9,1,7,6,8,4,3,1,4,0,5,3,6,9,6,1,7,5,4,4,7,2,8,2,2,5,7,9,5,4,8,8,4,9,0,8,9,3,0,1,2,3,4,5,6,7,8,9,0,1,2,3,4,5,6,7,8,9,0,1,2,3,4,5,6,7,8,9,0,9,5,5,6,5,0,9,8,9,8,4,1,7,7,3,5,1,0,0,2,2,7,8,2,0,1,2,6,3,3,7,3,3,4,6,6,6,4,9,1,5,0,9,5,2,8,2,0,0,1,7,6,3,2,1,7,4,6,3,1,3,9,1,7,6,8,4,3,1,4,0,5,3,6,9,6,1,7,5,4,4,7,2,8,2,2,5,7,9,5,4,8,8,4,9,0,8,9,8,0,1,2,3,4,5,6,7,8,9,0,1,2,3,4,5,6,7,8,9,0,1,2,3,4,5,6,7,8,9,0,9,5,5,6,5,0,9,8,9,8,4,1,7,7,3,5,1,0,0,2,2,7,8,2,0,1,2,6,3,3,7,3,3,4,6,6,6,4,9,1,5,0,9,5,2,8,2,0,0,1,7,6,3,2,1,7,4,6,3,1,3,9,1,7,6,8,4,3,1,4,0,5,3,6,9,6,1,7,5,4,4,7,2,8,2,2,5,7,9,5,4,8,8,4,9,0,8,9,8,0,1,2,3,4,5,6,7,8,9,0,1,2,3,4,5,6,7,8,9,0,1,2,3,4,5,6,7,8,9,0,9,5,5,6,5,0,9,8,9,8,4,1,7,7,3,5,1,0,0,2,2,7,8,2,0,1,2,6,3,3,7,3,3,4,6,6,6,4,9,1,5,0,9,5,2,8,2,0,0,1,7,6,3,2,1,7,4,6,3,1,3,9,1,7,6,8,4,3,1,4,0,5,3,6,9,6,1,7,5,4,4,7,2,8,2,2,5,7,9,5,4,8,8,4,9,0,8,9,8,0,1,2,3,4,5,6,7,8,9,0,1,2,3,4,5,6,7,8,9,0,1,2,3,4,5,6,7,8,9,0,9,5,5,6,5,0,9,8,9,8,4,1,7,7,3,5,1,0,0,2,2,7,8,2,0,1,2,6,3,3,7,3,3,4,6,6,6,4,9,1,5,0,9,5,2,8,2,0,0,1,7,6,3,2,1,7,4,6,3,1,3,9,1,7,6,8,4,3,1,4,0,5,3,6,9,6,1,7,5,4,4,7,2,8,2,2,5,7,9,5,4,8,8,4,9,0,8,9,8,1,2,3,4,5,6,7,8,9,0,1,2,3,4,5,6,7,8,9,0,1,2,3,4,5,6,7,8,9,0,9,5,5,6,5,0,9,8,9,8,4,1,7,7,3,5,1,2,7,8,2,0,1,2,6,3,3,7,3,3,4,6,6,6,4,9,1,5,0,9,5,2,8,2,0,0,1,7,6,3,2,1,4,6,3,1,3,9,1,7,6,8,4,3,1,4,0,5,3,6,9,6,1,7,5,4,4,7,2,8,2,2,5,7,9,5,4,4,9,0,8,9,8,0,1,2,3,4,5,6,7,8,9,0,1,2,3,4,5,6,7,8,9,0,1,2,3,4,5,6,7,8,9,0,9,5,5,6,5,0,9,8,9,8,4,1,7,7,3,5,1,0,0,7,8,2,0,1,2,6,3,3,7,3,3,4,6,6,6,4,9,1,5,0,9,5,2,8,2,0,0,1,7,6,3,2,1,7,4,6,3,1,3,9,1,7,6,8,4,3,1,4,0,5,3,6,9,6,1,7,5,4,4,7,2,8,2,2,5,7,9,5,4,8,8,4,9,0,8,9,8,0,1,2,3,4,5,6,7,8,9,0,1,2,3,4,5,6,7,8,9,0,1,2,3,4,5,6,7,8,9,0,9,5,5,6,5,0,9,8,9,8,4,1,7,7,3,5,1,0,0,2,2,7,8,2,0,1,2,6,3,3,7,3,3,4,6,6,6,4,9,1,5,0,9,5,2,8,2,0,0,1,7,6,3,2,1,7,4,6,3,1,3,9,1,7,6,8,4,3,1,4,0,5,3,6,9,6,1,7,5,4,4,7,2,8,2,2,5,7,9,5,4,8,8,4,9,0,8,9,8,0,1,2,3,4,5,6,7,8,9,0,1,2,3,4,5,6,7,8,9,0,1,2,3,4,5,6,7,8,9,0,9,5,5,6,5,0,9,8,9,8,4,1,7,7,3,5,1,0,0,2,2,7,8,2,0,1,2,6,3,3,7,3,3,4,6,6,6,4,9,1,5,0,9,5,2,8,2,0,0,1,7,6,3,2,1,7,4,6,3,1,3,9,1,7,6,8,4,3,1,4,0,5,3,6,9,6,1,7,5,4,4,7,2,8,2,2,5,7,9,5,4,8,8,4,9,0,8,0,1,2,3,4,5,6,7,8,9,0,1,2,3,4,5,6,7,8,9,0,1,2,3,4,5,6,7,8,9,0,9,5,5,6,5,0,9,8,9,8,4,1,7,7,3,5,1,0,0,2,2,7,8,2,0,1,2,6,3,3,7,3,3,4,6,6,6,4,9,1,5,0,9,5,2,8,2,0,0,1,7,6,3,2,1,7,4,6,3,1,3,9,1,7,6,8,4,3,1,4,0,5,3,6,9,6,1,7,5,4,4,7,2,8,2,2,5,7,9,5,4,8,8,4,9,0,8,9,8,0,1,2,3,4,5,6,7,8,9,0,1,2,3,4,5,6,9,0,1,2,3,4,5,6,7,8,9,0,9,5,5,6,5,0,9,8,9,8,4,1,7,7,3,5,1,0,0,2,2,7,8,2,0,1,2,6,3,3,7,3,3,4,6,6,6,4,9,1,5,0,9,5,2,8,0,1,7,6,3,2,1,7,4,6,3,1,3,9,1,7,6,8,4,3,1,4,0,5,3,6,9,6,1,7,5,4,4,7,2,2,5,7,9,5,4,4,9,0,8,9,8,0,1,2,3,4,5,6,7,8,9,0,1,2,3,4,5,6,7,8,9,0,1,2,3,4,5,6,7,8,9,0,9,5,5,6,5,0,9,8,9,8,4,1,7,7,3,5,1,0,0,2,2,7,8,2,0,1,2,6,3,3,7,3,3,4,6,6,6,4,9,1,5,0,9,5,2,8,2,0,0,1,7,6,3,2,1,7,4,6,3,1,3,9,1,7,6,8,4,3,1,4,0,5,3,6,9,6,1,7,5,4,4,7,2,8,2,2,5,7,9,5,4,8,8,4,9,0,8,9,8],\"x\":{\"__ndarray__\":\"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\",\"dtype\":\"float32\",\"order\":\"little\",\"shape\":[1797]},\"y\":{\"__ndarray__\":\"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\",\"dtype\":\"float32\",\"order\":\"little\",\"shape\":[1797]}},\"selected\":{\"id\":\"1166\"},\"selection_policy\":{\"id\":\"1167\"}},\"id\":\"1107\",\"type\":\"ColumnDataSource\"},{\"attributes\":{},\"id\":\"1162\",\"type\":\"BasicTickFormatter\"},{\"attributes\":{},\"id\":\"1160\",\"type\":\"AllLabels\"},{\"attributes\":{},\"id\":\"1125\",\"type\":\"PanTool\"},{\"attributes\":{},\"id\":\"1128\",\"type\":\"SaveTool\"},{\"attributes\":{\"axis\":{\"id\":\"1121\"},\"dimension\":1,\"ticker\":null,\"visible\":false},\"id\":\"1124\",\"type\":\"Grid\"},{\"attributes\":{},\"id\":\"1118\",\"type\":\"BasicTicker\"},{\"attributes\":{\"formatter\":{\"id\":\"1159\"},\"major_label_policy\":{\"id\":\"1160\"},\"ticker\":{\"id\":\"1122\"},\"visible\":false},\"id\":\"1121\",\"type\":\"LinearAxis\"},{\"attributes\":{\"fill_alpha\":{\"value\":0.1},\"fill_color\":{\"field\":\"color\"},\"line_alpha\":{\"value\":0.1},\"line_color\":{\"field\":\"color\"},\"size\":{\"value\":5},\"x\":{\"field\":\"x\"},\"y\":{\"field\":\"y\"}},\"id\":\"1143\",\"type\":\"Circle\"},{\"attributes\":{},\"id\":\"1166\",\"type\":\"Selection\"},{\"attributes\":{},\"id\":\"1109\",\"type\":\"DataRange1d\"},{\"attributes\":{\"callback\":null,\"tooltips\":[[\"index\",\"@{index}\"],[\"truelabel\",\"@{truelabel}\"],[\"hdbscanlabel\",\"@{hdbscanlabel}\"]]},\"id\":\"1132\",\"type\":\"HoverTool\"},{\"attributes\":{},\"id\":\"1122\",\"type\":\"BasicTicker\"},{\"attributes\":{},\"id\":\"1158\",\"type\":\"Title\"},{\"attributes\":{\"formatter\":{\"id\":\"1162\"},\"major_label_policy\":{\"id\":\"1163\"},\"ticker\":{\"id\":\"1118\"},\"visible\":false},\"id\":\"1117\",\"type\":\"LinearAxis\"},{\"attributes\":{},\"id\":\"1159\",\"type\":\"BasicTickFormatter\"},{\"attributes\":{},\"id\":\"1115\",\"type\":\"LinearScale\"},{\"attributes\":{\"data_source\":{\"id\":\"1107\"},\"glyph\":{\"id\":\"1142\"},\"hover_glyph\":null,\"muted_glyph\":null,\"nonselection_glyph\":{\"id\":\"1143\"},\"view\":{\"id\":\"1145\"}},\"id\":\"1144\",\"type\":\"GlyphRenderer\"},{\"attributes\":{},\"id\":\"1111\",\"type\":\"DataRange1d\"},{\"attributes\":{\"bottom_units\":\"screen\",\"fill_alpha\":0.5,\"fill_color\":\"lightgrey\",\"left_units\":\"screen\",\"level\":\"overlay\",\"line_alpha\":1.0,\"line_color\":\"black\",\"line_dash\":[4,4],\"line_width\":2,\"right_units\":\"screen\",\"syncable\":false,\"top_units\":\"screen\"},\"id\":\"1131\",\"type\":\"BoxAnnotation\"},{\"attributes\":{\"active_multi\":null,\"tools\":[{\"id\":\"1125\"},{\"id\":\"1126\"},{\"id\":\"1127\"},{\"id\":\"1128\"},{\"id\":\"1129\"},{\"id\":\"1130\"},{\"id\":\"1132\"}]},\"id\":\"1133\",\"type\":\"Toolbar\"},{\"attributes\":{},\"id\":\"1130\",\"type\":\"HelpTool\"},{\"attributes\":{\"fill_alpha\":{\"field\":\"alpha\"},\"fill_color\":{\"field\":\"color\"},\"line_alpha\":{\"field\":\"alpha\"},\"line_color\":{\"field\":\"color\"},\"size\":{\"value\":5},\"x\":{\"field\":\"x\"},\"y\":{\"field\":\"y\"}},\"id\":\"1142\",\"type\":\"Circle\"},{\"attributes\":{},\"id\":\"1126\",\"type\":\"WheelZoomTool\"},{\"attributes\":{},\"id\":\"1113\",\"type\":\"LinearScale\"},{\"attributes\":{},\"id\":\"1129\",\"type\":\"ResetTool\"}],\"root_ids\":[\"1108\"]},\"title\":\"Bokeh Application\",\"version\":\"2.3.3\"}};\n",
              "  var render_items = [{\"docid\":\"a63dc7d2-01a5-4796-8e6c-c3157b492c54\",\"root_ids\":[\"1108\"],\"roots\":{\"1108\":\"df394cfc-c712-484d-99a7-dfe8e19123bd\"}}];\n",
              "  root.Bokeh.embed.embed_items_notebook(docs_json, render_items);\n",
              "\n",
              "  }\n",
              "  if (root.Bokeh !== undefined) {\n",
              "    embed_document(root);\n",
              "  } else {\n",
              "    var attempts = 0;\n",
              "    var timer = setInterval(function(root) {\n",
              "      if (root.Bokeh !== undefined) {\n",
              "        clearInterval(timer);\n",
              "        embed_document(root);\n",
              "      } else {\n",
              "        attempts++;\n",
              "        if (attempts > 100) {\n",
              "          clearInterval(timer);\n",
              "          console.log(\"Bokeh: ERROR: Unable to run BokehJS code because BokehJS library is missing\");\n",
              "        }\n",
              "      }\n",
              "    }, 10, root)\n",
              "  }\n",
              "})(window);"
            ],
            "application/vnd.bokehjs_exec.v0+json": ""
          },
          "metadata": {
            "application/vnd.bokehjs_exec.v0+json": {
              "id": "1108"
            }
          }
        }
      ]
    },
    {
      "cell_type": "markdown",
      "source": [
        "The resulting labels mostly look like the clusters we see in UMAP, with some exceptions. \n",
        "Now let's cluster the UMAP-projected data, a common technique when you have a LOT of data points and therefore clustering in high dimensions would be slow."
      ],
      "metadata": {
        "id": "YpMqqrUnr8vB"
      }
    },
    {
      "cell_type": "code",
      "source": [
        "clusterer = hdbscan.HDBSCAN()\n",
        "clusterer.fit(ld_data)"
      ],
      "metadata": {
        "colab": {
          "base_uri": "https://localhost:8080/"
        },
        "id": "f3p_Xrf7sdEK",
        "outputId": "ace60dd1-eb9b-4a20-84b1-43f7f5272327"
      },
      "execution_count": 62,
      "outputs": [
        {
          "output_type": "execute_result",
          "data": {
            "text/plain": [
              "HDBSCAN()"
            ]
          },
          "metadata": {},
          "execution_count": 62
        }
      ]
    },
    {
      "cell_type": "code",
      "source": [
        "hover_data = pd.DataFrame({'index':np.arange(len(digits.target)),\n",
        "                           'truelabel':digits.target,\n",
        "                           'hdbscanlabel':clusterer.labels_,\n",
        "                           }\n",
        "                          )\n",
        "p = umap.plot.interactive(umap_model, labels=clusterer.labels_, hover_data=hover_data, point_size=5)\n",
        "umap.plot.show(p)"
      ],
      "metadata": {
        "colab": {
          "base_uri": "https://localhost:8080/",
          "height": 817
        },
        "id": "SO9mMe_hubqv",
        "outputId": "d5978d2e-7da9-46aa-827f-8c4d35fd3110"
      },
      "execution_count": 63,
      "outputs": [
        {
          "output_type": "display_data",
          "data": {
            "application/javascript": [
              "\n",
              "(function(root) {\n",
              "  function now() {\n",
              "    return new Date();\n",
              "  }\n",
              "\n",
              "  var force = true;\n",
              "\n",
              "  if (typeof root._bokeh_onload_callbacks === \"undefined\" || force === true) {\n",
              "    root._bokeh_onload_callbacks = [];\n",
              "    root._bokeh_is_loading = undefined;\n",
              "  }\n",
              "\n",
              "  var JS_MIME_TYPE = 'application/javascript';\n",
              "  var HTML_MIME_TYPE = 'text/html';\n",
              "  var EXEC_MIME_TYPE = 'application/vnd.bokehjs_exec.v0+json';\n",
              "  var CLASS_NAME = 'output_bokeh rendered_html';\n",
              "\n",
              "  /**\n",
              "   * Render data to the DOM node\n",
              "   */\n",
              "  function render(props, node) {\n",
              "    var script = document.createElement(\"script\");\n",
              "    node.appendChild(script);\n",
              "  }\n",
              "\n",
              "  /**\n",
              "   * Handle when an output is cleared or removed\n",
              "   */\n",
              "  function handleClearOutput(event, handle) {\n",
              "    var cell = handle.cell;\n",
              "\n",
              "    var id = cell.output_area._bokeh_element_id;\n",
              "    var server_id = cell.output_area._bokeh_server_id;\n",
              "    // Clean up Bokeh references\n",
              "    if (id != null && id in Bokeh.index) {\n",
              "      Bokeh.index[id].model.document.clear();\n",
              "      delete Bokeh.index[id];\n",
              "    }\n",
              "\n",
              "    if (server_id !== undefined) {\n",
              "      // Clean up Bokeh references\n",
              "      var cmd = \"from bokeh.io.state import curstate; print(curstate().uuid_to_server['\" + server_id + \"'].get_sessions()[0].document.roots[0]._id)\";\n",
              "      cell.notebook.kernel.execute(cmd, {\n",
              "        iopub: {\n",
              "          output: function(msg) {\n",
              "            var id = msg.content.text.trim();\n",
              "            if (id in Bokeh.index) {\n",
              "              Bokeh.index[id].model.document.clear();\n",
              "              delete Bokeh.index[id];\n",
              "            }\n",
              "          }\n",
              "        }\n",
              "      });\n",
              "      // Destroy server and session\n",
              "      var cmd = \"import bokeh.io.notebook as ion; ion.destroy_server('\" + server_id + \"')\";\n",
              "      cell.notebook.kernel.execute(cmd);\n",
              "    }\n",
              "  }\n",
              "\n",
              "  /**\n",
              "   * Handle when a new output is added\n",
              "   */\n",
              "  function handleAddOutput(event, handle) {\n",
              "    var output_area = handle.output_area;\n",
              "    var output = handle.output;\n",
              "\n",
              "    // limit handleAddOutput to display_data with EXEC_MIME_TYPE content only\n",
              "    if ((output.output_type != \"display_data\") || (!Object.prototype.hasOwnProperty.call(output.data, EXEC_MIME_TYPE))) {\n",
              "      return\n",
              "    }\n",
              "\n",
              "    var toinsert = output_area.element.find(\".\" + CLASS_NAME.split(' ')[0]);\n",
              "\n",
              "    if (output.metadata[EXEC_MIME_TYPE][\"id\"] !== undefined) {\n",
              "      toinsert[toinsert.length - 1].firstChild.textContent = output.data[JS_MIME_TYPE];\n",
              "      // store reference to embed id on output_area\n",
              "      output_area._bokeh_element_id = output.metadata[EXEC_MIME_TYPE][\"id\"];\n",
              "    }\n",
              "    if (output.metadata[EXEC_MIME_TYPE][\"server_id\"] !== undefined) {\n",
              "      var bk_div = document.createElement(\"div\");\n",
              "      bk_div.innerHTML = output.data[HTML_MIME_TYPE];\n",
              "      var script_attrs = bk_div.children[0].attributes;\n",
              "      for (var i = 0; i < script_attrs.length; i++) {\n",
              "        toinsert[toinsert.length - 1].firstChild.setAttribute(script_attrs[i].name, script_attrs[i].value);\n",
              "        toinsert[toinsert.length - 1].firstChild.textContent = bk_div.children[0].textContent\n",
              "      }\n",
              "      // store reference to server id on output_area\n",
              "      output_area._bokeh_server_id = output.metadata[EXEC_MIME_TYPE][\"server_id\"];\n",
              "    }\n",
              "  }\n",
              "\n",
              "  function register_renderer(events, OutputArea) {\n",
              "\n",
              "    function append_mime(data, metadata, element) {\n",
              "      // create a DOM node to render to\n",
              "      var toinsert = this.create_output_subarea(\n",
              "        metadata,\n",
              "        CLASS_NAME,\n",
              "        EXEC_MIME_TYPE\n",
              "      );\n",
              "      this.keyboard_manager.register_events(toinsert);\n",
              "      // Render to node\n",
              "      var props = {data: data, metadata: metadata[EXEC_MIME_TYPE]};\n",
              "      render(props, toinsert[toinsert.length - 1]);\n",
              "      element.append(toinsert);\n",
              "      return toinsert\n",
              "    }\n",
              "\n",
              "    /* Handle when an output is cleared or removed */\n",
              "    events.on('clear_output.CodeCell', handleClearOutput);\n",
              "    events.on('delete.Cell', handleClearOutput);\n",
              "\n",
              "    /* Handle when a new output is added */\n",
              "    events.on('output_added.OutputArea', handleAddOutput);\n",
              "\n",
              "    /**\n",
              "     * Register the mime type and append_mime function with output_area\n",
              "     */\n",
              "    OutputArea.prototype.register_mime_type(EXEC_MIME_TYPE, append_mime, {\n",
              "      /* Is output safe? */\n",
              "      safe: true,\n",
              "      /* Index of renderer in `output_area.display_order` */\n",
              "      index: 0\n",
              "    });\n",
              "  }\n",
              "\n",
              "  // register the mime type if in Jupyter Notebook environment and previously unregistered\n",
              "  if (root.Jupyter !== undefined) {\n",
              "    var events = require('base/js/events');\n",
              "    var OutputArea = require('notebook/js/outputarea').OutputArea;\n",
              "\n",
              "    if (OutputArea.prototype.mime_types().indexOf(EXEC_MIME_TYPE) == -1) {\n",
              "      register_renderer(events, OutputArea);\n",
              "    }\n",
              "  }\n",
              "\n",
              "  \n",
              "  if (typeof (root._bokeh_timeout) === \"undefined\" || force === true) {\n",
              "    root._bokeh_timeout = Date.now() + 5000;\n",
              "    root._bokeh_failed_load = false;\n",
              "  }\n",
              "\n",
              "  var NB_LOAD_WARNING = {'data': {'text/html':\n",
              "     \"<div style='background-color: #fdd'>\\n\"+\n",
              "     \"<p>\\n\"+\n",
              "     \"BokehJS does not appear to have successfully loaded. If loading BokehJS from CDN, this \\n\"+\n",
              "     \"may be due to a slow or bad network connection. Possible fixes:\\n\"+\n",
              "     \"</p>\\n\"+\n",
              "     \"<ul>\\n\"+\n",
              "     \"<li>re-rerun `output_notebook()` to attempt to load from CDN again, or</li>\\n\"+\n",
              "     \"<li>use INLINE resources instead, as so:</li>\\n\"+\n",
              "     \"</ul>\\n\"+\n",
              "     \"<code>\\n\"+\n",
              "     \"from bokeh.resources import INLINE\\n\"+\n",
              "     \"output_notebook(resources=INLINE)\\n\"+\n",
              "     \"</code>\\n\"+\n",
              "     \"</div>\"}};\n",
              "\n",
              "  function display_loaded() {\n",
              "    var el = document.getElementById(null);\n",
              "    if (el != null) {\n",
              "      el.textContent = \"BokehJS is loading...\";\n",
              "    }\n",
              "    if (root.Bokeh !== undefined) {\n",
              "      if (el != null) {\n",
              "        el.textContent = \"BokehJS \" + root.Bokeh.version + \" successfully loaded.\";\n",
              "      }\n",
              "    } else if (Date.now() < root._bokeh_timeout) {\n",
              "      setTimeout(display_loaded, 100)\n",
              "    }\n",
              "  }\n",
              "\n",
              "\n",
              "  function run_callbacks() {\n",
              "    try {\n",
              "      root._bokeh_onload_callbacks.forEach(function(callback) {\n",
              "        if (callback != null)\n",
              "          callback();\n",
              "      });\n",
              "    } finally {\n",
              "      delete root._bokeh_onload_callbacks\n",
              "    }\n",
              "    console.debug(\"Bokeh: all callbacks have finished\");\n",
              "  }\n",
              "\n",
              "  function load_libs(css_urls, js_urls, callback) {\n",
              "    if (css_urls == null) css_urls = [];\n",
              "    if (js_urls == null) js_urls = [];\n",
              "\n",
              "    root._bokeh_onload_callbacks.push(callback);\n",
              "    if (root._bokeh_is_loading > 0) {\n",
              "      console.debug(\"Bokeh: BokehJS is being loaded, scheduling callback at\", now());\n",
              "      return null;\n",
              "    }\n",
              "    if (js_urls == null || js_urls.length === 0) {\n",
              "      run_callbacks();\n",
              "      return null;\n",
              "    }\n",
              "    console.debug(\"Bokeh: BokehJS not loaded, scheduling load and callback at\", now());\n",
              "    root._bokeh_is_loading = css_urls.length + js_urls.length;\n",
              "\n",
              "    function on_load() {\n",
              "      root._bokeh_is_loading--;\n",
              "      if (root._bokeh_is_loading === 0) {\n",
              "        console.debug(\"Bokeh: all BokehJS libraries/stylesheets loaded\");\n",
              "        run_callbacks()\n",
              "      }\n",
              "    }\n",
              "\n",
              "    function on_error(url) {\n",
              "      console.error(\"failed to load \" + url);\n",
              "    }\n",
              "\n",
              "    for (let i = 0; i < css_urls.length; i++) {\n",
              "      const url = css_urls[i];\n",
              "      const element = document.createElement(\"link\");\n",
              "      element.onload = on_load;\n",
              "      element.onerror = on_error.bind(null, url);\n",
              "      element.rel = \"stylesheet\";\n",
              "      element.type = \"text/css\";\n",
              "      element.href = url;\n",
              "      console.debug(\"Bokeh: injecting link tag for BokehJS stylesheet: \", url);\n",
              "      document.body.appendChild(element);\n",
              "    }\n",
              "\n",
              "    const hashes = {\"https://cdn.bokeh.org/bokeh/release/bokeh-2.3.3.min.js\": \"dM3QQsP+wXdHg42wTqW85BjZQdLNNIXqlPw/BgKoExPmTG7ZLML4EGqLMfqHT6ON\", \"https://cdn.bokeh.org/bokeh/release/bokeh-tables-2.3.3.min.js\": \"8x57I4YuIfu8XyZfFo0XVr2WAT8EK4rh/uDe3wF7YuW2FNUSNEpJbsPaB1nJ2fz2\", \"https://cdn.bokeh.org/bokeh/release/bokeh-widgets-2.3.3.min.js\": \"3QTqdz9LyAm2i0sG5XTePsHec3UHWwVsrOL68SYRoAXsafvfAyqtQ+h440+qIBhS\"};\n",
              "\n",
              "    for (let i = 0; i < js_urls.length; i++) {\n",
              "      const url = js_urls[i];\n",
              "      const element = document.createElement('script');\n",
              "      element.onload = on_load;\n",
              "      element.onerror = on_error.bind(null, url);\n",
              "      element.async = false;\n",
              "      element.src = url;\n",
              "      if (url in hashes) {\n",
              "        element.crossOrigin = \"anonymous\";\n",
              "        element.integrity = \"sha384-\" + hashes[url];\n",
              "      }\n",
              "      console.debug(\"Bokeh: injecting script tag for BokehJS library: \", url);\n",
              "      document.head.appendChild(element);\n",
              "    }\n",
              "  };\n",
              "\n",
              "  function inject_raw_css(css) {\n",
              "    const element = document.createElement(\"style\");\n",
              "    element.appendChild(document.createTextNode(css));\n",
              "    document.body.appendChild(element);\n",
              "  }\n",
              "\n",
              "  \n",
              "  var js_urls = [\"https://cdn.bokeh.org/bokeh/release/bokeh-2.3.3.min.js\", \"https://cdn.bokeh.org/bokeh/release/bokeh-widgets-2.3.3.min.js\", \"https://cdn.bokeh.org/bokeh/release/bokeh-tables-2.3.3.min.js\", \"https://unpkg.com/@holoviz/panel@0.12.1/dist/panel.min.js\"];\n",
              "  var css_urls = [];\n",
              "  \n",
              "\n",
              "  var inline_js = [\n",
              "    function(Bokeh) {\n",
              "      Bokeh.set_log_level(\"info\");\n",
              "    },\n",
              "    function(Bokeh) {\n",
              "    \n",
              "    \n",
              "    }\n",
              "  ];\n",
              "\n",
              "  function run_inline_js() {\n",
              "    \n",
              "    if (root.Bokeh !== undefined || force === true) {\n",
              "      \n",
              "    for (var i = 0; i < inline_js.length; i++) {\n",
              "      inline_js[i].call(root, root.Bokeh);\n",
              "    }\n",
              "    } else if (Date.now() < root._bokeh_timeout) {\n",
              "      setTimeout(run_inline_js, 100);\n",
              "    } else if (!root._bokeh_failed_load) {\n",
              "      console.log(\"Bokeh: BokehJS failed to load within specified timeout.\");\n",
              "      root._bokeh_failed_load = true;\n",
              "    } else if (force !== true) {\n",
              "      var cell = $(document.getElementById(null)).parents('.cell').data().cell;\n",
              "      cell.output_area.append_execute_result(NB_LOAD_WARNING)\n",
              "    }\n",
              "\n",
              "  }\n",
              "\n",
              "  if (root._bokeh_is_loading === 0) {\n",
              "    console.debug(\"Bokeh: BokehJS loaded, going straight to plotting\");\n",
              "    run_inline_js();\n",
              "  } else {\n",
              "    load_libs(css_urls, js_urls, function() {\n",
              "      console.debug(\"Bokeh: BokehJS plotting callback run at\", now());\n",
              "      run_inline_js();\n",
              "    });\n",
              "  }\n",
              "}(window));"
            ],
            "application/vnd.bokehjs_load.v0+json": "\n(function(root) {\n  function now() {\n    return new Date();\n  }\n\n  var force = true;\n\n  if (typeof root._bokeh_onload_callbacks === \"undefined\" || force === true) {\n    root._bokeh_onload_callbacks = [];\n    root._bokeh_is_loading = undefined;\n  }\n\n  \n\n  \n  if (typeof (root._bokeh_timeout) === \"undefined\" || force === true) {\n    root._bokeh_timeout = Date.now() + 5000;\n    root._bokeh_failed_load = false;\n  }\n\n  var NB_LOAD_WARNING = {'data': {'text/html':\n     \"<div style='background-color: #fdd'>\\n\"+\n     \"<p>\\n\"+\n     \"BokehJS does not appear to have successfully loaded. If loading BokehJS from CDN, this \\n\"+\n     \"may be due to a slow or bad network connection. Possible fixes:\\n\"+\n     \"</p>\\n\"+\n     \"<ul>\\n\"+\n     \"<li>re-rerun `output_notebook()` to attempt to load from CDN again, or</li>\\n\"+\n     \"<li>use INLINE resources instead, as so:</li>\\n\"+\n     \"</ul>\\n\"+\n     \"<code>\\n\"+\n     \"from bokeh.resources import INLINE\\n\"+\n     \"output_notebook(resources=INLINE)\\n\"+\n     \"</code>\\n\"+\n     \"</div>\"}};\n\n  function display_loaded() {\n    var el = document.getElementById(null);\n    if (el != null) {\n      el.textContent = \"BokehJS is loading...\";\n    }\n    if (root.Bokeh !== undefined) {\n      if (el != null) {\n        el.textContent = \"BokehJS \" + root.Bokeh.version + \" successfully loaded.\";\n      }\n    } else if (Date.now() < root._bokeh_timeout) {\n      setTimeout(display_loaded, 100)\n    }\n  }\n\n\n  function run_callbacks() {\n    try {\n      root._bokeh_onload_callbacks.forEach(function(callback) {\n        if (callback != null)\n          callback();\n      });\n    } finally {\n      delete root._bokeh_onload_callbacks\n    }\n    console.debug(\"Bokeh: all callbacks have finished\");\n  }\n\n  function load_libs(css_urls, js_urls, callback) {\n    if (css_urls == null) css_urls = [];\n    if (js_urls == null) js_urls = [];\n\n    root._bokeh_onload_callbacks.push(callback);\n    if (root._bokeh_is_loading > 0) {\n      console.debug(\"Bokeh: BokehJS is being loaded, scheduling callback at\", now());\n      return null;\n    }\n    if (js_urls == null || js_urls.length === 0) {\n      run_callbacks();\n      return null;\n    }\n    console.debug(\"Bokeh: BokehJS not loaded, scheduling load and callback at\", now());\n    root._bokeh_is_loading = css_urls.length + js_urls.length;\n\n    function on_load() {\n      root._bokeh_is_loading--;\n      if (root._bokeh_is_loading === 0) {\n        console.debug(\"Bokeh: all BokehJS libraries/stylesheets loaded\");\n        run_callbacks()\n      }\n    }\n\n    function on_error(url) {\n      console.error(\"failed to load \" + url);\n    }\n\n    for (let i = 0; i < css_urls.length; i++) {\n      const url = css_urls[i];\n      const element = document.createElement(\"link\");\n      element.onload = on_load;\n      element.onerror = on_error.bind(null, url);\n      element.rel = \"stylesheet\";\n      element.type = \"text/css\";\n      element.href = url;\n      console.debug(\"Bokeh: injecting link tag for BokehJS stylesheet: \", url);\n      document.body.appendChild(element);\n    }\n\n    const hashes = {\"https://cdn.bokeh.org/bokeh/release/bokeh-2.3.3.min.js\": \"dM3QQsP+wXdHg42wTqW85BjZQdLNNIXqlPw/BgKoExPmTG7ZLML4EGqLMfqHT6ON\", \"https://cdn.bokeh.org/bokeh/release/bokeh-tables-2.3.3.min.js\": \"8x57I4YuIfu8XyZfFo0XVr2WAT8EK4rh/uDe3wF7YuW2FNUSNEpJbsPaB1nJ2fz2\", \"https://cdn.bokeh.org/bokeh/release/bokeh-widgets-2.3.3.min.js\": \"3QTqdz9LyAm2i0sG5XTePsHec3UHWwVsrOL68SYRoAXsafvfAyqtQ+h440+qIBhS\"};\n\n    for (let i = 0; i < js_urls.length; i++) {\n      const url = js_urls[i];\n      const element = document.createElement('script');\n      element.onload = on_load;\n      element.onerror = on_error.bind(null, url);\n      element.async = false;\n      element.src = url;\n      if (url in hashes) {\n        element.crossOrigin = \"anonymous\";\n        element.integrity = \"sha384-\" + hashes[url];\n      }\n      console.debug(\"Bokeh: injecting script tag for BokehJS library: \", url);\n      document.head.appendChild(element);\n    }\n  };\n\n  function inject_raw_css(css) {\n    const element = document.createElement(\"style\");\n    element.appendChild(document.createTextNode(css));\n    document.body.appendChild(element);\n  }\n\n  \n  var js_urls = [\"https://cdn.bokeh.org/bokeh/release/bokeh-2.3.3.min.js\", \"https://cdn.bokeh.org/bokeh/release/bokeh-widgets-2.3.3.min.js\", \"https://cdn.bokeh.org/bokeh/release/bokeh-tables-2.3.3.min.js\", \"https://unpkg.com/@holoviz/panel@0.12.1/dist/panel.min.js\"];\n  var css_urls = [];\n  \n\n  var inline_js = [\n    function(Bokeh) {\n      Bokeh.set_log_level(\"info\");\n    },\n    function(Bokeh) {\n    \n    \n    }\n  ];\n\n  function run_inline_js() {\n    \n    if (root.Bokeh !== undefined || force === true) {\n      \n    for (var i = 0; i < inline_js.length; i++) {\n      inline_js[i].call(root, root.Bokeh);\n    }\n    } else if (Date.now() < root._bokeh_timeout) {\n      setTimeout(run_inline_js, 100);\n    } else if (!root._bokeh_failed_load) {\n      console.log(\"Bokeh: BokehJS failed to load within specified timeout.\");\n      root._bokeh_failed_load = true;\n    } else if (force !== true) {\n      var cell = $(document.getElementById(null)).parents('.cell').data().cell;\n      cell.output_area.append_execute_result(NB_LOAD_WARNING)\n    }\n\n  }\n\n  if (root._bokeh_is_loading === 0) {\n    console.debug(\"Bokeh: BokehJS loaded, going straight to plotting\");\n    run_inline_js();\n  } else {\n    load_libs(css_urls, js_urls, function() {\n      console.debug(\"Bokeh: BokehJS plotting callback run at\", now());\n      run_inline_js();\n    });\n  }\n}(window));"
          },
          "metadata": {}
        },
        {
          "output_type": "display_data",
          "data": {
            "text/html": [
              "\n",
              "\n",
              "\n",
              "\n",
              "\n",
              "\n",
              "  <div class=\"bk-root\" id=\"e4146908-faad-42ca-8242-31571039c51e\" data-root-id=\"1224\"></div>\n"
            ]
          },
          "metadata": {}
        },
        {
          "output_type": "display_data",
          "data": {
            "application/javascript": [
              "(function(root) {\n",
              "  function embed_document(root) {\n",
              "    \n",
              "  var docs_json = {\"81857a74-c5da-4e30-a90d-011b4574ed44\":{\"defs\":[{\"extends\":null,\"module\":null,\"name\":\"ReactiveHTML1\",\"overrides\":[],\"properties\":[]},{\"extends\":null,\"module\":null,\"name\":\"FlexBox1\",\"overrides\":[],\"properties\":[{\"default\":\"flex-start\",\"kind\":null,\"name\":\"align_content\"},{\"default\":\"flex-start\",\"kind\":null,\"name\":\"align_items\"},{\"default\":\"row\",\"kind\":null,\"name\":\"flex_direction\"},{\"default\":\"wrap\",\"kind\":null,\"name\":\"flex_wrap\"},{\"default\":\"flex-start\",\"kind\":null,\"name\":\"justify_content\"}]},{\"extends\":null,\"module\":null,\"name\":\"TemplateActions1\",\"overrides\":[],\"properties\":[{\"default\":0,\"kind\":null,\"name\":\"open_modal\"},{\"default\":0,\"kind\":null,\"name\":\"close_modal\"}]},{\"extends\":null,\"module\":null,\"name\":\"MaterialTemplateActions1\",\"overrides\":[],\"properties\":[{\"default\":0,\"kind\":null,\"name\":\"open_modal\"},{\"default\":0,\"kind\":null,\"name\":\"close_modal\"}]}],\"roots\":{\"references\":[{\"attributes\":{\"background_fill_color\":\"white\",\"below\":[{\"id\":\"1233\"}],\"center\":[{\"id\":\"1236\"},{\"id\":\"1240\"}],\"height\":800,\"left\":[{\"id\":\"1237\"}],\"renderers\":[{\"id\":\"1260\"}],\"title\":{\"id\":\"1285\"},\"toolbar\":{\"id\":\"1249\"},\"width\":800,\"x_range\":{\"id\":\"1225\"},\"x_scale\":{\"id\":\"1229\"},\"y_range\":{\"id\":\"1227\"},\"y_scale\":{\"id\":\"1231\"}},\"id\":\"1224\",\"subtype\":\"Figure\",\"type\":\"Plot\"},{\"attributes\":{\"active_multi\":null,\"tools\":[{\"id\":\"1241\"},{\"id\":\"1242\"},{\"id\":\"1243\"},{\"id\":\"1244\"},{\"id\":\"1245\"},{\"id\":\"1246\"},{\"id\":\"1248\"}]},\"id\":\"1249\",\"type\":\"Toolbar\"},{\"attributes\":{\"formatter\":{\"id\":\"1286\"},\"major_label_policy\":{\"id\":\"1287\"},\"ticker\":{\"id\":\"1238\"},\"visible\":false},\"id\":\"1237\",\"type\":\"LinearAxis\"},{\"attributes\":{},\"id\":\"1285\",\"type\":\"Title\"},{\"attributes\":{\"fill_alpha\":{\"field\":\"alpha\"},\"fill_color\":{\"field\":\"color\"},\"line_alpha\":{\"field\":\"alpha\"},\"line_color\":{\"field\":\"color\"},\"size\":{\"value\":5},\"x\":{\"field\":\"x\"},\"y\":{\"field\":\"y\"}},\"id\":\"1258\",\"type\":\"Circle\"},{\"attributes\":{},\"id\":\"1242\",\"type\":\"WheelZoomTool\"},{\"attributes\":{},\"id\":\"1229\",\"type\":\"LinearScale\"},{\"attributes\":{},\"id\":\"1286\",\"type\":\"BasicTickFormatter\"},{\"attributes\":{\"callback\":null,\"tooltips\":[[\"index\",\"@{index}\"],[\"truelabel\",\"@{truelabel}\"],[\"hdbscanlabel\",\"@{hdbscanlabel}\"]]},\"id\":\"1248\",\"type\":\"HoverTool\"},{\"attributes\":{},\"id\":\"1241\",\"type\":\"PanTool\"},{\"attributes\":{},\"id\":\"1231\",\"type\":\"LinearScale\"},{\"attributes\":{},\"id\":\"1234\",\"type\":\"BasicTicker\"},{\"attributes\":{},\"id\":\"1287\",\"type\":\"AllLabels\"},{\"attributes\":{\"axis\":{\"id\":\"1237\"},\"dimension\":1,\"ticker\":null,\"visible\":false},\"id\":\"1240\",\"type\":\"Grid\"},{\"attributes\":{},\"id\":\"1227\",\"type\":\"DataRange1d\"},{\"attributes\":{\"overlay\":{\"id\":\"1247\"}},\"id\":\"1243\",\"type\":\"BoxZoomTool\"},{\"attributes\":{},\"id\":\"1225\",\"type\":\"DataRange1d\"},{\"attributes\":{\"bottom_units\":\"screen\",\"fill_alpha\":0.5,\"fill_color\":\"lightgrey\",\"left_units\":\"screen\",\"level\":\"overlay\",\"line_alpha\":1.0,\"line_color\":\"black\",\"line_dash\":[4,4],\"line_width\":2,\"right_units\":\"screen\",\"syncable\":false,\"top_units\":\"screen\"},\"id\":\"1247\",\"type\":\"BoxAnnotation\"},{\"attributes\":{\"formatter\":{\"id\":\"1289\"},\"major_label_policy\":{\"id\":\"1290\"},\"ticker\":{\"id\":\"1234\"},\"visible\":false},\"id\":\"1233\",\"type\":\"LinearAxis\"},{\"attributes\":{},\"id\":\"1246\",\"type\":\"HelpTool\"},{\"attributes\":{\"data\":{\"alpha\":[1,1,1,1,1,1,1,1,1,1,1,1,1,1,1,1,1,1,1,1,1,1,1,1,1,1,1,1,1,1,1,1,1,1,1,1,1,1,1,1,1,1,1,1,1,1,1,1,1,1,1,1,1,1,1,1,1,1,1,1,1,1,1,1,1,1,1,1,1,1,1,1,1,1,1,1,1,1,1,1,1,1,1,1,1,1,1,1,1,1,1,1,1,1,1,1,1,1,1,1,1,1,1,1,1,1,1,1,1,1,1,1,1,1,1,1,1,1,1,1,1,1,1,1,1,1,1,1,1,1,1,1,1,1,1,1,1,1,1,1,1,1,1,1,1,1,1,1,1,1,1,1,1,1,1,1,1,1,1,1,1,1,1,1,1,1,1,1,1,1,1,1,1,1,1,1,1,1,1,1,1,1,1,1,1,1,1,1,1,1,1,1,1,1,1,1,1,1,1,1,1,1,1,1,1,1,1,1,1,1,1,1,1,1,1,1,1,1,1,1,1,1,1,1,1,1,1,1,1,1,1,1,1,1,1,1,1,1,1,1,1,1,1,1,1,1,1,1,1,1,1,1,1,1,1,1,1,1,1,1,1,1,1,1,1,1,1,1,1,1,1,1,1,1,1,1,1,1,1,1,1,1,1,1,1,1,1,1,1,1,1,1,1,1,1,1,1,1,1,1,1,1,1,1,1,1,1,1,1,1,1,1,1,1,1,1,1,1,1,1,1,1,1,1,1,1,1,1,1,1,1,1,1,1,1,1,1,1,1,1,1,1,1,1,1,1,1,1,1,1,1,1,1,1,1,1,1,1,1,1,1,1,1,1,1,1,1,1,1,1,1,1,1,1,1,1,1,1,1,1,1,1,1,1,1,1,1,1,1,1,1,1,1,1,1,1,1,1,1,1,1,1,1,1,1,1,1,1,1,1,1,1,1,1,1,1,1,1,1,1,1,1,1,1,1,1,1,1,1,1,1,1,1,1,1,1,1,1,1,1,1,1,1,1,1,1,1,1,1,1,1,1,1,1,1,1,1,1,1,1,1,1,1,1,1,1,1,1,1,1,1,1,1,1,1,1,1,1,1,1,1,1,1,1,1,1,1,1,1,1,1,1,1,1,1,1,1,1,1,1,1,1,1,1,1,1,1,1,1,1,1,1,1,1,1,1,1,1,1,1,1,1,1,1,1,1,1,1,1,1,1,1,1,1,1,1,1,1,1,1,1,1,1,1,1,1,1,1,1,1,1,1,1,1,1,1,1,1,1,1,1,1,1,1,1,1,1,1,1,1,1,1,1,1,1,1,1,1,1,1,1,1,1,1,1,1,1,1,1,1,1,1,1,1,1,1,1,1,1,1,1,1,1,1,1,1,1,1,1,1,1,1,1,1,1,1,1,1,1,1,1,1,1,1,1,1,1,1,1,1,1,1,1,1,1,1,1,1,1,1,1,1,1,1,1,1,1,1,1,1,1,1,1,1,1,1,1,1,1,1,1,1,1,1,1,1,1,1,1,1,1,1,1,1,1,1,1,1,1,1,1,1,1,1,1,1,1,1,1,1,1,1,1,1,1,1,1,1,1,1,1,1,1,1,1,1,1,1,1,1,1,1,1,1,1,1,1,1,1,1,1,1,1,1,1,1,1,1,1,1,1,1,1,1,1,1,1,1,1,1,1,1,1,1,1,1,1,1,1,1,1,1,1,1,1,1,1,1,1,1,1,1,1,1,1,1,1,1,1,1,1,1,1,1,1,1,1,1,1,1,1,1,1,1,1,1,1,1,1,1,1,1,1,1,1,1,1,1,1,1,1,1,1,1,1,1,1,1,1,1,1,1,1,1,1,1,1,1,1,1,1,1,1,1,1,1,1,1,1,1,1,1,1,1,1,1,1,1,1,1,1,1,1,1,1,1,1,1,1,1,1,1,1,1,1,1,1,1,1,1,1,1,1,1,1,1,1,1,1,1,1,1,1,1,1,1,1,1,1,1,1,1,1,1,1,1,1,1,1,1,1,1,1,1,1,1,1,1,1,1,1,1,1,1,1,1,1,1,1,1,1,1,1,1,1,1,1,1,1,1,1,1,1,1,1,1,1,1,1,1,1,1,1,1,1,1,1,1,1,1,1,1,1,1,1,1,1,1,1,1,1,1,1,1,1,1,1,1,1,1,1,1,1,1,1,1,1,1,1,1,1,1,1,1,1,1,1,1,1,1,1,1,1,1,1,1,1,1,1,1,1,1,1,1,1,1,1,1,1,1,1,1,1,1,1,1,1,1,1,1,1,1,1,1,1,1,1,1,1,1,1,1,1,1,1,1,1,1,1,1,1,1,1,1,1,1,1,1,1,1,1,1,1,1,1,1,1,1,1,1,1,1,1,1,1,1,1,1,1,1,1,1,1,1,1,1,1,1,1,1,1,1,1,1,1,1,1,1,1,1,1,1,1,1,1,1,1,1,1,1,1,1,1,1,1,1,1,1,1,1,1,1,1,1,1,1,1,1,1,1,1,1,1,1,1,1,1,1,1,1,1,1,1,1,1,1,1,1,1,1,1,1,1,1,1,1,1,1,1,1,1,1,1,1,1,1,1,1,1,1,1,1,1,1,1,1,1,1,1,1,1,1,1,1,1,1,1,1,1,1,1,1,1,1,1,1,1,1,1,1,1,1,1,1,1,1,1,1,1,1,1,1,1,1,1,1,1,1,1,1,1,1,1,1,1,1,1,1,1,1,1,1,1,1,1,1,1,1,1,1,1,1,1,1,1,1,1,1,1,1,1,1,1,1,1,1,1,1,1,1,1,1,1,1,1,1,1,1,1,1,1,1,1,1,1,1,1,1,1,1,1,1,1,1,1,1,1,1,1,1,1,1,1,1,1,1,1,1,1,1,1,1,1,1,1,1,1,1,1,1,1,1,1,1,1,1,1,1,1,1,1,1,1,1,1,1,1,1,1,1,1,1,1,1,1,1,1,1,1,1,1,1,1,1,1,1,1,1,1,1,1,1,1,1,1,1,1,1,1,1,1,1,1,1,1,1,1,1,1,1,1,1,1,1,1,1,1,1,1,1,1,1,1,1,1,1,1,1,1,1,1,1,1,1,1,1,1,1,1,1,1,1,1,1,1,1,1,1,1,1,1,1,1,1,1,1,1,1,1,1,1,1,1,1,1,1,1,1,1,1,1,1,1,1,1,1,1,1,1,1,1,1,1,1,1,1,1,1,1,1,1,1,1,1,1,1,1,1,1,1,1,1,1,1,1,1,1,1,1,1,1,1,1,1,1,1,1,1,1,1,1,1,1,1,1,1,1,1,1,1,1,1,1,1,1,1,1,1,1,1,1,1,1,1,1,1,1,1,1,1,1,1,1,1,1,1,1,1,1,1,1,1,1,1,1,1,1,1,1,1,1,1,1,1,1,1,1,1,1,1,1,1,1,1,1,1,1,1,1,1,1,1,1,1,1,1,1,1,1,1,1,1,1,1,1,1,1,1,1,1,1,1,1,1,1,1,1,1,1,1,1,1,1,1,1,1,1,1,1,1,1,1,1,1,1,1,1,1,1,1,1,1,1,1,1,1,1,1,1,1,1,1,1,1,1,1,1,1,1,1,1,1,1,1,1,1,1,1,1,1,1,1,1,1,1,1,1,1,1,1,1,1,1,1,1,1,1,1,1,1,1,1,1,1,1,1,1,1,1,1,1,1,1,1,1,1,1,1,1,1,1,1,1,1,1,1,1,1,1,1,1,1,1,1,1,1,1,1,1,1,1,1,1,1,1,1,1,1,1,1,1,1,1,1,1,1,1,1,1,1,1,1,1,1,1,1,1,1,1,1,1,1,1,1,1,1,1,1,1,1,1,1,1,1,1,1,1,1,1,1,1,1,1,1,1,1,1,1,1,1,1,1,1,1,1,1,1,1,1,1,1,1,1,1,1,1,1,1,1,1,1,1,1,1,1,1,1,1,1,1,1,1,1,1,1,1,1,1,1,1,1,1,1,1,1,1,1,1,1,1,1,1,1,1,1,1,1,1,1,1,1,1,1,1,1,1,1],\"color\":[\"#e2514a\",\"#60bba8\",\"#fff7b2\",\"#edf8a3\",\"#f06744\",\"#fdbf6f\",\"#d23a4e\",\"#fee999\",\"#7ecca5\",\"#fdbf6f\",\"#e2514a\",\"#5e4fa2\",\"#f7844e\",\"#edf8a3\",\"#f06744\",\"#fca55d\",\"#d23a4e\",\"#fee999\",\"#7ecca5\",\"#fdbf6f\",\"#e2514a\",\"#496aaf\",\"#f7844e\",\"#edf8a3\",\"#f06744\",\"#fca55d\",\"#d23a4e\",\"#fee999\",\"#7ecca5\",\"#fdbf6f\",\"#e2514a\",\"#fdbf6f\",\"#fca55d\",\"#fca55d\",\"#d23a4e\",\"#fca55d\",\"#e2514a\",\"#fdbf6f\",\"#7ecca5\",\"#fdbf6f\",\"#7ecca5\",\"#f06744\",\"#9e0142\",\"#fee999\",\"#fee999\",\"#edf8a3\",\"#fca55d\",\"#3585bb\",\"#e2514a\",\"#e2514a\",\"#fff7b2\",\"#fff7b2\",\"#fee999\",\"#7ecca5\",\"#fff7b2\",\"#e2514a\",\"#9e0142\",\"#fff7b2\",\"#d23a4e\",\"#edf8a3\",\"#edf8a3\",\"#fee999\",\"#edf8a3\",\"#edf8a3\",\"#f06744\",\"#d23a4e\",\"#d23a4e\",\"#d23a4e\",\"#f06744\",\"#fee999\",\"#3585bb\",\"#fca55d\",\"#e2514a\",\"#fdbf6f\",\"#fca55d\",\"#fff7b2\",\"#7ecca5\",\"#fff7b2\",\"#e2514a\",\"#e2514a\",\"#9e0142\",\"#fee999\",\"#d23a4e\",\"#edf8a3\",\"#f7844e\",\"#3585bb\",\"#fee999\",\"#f06744\",\"#d23a4e\",\"#edf8a3\",\"#9e0142\",\"#edf8a3\",\"#fdbf6f\",\"#60bba8\",\"#fee999\",\"#d23a4e\",\"#7ecca5\",\"#f06744\",\"#edf8a3\",\"#60bba8\",\"#f06744\",\"#e2514a\",\"#fca55d\",\"#f9fcb5\",\"#d23a4e\",\"#fdbf6f\",\"#d23a4e\",\"#5e4fa2\",\"#fee999\",\"#fca55d\",\"#f06744\",\"#f06744\",\"#fee999\",\"#f7844e\",\"#7ecca5\",\"#fff7b2\",\"#fff7b2\",\"#fca55d\",\"#fee999\",\"#fdbf6f\",\"#fca55d\",\"#f06744\",\"#7ecca5\",\"#7ecca5\",\"#f06744\",\"#fdbf6f\",\"#e2514a\",\"#7ecca5\",\"#fdbf6f\",\"#60bba8\",\"#e2514a\",\"#47a0b3\",\"#f7844e\",\"#edf8a3\",\"#f06744\",\"#fca55d\",\"#d23a4e\",\"#fee999\",\"#7ecca5\",\"#fdbf6f\",\"#e2514a\",\"#9e0142\",\"#f7844e\",\"#edf8a3\",\"#f06744\",\"#fca55d\",\"#d23a4e\",\"#fee999\",\"#7ecca5\",\"#fdbf6f\",\"#e2514a\",\"#9e0142\",\"#f7844e\",\"#edf8a3\",\"#f06744\",\"#fca55d\",\"#d23a4e\",\"#fee999\",\"#7ecca5\",\"#fdbf6f\",\"#e2514a\",\"#fdbf6f\",\"#fca55d\",\"#fca55d\",\"#d23a4e\",\"#fca55d\",\"#e2514a\",\"#fdbf6f\",\"#7ecca5\",\"#fdbf6f\",\"#7ecca5\",\"#f06744\",\"#496aaf\",\"#fee999\",\"#fee999\",\"#edf8a3\",\"#fca55d\",\"#9e0142\",\"#e2514a\",\"#e2514a\",\"#f7844e\",\"#f7844e\",\"#fee999\",\"#7ecca5\",\"#f7844e\",\"#e2514a\",\"#9e0142\",\"#f7844e\",\"#d23a4e\",\"#edf8a3\",\"#edf8a3\",\"#fee999\",\"#edf8a3\",\"#edf8a3\",\"#f06744\",\"#d23a4e\",\"#d23a4e\",\"#d23a4e\",\"#f06744\",\"#fdbf6f\",\"#5e4fa2\",\"#fca55d\",\"#e2514a\",\"#fdbf6f\",\"#fca55d\",\"#f7844e\",\"#7ecca5\",\"#f7844e\",\"#e2514a\",\"#e2514a\",\"#9e0142\",\"#fee999\",\"#d23a4e\",\"#edf8a3\",\"#f7844e\",\"#5e4fa2\",\"#fee999\",\"#edf8a3\",\"#9e0142\",\"#edf8a3\",\"#fdbf6f\",\"#9e0142\",\"#fee999\",\"#d23a4e\",\"#7ecca5\",\"#f06744\",\"#edf8a3\",\"#5e4fa2\",\"#f06744\",\"#e2514a\",\"#fca55d\",\"#edf8a3\",\"#d23a4e\",\"#fdbf6f\",\"#d23a4e\",\"#496aaf\",\"#fee999\",\"#fca55d\",\"#f06744\",\"#f06744\",\"#fee999\",\"#f7844e\",\"#7ecca5\",\"#f7844e\",\"#f7844e\",\"#fca55d\",\"#fca55d\",\"#f06744\",\"#7ecca5\",\"#7ecca5\",\"#f06744\",\"#fdbf6f\",\"#e2514a\",\"#7ecca5\",\"#fdbf6f\",\"#7ecca5\",\"#e2514a\",\"#60bba8\",\"#f7844e\",\"#edf8a3\",\"#f06744\",\"#fca55d\",\"#d23a4e\",\"#fee999\",\"#7ecca5\",\"#daf09a\",\"#e2514a\",\"#60bba8\",\"#f7844e\",\"#edf8a3\",\"#f06744\",\"#fca55d\",\"#d23a4e\",\"#fee999\",\"#7ecca5\",\"#daf09a\",\"#e2514a\",\"#60bba8\",\"#f7844e\",\"#edf8a3\",\"#f06744\",\"#fca55d\",\"#d23a4e\",\"#fee999\",\"#7ecca5\",\"#fdbf6f\",\"#e2514a\",\"#fdbf6f\",\"#fca55d\",\"#fca55d\",\"#d23a4e\",\"#fca55d\",\"#e2514a\",\"#fdbf6f\",\"#7ecca5\",\"#fdbf6f\",\"#7ecca5\",\"#f06744\",\"#60bba8\",\"#fee999\",\"#fee999\",\"#edf8a3\",\"#fca55d\",\"#60bba8\",\"#e2514a\",\"#e2514a\",\"#f7844e\",\"#f7844e\",\"#fee999\",\"#7ecca5\",\"#f7844e\",\"#e2514a\",\"#5e4fa2\",\"#f7844e\",\"#d23a4e\",\"#edf8a3\",\"#edf8a3\",\"#fee999\",\"#edf8a3\",\"#edf8a3\",\"#f06744\",\"#d23a4e\",\"#d23a4e\",\"#d23a4e\",\"#f06744\",\"#daf09a\",\"#60bba8\",\"#fca55d\",\"#e2514a\",\"#daf09a\",\"#fca55d\",\"#f7844e\",\"#7ecca5\",\"#f7844e\",\"#e2514a\",\"#e2514a\",\"#60bba8\",\"#fee999\",\"#d23a4e\",\"#edf8a3\",\"#f7844e\",\"#60bba8\",\"#fee999\",\"#f06744\",\"#d23a4e\",\"#edf8a3\",\"#60bba8\",\"#edf8a3\",\"#daf09a\",\"#60bba8\",\"#fee999\",\"#d23a4e\",\"#7ecca5\",\"#f06744\",\"#edf8a3\",\"#60bba8\",\"#f06744\",\"#e2514a\",\"#fca55d\",\"#edf8a3\",\"#d23a4e\",\"#daf09a\",\"#d23a4e\",\"#60bba8\",\"#fee999\",\"#fca55d\",\"#f06744\",\"#f06744\",\"#fee999\",\"#f7844e\",\"#7ecca5\",\"#f7844e\",\"#f7844e\",\"#fca55d\",\"#fee999\",\"#a2d9a4\",\"#fca55d\",\"#f06744\",\"#7ecca5\",\"#7ecca5\",\"#f06744\",\"#a2d9a4\",\"#e2514a\",\"#7ecca5\",\"#daf09a\",\"#edf8a3\",\"#e2514a\",\"#47a0b3\",\"#f7844e\",\"#edf8a3\",\"#f06744\",\"#fca55d\",\"#d23a4e\",\"#bfe5a0\",\"#7ecca5\",\"#fdbf6f\",\"#e2514a\",\"#9e0142\",\"#f7844e\",\"#edf8a3\",\"#f06744\",\"#fca55d\",\"#d23a4e\",\"#bfe5a0\",\"#7ecca5\",\"#fdbf6f\",\"#e2514a\",\"#496aaf\",\"#f7844e\",\"#edf8a3\",\"#f06744\",\"#fca55d\",\"#d23a4e\",\"#bfe5a0\",\"#7ecca5\",\"#fdbf6f\",\"#e2514a\",\"#fdbf6f\",\"#fca55d\",\"#fca55d\",\"#d23a4e\",\"#fdbf6f\",\"#e2514a\",\"#fdbf6f\",\"#7ecca5\",\"#fdbf6f\",\"#7ecca5\",\"#f06744\",\"#496aaf\",\"#bfe5a0\",\"#bfe5a0\",\"#edf8a3\",\"#fca55d\",\"#9e0142\",\"#e2514a\",\"#e2514a\",\"#f7844e\",\"#f7844e\",\"#bfe5a0\",\"#7ecca5\",\"#f7844e\",\"#e2514a\",\"#b81e48\",\"#f7844e\",\"#d23a4e\",\"#edf8a3\",\"#edf8a3\",\"#bfe5a0\",\"#edf8a3\",\"#edf8a3\",\"#f06744\",\"#d23a4e\",\"#d23a4e\",\"#d23a4e\",\"#f06744\",\"#fdbf6f\",\"#496aaf\",\"#fca55d\",\"#e2514a\",\"#fdbf6f\",\"#fca55d\",\"#f7844e\",\"#7ecca5\",\"#f7844e\",\"#e2514a\",\"#e2514a\",\"#3585bb\",\"#bfe5a0\",\"#d23a4e\",\"#edf8a3\",\"#f7844e\",\"#3585bb\",\"#bfe5a0\",\"#f06744\",\"#d23a4e\",\"#edf8a3\",\"#9e0142\",\"#edf8a3\",\"#fdbf6f\",\"#9e0142\",\"#daf09a\",\"#d23a4e\",\"#7ecca5\",\"#f06744\",\"#edf8a3\",\"#3585bb\",\"#f06744\",\"#e2514a\",\"#fca55d\",\"#edf8a3\",\"#d23a4e\",\"#fdbf6f\",\"#7ecca5\",\"#496aaf\",\"#bfe5a0\",\"#fca55d\",\"#f06744\",\"#f06744\",\"#bfe5a0\",\"#f7844e\",\"#7ecca5\",\"#f7844e\",\"#fff7b2\",\"#fca55d\",\"#bfe5a0\",\"#fdbf6f\",\"#fca55d\",\"#f06744\",\"#7ecca5\",\"#7ecca5\",\"#f06744\",\"#fdbf6f\",\"#e2514a\",\"#7ecca5\",\"#fdbf6f\",\"#7ecca5\",\"#e2514a\",\"#b81e48\",\"#f7844e\",\"#fed683\",\"#f06744\",\"#fca55d\",\"#d23a4e\",\"#fee999\",\"#7ecca5\",\"#fdbf6f\",\"#e2514a\",\"#b81e48\",\"#f7844e\",\"#fed683\",\"#f06744\",\"#fca55d\",\"#d23a4e\",\"#fee999\",\"#7ecca5\",\"#fdbf6f\",\"#e2514a\",\"#b81e48\",\"#f7844e\",\"#fed683\",\"#f06744\",\"#fca55d\",\"#d23a4e\",\"#fee999\",\"#7ecca5\",\"#fdbf6f\",\"#e2514a\",\"#7ecca5\",\"#fca55d\",\"#fca55d\",\"#d23a4e\",\"#fca55d\",\"#e2514a\",\"#fdbf6f\",\"#7ecca5\",\"#fdbf6f\",\"#7ecca5\",\"#f06744\",\"#b81e48\",\"#fee999\",\"#fee999\",\"#fed683\",\"#fca55d\",\"#b81e48\",\"#e2514a\",\"#e2514a\",\"#f7844e\",\"#f7844e\",\"#fee999\",\"#7ecca5\",\"#f7844e\",\"#e2514a\",\"#b81e48\",\"#f7844e\",\"#d23a4e\",\"#fed683\",\"#edf8a3\",\"#fee999\",\"#fed683\",\"#fed683\",\"#f06744\",\"#d23a4e\",\"#d23a4e\",\"#d23a4e\",\"#f06744\",\"#fdbf6f\",\"#b81e48\",\"#fca55d\",\"#e2514a\",\"#fdbf6f\",\"#fca55d\",\"#f7844e\",\"#7ecca5\",\"#f7844e\",\"#e2514a\",\"#e2514a\",\"#b81e48\",\"#fee999\",\"#d23a4e\",\"#fed683\",\"#f7844e\",\"#b81e48\",\"#fee999\",\"#f06744\",\"#d23a4e\",\"#fed683\",\"#b81e48\",\"#fed683\",\"#fdbf6f\",\"#b81e48\",\"#fee999\",\"#d23a4e\",\"#7ecca5\",\"#f06744\",\"#fed683\",\"#60bba8\",\"#f06744\",\"#e2514a\",\"#fca55d\",\"#fed683\",\"#d23a4e\",\"#fdbf6f\",\"#d23a4e\",\"#b81e48\",\"#fee999\",\"#fca55d\",\"#f06744\",\"#f06744\",\"#fee999\",\"#f7844e\",\"#7ecca5\",\"#f7844e\",\"#f7844e\",\"#fca55d\",\"#fee999\",\"#fdbf6f\",\"#fca55d\",\"#f06744\",\"#7ecca5\",\"#7ecca5\",\"#f06744\",\"#fdbf6f\",\"#e2514a\",\"#7ecca5\",\"#fdbf6f\",\"#7ecca5\",\"#e2514a\",\"#60bba8\",\"#f7844e\",\"#edf8a3\",\"#f06744\",\"#fca55d\",\"#d23a4e\",\"#fee999\",\"#7ecca5\",\"#a2d9a4\",\"#e2514a\",\"#60bba8\",\"#f7844e\",\"#edf8a3\",\"#f06744\",\"#fca55d\",\"#d23a4e\",\"#fee999\",\"#7ecca5\",\"#a2d9a4\",\"#e2514a\",\"#60bba8\",\"#f7844e\",\"#edf8a3\",\"#f06744\",\"#fca55d\",\"#d23a4e\",\"#fee999\",\"#7ecca5\",\"#a2d9a4\",\"#e2514a\",\"#a2d9a4\",\"#fca55d\",\"#fca55d\",\"#d23a4e\",\"#fca55d\",\"#e2514a\",\"#9e0142\",\"#7ecca5\",\"#a2d9a4\",\"#7ecca5\",\"#f06744\",\"#60bba8\",\"#fee999\",\"#fee999\",\"#edf8a3\",\"#fca55d\",\"#60bba8\",\"#e2514a\",\"#e2514a\",\"#f7844e\",\"#f7844e\",\"#fee999\",\"#7ecca5\",\"#f7844e\",\"#e2514a\",\"#60bba8\",\"#f7844e\",\"#d23a4e\",\"#edf8a3\",\"#edf8a3\",\"#fee999\",\"#edf8a3\",\"#edf8a3\",\"#f06744\",\"#d23a4e\",\"#d23a4e\",\"#d23a4e\",\"#f06744\",\"#a2d9a4\",\"#60bba8\",\"#fca55d\",\"#e2514a\",\"#a2d9a4\",\"#fca55d\",\"#f7844e\",\"#7ecca5\",\"#f7844e\",\"#e2514a\",\"#e2514a\",\"#60bba8\",\"#fee999\",\"#d23a4e\",\"#edf8a3\",\"#f7844e\",\"#60bba8\",\"#fee999\",\"#f06744\",\"#d23a4e\",\"#edf8a3\",\"#60bba8\",\"#edf8a3\",\"#a2d9a4\",\"#60bba8\",\"#fee999\",\"#d23a4e\",\"#7ecca5\",\"#f06744\",\"#edf8a3\",\"#60bba8\",\"#fee999\",\"#e2514a\",\"#fca55d\",\"#edf8a3\",\"#d23a4e\",\"#a2d9a4\",\"#d23a4e\",\"#60bba8\",\"#fee999\",\"#fca55d\",\"#f06744\",\"#f06744\",\"#fee999\",\"#f7844e\",\"#7ecca5\",\"#f7844e\",\"#f7844e\",\"#fca55d\",\"#fee999\",\"#a2d9a4\",\"#fca55d\",\"#f06744\",\"#7ecca5\",\"#7ecca5\",\"#f06744\",\"#a2d9a4\",\"#e2514a\",\"#7ecca5\",\"#a2d9a4\",\"#7ecca5\",\"#e2514a\",\"#60bba8\",\"#f7844e\",\"#edf8a3\",\"#f06744\",\"#fca55d\",\"#d23a4e\",\"#fee999\",\"#7ecca5\",\"#fdbf6f\",\"#e2514a\",\"#60bba8\",\"#f7844e\",\"#edf8a3\",\"#f06744\",\"#fca55d\",\"#d23a4e\",\"#fee999\",\"#3585bb\",\"#fdbf6f\",\"#e2514a\",\"#60bba8\",\"#f7844e\",\"#edf8a3\",\"#f06744\",\"#fca55d\",\"#d23a4e\",\"#fee999\",\"#7ecca5\",\"#fdbf6f\",\"#e2514a\",\"#fdbf6f\",\"#fca55d\",\"#fca55d\",\"#d23a4e\",\"#fca55d\",\"#e2514a\",\"#fed683\",\"#7ecca5\",\"#fdbf6f\",\"#7ecca5\",\"#f06744\",\"#60bba8\",\"#fee999\",\"#fee999\",\"#edf8a3\",\"#fca55d\",\"#60bba8\",\"#e2514a\",\"#e2514a\",\"#f7844e\",\"#f7844e\",\"#fee999\",\"#7ecca5\",\"#f7844e\",\"#e2514a\",\"#b81e48\",\"#f7844e\",\"#d23a4e\",\"#edf8a3\",\"#edf8a3\",\"#fee999\",\"#edf8a3\",\"#edf8a3\",\"#f06744\",\"#d23a4e\",\"#d23a4e\",\"#d23a4e\",\"#f06744\",\"#fdbf6f\",\"#60bba8\",\"#fca55d\",\"#e2514a\",\"#fdbf6f\",\"#fca55d\",\"#f7844e\",\"#7ecca5\",\"#f7844e\",\"#e2514a\",\"#e2514a\",\"#60bba8\",\"#fee999\",\"#d23a4e\",\"#edf8a3\",\"#f7844e\",\"#60bba8\",\"#fee999\",\"#f06744\",\"#d23a4e\",\"#edf8a3\",\"#60bba8\",\"#edf8a3\",\"#fdbf6f\",\"#60bba8\",\"#fee999\",\"#d23a4e\",\"#7ecca5\",\"#f06744\",\"#edf8a3\",\"#60bba8\",\"#f06744\",\"#e2514a\",\"#fca55d\",\"#edf8a3\",\"#d23a4e\",\"#fdbf6f\",\"#d23a4e\",\"#60bba8\",\"#fee999\",\"#fca55d\",\"#f06744\",\"#f06744\",\"#fee999\",\"#f7844e\",\"#7ecca5\",\"#edf8a3\",\"#f7844e\",\"#fca55d\",\"#fee999\",\"#fdbf6f\",\"#fca55d\",\"#f06744\",\"#7ecca5\",\"#7ecca5\",\"#f06744\",\"#fdbf6f\",\"#e2514a\",\"#7ecca5\",\"#fdbf6f\",\"#7ecca5\",\"#b81e48\",\"#f7844e\",\"#edf8a3\",\"#f06744\",\"#fca55d\",\"#d23a4e\",\"#fee999\",\"#7ecca5\",\"#fdbf6f\",\"#e2514a\",\"#b81e48\",\"#f7844e\",\"#edf8a3\",\"#f06744\",\"#fca55d\",\"#d23a4e\",\"#fee999\",\"#7ecca5\",\"#fdbf6f\",\"#e2514a\",\"#b81e48\",\"#f7844e\",\"#edf8a3\",\"#f06744\",\"#fca55d\",\"#d23a4e\",\"#fee999\",\"#7ecca5\",\"#fdbf6f\",\"#e2514a\",\"#fdbf6f\",\"#fca55d\",\"#fca55d\",\"#d23a4e\",\"#fca55d\",\"#e2514a\",\"#fdbf6f\",\"#7ecca5\",\"#fdbf6f\",\"#7ecca5\",\"#f06744\",\"#b81e48\",\"#fee999\",\"#fee999\",\"#edf8a3\",\"#fca55d\",\"#b81e48\",\"#f7844e\",\"#fee999\",\"#7ecca5\",\"#f7844e\",\"#e2514a\",\"#b81e48\",\"#f7844e\",\"#d23a4e\",\"#edf8a3\",\"#edf8a3\",\"#fee999\",\"#edf8a3\",\"#edf8a3\",\"#f06744\",\"#d23a4e\",\"#d23a4e\",\"#d23a4e\",\"#f06744\",\"#fdbf6f\",\"#b81e48\",\"#fca55d\",\"#e2514a\",\"#fdbf6f\",\"#fca55d\",\"#f7844e\",\"#7ecca5\",\"#f7844e\",\"#e2514a\",\"#e2514a\",\"#b81e48\",\"#fee999\",\"#d23a4e\",\"#edf8a3\",\"#f7844e\",\"#b81e48\",\"#f06744\",\"#d23a4e\",\"#edf8a3\",\"#b81e48\",\"#edf8a3\",\"#fdbf6f\",\"#b81e48\",\"#fee999\",\"#d23a4e\",\"#7ecca5\",\"#f06744\",\"#edf8a3\",\"#b81e48\",\"#f06744\",\"#e2514a\",\"#fca55d\",\"#edf8a3\",\"#d23a4e\",\"#fdbf6f\",\"#d23a4e\",\"#b81e48\",\"#fee999\",\"#fca55d\",\"#f06744\",\"#f06744\",\"#fee999\",\"#f7844e\",\"#7ecca5\",\"#f7844e\",\"#f7844e\",\"#fca55d\",\"#fee999\",\"#fdbf6f\",\"#fca55d\",\"#f06744\",\"#f06744\",\"#fdbf6f\",\"#e2514a\",\"#7ecca5\",\"#fdbf6f\",\"#7ecca5\",\"#e2514a\",\"#60bba8\",\"#f7844e\",\"#edf8a3\",\"#f06744\",\"#fca55d\",\"#d23a4e\",\"#fee999\",\"#7ecca5\",\"#edf8a3\",\"#e2514a\",\"#60bba8\",\"#f7844e\",\"#edf8a3\",\"#f06744\",\"#fca55d\",\"#d23a4e\",\"#fee999\",\"#7ecca5\",\"#fdbf6f\",\"#e2514a\",\"#60bba8\",\"#f7844e\",\"#edf8a3\",\"#f06744\",\"#fca55d\",\"#d23a4e\",\"#fee999\",\"#7ecca5\",\"#fdbf6f\",\"#e2514a\",\"#fdbf6f\",\"#fca55d\",\"#fca55d\",\"#d23a4e\",\"#fca55d\",\"#e2514a\",\"#fdbf6f\",\"#7ecca5\",\"#fdbf6f\",\"#7ecca5\",\"#f06744\",\"#60bba8\",\"#fee999\",\"#fee999\",\"#edf8a3\",\"#fca55d\",\"#60bba8\",\"#e2514a\",\"#e2514a\",\"#fee999\",\"#7ecca5\",\"#f7844e\",\"#e2514a\",\"#60bba8\",\"#f7844e\",\"#d23a4e\",\"#edf8a3\",\"#edf8a3\",\"#fee999\",\"#edf8a3\",\"#edf8a3\",\"#f06744\",\"#d23a4e\",\"#d23a4e\",\"#d23a4e\",\"#f06744\",\"#fdbf6f\",\"#60bba8\",\"#fca55d\",\"#e2514a\",\"#7ecca5\",\"#fca55d\",\"#f7844e\",\"#7ecca5\",\"#f7844e\",\"#e2514a\",\"#e2514a\",\"#60bba8\",\"#fee999\",\"#d23a4e\",\"#edf8a3\",\"#f7844e\",\"#60bba8\",\"#fee999\",\"#f06744\",\"#d23a4e\",\"#edf8a3\",\"#60bba8\",\"#fee999\",\"#fdbf6f\",\"#60bba8\",\"#fee999\",\"#d23a4e\",\"#7ecca5\",\"#f06744\",\"#edf8a3\",\"#60bba8\",\"#f06744\",\"#e2514a\",\"#fca55d\",\"#edf8a3\",\"#d23a4e\",\"#fdbf6f\",\"#d23a4e\",\"#60bba8\",\"#fee999\",\"#fca55d\",\"#f06744\",\"#f06744\",\"#fee999\",\"#f7844e\",\"#7ecca5\",\"#f7844e\",\"#f7844e\",\"#fca55d\",\"#fee999\",\"#fdbf6f\",\"#fca55d\",\"#f06744\",\"#7ecca5\",\"#7ecca5\",\"#f06744\",\"#fdbf6f\",\"#e2514a\",\"#7ecca5\",\"#fdbf6f\",\"#7ecca5\",\"#e2514a\",\"#3585bb\",\"#f7844e\",\"#edf8a3\",\"#f06744\",\"#fca55d\",\"#d23a4e\",\"#fee999\",\"#7ecca5\",\"#fdbf6f\",\"#e2514a\",\"#3585bb\",\"#f7844e\",\"#edf8a3\",\"#f06744\",\"#fca55d\",\"#d23a4e\",\"#fee999\",\"#7ecca5\",\"#fdbf6f\",\"#e2514a\",\"#60bba8\",\"#f7844e\",\"#edf8a3\",\"#f06744\",\"#fca55d\",\"#d23a4e\",\"#fee999\",\"#7ecca5\",\"#fdbf6f\",\"#e2514a\",\"#fdbf6f\",\"#fca55d\",\"#fca55d\",\"#d23a4e\",\"#fca55d\",\"#e2514a\",\"#fdbf6f\",\"#7ecca5\",\"#fdbf6f\",\"#7ecca5\",\"#f06744\",\"#60bba8\",\"#fee999\",\"#fee999\",\"#f9fcb5\",\"#fca55d\",\"#9e0142\",\"#e2514a\",\"#e2514a\",\"#f7844e\",\"#f7844e\",\"#fee999\",\"#7ecca5\",\"#f7844e\",\"#e2514a\",\"#60bba8\",\"#f7844e\",\"#d23a4e\",\"#edf8a3\",\"#edf8a3\",\"#fee999\",\"#edf8a3\",\"#edf8a3\",\"#f06744\",\"#d23a4e\",\"#d23a4e\",\"#d23a4e\",\"#f06744\",\"#fdbf6f\",\"#60bba8\",\"#fca55d\",\"#e2514a\",\"#fdbf6f\",\"#fca55d\",\"#f7844e\",\"#7ecca5\",\"#f7844e\",\"#e2514a\",\"#e2514a\",\"#60bba8\",\"#fee999\",\"#d23a4e\",\"#edf8a3\",\"#f7844e\",\"#60bba8\",\"#fee999\",\"#f06744\",\"#d23a4e\",\"#edf8a3\",\"#60bba8\",\"#edf8a3\",\"#fdbf6f\",\"#60bba8\",\"#fee999\",\"#d23a4e\",\"#7ecca5\",\"#f06744\",\"#edf8a3\",\"#60bba8\",\"#f06744\",\"#e2514a\",\"#fca55d\",\"#edf8a3\",\"#d23a4e\",\"#fdbf6f\",\"#d23a4e\",\"#60bba8\",\"#fee999\",\"#fca55d\",\"#f06744\",\"#f06744\",\"#fee999\",\"#f7844e\",\"#7ecca5\",\"#f7844e\",\"#f7844e\",\"#fca55d\",\"#fee999\",\"#fdbf6f\",\"#fca55d\",\"#f06744\",\"#7ecca5\",\"#7ecca5\",\"#f06744\",\"#fdbf6f\",\"#e2514a\",\"#7ecca5\",\"#fdbf6f\",\"#7ecca5\",\"#e2514a\",\"#47a0b3\",\"#f7844e\",\"#edf8a3\",\"#f06744\",\"#fca55d\",\"#d23a4e\",\"#fee999\",\"#7ecca5\",\"#fdbf6f\",\"#e2514a\",\"#60bba8\",\"#f7844e\",\"#edf8a3\",\"#f06744\",\"#fca55d\",\"#d23a4e\",\"#fee999\",\"#7ecca5\",\"#fdbf6f\",\"#e2514a\",\"#9e0142\",\"#f7844e\",\"#edf8a3\",\"#f06744\",\"#fca55d\",\"#d23a4e\",\"#fee999\",\"#7ecca5\",\"#fdbf6f\",\"#e2514a\",\"#fdbf6f\",\"#fca55d\",\"#fca55d\",\"#d23a4e\",\"#fca55d\",\"#e2514a\",\"#fdbf6f\",\"#7ecca5\",\"#fdbf6f\",\"#7ecca5\",\"#f06744\",\"#60bba8\",\"#fee999\",\"#fee999\",\"#edf8a3\",\"#fca55d\",\"#60bba8\",\"#e2514a\",\"#e2514a\",\"#f7844e\",\"#f7844e\",\"#fee999\",\"#7ecca5\",\"#f7844e\",\"#e2514a\",\"#496aaf\",\"#f7844e\",\"#d23a4e\",\"#edf8a3\",\"#edf8a3\",\"#fee999\",\"#edf8a3\",\"#edf8a3\",\"#f06744\",\"#d23a4e\",\"#d23a4e\",\"#d23a4e\",\"#f06744\",\"#fdbf6f\",\"#60bba8\",\"#fca55d\",\"#e2514a\",\"#fdbf6f\",\"#d23a4e\",\"#f7844e\",\"#7ecca5\",\"#f7844e\",\"#e2514a\",\"#e2514a\",\"#3585bb\",\"#fee999\",\"#d23a4e\",\"#edf8a3\",\"#f7844e\",\"#60bba8\",\"#fee999\",\"#f06744\",\"#d23a4e\",\"#edf8a3\",\"#60bba8\",\"#edf8a3\",\"#fdbf6f\",\"#60bba8\",\"#fee999\",\"#d23a4e\",\"#7ecca5\",\"#f06744\",\"#edf8a3\",\"#60bba8\",\"#f06744\",\"#e2514a\",\"#fca55d\",\"#edf8a3\",\"#d23a4e\",\"#fdbf6f\",\"#d23a4e\",\"#60bba8\",\"#fee999\",\"#fca55d\",\"#f06744\",\"#f06744\",\"#fee999\",\"#f7844e\",\"#7ecca5\",\"#f7844e\",\"#f7844e\",\"#fca55d\",\"#fee999\",\"#fdbf6f\",\"#fca55d\",\"#f06744\",\"#7ecca5\",\"#7ecca5\",\"#f06744\",\"#fdbf6f\",\"#e2514a\",\"#7ecca5\",\"#e2514a\",\"#47a0b3\",\"#f7844e\",\"#edf8a3\",\"#f06744\",\"#fca55d\",\"#d23a4e\",\"#fee999\",\"#7ecca5\",\"#fdbf6f\",\"#e2514a\",\"#47a0b3\",\"#f7844e\",\"#edf8a3\",\"#f06744\",\"#fca55d\",\"#d23a4e\",\"#fee999\",\"#7ecca5\",\"#fdbf6f\",\"#e2514a\",\"#9e0142\",\"#f7844e\",\"#edf8a3\",\"#f06744\",\"#fca55d\",\"#d23a4e\",\"#fee999\",\"#7ecca5\",\"#fdbf6f\",\"#e2514a\",\"#fdbf6f\",\"#fca55d\",\"#fca55d\",\"#d23a4e\",\"#fca55d\",\"#e2514a\",\"#fdbf6f\",\"#7ecca5\",\"#fdbf6f\",\"#7ecca5\",\"#f06744\",\"#47a0b3\",\"#fee999\",\"#fee999\",\"#edf8a3\",\"#fca55d\",\"#47a0b3\",\"#e2514a\",\"#e2514a\",\"#f7844e\",\"#f7844e\",\"#fee999\",\"#7ecca5\",\"#f7844e\",\"#e2514a\",\"#47a0b3\",\"#f7844e\",\"#d23a4e\",\"#edf8a3\",\"#edf8a3\",\"#fee999\",\"#edf8a3\",\"#edf8a3\",\"#f06744\",\"#d23a4e\",\"#d23a4e\",\"#d23a4e\",\"#f06744\",\"#fdbf6f\",\"#47a0b3\",\"#fca55d\",\"#e2514a\",\"#fdbf6f\",\"#fca55d\",\"#f7844e\",\"#7ecca5\",\"#f7844e\",\"#e2514a\",\"#e2514a\",\"#47a0b3\",\"#fee999\",\"#d23a4e\",\"#edf8a3\",\"#f7844e\",\"#47a0b3\",\"#fee999\",\"#f06744\",\"#d23a4e\",\"#edf8a3\",\"#9e0142\",\"#edf8a3\",\"#fdbf6f\",\"#47a0b3\",\"#fee999\",\"#d23a4e\",\"#7ecca5\",\"#f06744\",\"#edf8a3\",\"#47a0b3\",\"#f06744\",\"#e2514a\",\"#fca55d\",\"#edf8a3\",\"#d23a4e\",\"#fdbf6f\",\"#d23a4e\",\"#47a0b3\",\"#fee999\",\"#fca55d\",\"#f06744\",\"#f06744\",\"#fee999\",\"#f7844e\",\"#7ecca5\",\"#f7844e\",\"#f7844e\",\"#fca55d\",\"#fee999\",\"#fdbf6f\",\"#fca55d\",\"#f06744\",\"#7ecca5\",\"#7ecca5\",\"#f06744\",\"#fdbf6f\",\"#e2514a\",\"#7ecca5\",\"#fdbf6f\",\"#7ecca5\",\"#e2514a\",\"#60bba8\",\"#f7844e\",\"#edf8a3\",\"#f06744\",\"#fca55d\",\"#d23a4e\",\"#fee999\",\"#60bba8\",\"#a2d9a4\",\"#e2514a\",\"#60bba8\",\"#f7844e\",\"#edf8a3\",\"#f06744\",\"#fca55d\",\"#d23a4e\",\"#a2d9a4\",\"#e2514a\",\"#60bba8\",\"#f7844e\",\"#edf8a3\",\"#f06744\",\"#fca55d\",\"#d23a4e\",\"#fee999\",\"#7ecca5\",\"#a2d9a4\",\"#e2514a\",\"#a2d9a4\",\"#fca55d\",\"#fca55d\",\"#d23a4e\",\"#fca55d\",\"#e2514a\",\"#daf09a\",\"#7ecca5\",\"#fca55d\",\"#7ecca5\",\"#f06744\",\"#60bba8\",\"#fee999\",\"#fee999\",\"#f9fcb5\",\"#fca55d\",\"#60bba8\",\"#e2514a\",\"#e2514a\",\"#f7844e\",\"#f7844e\",\"#fee999\",\"#7ecca5\",\"#f7844e\",\"#e2514a\",\"#60bba8\",\"#f7844e\",\"#d23a4e\",\"#f9fcb5\",\"#f9fcb5\",\"#fee999\",\"#f9fcb5\",\"#f9fcb5\",\"#f06744\",\"#d23a4e\",\"#d23a4e\",\"#d23a4e\",\"#fee999\",\"#a2d9a4\",\"#60bba8\",\"#fca55d\",\"#e2514a\",\"#fdbf6f\",\"#fca55d\",\"#f7844e\",\"#7ecca5\",\"#e2514a\",\"#60bba8\",\"#fee999\",\"#d23a4e\",\"#edf8a3\",\"#f7844e\",\"#60bba8\",\"#fee999\",\"#fee999\",\"#d23a4e\",\"#edf8a3\",\"#60bba8\",\"#edf8a3\",\"#daf09a\",\"#60bba8\",\"#fee999\",\"#d23a4e\",\"#7ecca5\",\"#f06744\",\"#edf8a3\",\"#60bba8\",\"#f06744\",\"#e2514a\",\"#fca55d\",\"#edf8a3\",\"#d23a4e\",\"#fdbf6f\",\"#d23a4e\",\"#60bba8\",\"#fee999\",\"#fca55d\",\"#f06744\",\"#f06744\",\"#fee999\",\"#f7844e\",\"#f7844e\",\"#fca55d\",\"#fee999\",\"#edf8a3\",\"#fca55d\",\"#fee999\",\"#f06744\",\"#fca55d\",\"#e2514a\",\"#7ecca5\",\"#daf09a\",\"#7ecca5\",\"#e2514a\",\"#60bba8\",\"#f7844e\",\"#edf8a3\",\"#f06744\",\"#fca55d\",\"#d23a4e\",\"#fee999\",\"#7ecca5\",\"#fdbf6f\",\"#e2514a\",\"#60bba8\",\"#f7844e\",\"#f9fcb5\",\"#f06744\",\"#fca55d\",\"#d23a4e\",\"#fee999\",\"#7ecca5\",\"#fdbf6f\",\"#e2514a\",\"#60bba8\",\"#f7844e\",\"#edf8a3\",\"#f06744\",\"#fca55d\",\"#d23a4e\",\"#fee999\",\"#7ecca5\",\"#fdbf6f\",\"#e2514a\",\"#fdbf6f\",\"#fca55d\",\"#fca55d\",\"#d23a4e\",\"#fca55d\",\"#e2514a\",\"#fdbf6f\",\"#7ecca5\",\"#fdbf6f\",\"#7ecca5\",\"#f06744\",\"#60bba8\",\"#fee999\",\"#fee999\",\"#f9fcb5\",\"#fca55d\",\"#60bba8\",\"#e2514a\",\"#e2514a\",\"#f7844e\",\"#f7844e\",\"#fee999\",\"#7ecca5\",\"#f7844e\",\"#e2514a\",\"#60bba8\",\"#f7844e\",\"#d23a4e\",\"#f9fcb5\",\"#f9fcb5\",\"#fee999\",\"#edf8a3\",\"#f9fcb5\",\"#f06744\",\"#d23a4e\",\"#d23a4e\",\"#d23a4e\",\"#f06744\",\"#fdbf6f\",\"#60bba8\",\"#fca55d\",\"#e2514a\",\"#fdbf6f\",\"#fca55d\",\"#f7844e\",\"#7ecca5\",\"#f7844e\",\"#e2514a\",\"#e2514a\",\"#60bba8\",\"#fee999\",\"#d23a4e\",\"#f9fcb5\",\"#f7844e\",\"#60bba8\",\"#fee999\",\"#f06744\",\"#d23a4e\",\"#edf8a3\",\"#60bba8\",\"#edf8a3\",\"#fdbf6f\",\"#60bba8\",\"#fee999\",\"#d23a4e\",\"#7ecca5\",\"#f06744\",\"#edf8a3\",\"#60bba8\",\"#f06744\",\"#e2514a\",\"#fca55d\",\"#edf8a3\",\"#d23a4e\",\"#fdbf6f\",\"#d23a4e\",\"#60bba8\",\"#fee999\",\"#fca55d\",\"#f06744\",\"#f06744\",\"#fee999\",\"#f7844e\",\"#7ecca5\",\"#f7844e\",\"#f7844e\",\"#fca55d\",\"#fee999\",\"#fdbf6f\",\"#fca55d\",\"#f06744\",\"#7ecca5\",\"#60bba8\",\"#f06744\",\"#fdbf6f\",\"#e2514a\",\"#7ecca5\",\"#fdbf6f\",\"#7ecca5\"],\"hdbscanlabel\":[2,16,9,11,3,6,1,8,15,6,2,20,4,11,3,5,1,8,15,6,2,19,4,11,3,5,1,8,15,6,2,6,5,5,1,5,2,6,15,6,15,3,-1,8,8,11,5,18,2,2,9,9,8,15,9,2,-1,9,1,11,11,8,11,11,3,1,1,1,3,8,18,5,2,6,5,9,15,9,2,2,-1,8,1,11,4,18,8,3,1,11,-1,11,6,16,8,1,15,3,11,16,3,2,5,10,1,6,1,20,8,5,3,3,8,4,15,9,9,5,8,6,5,3,15,15,3,6,2,15,6,16,2,17,4,11,3,5,1,8,15,6,2,-1,4,11,3,5,1,8,15,6,2,-1,4,11,3,5,1,8,15,6,2,6,5,5,1,5,2,6,15,6,15,3,19,8,8,11,5,-1,2,2,4,4,8,15,4,2,-1,4,1,11,11,8,11,11,3,1,1,1,3,6,20,5,2,6,5,4,15,4,2,2,-1,8,1,11,4,20,8,11,-1,11,6,-1,8,1,15,3,11,20,3,2,5,11,1,6,1,19,8,5,3,3,8,4,15,4,4,5,5,3,15,15,3,6,2,15,6,15,2,16,4,11,3,5,1,8,15,12,2,16,4,11,3,5,1,8,15,12,2,16,4,11,3,5,1,8,15,6,2,6,5,5,1,5,2,6,15,6,15,3,16,8,8,11,5,16,2,2,4,4,8,15,4,2,20,4,1,11,11,8,11,11,3,1,1,1,3,12,16,5,2,12,5,4,15,4,2,2,16,8,1,11,4,16,8,3,1,11,16,11,12,16,8,1,15,3,11,16,3,2,5,11,1,12,1,16,8,5,3,3,8,4,15,4,4,5,8,14,5,3,15,15,3,14,2,15,12,11,2,17,4,11,3,5,1,13,15,6,2,-1,4,11,3,5,1,13,15,6,2,19,4,11,3,5,1,13,15,6,2,6,5,5,1,6,2,6,15,6,15,3,19,13,13,11,5,-1,2,2,4,4,13,15,4,2,0,4,1,11,11,13,11,11,3,1,1,1,3,6,19,5,2,6,5,4,15,4,2,2,18,13,1,11,4,18,13,3,1,11,-1,11,6,-1,12,1,15,3,11,18,3,2,5,11,1,6,15,19,13,5,3,3,13,4,15,4,9,5,13,6,5,3,15,15,3,6,2,15,6,15,2,0,4,7,3,5,1,8,15,6,2,0,4,7,3,5,1,8,15,6,2,0,4,7,3,5,1,8,15,6,2,15,5,5,1,5,2,6,15,6,15,3,0,8,8,7,5,0,2,2,4,4,8,15,4,2,0,4,1,7,11,8,7,7,3,1,1,1,3,6,0,5,2,6,5,4,15,4,2,2,0,8,1,7,4,0,8,3,1,7,0,7,6,0,8,1,15,3,7,16,3,2,5,7,1,6,1,0,8,5,3,3,8,4,15,4,4,5,8,6,5,3,15,15,3,6,2,15,6,15,2,16,4,11,3,5,1,8,15,14,2,16,4,11,3,5,1,8,15,14,2,16,4,11,3,5,1,8,15,14,2,14,5,5,1,5,2,-1,15,14,15,3,16,8,8,11,5,16,2,2,4,4,8,15,4,2,16,4,1,11,11,8,11,11,3,1,1,1,3,14,16,5,2,14,5,4,15,4,2,2,16,8,1,11,4,16,8,3,1,11,16,11,14,16,8,1,15,3,11,16,8,2,5,11,1,14,1,16,8,5,3,3,8,4,15,4,4,5,8,14,5,3,15,15,3,14,2,15,14,15,2,16,4,11,3,5,1,8,15,6,2,16,4,11,3,5,1,8,18,6,2,16,4,11,3,5,1,8,15,6,2,6,5,5,1,5,2,7,15,6,15,3,16,8,8,11,5,16,2,2,4,4,8,15,4,2,0,4,1,11,11,8,11,11,3,1,1,1,3,6,16,5,2,6,5,4,15,4,2,2,16,8,1,11,4,16,8,3,1,11,16,11,6,16,8,1,15,3,11,16,3,2,5,11,1,6,1,16,8,5,3,3,8,4,15,11,4,5,8,6,5,3,15,15,3,6,2,15,6,15,0,4,11,3,5,1,8,15,6,2,0,4,11,3,5,1,8,15,6,2,0,4,11,3,5,1,8,15,6,2,6,5,5,1,5,2,6,15,6,15,3,0,8,8,11,5,0,4,8,15,4,2,0,4,1,11,11,8,11,11,3,1,1,1,3,6,0,5,2,6,5,4,15,4,2,2,0,8,1,11,4,0,3,1,11,0,11,6,0,8,1,15,3,11,0,3,2,5,11,1,6,1,0,8,5,3,3,8,4,15,4,4,5,8,6,5,3,3,6,2,15,6,15,2,16,4,11,3,5,1,8,15,11,2,16,4,11,3,5,1,8,15,6,2,16,4,11,3,5,1,8,15,6,2,6,5,5,1,5,2,6,15,6,15,3,16,8,8,11,5,16,2,2,8,15,4,2,16,4,1,11,11,8,11,11,3,1,1,1,3,6,16,5,2,15,5,4,15,4,2,2,16,8,1,11,4,16,8,3,1,11,16,8,6,16,8,1,15,3,11,16,3,2,5,11,1,6,1,16,8,5,3,3,8,4,15,4,4,5,8,6,5,3,15,15,3,6,2,15,6,15,2,18,4,11,3,5,1,8,15,6,2,18,4,11,3,5,1,8,15,6,2,16,4,11,3,5,1,8,15,6,2,6,5,5,1,5,2,6,15,6,15,3,16,8,8,10,5,-1,2,2,4,4,8,15,4,2,16,4,1,11,11,8,11,11,3,1,1,1,3,6,16,5,2,6,5,4,15,4,2,2,16,8,1,11,4,16,8,3,1,11,16,11,6,16,8,1,15,3,11,16,3,2,5,11,1,6,1,16,8,5,3,3,8,4,15,4,4,5,8,6,5,3,15,15,3,6,2,15,6,15,2,17,4,11,3,5,1,8,15,6,2,16,4,11,3,5,1,8,15,6,2,-1,4,11,3,5,1,8,15,6,2,6,5,5,1,5,2,6,15,6,15,3,16,8,8,11,5,16,2,2,4,4,8,15,4,2,19,4,1,11,11,8,11,11,3,1,1,1,3,6,16,5,2,6,1,4,15,4,2,2,18,8,1,11,4,16,8,3,1,11,16,11,6,16,8,1,15,3,11,16,3,2,5,11,1,6,1,16,8,5,3,3,8,4,15,4,4,5,8,6,5,3,15,15,3,6,2,15,2,17,4,11,3,5,1,8,15,6,2,17,4,11,3,5,1,8,15,6,2,-1,4,11,3,5,1,8,15,6,2,6,5,5,1,5,2,6,15,6,15,3,17,8,8,11,5,17,2,2,4,4,8,15,4,2,17,4,1,11,11,8,11,11,3,1,1,1,3,6,17,5,2,6,5,4,15,4,2,2,17,8,1,11,4,17,8,3,1,11,-1,11,6,17,8,1,15,3,11,17,3,2,5,11,1,6,1,17,8,5,3,3,8,4,15,4,4,5,8,6,5,3,15,15,3,6,2,15,6,15,2,16,4,11,3,5,1,8,16,14,2,16,4,11,3,5,1,14,2,16,4,11,3,5,1,8,15,14,2,14,5,5,1,5,2,12,15,5,15,3,16,8,8,10,5,16,2,2,4,4,8,15,4,2,16,4,1,10,10,8,10,10,3,1,1,1,8,14,16,5,2,6,5,4,15,2,16,8,1,11,4,16,8,8,1,11,16,11,12,16,8,1,15,3,11,16,3,2,5,11,1,6,1,16,8,5,3,3,8,4,4,5,8,11,5,8,3,5,2,15,12,15,2,16,4,11,3,5,1,8,15,6,2,16,4,10,3,5,1,8,15,6,2,16,4,11,3,5,1,8,15,6,2,6,5,5,1,5,2,6,15,6,15,3,16,8,8,10,5,16,2,2,4,4,8,15,4,2,16,4,1,10,10,8,11,10,3,1,1,1,3,6,16,5,2,6,5,4,15,4,2,2,16,8,1,10,4,16,8,3,1,11,16,11,6,16,8,1,15,3,11,16,3,2,5,11,1,6,1,16,8,5,3,3,8,4,15,4,4,5,8,6,5,3,15,16,3,6,2,15,6,15],\"index\":[0,1,2,3,4,5,6,7,8,9,10,11,12,13,14,15,16,17,18,19,20,21,22,23,24,25,26,27,28,29,30,31,32,33,34,35,36,37,38,39,40,41,42,43,44,45,46,47,48,49,50,51,52,53,54,55,56,57,58,59,60,61,62,63,64,65,66,67,68,69,70,71,72,73,74,75,76,77,78,79,80,81,82,83,84,85,86,87,88,89,90,91,92,93,94,95,96,97,98,99,100,101,102,103,104,105,106,107,108,109,110,111,112,113,114,115,116,117,118,119,120,121,122,123,124,125,126,127,128,129,130,131,132,133,134,135,136,137,138,139,140,141,142,143,144,145,146,147,148,149,150,151,152,153,154,155,156,157,158,159,160,161,162,163,164,165,166,167,168,169,170,171,172,173,174,175,176,177,178,179,180,181,182,183,184,185,186,187,188,189,190,191,192,193,194,195,196,197,198,199,200,201,202,203,204,205,206,207,208,209,210,211,212,213,214,215,216,217,218,219,220,221,222,223,224,225,226,227,228,229,230,231,232,233,234,235,236,237,238,239,240,241,242,243,244,245,246,247,248,249,250,251,252,253,254,255,256,257,258,259,260,261,262,263,264,265,266,267,268,269,270,271,272,273,274,275,276,277,278,279,280,281,282,283,284,285,286,287,288,289,290,291,292,293,294,295,296,297,298,299,300,301,302,303,304,305,306,307,308,309,310,311,312,313,314,315,316,317,318,319,320,321,322,323,324,325,326,327,328,329,330,331,332,333,334,335,336,337,338,339,340,341,342,343,344,345,346,347,348,349,350,351,352,353,354,355,356,357,358,359,360,361,362,363,364,365,366,367,368,369,370,371,372,373,374,375,376,377,378,379,380,381,382,383,384,385,386,387,388,389,390,391,392,393,394,395,396,397,398,399,400,401,402,403,404,405,406,407,408,409,410,411,412,413,414,415,416,417,418,419,420,421,422,423,424,425,426,427,428,429,430,431,432,433,434,435,436,437,438,439,440,441,442,443,444,445,446,447,448,449,450,451,452,453,454,455,456,457,458,459,460,461,462,463,464,465,466,467,468,469,470,471,472,473,474,475,476,477,478,479,480,481,482,483,484,485,486,487,488,489,490,491,492,493,494,495,496,497,498,499,500,501,502,503,504,505,506,507,508,509,510,511,512,513,514,515,516,517,518,519,520,521,522,523,524,525,526,527,528,529,530,531,532,533,534,535,536,537,538,539,540,541,542,543,544,545,546,547,548,549,550,551,552,553,554,555,556,557,558,559,560,561,562,563,564,565,566,567,568,569,570,571,572,573,574,575,576,577,578,579,580,581,582,583,584,585,586,587,588,589,590,591,592,593,594,595,596,597,598,599,600,601,602,603,604,605,606,607,608,609,610,611,612,613,614,615,616,617,618,619,620,621,622,623,624,625,626,627,628,629,630,631,632,633,634,635,636,637,638,639,640,641,642,643,644,645,646,647,648,649,650,651,652,653,654,655,656,657,658,659,660,661,662,663,664,665,666,667,668,669,670,671,672,673,674,675,676,677,678,679,680,681,682,683,684,685,686,687,688,689,690,691,692,693,694,695,696,697,698,699,700,701,702,703,704,705,706,707,708,709,710,711,712,713,714,715,716,717,718,719,720,721,722,723,724,725,726,727,728,729,730,731,732,733,734,735,736,737,738,739,740,741,742,743,744,745,746,747,748,749,750,751,752,753,754,755,756,757,758,759,760,761,762,763,764,765,766,767,768,769,770,771,772,773,774,775,776,777,778,779,780,781,782,783,784,785,786,787,788,789,790,791,792,793,794,795,796,797,798,799,800,801,802,803,804,805,806,807,808,809,810,811,812,813,814,815,816,817,818,819,820,821,822,823,824,825,826,827,828,829,830,831,832,833,834,835,836,837,838,839,840,841,842,843,844,845,846,847,848,849,850,851,852,853,854,855,856,857,858,859,860,861,862,863,864,865,866,867,868,869,870,871,872,873,874,875,876,877,878,879,880,881,882,883,884,885,886,887,888,889,890,891,892,893,894,895,896,897,898,899,900,901,902,903,904,905,906,907,908,909,910,911,912,913,914,915,916,917,918,919,920,921,922,923,924,925,926,927,928,929,930,931,932,933,934,935,936,937,938,939,940,941,942,943,944,945,946,947,948,949,950,951,952,953,954,955,956,957,958,959,960,961,962,963,964,965,966,967,968,969,970,971,972,973,974,975,976,977,978,979,980,981,982,983,984,985,986,987,988,989,990,991,992,993,994,995,996,997,998,999,1000,1001,1002,1003,1004,1005,1006,1007,1008,1009,1010,1011,1012,1013,1014,1015,1016,1017,1018,1019,1020,1021,1022,1023,1024,1025,1026,1027,1028,1029,1030,1031,1032,1033,1034,1035,1036,1037,1038,1039,1040,1041,1042,1043,1044,1045,1046,1047,1048,1049,1050,1051,1052,1053,1054,1055,1056,1057,1058,1059,1060,1061,1062,1063,1064,1065,1066,1067,1068,1069,1070,1071,1072,1073,1074,1075,1076,1077,1078,1079,1080,1081,1082,1083,1084,1085,1086,1087,1088,1089,1090,1091,1092,1093,1094,1095,1096,1097,1098,1099,1100,1101,1102,1103,1104,1105,1106,1107,1108,1109,1110,1111,1112,1113,1114,1115,1116,1117,1118,1119,1120,1121,1122,1123,1124,1125,1126,1127,1128,1129,1130,1131,1132,1133,1134,1135,1136,1137,1138,1139,1140,1141,1142,1143,1144,1145,1146,1147,1148,1149,1150,1151,1152,1153,1154,1155,1156,1157,1158,1159,1160,1161,1162,1163,1164,1165,1166,1167,1168,1169,1170,1171,1172,1173,1174,1175,1176,1177,1178,1179,1180,1181,1182,1183,1184,1185,1186,1187,1188,1189,1190,1191,1192,1193,1194,1195,1196,1197,1198,1199,1200,1201,1202,1203,1204,1205,1206,1207,1208,1209,1210,1211,1212,1213,1214,1215,1216,1217,1218,1219,1220,1221,1222,1223,1224,1225,1226,1227,1228,1229,1230,1231,1232,1233,1234,1235,1236,1237,1238,1239,1240,1241,1242,1243,1244,1245,1246,1247,1248,1249,1250,1251,1252,1253,1254,1255,1256,1257,1258,1259,1260,1261,1262,1263,1264,1265,1266,1267,1268,1269,1270,1271,1272,1273,1274,1275,1276,1277,1278,1279,1280,1281,1282,1283,1284,1285,1286,1287,1288,1289,1290,1291,1292,1293,1294,1295,1296,1297,1298,1299,1300,1301,1302,1303,1304,1305,1306,1307,1308,1309,1310,1311,1312,1313,1314,1315,1316,1317,1318,1319,1320,1321,1322,1323,1324,1325,1326,1327,1328,1329,1330,1331,1332,1333,1334,1335,1336,1337,1338,1339,1340,1341,1342,1343,1344,1345,1346,1347,1348,1349,1350,1351,1352,1353,1354,1355,1356,1357,1358,1359,1360,1361,1362,1363,1364,1365,1366,1367,1368,1369,1370,1371,1372,1373,1374,1375,1376,1377,1378,1379,1380,1381,1382,1383,1384,1385,1386,1387,1388,1389,1390,1391,1392,1393,1394,1395,1396,1397,1398,1399,1400,1401,1402,1403,1404,1405,1406,1407,1408,1409,1410,1411,1412,1413,1414,1415,1416,1417,1418,1419,1420,1421,1422,1423,1424,1425,1426,1427,1428,1429,1430,1431,1432,1433,1434,1435,1436,1437,1438,1439,1440,1441,1442,1443,1444,1445,1446,1447,1448,1449,1450,1451,1452,1453,1454,1455,1456,1457,1458,1459,1460,1461,1462,1463,1464,1465,1466,1467,1468,1469,1470,1471,1472,1473,1474,1475,1476,1477,1478,1479,1480,1481,1482,1483,1484,1485,1486,1487,1488,1489,1490,1491,1492,1493,1494,1495,1496,1497,1498,1499,1500,1501,1502,1503,1504,1505,1506,1507,1508,1509,1510,1511,1512,1513,1514,1515,1516,1517,1518,1519,1520,1521,1522,1523,1524,1525,1526,1527,1528,1529,1530,1531,1532,1533,1534,1535,1536,1537,1538,1539,1540,1541,1542,1543,1544,1545,1546,1547,1548,1549,1550,1551,1552,1553,1554,1555,1556,1557,1558,1559,1560,1561,1562,1563,1564,1565,1566,1567,1568,1569,1570,1571,1572,1573,1574,1575,1576,1577,1578,1579,1580,1581,1582,1583,1584,1585,1586,1587,1588,1589,1590,1591,1592,1593,1594,1595,1596,1597,1598,1599,1600,1601,1602,1603,1604,1605,1606,1607,1608,1609,1610,1611,1612,1613,1614,1615,1616,1617,1618,1619,1620,1621,1622,1623,1624,1625,1626,1627,1628,1629,1630,1631,1632,1633,1634,1635,1636,1637,1638,1639,1640,1641,1642,1643,1644,1645,1646,1647,1648,1649,1650,1651,1652,1653,1654,1655,1656,1657,1658,1659,1660,1661,1662,1663,1664,1665,1666,1667,1668,1669,1670,1671,1672,1673,1674,1675,1676,1677,1678,1679,1680,1681,1682,1683,1684,1685,1686,1687,1688,1689,1690,1691,1692,1693,1694,1695,1696,1697,1698,1699,1700,1701,1702,1703,1704,1705,1706,1707,1708,1709,1710,1711,1712,1713,1714,1715,1716,1717,1718,1719,1720,1721,1722,1723,1724,1725,1726,1727,1728,1729,1730,1731,1732,1733,1734,1735,1736,1737,1738,1739,1740,1741,1742,1743,1744,1745,1746,1747,1748,1749,1750,1751,1752,1753,1754,1755,1756,1757,1758,1759,1760,1761,1762,1763,1764,1765,1766,1767,1768,1769,1770,1771,1772,1773,1774,1775,1776,1777,1778,1779,1780,1781,1782,1783,1784,1785,1786,1787,1788,1789,1790,1791,1792,1793,1794,1795,1796],\"label\":[2,16,9,11,3,6,1,8,15,6,2,20,4,11,3,5,1,8,15,6,2,19,4,11,3,5,1,8,15,6,2,6,5,5,1,5,2,6,15,6,15,3,-1,8,8,11,5,18,2,2,9,9,8,15,9,2,-1,9,1,11,11,8,11,11,3,1,1,1,3,8,18,5,2,6,5,9,15,9,2,2,-1,8,1,11,4,18,8,3,1,11,-1,11,6,16,8,1,15,3,11,16,3,2,5,10,1,6,1,20,8,5,3,3,8,4,15,9,9,5,8,6,5,3,15,15,3,6,2,15,6,16,2,17,4,11,3,5,1,8,15,6,2,-1,4,11,3,5,1,8,15,6,2,-1,4,11,3,5,1,8,15,6,2,6,5,5,1,5,2,6,15,6,15,3,19,8,8,11,5,-1,2,2,4,4,8,15,4,2,-1,4,1,11,11,8,11,11,3,1,1,1,3,6,20,5,2,6,5,4,15,4,2,2,-1,8,1,11,4,20,8,11,-1,11,6,-1,8,1,15,3,11,20,3,2,5,11,1,6,1,19,8,5,3,3,8,4,15,4,4,5,5,3,15,15,3,6,2,15,6,15,2,16,4,11,3,5,1,8,15,12,2,16,4,11,3,5,1,8,15,12,2,16,4,11,3,5,1,8,15,6,2,6,5,5,1,5,2,6,15,6,15,3,16,8,8,11,5,16,2,2,4,4,8,15,4,2,20,4,1,11,11,8,11,11,3,1,1,1,3,12,16,5,2,12,5,4,15,4,2,2,16,8,1,11,4,16,8,3,1,11,16,11,12,16,8,1,15,3,11,16,3,2,5,11,1,12,1,16,8,5,3,3,8,4,15,4,4,5,8,14,5,3,15,15,3,14,2,15,12,11,2,17,4,11,3,5,1,13,15,6,2,-1,4,11,3,5,1,13,15,6,2,19,4,11,3,5,1,13,15,6,2,6,5,5,1,6,2,6,15,6,15,3,19,13,13,11,5,-1,2,2,4,4,13,15,4,2,0,4,1,11,11,13,11,11,3,1,1,1,3,6,19,5,2,6,5,4,15,4,2,2,18,13,1,11,4,18,13,3,1,11,-1,11,6,-1,12,1,15,3,11,18,3,2,5,11,1,6,15,19,13,5,3,3,13,4,15,4,9,5,13,6,5,3,15,15,3,6,2,15,6,15,2,0,4,7,3,5,1,8,15,6,2,0,4,7,3,5,1,8,15,6,2,0,4,7,3,5,1,8,15,6,2,15,5,5,1,5,2,6,15,6,15,3,0,8,8,7,5,0,2,2,4,4,8,15,4,2,0,4,1,7,11,8,7,7,3,1,1,1,3,6,0,5,2,6,5,4,15,4,2,2,0,8,1,7,4,0,8,3,1,7,0,7,6,0,8,1,15,3,7,16,3,2,5,7,1,6,1,0,8,5,3,3,8,4,15,4,4,5,8,6,5,3,15,15,3,6,2,15,6,15,2,16,4,11,3,5,1,8,15,14,2,16,4,11,3,5,1,8,15,14,2,16,4,11,3,5,1,8,15,14,2,14,5,5,1,5,2,-1,15,14,15,3,16,8,8,11,5,16,2,2,4,4,8,15,4,2,16,4,1,11,11,8,11,11,3,1,1,1,3,14,16,5,2,14,5,4,15,4,2,2,16,8,1,11,4,16,8,3,1,11,16,11,14,16,8,1,15,3,11,16,8,2,5,11,1,14,1,16,8,5,3,3,8,4,15,4,4,5,8,14,5,3,15,15,3,14,2,15,14,15,2,16,4,11,3,5,1,8,15,6,2,16,4,11,3,5,1,8,18,6,2,16,4,11,3,5,1,8,15,6,2,6,5,5,1,5,2,7,15,6,15,3,16,8,8,11,5,16,2,2,4,4,8,15,4,2,0,4,1,11,11,8,11,11,3,1,1,1,3,6,16,5,2,6,5,4,15,4,2,2,16,8,1,11,4,16,8,3,1,11,16,11,6,16,8,1,15,3,11,16,3,2,5,11,1,6,1,16,8,5,3,3,8,4,15,11,4,5,8,6,5,3,15,15,3,6,2,15,6,15,0,4,11,3,5,1,8,15,6,2,0,4,11,3,5,1,8,15,6,2,0,4,11,3,5,1,8,15,6,2,6,5,5,1,5,2,6,15,6,15,3,0,8,8,11,5,0,4,8,15,4,2,0,4,1,11,11,8,11,11,3,1,1,1,3,6,0,5,2,6,5,4,15,4,2,2,0,8,1,11,4,0,3,1,11,0,11,6,0,8,1,15,3,11,0,3,2,5,11,1,6,1,0,8,5,3,3,8,4,15,4,4,5,8,6,5,3,3,6,2,15,6,15,2,16,4,11,3,5,1,8,15,11,2,16,4,11,3,5,1,8,15,6,2,16,4,11,3,5,1,8,15,6,2,6,5,5,1,5,2,6,15,6,15,3,16,8,8,11,5,16,2,2,8,15,4,2,16,4,1,11,11,8,11,11,3,1,1,1,3,6,16,5,2,15,5,4,15,4,2,2,16,8,1,11,4,16,8,3,1,11,16,8,6,16,8,1,15,3,11,16,3,2,5,11,1,6,1,16,8,5,3,3,8,4,15,4,4,5,8,6,5,3,15,15,3,6,2,15,6,15,2,18,4,11,3,5,1,8,15,6,2,18,4,11,3,5,1,8,15,6,2,16,4,11,3,5,1,8,15,6,2,6,5,5,1,5,2,6,15,6,15,3,16,8,8,10,5,-1,2,2,4,4,8,15,4,2,16,4,1,11,11,8,11,11,3,1,1,1,3,6,16,5,2,6,5,4,15,4,2,2,16,8,1,11,4,16,8,3,1,11,16,11,6,16,8,1,15,3,11,16,3,2,5,11,1,6,1,16,8,5,3,3,8,4,15,4,4,5,8,6,5,3,15,15,3,6,2,15,6,15,2,17,4,11,3,5,1,8,15,6,2,16,4,11,3,5,1,8,15,6,2,-1,4,11,3,5,1,8,15,6,2,6,5,5,1,5,2,6,15,6,15,3,16,8,8,11,5,16,2,2,4,4,8,15,4,2,19,4,1,11,11,8,11,11,3,1,1,1,3,6,16,5,2,6,1,4,15,4,2,2,18,8,1,11,4,16,8,3,1,11,16,11,6,16,8,1,15,3,11,16,3,2,5,11,1,6,1,16,8,5,3,3,8,4,15,4,4,5,8,6,5,3,15,15,3,6,2,15,2,17,4,11,3,5,1,8,15,6,2,17,4,11,3,5,1,8,15,6,2,-1,4,11,3,5,1,8,15,6,2,6,5,5,1,5,2,6,15,6,15,3,17,8,8,11,5,17,2,2,4,4,8,15,4,2,17,4,1,11,11,8,11,11,3,1,1,1,3,6,17,5,2,6,5,4,15,4,2,2,17,8,1,11,4,17,8,3,1,11,-1,11,6,17,8,1,15,3,11,17,3,2,5,11,1,6,1,17,8,5,3,3,8,4,15,4,4,5,8,6,5,3,15,15,3,6,2,15,6,15,2,16,4,11,3,5,1,8,16,14,2,16,4,11,3,5,1,14,2,16,4,11,3,5,1,8,15,14,2,14,5,5,1,5,2,12,15,5,15,3,16,8,8,10,5,16,2,2,4,4,8,15,4,2,16,4,1,10,10,8,10,10,3,1,1,1,8,14,16,5,2,6,5,4,15,2,16,8,1,11,4,16,8,8,1,11,16,11,12,16,8,1,15,3,11,16,3,2,5,11,1,6,1,16,8,5,3,3,8,4,4,5,8,11,5,8,3,5,2,15,12,15,2,16,4,11,3,5,1,8,15,6,2,16,4,10,3,5,1,8,15,6,2,16,4,11,3,5,1,8,15,6,2,6,5,5,1,5,2,6,15,6,15,3,16,8,8,10,5,16,2,2,4,4,8,15,4,2,16,4,1,10,10,8,11,10,3,1,1,1,3,6,16,5,2,6,5,4,15,4,2,2,16,8,1,10,4,16,8,3,1,11,16,11,6,16,8,1,15,3,11,16,3,2,5,11,1,6,1,16,8,5,3,3,8,4,15,4,4,5,8,6,5,3,15,16,3,6,2,15,6,15],\"level_0\":[0,1,2,3,4,5,6,7,8,9,10,11,12,13,14,15,16,17,18,19,20,21,22,23,24,25,26,27,28,29,30,31,32,33,34,35,36,37,38,39,40,41,42,43,44,45,46,47,48,49,50,51,52,53,54,55,56,57,58,59,60,61,62,63,64,65,66,67,68,69,70,71,72,73,74,75,76,77,78,79,80,81,82,83,84,85,86,87,88,89,90,91,92,93,94,95,96,97,98,99,100,101,102,103,104,105,106,107,108,109,110,111,112,113,114,115,116,117,118,119,120,121,122,123,124,125,126,127,128,129,130,131,132,133,134,135,136,137,138,139,140,141,142,143,144,145,146,147,148,149,150,151,152,153,154,155,156,157,158,159,160,161,162,163,164,165,166,167,168,169,170,171,172,173,174,175,176,177,178,179,180,181,182,183,184,185,186,187,188,189,190,191,192,193,194,195,196,197,198,199,200,201,202,203,204,205,206,207,208,209,210,211,212,213,214,215,216,217,218,219,220,221,222,223,224,225,226,227,228,229,230,231,232,233,234,235,236,237,238,239,240,241,242,243,244,245,246,247,248,249,250,251,252,253,254,255,256,257,258,259,260,261,262,263,264,265,266,267,268,269,270,271,272,273,274,275,276,277,278,279,280,281,282,283,284,285,286,287,288,289,290,291,292,293,294,295,296,297,298,299,300,301,302,303,304,305,306,307,308,309,310,311,312,313,314,315,316,317,318,319,320,321,322,323,324,325,326,327,328,329,330,331,332,333,334,335,336,337,338,339,340,341,342,343,344,345,346,347,348,349,350,351,352,353,354,355,356,357,358,359,360,361,362,363,364,365,366,367,368,369,370,371,372,373,374,375,376,377,378,379,380,381,382,383,384,385,386,387,388,389,390,391,392,393,394,395,396,397,398,399,400,401,402,403,404,405,406,407,408,409,410,411,412,413,414,415,416,417,418,419,420,421,422,423,424,425,426,427,428,429,430,431,432,433,434,435,436,437,438,439,440,441,442,443,444,445,446,447,448,449,450,451,452,453,454,455,456,457,458,459,460,461,462,463,464,465,466,467,468,469,470,471,472,473,474,475,476,477,478,479,480,481,482,483,484,485,486,487,488,489,490,491,492,493,494,495,496,497,498,499,500,501,502,503,504,505,506,507,508,509,510,511,512,513,514,515,516,517,518,519,520,521,522,523,524,525,526,527,528,529,530,531,532,533,534,535,536,537,538,539,540,541,542,543,544,545,546,547,548,549,550,551,552,553,554,555,556,557,558,559,560,561,562,563,564,565,566,567,568,569,570,571,572,573,574,575,576,577,578,579,580,581,582,583,584,585,586,587,588,589,590,591,592,593,594,595,596,597,598,599,600,601,602,603,604,605,606,607,608,609,610,611,612,613,614,615,616,617,618,619,620,621,622,623,624,625,626,627,628,629,630,631,632,633,634,635,636,637,638,639,640,641,642,643,644,645,646,647,648,649,650,651,652,653,654,655,656,657,658,659,660,661,662,663,664,665,666,667,668,669,670,671,672,673,674,675,676,677,678,679,680,681,682,683,684,685,686,687,688,689,690,691,692,693,694,695,696,697,698,699,700,701,702,703,704,705,706,707,708,709,710,711,712,713,714,715,716,717,718,719,720,721,722,723,724,725,726,727,728,729,730,731,732,733,734,735,736,737,738,739,740,741,742,743,744,745,746,747,748,749,750,751,752,753,754,755,756,757,758,759,760,761,762,763,764,765,766,767,768,769,770,771,772,773,774,775,776,777,778,779,780,781,782,783,784,785,786,787,788,789,790,791,792,793,794,795,796,797,798,799,800,801,802,803,804,805,806,807,808,809,810,811,812,813,814,815,816,817,818,819,820,821,822,823,824,825,826,827,828,829,830,831,832,833,834,835,836,837,838,839,840,841,842,843,844,845,846,847,848,849,850,851,852,853,854,855,856,857,858,859,860,861,862,863,864,865,866,867,868,869,870,871,872,873,874,875,876,877,878,879,880,881,882,883,884,885,886,887,888,889,890,891,892,893,894,895,896,897,898,899,900,901,902,903,904,905,906,907,908,909,910,911,912,913,914,915,916,917,918,919,920,921,922,923,924,925,926,927,928,929,930,931,932,933,934,935,936,937,938,939,940,941,942,943,944,945,946,947,948,949,950,951,952,953,954,955,956,957,958,959,960,961,962,963,964,965,966,967,968,969,970,971,972,973,974,975,976,977,978,979,980,981,982,983,984,985,986,987,988,989,990,991,992,993,994,995,996,997,998,999,1000,1001,1002,1003,1004,1005,1006,1007,1008,1009,1010,1011,1012,1013,1014,1015,1016,1017,1018,1019,1020,1021,1022,1023,1024,1025,1026,1027,1028,1029,1030,1031,1032,1033,1034,1035,1036,1037,1038,1039,1040,1041,1042,1043,1044,1045,1046,1047,1048,1049,1050,1051,1052,1053,1054,1055,1056,1057,1058,1059,1060,1061,1062,1063,1064,1065,1066,1067,1068,1069,1070,1071,1072,1073,1074,1075,1076,1077,1078,1079,1080,1081,1082,1083,1084,1085,1086,1087,1088,1089,1090,1091,1092,1093,1094,1095,1096,1097,1098,1099,1100,1101,1102,1103,1104,1105,1106,1107,1108,1109,1110,1111,1112,1113,1114,1115,1116,1117,1118,1119,1120,1121,1122,1123,1124,1125,1126,1127,1128,1129,1130,1131,1132,1133,1134,1135,1136,1137,1138,1139,1140,1141,1142,1143,1144,1145,1146,1147,1148,1149,1150,1151,1152,1153,1154,1155,1156,1157,1158,1159,1160,1161,1162,1163,1164,1165,1166,1167,1168,1169,1170,1171,1172,1173,1174,1175,1176,1177,1178,1179,1180,1181,1182,1183,1184,1185,1186,1187,1188,1189,1190,1191,1192,1193,1194,1195,1196,1197,1198,1199,1200,1201,1202,1203,1204,1205,1206,1207,1208,1209,1210,1211,1212,1213,1214,1215,1216,1217,1218,1219,1220,1221,1222,1223,1224,1225,1226,1227,1228,1229,1230,1231,1232,1233,1234,1235,1236,1237,1238,1239,1240,1241,1242,1243,1244,1245,1246,1247,1248,1249,1250,1251,1252,1253,1254,1255,1256,1257,1258,1259,1260,1261,1262,1263,1264,1265,1266,1267,1268,1269,1270,1271,1272,1273,1274,1275,1276,1277,1278,1279,1280,1281,1282,1283,1284,1285,1286,1287,1288,1289,1290,1291,1292,1293,1294,1295,1296,1297,1298,1299,1300,1301,1302,1303,1304,1305,1306,1307,1308,1309,1310,1311,1312,1313,1314,1315,1316,1317,1318,1319,1320,1321,1322,1323,1324,1325,1326,1327,1328,1329,1330,1331,1332,1333,1334,1335,1336,1337,1338,1339,1340,1341,1342,1343,1344,1345,1346,1347,1348,1349,1350,1351,1352,1353,1354,1355,1356,1357,1358,1359,1360,1361,1362,1363,1364,1365,1366,1367,1368,1369,1370,1371,1372,1373,1374,1375,1376,1377,1378,1379,1380,1381,1382,1383,1384,1385,1386,1387,1388,1389,1390,1391,1392,1393,1394,1395,1396,1397,1398,1399,1400,1401,1402,1403,1404,1405,1406,1407,1408,1409,1410,1411,1412,1413,1414,1415,1416,1417,1418,1419,1420,1421,1422,1423,1424,1425,1426,1427,1428,1429,1430,1431,1432,1433,1434,1435,1436,1437,1438,1439,1440,1441,1442,1443,1444,1445,1446,1447,1448,1449,1450,1451,1452,1453,1454,1455,1456,1457,1458,1459,1460,1461,1462,1463,1464,1465,1466,1467,1468,1469,1470,1471,1472,1473,1474,1475,1476,1477,1478,1479,1480,1481,1482,1483,1484,1485,1486,1487,1488,1489,1490,1491,1492,1493,1494,1495,1496,1497,1498,1499,1500,1501,1502,1503,1504,1505,1506,1507,1508,1509,1510,1511,1512,1513,1514,1515,1516,1517,1518,1519,1520,1521,1522,1523,1524,1525,1526,1527,1528,1529,1530,1531,1532,1533,1534,1535,1536,1537,1538,1539,1540,1541,1542,1543,1544,1545,1546,1547,1548,1549,1550,1551,1552,1553,1554,1555,1556,1557,1558,1559,1560,1561,1562,1563,1564,1565,1566,1567,1568,1569,1570,1571,1572,1573,1574,1575,1576,1577,1578,1579,1580,1581,1582,1583,1584,1585,1586,1587,1588,1589,1590,1591,1592,1593,1594,1595,1596,1597,1598,1599,1600,1601,1602,1603,1604,1605,1606,1607,1608,1609,1610,1611,1612,1613,1614,1615,1616,1617,1618,1619,1620,1621,1622,1623,1624,1625,1626,1627,1628,1629,1630,1631,1632,1633,1634,1635,1636,1637,1638,1639,1640,1641,1642,1643,1644,1645,1646,1647,1648,1649,1650,1651,1652,1653,1654,1655,1656,1657,1658,1659,1660,1661,1662,1663,1664,1665,1666,1667,1668,1669,1670,1671,1672,1673,1674,1675,1676,1677,1678,1679,1680,1681,1682,1683,1684,1685,1686,1687,1688,1689,1690,1691,1692,1693,1694,1695,1696,1697,1698,1699,1700,1701,1702,1703,1704,1705,1706,1707,1708,1709,1710,1711,1712,1713,1714,1715,1716,1717,1718,1719,1720,1721,1722,1723,1724,1725,1726,1727,1728,1729,1730,1731,1732,1733,1734,1735,1736,1737,1738,1739,1740,1741,1742,1743,1744,1745,1746,1747,1748,1749,1750,1751,1752,1753,1754,1755,1756,1757,1758,1759,1760,1761,1762,1763,1764,1765,1766,1767,1768,1769,1770,1771,1772,1773,1774,1775,1776,1777,1778,1779,1780,1781,1782,1783,1784,1785,1786,1787,1788,1789,1790,1791,1792,1793,1794,1795,1796],\"truelabel\":[0,1,2,3,4,5,6,7,8,9,0,1,2,3,4,5,6,7,8,9,0,1,2,3,4,5,6,7,8,9,0,9,5,5,6,5,0,9,8,9,8,4,1,7,7,3,5,1,0,0,2,2,7,8,2,0,1,2,6,3,3,7,3,3,4,6,6,6,4,9,1,5,0,9,5,2,8,2,0,0,1,7,6,3,2,1,7,4,6,3,1,3,9,1,7,6,8,4,3,1,4,0,5,3,6,9,6,1,7,5,4,4,7,2,8,2,2,5,7,9,5,4,8,8,4,9,0,8,9,8,0,1,2,3,4,5,6,7,8,9,0,1,2,3,4,5,6,7,8,9,0,1,2,3,4,5,6,7,8,9,0,9,5,5,6,5,0,9,8,9,8,4,1,7,7,3,5,1,0,0,2,2,7,8,2,0,1,2,6,3,3,7,3,3,4,6,6,6,4,9,1,5,0,9,5,2,8,2,0,0,1,7,6,3,2,1,7,3,1,3,9,1,7,6,8,4,3,1,4,0,5,3,6,9,6,1,7,5,4,4,7,2,8,2,2,5,5,4,8,8,4,9,0,8,9,8,0,1,2,3,4,5,6,7,8,9,0,1,2,3,4,5,6,7,8,9,0,1,2,3,4,5,6,7,8,9,0,9,5,5,6,5,0,9,8,9,8,4,1,7,7,3,5,1,0,0,2,2,7,8,2,0,1,2,6,3,3,7,3,3,4,6,6,6,4,9,1,5,0,9,5,2,8,2,0,0,1,7,6,3,2,1,7,4,6,3,1,3,9,1,7,6,8,4,3,1,4,0,5,3,6,9,6,1,7,5,4,4,7,2,8,2,2,5,7,9,5,4,8,8,4,9,0,8,9,3,0,1,2,3,4,5,6,7,8,9,0,1,2,3,4,5,6,7,8,9,0,1,2,3,4,5,6,7,8,9,0,9,5,5,6,5,0,9,8,9,8,4,1,7,7,3,5,1,0,0,2,2,7,8,2,0,1,2,6,3,3,7,3,3,4,6,6,6,4,9,1,5,0,9,5,2,8,2,0,0,1,7,6,3,2,1,7,4,6,3,1,3,9,1,7,6,8,4,3,1,4,0,5,3,6,9,6,1,7,5,4,4,7,2,8,2,2,5,7,9,5,4,8,8,4,9,0,8,9,8,0,1,2,3,4,5,6,7,8,9,0,1,2,3,4,5,6,7,8,9,0,1,2,3,4,5,6,7,8,9,0,9,5,5,6,5,0,9,8,9,8,4,1,7,7,3,5,1,0,0,2,2,7,8,2,0,1,2,6,3,3,7,3,3,4,6,6,6,4,9,1,5,0,9,5,2,8,2,0,0,1,7,6,3,2,1,7,4,6,3,1,3,9,1,7,6,8,4,3,1,4,0,5,3,6,9,6,1,7,5,4,4,7,2,8,2,2,5,7,9,5,4,8,8,4,9,0,8,9,8,0,1,2,3,4,5,6,7,8,9,0,1,2,3,4,5,6,7,8,9,0,1,2,3,4,5,6,7,8,9,0,9,5,5,6,5,0,9,8,9,8,4,1,7,7,3,5,1,0,0,2,2,7,8,2,0,1,2,6,3,3,7,3,3,4,6,6,6,4,9,1,5,0,9,5,2,8,2,0,0,1,7,6,3,2,1,7,4,6,3,1,3,9,1,7,6,8,4,3,1,4,0,5,3,6,9,6,1,7,5,4,4,7,2,8,2,2,5,7,9,5,4,8,8,4,9,0,8,9,8,0,1,2,3,4,5,6,7,8,9,0,1,2,3,4,5,6,7,8,9,0,1,2,3,4,5,6,7,8,9,0,9,5,5,6,5,0,9,8,9,8,4,1,7,7,3,5,1,0,0,2,2,7,8,2,0,1,2,6,3,3,7,3,3,4,6,6,6,4,9,1,5,0,9,5,2,8,2,0,0,1,7,6,3,2,1,7,4,6,3,1,3,9,1,7,6,8,4,3,1,4,0,5,3,6,9,6,1,7,5,4,4,7,2,8,2,2,5,7,9,5,4,8,8,4,9,0,8,9,8,1,2,3,4,5,6,7,8,9,0,1,2,3,4,5,6,7,8,9,0,1,2,3,4,5,6,7,8,9,0,9,5,5,6,5,0,9,8,9,8,4,1,7,7,3,5,1,2,7,8,2,0,1,2,6,3,3,7,3,3,4,6,6,6,4,9,1,5,0,9,5,2,8,2,0,0,1,7,6,3,2,1,4,6,3,1,3,9,1,7,6,8,4,3,1,4,0,5,3,6,9,6,1,7,5,4,4,7,2,8,2,2,5,7,9,5,4,4,9,0,8,9,8,0,1,2,3,4,5,6,7,8,9,0,1,2,3,4,5,6,7,8,9,0,1,2,3,4,5,6,7,8,9,0,9,5,5,6,5,0,9,8,9,8,4,1,7,7,3,5,1,0,0,7,8,2,0,1,2,6,3,3,7,3,3,4,6,6,6,4,9,1,5,0,9,5,2,8,2,0,0,1,7,6,3,2,1,7,4,6,3,1,3,9,1,7,6,8,4,3,1,4,0,5,3,6,9,6,1,7,5,4,4,7,2,8,2,2,5,7,9,5,4,8,8,4,9,0,8,9,8,0,1,2,3,4,5,6,7,8,9,0,1,2,3,4,5,6,7,8,9,0,1,2,3,4,5,6,7,8,9,0,9,5,5,6,5,0,9,8,9,8,4,1,7,7,3,5,1,0,0,2,2,7,8,2,0,1,2,6,3,3,7,3,3,4,6,6,6,4,9,1,5,0,9,5,2,8,2,0,0,1,7,6,3,2,1,7,4,6,3,1,3,9,1,7,6,8,4,3,1,4,0,5,3,6,9,6,1,7,5,4,4,7,2,8,2,2,5,7,9,5,4,8,8,4,9,0,8,9,8,0,1,2,3,4,5,6,7,8,9,0,1,2,3,4,5,6,7,8,9,0,1,2,3,4,5,6,7,8,9,0,9,5,5,6,5,0,9,8,9,8,4,1,7,7,3,5,1,0,0,2,2,7,8,2,0,1,2,6,3,3,7,3,3,4,6,6,6,4,9,1,5,0,9,5,2,8,2,0,0,1,7,6,3,2,1,7,4,6,3,1,3,9,1,7,6,8,4,3,1,4,0,5,3,6,9,6,1,7,5,4,4,7,2,8,2,2,5,7,9,5,4,8,8,4,9,0,8,0,1,2,3,4,5,6,7,8,9,0,1,2,3,4,5,6,7,8,9,0,1,2,3,4,5,6,7,8,9,0,9,5,5,6,5,0,9,8,9,8,4,1,7,7,3,5,1,0,0,2,2,7,8,2,0,1,2,6,3,3,7,3,3,4,6,6,6,4,9,1,5,0,9,5,2,8,2,0,0,1,7,6,3,2,1,7,4,6,3,1,3,9,1,7,6,8,4,3,1,4,0,5,3,6,9,6,1,7,5,4,4,7,2,8,2,2,5,7,9,5,4,8,8,4,9,0,8,9,8,0,1,2,3,4,5,6,7,8,9,0,1,2,3,4,5,6,9,0,1,2,3,4,5,6,7,8,9,0,9,5,5,6,5,0,9,8,9,8,4,1,7,7,3,5,1,0,0,2,2,7,8,2,0,1,2,6,3,3,7,3,3,4,6,6,6,4,9,1,5,0,9,5,2,8,0,1,7,6,3,2,1,7,4,6,3,1,3,9,1,7,6,8,4,3,1,4,0,5,3,6,9,6,1,7,5,4,4,7,2,2,5,7,9,5,4,4,9,0,8,9,8,0,1,2,3,4,5,6,7,8,9,0,1,2,3,4,5,6,7,8,9,0,1,2,3,4,5,6,7,8,9,0,9,5,5,6,5,0,9,8,9,8,4,1,7,7,3,5,1,0,0,2,2,7,8,2,0,1,2,6,3,3,7,3,3,4,6,6,6,4,9,1,5,0,9,5,2,8,2,0,0,1,7,6,3,2,1,7,4,6,3,1,3,9,1,7,6,8,4,3,1,4,0,5,3,6,9,6,1,7,5,4,4,7,2,8,2,2,5,7,9,5,4,8,8,4,9,0,8,9,8],\"x\":{\"__ndarray__\":\"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\",\"dtype\":\"float32\",\"order\":\"little\",\"shape\":[1797]},\"y\":{\"__ndarray__\":\"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\",\"dtype\":\"float32\",\"order\":\"little\",\"shape\":[1797]}},\"selected\":{\"id\":\"1293\"},\"selection_policy\":{\"id\":\"1294\"}},\"id\":\"1223\",\"type\":\"ColumnDataSource\"},{\"attributes\":{\"source\":{\"id\":\"1223\"}},\"id\":\"1261\",\"type\":\"CDSView\"},{\"attributes\":{},\"id\":\"1289\",\"type\":\"BasicTickFormatter\"},{\"attributes\":{},\"id\":\"1290\",\"type\":\"AllLabels\"},{\"attributes\":{\"data_source\":{\"id\":\"1223\"},\"glyph\":{\"id\":\"1258\"},\"hover_glyph\":null,\"muted_glyph\":null,\"nonselection_glyph\":{\"id\":\"1259\"},\"view\":{\"id\":\"1261\"}},\"id\":\"1260\",\"type\":\"GlyphRenderer\"},{\"attributes\":{\"fill_alpha\":{\"value\":0.1},\"fill_color\":{\"field\":\"color\"},\"line_alpha\":{\"value\":0.1},\"line_color\":{\"field\":\"color\"},\"size\":{\"value\":5},\"x\":{\"field\":\"x\"},\"y\":{\"field\":\"y\"}},\"id\":\"1259\",\"type\":\"Circle\"},{\"attributes\":{},\"id\":\"1294\",\"type\":\"UnionRenderers\"},{\"attributes\":{},\"id\":\"1238\",\"type\":\"BasicTicker\"},{\"attributes\":{},\"id\":\"1244\",\"type\":\"SaveTool\"},{\"attributes\":{},\"id\":\"1293\",\"type\":\"Selection\"},{\"attributes\":{\"axis\":{\"id\":\"1233\"},\"ticker\":null,\"visible\":false},\"id\":\"1236\",\"type\":\"Grid\"},{\"attributes\":{},\"id\":\"1245\",\"type\":\"ResetTool\"}],\"root_ids\":[\"1224\"]},\"title\":\"Bokeh Application\",\"version\":\"2.3.3\"}};\n",
              "  var render_items = [{\"docid\":\"81857a74-c5da-4e30-a90d-011b4574ed44\",\"root_ids\":[\"1224\"],\"roots\":{\"1224\":\"e4146908-faad-42ca-8242-31571039c51e\"}}];\n",
              "  root.Bokeh.embed.embed_items_notebook(docs_json, render_items);\n",
              "\n",
              "  }\n",
              "  if (root.Bokeh !== undefined) {\n",
              "    embed_document(root);\n",
              "  } else {\n",
              "    var attempts = 0;\n",
              "    var timer = setInterval(function(root) {\n",
              "      if (root.Bokeh !== undefined) {\n",
              "        clearInterval(timer);\n",
              "        embed_document(root);\n",
              "      } else {\n",
              "        attempts++;\n",
              "        if (attempts > 100) {\n",
              "          clearInterval(timer);\n",
              "          console.log(\"Bokeh: ERROR: Unable to run BokehJS code because BokehJS library is missing\");\n",
              "        }\n",
              "      }\n",
              "    }, 10, root)\n",
              "  }\n",
              "})(window);"
            ],
            "application/vnd.bokehjs_exec.v0+json": ""
          },
          "metadata": {
            "application/vnd.bokehjs_exec.v0+json": {
              "id": "1224"
            }
          }
        }
      ]
    },
    {
      "cell_type": "markdown",
      "source": [
        "This clustering really tried to split up the four cluster, which corresponds well with our domain knowledge that people have very different ways of writing four. Let's tighten it up by insisting on fewer clusters."
      ],
      "metadata": {
        "id": "VkIbeMHavnxf"
      }
    },
    {
      "cell_type": "code",
      "source": [
        "clusterer = hdbscan.HDBSCAN(min_cluster_size=50)\n",
        "clusterer.fit(ld_data)\n",
        "hover_data = pd.DataFrame({'index':np.arange(len(digits.target)),\n",
        "                           'truelabel':digits.target,\n",
        "                           'hdbscanlabel':clusterer.labels_,\n",
        "                           }\n",
        "                          )\n",
        "p = umap.plot.interactive(umap_model, labels=clusterer.labels_, hover_data=hover_data, point_size=5)\n",
        "umap.plot.show(p)"
      ],
      "metadata": {
        "colab": {
          "base_uri": "https://localhost:8080/",
          "height": 817
        },
        "id": "8fKre7K1v8Wz",
        "outputId": "87d039f4-9a0e-4416-baf8-400f98072961"
      },
      "execution_count": 64,
      "outputs": [
        {
          "output_type": "display_data",
          "data": {
            "application/javascript": [
              "\n",
              "(function(root) {\n",
              "  function now() {\n",
              "    return new Date();\n",
              "  }\n",
              "\n",
              "  var force = true;\n",
              "\n",
              "  if (typeof root._bokeh_onload_callbacks === \"undefined\" || force === true) {\n",
              "    root._bokeh_onload_callbacks = [];\n",
              "    root._bokeh_is_loading = undefined;\n",
              "  }\n",
              "\n",
              "  var JS_MIME_TYPE = 'application/javascript';\n",
              "  var HTML_MIME_TYPE = 'text/html';\n",
              "  var EXEC_MIME_TYPE = 'application/vnd.bokehjs_exec.v0+json';\n",
              "  var CLASS_NAME = 'output_bokeh rendered_html';\n",
              "\n",
              "  /**\n",
              "   * Render data to the DOM node\n",
              "   */\n",
              "  function render(props, node) {\n",
              "    var script = document.createElement(\"script\");\n",
              "    node.appendChild(script);\n",
              "  }\n",
              "\n",
              "  /**\n",
              "   * Handle when an output is cleared or removed\n",
              "   */\n",
              "  function handleClearOutput(event, handle) {\n",
              "    var cell = handle.cell;\n",
              "\n",
              "    var id = cell.output_area._bokeh_element_id;\n",
              "    var server_id = cell.output_area._bokeh_server_id;\n",
              "    // Clean up Bokeh references\n",
              "    if (id != null && id in Bokeh.index) {\n",
              "      Bokeh.index[id].model.document.clear();\n",
              "      delete Bokeh.index[id];\n",
              "    }\n",
              "\n",
              "    if (server_id !== undefined) {\n",
              "      // Clean up Bokeh references\n",
              "      var cmd = \"from bokeh.io.state import curstate; print(curstate().uuid_to_server['\" + server_id + \"'].get_sessions()[0].document.roots[0]._id)\";\n",
              "      cell.notebook.kernel.execute(cmd, {\n",
              "        iopub: {\n",
              "          output: function(msg) {\n",
              "            var id = msg.content.text.trim();\n",
              "            if (id in Bokeh.index) {\n",
              "              Bokeh.index[id].model.document.clear();\n",
              "              delete Bokeh.index[id];\n",
              "            }\n",
              "          }\n",
              "        }\n",
              "      });\n",
              "      // Destroy server and session\n",
              "      var cmd = \"import bokeh.io.notebook as ion; ion.destroy_server('\" + server_id + \"')\";\n",
              "      cell.notebook.kernel.execute(cmd);\n",
              "    }\n",
              "  }\n",
              "\n",
              "  /**\n",
              "   * Handle when a new output is added\n",
              "   */\n",
              "  function handleAddOutput(event, handle) {\n",
              "    var output_area = handle.output_area;\n",
              "    var output = handle.output;\n",
              "\n",
              "    // limit handleAddOutput to display_data with EXEC_MIME_TYPE content only\n",
              "    if ((output.output_type != \"display_data\") || (!Object.prototype.hasOwnProperty.call(output.data, EXEC_MIME_TYPE))) {\n",
              "      return\n",
              "    }\n",
              "\n",
              "    var toinsert = output_area.element.find(\".\" + CLASS_NAME.split(' ')[0]);\n",
              "\n",
              "    if (output.metadata[EXEC_MIME_TYPE][\"id\"] !== undefined) {\n",
              "      toinsert[toinsert.length - 1].firstChild.textContent = output.data[JS_MIME_TYPE];\n",
              "      // store reference to embed id on output_area\n",
              "      output_area._bokeh_element_id = output.metadata[EXEC_MIME_TYPE][\"id\"];\n",
              "    }\n",
              "    if (output.metadata[EXEC_MIME_TYPE][\"server_id\"] !== undefined) {\n",
              "      var bk_div = document.createElement(\"div\");\n",
              "      bk_div.innerHTML = output.data[HTML_MIME_TYPE];\n",
              "      var script_attrs = bk_div.children[0].attributes;\n",
              "      for (var i = 0; i < script_attrs.length; i++) {\n",
              "        toinsert[toinsert.length - 1].firstChild.setAttribute(script_attrs[i].name, script_attrs[i].value);\n",
              "        toinsert[toinsert.length - 1].firstChild.textContent = bk_div.children[0].textContent\n",
              "      }\n",
              "      // store reference to server id on output_area\n",
              "      output_area._bokeh_server_id = output.metadata[EXEC_MIME_TYPE][\"server_id\"];\n",
              "    }\n",
              "  }\n",
              "\n",
              "  function register_renderer(events, OutputArea) {\n",
              "\n",
              "    function append_mime(data, metadata, element) {\n",
              "      // create a DOM node to render to\n",
              "      var toinsert = this.create_output_subarea(\n",
              "        metadata,\n",
              "        CLASS_NAME,\n",
              "        EXEC_MIME_TYPE\n",
              "      );\n",
              "      this.keyboard_manager.register_events(toinsert);\n",
              "      // Render to node\n",
              "      var props = {data: data, metadata: metadata[EXEC_MIME_TYPE]};\n",
              "      render(props, toinsert[toinsert.length - 1]);\n",
              "      element.append(toinsert);\n",
              "      return toinsert\n",
              "    }\n",
              "\n",
              "    /* Handle when an output is cleared or removed */\n",
              "    events.on('clear_output.CodeCell', handleClearOutput);\n",
              "    events.on('delete.Cell', handleClearOutput);\n",
              "\n",
              "    /* Handle when a new output is added */\n",
              "    events.on('output_added.OutputArea', handleAddOutput);\n",
              "\n",
              "    /**\n",
              "     * Register the mime type and append_mime function with output_area\n",
              "     */\n",
              "    OutputArea.prototype.register_mime_type(EXEC_MIME_TYPE, append_mime, {\n",
              "      /* Is output safe? */\n",
              "      safe: true,\n",
              "      /* Index of renderer in `output_area.display_order` */\n",
              "      index: 0\n",
              "    });\n",
              "  }\n",
              "\n",
              "  // register the mime type if in Jupyter Notebook environment and previously unregistered\n",
              "  if (root.Jupyter !== undefined) {\n",
              "    var events = require('base/js/events');\n",
              "    var OutputArea = require('notebook/js/outputarea').OutputArea;\n",
              "\n",
              "    if (OutputArea.prototype.mime_types().indexOf(EXEC_MIME_TYPE) == -1) {\n",
              "      register_renderer(events, OutputArea);\n",
              "    }\n",
              "  }\n",
              "\n",
              "  \n",
              "  if (typeof (root._bokeh_timeout) === \"undefined\" || force === true) {\n",
              "    root._bokeh_timeout = Date.now() + 5000;\n",
              "    root._bokeh_failed_load = false;\n",
              "  }\n",
              "\n",
              "  var NB_LOAD_WARNING = {'data': {'text/html':\n",
              "     \"<div style='background-color: #fdd'>\\n\"+\n",
              "     \"<p>\\n\"+\n",
              "     \"BokehJS does not appear to have successfully loaded. If loading BokehJS from CDN, this \\n\"+\n",
              "     \"may be due to a slow or bad network connection. Possible fixes:\\n\"+\n",
              "     \"</p>\\n\"+\n",
              "     \"<ul>\\n\"+\n",
              "     \"<li>re-rerun `output_notebook()` to attempt to load from CDN again, or</li>\\n\"+\n",
              "     \"<li>use INLINE resources instead, as so:</li>\\n\"+\n",
              "     \"</ul>\\n\"+\n",
              "     \"<code>\\n\"+\n",
              "     \"from bokeh.resources import INLINE\\n\"+\n",
              "     \"output_notebook(resources=INLINE)\\n\"+\n",
              "     \"</code>\\n\"+\n",
              "     \"</div>\"}};\n",
              "\n",
              "  function display_loaded() {\n",
              "    var el = document.getElementById(null);\n",
              "    if (el != null) {\n",
              "      el.textContent = \"BokehJS is loading...\";\n",
              "    }\n",
              "    if (root.Bokeh !== undefined) {\n",
              "      if (el != null) {\n",
              "        el.textContent = \"BokehJS \" + root.Bokeh.version + \" successfully loaded.\";\n",
              "      }\n",
              "    } else if (Date.now() < root._bokeh_timeout) {\n",
              "      setTimeout(display_loaded, 100)\n",
              "    }\n",
              "  }\n",
              "\n",
              "\n",
              "  function run_callbacks() {\n",
              "    try {\n",
              "      root._bokeh_onload_callbacks.forEach(function(callback) {\n",
              "        if (callback != null)\n",
              "          callback();\n",
              "      });\n",
              "    } finally {\n",
              "      delete root._bokeh_onload_callbacks\n",
              "    }\n",
              "    console.debug(\"Bokeh: all callbacks have finished\");\n",
              "  }\n",
              "\n",
              "  function load_libs(css_urls, js_urls, callback) {\n",
              "    if (css_urls == null) css_urls = [];\n",
              "    if (js_urls == null) js_urls = [];\n",
              "\n",
              "    root._bokeh_onload_callbacks.push(callback);\n",
              "    if (root._bokeh_is_loading > 0) {\n",
              "      console.debug(\"Bokeh: BokehJS is being loaded, scheduling callback at\", now());\n",
              "      return null;\n",
              "    }\n",
              "    if (js_urls == null || js_urls.length === 0) {\n",
              "      run_callbacks();\n",
              "      return null;\n",
              "    }\n",
              "    console.debug(\"Bokeh: BokehJS not loaded, scheduling load and callback at\", now());\n",
              "    root._bokeh_is_loading = css_urls.length + js_urls.length;\n",
              "\n",
              "    function on_load() {\n",
              "      root._bokeh_is_loading--;\n",
              "      if (root._bokeh_is_loading === 0) {\n",
              "        console.debug(\"Bokeh: all BokehJS libraries/stylesheets loaded\");\n",
              "        run_callbacks()\n",
              "      }\n",
              "    }\n",
              "\n",
              "    function on_error(url) {\n",
              "      console.error(\"failed to load \" + url);\n",
              "    }\n",
              "\n",
              "    for (let i = 0; i < css_urls.length; i++) {\n",
              "      const url = css_urls[i];\n",
              "      const element = document.createElement(\"link\");\n",
              "      element.onload = on_load;\n",
              "      element.onerror = on_error.bind(null, url);\n",
              "      element.rel = \"stylesheet\";\n",
              "      element.type = \"text/css\";\n",
              "      element.href = url;\n",
              "      console.debug(\"Bokeh: injecting link tag for BokehJS stylesheet: \", url);\n",
              "      document.body.appendChild(element);\n",
              "    }\n",
              "\n",
              "    const hashes = {\"https://cdn.bokeh.org/bokeh/release/bokeh-2.3.3.min.js\": \"dM3QQsP+wXdHg42wTqW85BjZQdLNNIXqlPw/BgKoExPmTG7ZLML4EGqLMfqHT6ON\", \"https://cdn.bokeh.org/bokeh/release/bokeh-tables-2.3.3.min.js\": \"8x57I4YuIfu8XyZfFo0XVr2WAT8EK4rh/uDe3wF7YuW2FNUSNEpJbsPaB1nJ2fz2\", \"https://cdn.bokeh.org/bokeh/release/bokeh-widgets-2.3.3.min.js\": \"3QTqdz9LyAm2i0sG5XTePsHec3UHWwVsrOL68SYRoAXsafvfAyqtQ+h440+qIBhS\"};\n",
              "\n",
              "    for (let i = 0; i < js_urls.length; i++) {\n",
              "      const url = js_urls[i];\n",
              "      const element = document.createElement('script');\n",
              "      element.onload = on_load;\n",
              "      element.onerror = on_error.bind(null, url);\n",
              "      element.async = false;\n",
              "      element.src = url;\n",
              "      if (url in hashes) {\n",
              "        element.crossOrigin = \"anonymous\";\n",
              "        element.integrity = \"sha384-\" + hashes[url];\n",
              "      }\n",
              "      console.debug(\"Bokeh: injecting script tag for BokehJS library: \", url);\n",
              "      document.head.appendChild(element);\n",
              "    }\n",
              "  };\n",
              "\n",
              "  function inject_raw_css(css) {\n",
              "    const element = document.createElement(\"style\");\n",
              "    element.appendChild(document.createTextNode(css));\n",
              "    document.body.appendChild(element);\n",
              "  }\n",
              "\n",
              "  \n",
              "  var js_urls = [\"https://cdn.bokeh.org/bokeh/release/bokeh-2.3.3.min.js\", \"https://cdn.bokeh.org/bokeh/release/bokeh-widgets-2.3.3.min.js\", \"https://cdn.bokeh.org/bokeh/release/bokeh-tables-2.3.3.min.js\", \"https://unpkg.com/@holoviz/panel@0.12.1/dist/panel.min.js\"];\n",
              "  var css_urls = [];\n",
              "  \n",
              "\n",
              "  var inline_js = [\n",
              "    function(Bokeh) {\n",
              "      Bokeh.set_log_level(\"info\");\n",
              "    },\n",
              "    function(Bokeh) {\n",
              "    \n",
              "    \n",
              "    }\n",
              "  ];\n",
              "\n",
              "  function run_inline_js() {\n",
              "    \n",
              "    if (root.Bokeh !== undefined || force === true) {\n",
              "      \n",
              "    for (var i = 0; i < inline_js.length; i++) {\n",
              "      inline_js[i].call(root, root.Bokeh);\n",
              "    }\n",
              "    } else if (Date.now() < root._bokeh_timeout) {\n",
              "      setTimeout(run_inline_js, 100);\n",
              "    } else if (!root._bokeh_failed_load) {\n",
              "      console.log(\"Bokeh: BokehJS failed to load within specified timeout.\");\n",
              "      root._bokeh_failed_load = true;\n",
              "    } else if (force !== true) {\n",
              "      var cell = $(document.getElementById(null)).parents('.cell').data().cell;\n",
              "      cell.output_area.append_execute_result(NB_LOAD_WARNING)\n",
              "    }\n",
              "\n",
              "  }\n",
              "\n",
              "  if (root._bokeh_is_loading === 0) {\n",
              "    console.debug(\"Bokeh: BokehJS loaded, going straight to plotting\");\n",
              "    run_inline_js();\n",
              "  } else {\n",
              "    load_libs(css_urls, js_urls, function() {\n",
              "      console.debug(\"Bokeh: BokehJS plotting callback run at\", now());\n",
              "      run_inline_js();\n",
              "    });\n",
              "  }\n",
              "}(window));"
            ],
            "application/vnd.bokehjs_load.v0+json": "\n(function(root) {\n  function now() {\n    return new Date();\n  }\n\n  var force = true;\n\n  if (typeof root._bokeh_onload_callbacks === \"undefined\" || force === true) {\n    root._bokeh_onload_callbacks = [];\n    root._bokeh_is_loading = undefined;\n  }\n\n  \n\n  \n  if (typeof (root._bokeh_timeout) === \"undefined\" || force === true) {\n    root._bokeh_timeout = Date.now() + 5000;\n    root._bokeh_failed_load = false;\n  }\n\n  var NB_LOAD_WARNING = {'data': {'text/html':\n     \"<div style='background-color: #fdd'>\\n\"+\n     \"<p>\\n\"+\n     \"BokehJS does not appear to have successfully loaded. If loading BokehJS from CDN, this \\n\"+\n     \"may be due to a slow or bad network connection. Possible fixes:\\n\"+\n     \"</p>\\n\"+\n     \"<ul>\\n\"+\n     \"<li>re-rerun `output_notebook()` to attempt to load from CDN again, or</li>\\n\"+\n     \"<li>use INLINE resources instead, as so:</li>\\n\"+\n     \"</ul>\\n\"+\n     \"<code>\\n\"+\n     \"from bokeh.resources import INLINE\\n\"+\n     \"output_notebook(resources=INLINE)\\n\"+\n     \"</code>\\n\"+\n     \"</div>\"}};\n\n  function display_loaded() {\n    var el = document.getElementById(null);\n    if (el != null) {\n      el.textContent = \"BokehJS is loading...\";\n    }\n    if (root.Bokeh !== undefined) {\n      if (el != null) {\n        el.textContent = \"BokehJS \" + root.Bokeh.version + \" successfully loaded.\";\n      }\n    } else if (Date.now() < root._bokeh_timeout) {\n      setTimeout(display_loaded, 100)\n    }\n  }\n\n\n  function run_callbacks() {\n    try {\n      root._bokeh_onload_callbacks.forEach(function(callback) {\n        if (callback != null)\n          callback();\n      });\n    } finally {\n      delete root._bokeh_onload_callbacks\n    }\n    console.debug(\"Bokeh: all callbacks have finished\");\n  }\n\n  function load_libs(css_urls, js_urls, callback) {\n    if (css_urls == null) css_urls = [];\n    if (js_urls == null) js_urls = [];\n\n    root._bokeh_onload_callbacks.push(callback);\n    if (root._bokeh_is_loading > 0) {\n      console.debug(\"Bokeh: BokehJS is being loaded, scheduling callback at\", now());\n      return null;\n    }\n    if (js_urls == null || js_urls.length === 0) {\n      run_callbacks();\n      return null;\n    }\n    console.debug(\"Bokeh: BokehJS not loaded, scheduling load and callback at\", now());\n    root._bokeh_is_loading = css_urls.length + js_urls.length;\n\n    function on_load() {\n      root._bokeh_is_loading--;\n      if (root._bokeh_is_loading === 0) {\n        console.debug(\"Bokeh: all BokehJS libraries/stylesheets loaded\");\n        run_callbacks()\n      }\n    }\n\n    function on_error(url) {\n      console.error(\"failed to load \" + url);\n    }\n\n    for (let i = 0; i < css_urls.length; i++) {\n      const url = css_urls[i];\n      const element = document.createElement(\"link\");\n      element.onload = on_load;\n      element.onerror = on_error.bind(null, url);\n      element.rel = \"stylesheet\";\n      element.type = \"text/css\";\n      element.href = url;\n      console.debug(\"Bokeh: injecting link tag for BokehJS stylesheet: \", url);\n      document.body.appendChild(element);\n    }\n\n    const hashes = {\"https://cdn.bokeh.org/bokeh/release/bokeh-2.3.3.min.js\": \"dM3QQsP+wXdHg42wTqW85BjZQdLNNIXqlPw/BgKoExPmTG7ZLML4EGqLMfqHT6ON\", \"https://cdn.bokeh.org/bokeh/release/bokeh-tables-2.3.3.min.js\": \"8x57I4YuIfu8XyZfFo0XVr2WAT8EK4rh/uDe3wF7YuW2FNUSNEpJbsPaB1nJ2fz2\", \"https://cdn.bokeh.org/bokeh/release/bokeh-widgets-2.3.3.min.js\": \"3QTqdz9LyAm2i0sG5XTePsHec3UHWwVsrOL68SYRoAXsafvfAyqtQ+h440+qIBhS\"};\n\n    for (let i = 0; i < js_urls.length; i++) {\n      const url = js_urls[i];\n      const element = document.createElement('script');\n      element.onload = on_load;\n      element.onerror = on_error.bind(null, url);\n      element.async = false;\n      element.src = url;\n      if (url in hashes) {\n        element.crossOrigin = \"anonymous\";\n        element.integrity = \"sha384-\" + hashes[url];\n      }\n      console.debug(\"Bokeh: injecting script tag for BokehJS library: \", url);\n      document.head.appendChild(element);\n    }\n  };\n\n  function inject_raw_css(css) {\n    const element = document.createElement(\"style\");\n    element.appendChild(document.createTextNode(css));\n    document.body.appendChild(element);\n  }\n\n  \n  var js_urls = [\"https://cdn.bokeh.org/bokeh/release/bokeh-2.3.3.min.js\", \"https://cdn.bokeh.org/bokeh/release/bokeh-widgets-2.3.3.min.js\", \"https://cdn.bokeh.org/bokeh/release/bokeh-tables-2.3.3.min.js\", \"https://unpkg.com/@holoviz/panel@0.12.1/dist/panel.min.js\"];\n  var css_urls = [];\n  \n\n  var inline_js = [\n    function(Bokeh) {\n      Bokeh.set_log_level(\"info\");\n    },\n    function(Bokeh) {\n    \n    \n    }\n  ];\n\n  function run_inline_js() {\n    \n    if (root.Bokeh !== undefined || force === true) {\n      \n    for (var i = 0; i < inline_js.length; i++) {\n      inline_js[i].call(root, root.Bokeh);\n    }\n    } else if (Date.now() < root._bokeh_timeout) {\n      setTimeout(run_inline_js, 100);\n    } else if (!root._bokeh_failed_load) {\n      console.log(\"Bokeh: BokehJS failed to load within specified timeout.\");\n      root._bokeh_failed_load = true;\n    } else if (force !== true) {\n      var cell = $(document.getElementById(null)).parents('.cell').data().cell;\n      cell.output_area.append_execute_result(NB_LOAD_WARNING)\n    }\n\n  }\n\n  if (root._bokeh_is_loading === 0) {\n    console.debug(\"Bokeh: BokehJS loaded, going straight to plotting\");\n    run_inline_js();\n  } else {\n    load_libs(css_urls, js_urls, function() {\n      console.debug(\"Bokeh: BokehJS plotting callback run at\", now());\n      run_inline_js();\n    });\n  }\n}(window));"
          },
          "metadata": {}
        },
        {
          "output_type": "display_data",
          "data": {
            "text/html": [
              "\n",
              "\n",
              "\n",
              "\n",
              "\n",
              "\n",
              "  <div class=\"bk-root\" id=\"d2717167-8b37-40fc-b121-fb3b53416f2f\" data-root-id=\"1351\"></div>\n"
            ]
          },
          "metadata": {}
        },
        {
          "output_type": "display_data",
          "data": {
            "application/javascript": [
              "(function(root) {\n",
              "  function embed_document(root) {\n",
              "    \n",
              "  var docs_json = {\"9dbe7ea3-9a7b-44df-ad7c-27f9431d09be\":{\"defs\":[{\"extends\":null,\"module\":null,\"name\":\"ReactiveHTML1\",\"overrides\":[],\"properties\":[]},{\"extends\":null,\"module\":null,\"name\":\"FlexBox1\",\"overrides\":[],\"properties\":[{\"default\":\"flex-start\",\"kind\":null,\"name\":\"align_content\"},{\"default\":\"flex-start\",\"kind\":null,\"name\":\"align_items\"},{\"default\":\"row\",\"kind\":null,\"name\":\"flex_direction\"},{\"default\":\"wrap\",\"kind\":null,\"name\":\"flex_wrap\"},{\"default\":\"flex-start\",\"kind\":null,\"name\":\"justify_content\"}]},{\"extends\":null,\"module\":null,\"name\":\"TemplateActions1\",\"overrides\":[],\"properties\":[{\"default\":0,\"kind\":null,\"name\":\"open_modal\"},{\"default\":0,\"kind\":null,\"name\":\"close_modal\"}]},{\"extends\":null,\"module\":null,\"name\":\"MaterialTemplateActions1\",\"overrides\":[],\"properties\":[{\"default\":0,\"kind\":null,\"name\":\"open_modal\"},{\"default\":0,\"kind\":null,\"name\":\"close_modal\"}]}],\"roots\":{\"references\":[{\"attributes\":{\"background_fill_color\":\"white\",\"below\":[{\"id\":\"1360\"}],\"center\":[{\"id\":\"1363\"},{\"id\":\"1367\"}],\"height\":800,\"left\":[{\"id\":\"1364\"}],\"renderers\":[{\"id\":\"1387\"}],\"title\":{\"id\":\"1423\"},\"toolbar\":{\"id\":\"1376\"},\"width\":800,\"x_range\":{\"id\":\"1352\"},\"x_scale\":{\"id\":\"1356\"},\"y_range\":{\"id\":\"1354\"},\"y_scale\":{\"id\":\"1358\"}},\"id\":\"1351\",\"subtype\":\"Figure\",\"type\":\"Plot\"},{\"attributes\":{},\"id\":\"1424\",\"type\":\"BasicTickFormatter\"},{\"attributes\":{},\"id\":\"1361\",\"type\":\"BasicTicker\"},{\"attributes\":{\"fill_alpha\":{\"field\":\"alpha\"},\"fill_color\":{\"field\":\"color\"},\"line_alpha\":{\"field\":\"alpha\"},\"line_color\":{\"field\":\"color\"},\"size\":{\"value\":5},\"x\":{\"field\":\"x\"},\"y\":{\"field\":\"y\"}},\"id\":\"1385\",\"type\":\"Circle\"},{\"attributes\":{},\"id\":\"1368\",\"type\":\"PanTool\"},{\"attributes\":{},\"id\":\"1352\",\"type\":\"DataRange1d\"},{\"attributes\":{},\"id\":\"1356\",\"type\":\"LinearScale\"},{\"attributes\":{},\"id\":\"1427\",\"type\":\"BasicTickFormatter\"},{\"attributes\":{\"bottom_units\":\"screen\",\"fill_alpha\":0.5,\"fill_color\":\"lightgrey\",\"left_units\":\"screen\",\"level\":\"overlay\",\"line_alpha\":1.0,\"line_color\":\"black\",\"line_dash\":[4,4],\"line_width\":2,\"right_units\":\"screen\",\"syncable\":false,\"top_units\":\"screen\"},\"id\":\"1374\",\"type\":\"BoxAnnotation\"},{\"attributes\":{\"axis\":{\"id\":\"1364\"},\"dimension\":1,\"ticker\":null,\"visible\":false},\"id\":\"1367\",\"type\":\"Grid\"},{\"attributes\":{},\"id\":\"1354\",\"type\":\"DataRange1d\"},{\"attributes\":{},\"id\":\"1373\",\"type\":\"HelpTool\"},{\"attributes\":{},\"id\":\"1365\",\"type\":\"BasicTicker\"},{\"attributes\":{\"data_source\":{\"id\":\"1350\"},\"glyph\":{\"id\":\"1385\"},\"hover_glyph\":null,\"muted_glyph\":null,\"nonselection_glyph\":{\"id\":\"1386\"},\"view\":{\"id\":\"1388\"}},\"id\":\"1387\",\"type\":\"GlyphRenderer\"},{\"attributes\":{},\"id\":\"1372\",\"type\":\"ResetTool\"},{\"attributes\":{},\"id\":\"1423\",\"type\":\"Title\"},{\"attributes\":{\"source\":{\"id\":\"1350\"}},\"id\":\"1388\",\"type\":\"CDSView\"},{\"attributes\":{\"formatter\":{\"id\":\"1427\"},\"major_label_policy\":{\"id\":\"1428\"},\"ticker\":{\"id\":\"1361\"},\"visible\":false},\"id\":\"1360\",\"type\":\"LinearAxis\"},{\"attributes\":{\"axis\":{\"id\":\"1360\"},\"ticker\":null,\"visible\":false},\"id\":\"1363\",\"type\":\"Grid\"},{\"attributes\":{\"fill_alpha\":{\"value\":0.1},\"fill_color\":{\"field\":\"color\"},\"line_alpha\":{\"value\":0.1},\"line_color\":{\"field\":\"color\"},\"size\":{\"value\":5},\"x\":{\"field\":\"x\"},\"y\":{\"field\":\"y\"}},\"id\":\"1386\",\"type\":\"Circle\"},{\"attributes\":{},\"id\":\"1371\",\"type\":\"SaveTool\"},{\"attributes\":{},\"id\":\"1431\",\"type\":\"Selection\"},{\"attributes\":{},\"id\":\"1432\",\"type\":\"UnionRenderers\"},{\"attributes\":{},\"id\":\"1428\",\"type\":\"AllLabels\"},{\"attributes\":{\"formatter\":{\"id\":\"1424\"},\"major_label_policy\":{\"id\":\"1425\"},\"ticker\":{\"id\":\"1365\"},\"visible\":false},\"id\":\"1364\",\"type\":\"LinearAxis\"},{\"attributes\":{\"callback\":null,\"tooltips\":[[\"index\",\"@{index}\"],[\"truelabel\",\"@{truelabel}\"],[\"hdbscanlabel\",\"@{hdbscanlabel}\"]]},\"id\":\"1375\",\"type\":\"HoverTool\"},{\"attributes\":{},\"id\":\"1425\",\"type\":\"AllLabels\"},{\"attributes\":{\"active_multi\":null,\"tools\":[{\"id\":\"1368\"},{\"id\":\"1369\"},{\"id\":\"1370\"},{\"id\":\"1371\"},{\"id\":\"1372\"},{\"id\":\"1373\"},{\"id\":\"1375\"}]},\"id\":\"1376\",\"type\":\"Toolbar\"},{\"attributes\":{},\"id\":\"1358\",\"type\":\"LinearScale\"},{\"attributes\":{\"overlay\":{\"id\":\"1374\"}},\"id\":\"1370\",\"type\":\"BoxZoomTool\"},{\"attributes\":{\"data\":{\"alpha\":[1,1,1,1,1,1,1,1,1,1,1,1,1,1,1,1,1,1,1,1,1,1,1,1,1,1,1,1,1,1,1,1,1,1,1,1,1,1,1,1,1,1,1,1,1,1,1,1,1,1,1,1,1,1,1,1,1,1,1,1,1,1,1,1,1,1,1,1,1,1,1,1,1,1,1,1,1,1,1,1,1,1,1,1,1,1,1,1,1,1,1,1,1,1,1,1,1,1,1,1,1,1,1,1,1,1,1,1,1,1,1,1,1,1,1,1,1,1,1,1,1,1,1,1,1,1,1,1,1,1,1,1,1,1,1,1,1,1,1,1,1,1,1,1,1,1,1,1,1,1,1,1,1,1,1,1,1,1,1,1,1,1,1,1,1,1,1,1,1,1,1,1,1,1,1,1,1,1,1,1,1,1,1,1,1,1,1,1,1,1,1,1,1,1,1,1,1,1,1,1,1,1,1,1,1,1,1,1,1,1,1,1,1,1,1,1,1,1,1,1,1,1,1,1,1,1,1,1,1,1,1,1,1,1,1,1,1,1,1,1,1,1,1,1,1,1,1,1,1,1,1,1,1,1,1,1,1,1,1,1,1,1,1,1,1,1,1,1,1,1,1,1,1,1,1,1,1,1,1,1,1,1,1,1,1,1,1,1,1,1,1,1,1,1,1,1,1,1,1,1,1,1,1,1,1,1,1,1,1,1,1,1,1,1,1,1,1,1,1,1,1,1,1,1,1,1,1,1,1,1,1,1,1,1,1,1,1,1,1,1,1,1,1,1,1,1,1,1,1,1,1,1,1,1,1,1,1,1,1,1,1,1,1,1,1,1,1,1,1,1,1,1,1,1,1,1,1,1,1,1,1,1,1,1,1,1,1,1,1,1,1,1,1,1,1,1,1,1,1,1,1,1,1,1,1,1,1,1,1,1,1,1,1,1,1,1,1,1,1,1,1,1,1,1,1,1,1,1,1,1,1,1,1,1,1,1,1,1,1,1,1,1,1,1,1,1,1,1,1,1,1,1,1,1,1,1,1,1,1,1,1,1,1,1,1,1,1,1,1,1,1,1,1,1,1,1,1,1,1,1,1,1,1,1,1,1,1,1,1,1,1,1,1,1,1,1,1,1,1,1,1,1,1,1,1,1,1,1,1,1,1,1,1,1,1,1,1,1,1,1,1,1,1,1,1,1,1,1,1,1,1,1,1,1,1,1,1,1,1,1,1,1,1,1,1,1,1,1,1,1,1,1,1,1,1,1,1,1,1,1,1,1,1,1,1,1,1,1,1,1,1,1,1,1,1,1,1,1,1,1,1,1,1,1,1,1,1,1,1,1,1,1,1,1,1,1,1,1,1,1,1,1,1,1,1,1,1,1,1,1,1,1,1,1,1,1,1,1,1,1,1,1,1,1,1,1,1,1,1,1,1,1,1,1,1,1,1,1,1,1,1,1,1,1,1,1,1,1,1,1,1,1,1,1,1,1,1,1,1,1,1,1,1,1,1,1,1,1,1,1,1,1,1,1,1,1,1,1,1,1,1,1,1,1,1,1,1,1,1,1,1,1,1,1,1,1,1,1,1,1,1,1,1,1,1,1,1,1,1,1,1,1,1,1,1,1,1,1,1,1,1,1,1,1,1,1,1,1,1,1,1,1,1,1,1,1,1,1,1,1,1,1,1,1,1,1,1,1,1,1,1,1,1,1,1,1,1,1,1,1,1,1,1,1,1,1,1,1,1,1,1,1,1,1,1,1,1,1,1,1,1,1,1,1,1,1,1,1,1,1,1,1,1,1,1,1,1,1,1,1,1,1,1,1,1,1,1,1,1,1,1,1,1,1,1,1,1,1,1,1,1,1,1,1,1,1,1,1,1,1,1,1,1,1,1,1,1,1,1,1,1,1,1,1,1,1,1,1,1,1,1,1,1,1,1,1,1,1,1,1,1,1,1,1,1,1,1,1,1,1,1,1,1,1,1,1,1,1,1,1,1,1,1,1,1,1,1,1,1,1,1,1,1,1,1,1,1,1,1,1,1,1,1,1,1,1,1,1,1,1,1,1,1,1,1,1,1,1,1,1,1,1,1,1,1,1,1,1,1,1,1,1,1,1,1,1,1,1,1,1,1,1,1,1,1,1,1,1,1,1,1,1,1,1,1,1,1,1,1,1,1,1,1,1,1,1,1,1,1,1,1,1,1,1,1,1,1,1,1,1,1,1,1,1,1,1,1,1,1,1,1,1,1,1,1,1,1,1,1,1,1,1,1,1,1,1,1,1,1,1,1,1,1,1,1,1,1,1,1,1,1,1,1,1,1,1,1,1,1,1,1,1,1,1,1,1,1,1,1,1,1,1,1,1,1,1,1,1,1,1,1,1,1,1,1,1,1,1,1,1,1,1,1,1,1,1,1,1,1,1,1,1,1,1,1,1,1,1,1,1,1,1,1,1,1,1,1,1,1,1,1,1,1,1,1,1,1,1,1,1,1,1,1,1,1,1,1,1,1,1,1,1,1,1,1,1,1,1,1,1,1,1,1,1,1,1,1,1,1,1,1,1,1,1,1,1,1,1,1,1,1,1,1,1,1,1,1,1,1,1,1,1,1,1,1,1,1,1,1,1,1,1,1,1,1,1,1,1,1,1,1,1,1,1,1,1,1,1,1,1,1,1,1,1,1,1,1,1,1,1,1,1,1,1,1,1,1,1,1,1,1,1,1,1,1,1,1,1,1,1,1,1,1,1,1,1,1,1,1,1,1,1,1,1,1,1,1,1,1,1,1,1,1,1,1,1,1,1,1,1,1,1,1,1,1,1,1,1,1,1,1,1,1,1,1,1,1,1,1,1,1,1,1,1,1,1,1,1,1,1,1,1,1,1,1,1,1,1,1,1,1,1,1,1,1,1,1,1,1,1,1,1,1,1,1,1,1,1,1,1,1,1,1,1,1,1,1,1,1,1,1,1,1,1,1,1,1,1,1,1,1,1,1,1,1,1,1,1,1,1,1,1,1,1,1,1,1,1,1,1,1,1,1,1,1,1,1,1,1,1,1,1,1,1,1,1,1,1,1,1,1,1,1,1,1,1,1,1,1,1,1,1,1,1,1,1,1,1,1,1,1,1,1,1,1,1,1,1,1,1,1,1,1,1,1,1,1,1,1,1,1,1,1,1,1,1,1,1,1,1,1,1,1,1,1,1,1,1,1,1,1,1,1,1,1,1,1,1,1,1,1,1,1,1,1,1,1,1,1,1,1,1,1,1,1,1,1,1,1,1,1,1,1,1,1,1,1,1,1,1,1,1,1,1,1,1,1,1,1,1,1,1,1,1,1,1,1,1,1,1,1,1,1,1,1,1,1,1,1,1,1,1,1,1,1,1,1,1,1,1,1,1,1,1,1,1,1,1,1,1,1,1,1,1,1,1,1,1,1,1,1,1,1,1,1,1,1,1,1,1,1,1,1,1,1,1,1,1,1,1,1,1,1,1,1,1,1,1,1,1,1,1,1,1,1,1,1,1,1,1,1,1,1,1,1,1,1,1,1,1,1,1,1,1,1,1,1,1,1,1,1,1,1,1,1,1,1,1,1,1,1,1,1,1,1,1,1,1,1,1,1,1,1,1,1,1,1,1,1,1,1,1,1,1,1,1,1,1,1,1,1,1,1,1,1,1,1,1,1,1,1,1,1,1,1,1,1,1,1,1,1,1,1,1,1,1,1,1,1,1,1,1,1,1,1,1,1,1,1,1,1,1,1,1,1,1,1,1,1,1,1,1,1,1,1,1,1,1,1,1,1,1,1,1,1,1,1,1,1,1,1,1,1,1,1,1,1,1,1,1,1,1,1,1,1,1,1,1,1,1,1,1,1,1,1,1,1,1,1,1,1,1,1,1,1,1,1,1,1,1,1,1,1,1,1,1,1,1,1,1,1,1,1,1,1,1,1,1,1,1,1,1,1,1,1,1,1,1,1,1,1,1,1,1,1,1,1,1,1,1,1,1,1,1,1,1,1,1,1,1,1,1,1,1,1,1,1,1,1,1,1,1,1,1,1,1,1],\"color\":[\"#fdbf6f\",\"#5e4fa2\",\"#5e4fa2\",\"#bfe5a0\",\"#d8434e\",\"#74c7a5\",\"#f67a49\",\"#378ebb\",\"#5e4fa2\",\"#74c7a5\",\"#fdbf6f\",\"#5e4fa2\",\"#feeda1\",\"#bfe5a0\",\"#d8434e\",\"#f1f9a9\",\"#f67a49\",\"#378ebb\",\"#5e4fa2\",\"#74c7a5\",\"#fdbf6f\",\"#5e4fa2\",\"#feeda1\",\"#bfe5a0\",\"#d8434e\",\"#f1f9a9\",\"#f67a49\",\"#378ebb\",\"#5e4fa2\",\"#74c7a5\",\"#fdbf6f\",\"#74c7a5\",\"#f1f9a9\",\"#f1f9a9\",\"#f67a49\",\"#f1f9a9\",\"#fdbf6f\",\"#74c7a5\",\"#5e4fa2\",\"#74c7a5\",\"#5e4fa2\",\"#d8434e\",\"#5e4fa2\",\"#378ebb\",\"#378ebb\",\"#bfe5a0\",\"#f1f9a9\",\"#5e4fa2\",\"#fdbf6f\",\"#fdbf6f\",\"#9e0142\",\"#5e4fa2\",\"#378ebb\",\"#5e4fa2\",\"#5e4fa2\",\"#fdbf6f\",\"#5e4fa2\",\"#5e4fa2\",\"#f67a49\",\"#bfe5a0\",\"#bfe5a0\",\"#378ebb\",\"#bfe5a0\",\"#bfe5a0\",\"#d8434e\",\"#f67a49\",\"#f67a49\",\"#f67a49\",\"#d8434e\",\"#378ebb\",\"#5e4fa2\",\"#f1f9a9\",\"#fdbf6f\",\"#74c7a5\",\"#f1f9a9\",\"#5e4fa2\",\"#5e4fa2\",\"#5e4fa2\",\"#fdbf6f\",\"#fdbf6f\",\"#5e4fa2\",\"#378ebb\",\"#f67a49\",\"#bfe5a0\",\"#feeda1\",\"#5e4fa2\",\"#378ebb\",\"#d8434e\",\"#f67a49\",\"#bfe5a0\",\"#5e4fa2\",\"#bfe5a0\",\"#74c7a5\",\"#5e4fa2\",\"#378ebb\",\"#f67a49\",\"#5e4fa2\",\"#d8434e\",\"#bfe5a0\",\"#5e4fa2\",\"#d8434e\",\"#fdbf6f\",\"#f1f9a9\",\"#bfe5a0\",\"#f67a49\",\"#74c7a5\",\"#f67a49\",\"#5e4fa2\",\"#378ebb\",\"#f1f9a9\",\"#d8434e\",\"#d8434e\",\"#378ebb\",\"#feeda1\",\"#5e4fa2\",\"#9e0142\",\"#9e0142\",\"#f1f9a9\",\"#378ebb\",\"#74c7a5\",\"#f1f9a9\",\"#d8434e\",\"#5e4fa2\",\"#5e4fa2\",\"#d8434e\",\"#74c7a5\",\"#fdbf6f\",\"#5e4fa2\",\"#74c7a5\",\"#5e4fa2\",\"#fdbf6f\",\"#5e4fa2\",\"#feeda1\",\"#bfe5a0\",\"#d8434e\",\"#f1f9a9\",\"#f67a49\",\"#378ebb\",\"#5e4fa2\",\"#74c7a5\",\"#fdbf6f\",\"#5e4fa2\",\"#feeda1\",\"#bfe5a0\",\"#d8434e\",\"#f1f9a9\",\"#f67a49\",\"#378ebb\",\"#5e4fa2\",\"#74c7a5\",\"#fdbf6f\",\"#5e4fa2\",\"#feeda1\",\"#bfe5a0\",\"#d8434e\",\"#f1f9a9\",\"#f67a49\",\"#378ebb\",\"#5e4fa2\",\"#74c7a5\",\"#fdbf6f\",\"#74c7a5\",\"#f1f9a9\",\"#f1f9a9\",\"#f67a49\",\"#f1f9a9\",\"#fdbf6f\",\"#74c7a5\",\"#5e4fa2\",\"#74c7a5\",\"#5e4fa2\",\"#d8434e\",\"#5e4fa2\",\"#378ebb\",\"#378ebb\",\"#bfe5a0\",\"#f1f9a9\",\"#5e4fa2\",\"#fdbf6f\",\"#fdbf6f\",\"#feeda1\",\"#feeda1\",\"#378ebb\",\"#5e4fa2\",\"#feeda1\",\"#fdbf6f\",\"#5e4fa2\",\"#feeda1\",\"#f67a49\",\"#bfe5a0\",\"#bfe5a0\",\"#378ebb\",\"#bfe5a0\",\"#bfe5a0\",\"#d8434e\",\"#f67a49\",\"#f67a49\",\"#f67a49\",\"#d8434e\",\"#74c7a5\",\"#5e4fa2\",\"#f1f9a9\",\"#fdbf6f\",\"#74c7a5\",\"#f1f9a9\",\"#feeda1\",\"#5e4fa2\",\"#feeda1\",\"#fdbf6f\",\"#fdbf6f\",\"#5e4fa2\",\"#378ebb\",\"#f67a49\",\"#bfe5a0\",\"#feeda1\",\"#5e4fa2\",\"#378ebb\",\"#bfe5a0\",\"#5e4fa2\",\"#bfe5a0\",\"#74c7a5\",\"#5e4fa2\",\"#378ebb\",\"#f67a49\",\"#5e4fa2\",\"#d8434e\",\"#bfe5a0\",\"#5e4fa2\",\"#d8434e\",\"#fdbf6f\",\"#f1f9a9\",\"#bfe5a0\",\"#f67a49\",\"#74c7a5\",\"#f67a49\",\"#5e4fa2\",\"#378ebb\",\"#f1f9a9\",\"#d8434e\",\"#d8434e\",\"#378ebb\",\"#feeda1\",\"#5e4fa2\",\"#feeda1\",\"#feeda1\",\"#f1f9a9\",\"#f1f9a9\",\"#d8434e\",\"#5e4fa2\",\"#5e4fa2\",\"#d8434e\",\"#74c7a5\",\"#fdbf6f\",\"#5e4fa2\",\"#74c7a5\",\"#5e4fa2\",\"#fdbf6f\",\"#5e4fa2\",\"#feeda1\",\"#bfe5a0\",\"#d8434e\",\"#f1f9a9\",\"#f67a49\",\"#378ebb\",\"#5e4fa2\",\"#378ebb\",\"#fdbf6f\",\"#5e4fa2\",\"#feeda1\",\"#bfe5a0\",\"#d8434e\",\"#f1f9a9\",\"#f67a49\",\"#378ebb\",\"#5e4fa2\",\"#378ebb\",\"#fdbf6f\",\"#5e4fa2\",\"#feeda1\",\"#bfe5a0\",\"#d8434e\",\"#f1f9a9\",\"#f67a49\",\"#378ebb\",\"#5e4fa2\",\"#74c7a5\",\"#fdbf6f\",\"#74c7a5\",\"#f1f9a9\",\"#f1f9a9\",\"#f67a49\",\"#f1f9a9\",\"#fdbf6f\",\"#74c7a5\",\"#5e4fa2\",\"#74c7a5\",\"#5e4fa2\",\"#d8434e\",\"#5e4fa2\",\"#378ebb\",\"#378ebb\",\"#bfe5a0\",\"#f1f9a9\",\"#5e4fa2\",\"#fdbf6f\",\"#fdbf6f\",\"#feeda1\",\"#feeda1\",\"#378ebb\",\"#5e4fa2\",\"#feeda1\",\"#fdbf6f\",\"#5e4fa2\",\"#feeda1\",\"#f67a49\",\"#bfe5a0\",\"#bfe5a0\",\"#378ebb\",\"#bfe5a0\",\"#bfe5a0\",\"#d8434e\",\"#f67a49\",\"#f67a49\",\"#f67a49\",\"#d8434e\",\"#378ebb\",\"#5e4fa2\",\"#f1f9a9\",\"#fdbf6f\",\"#378ebb\",\"#f1f9a9\",\"#feeda1\",\"#5e4fa2\",\"#feeda1\",\"#fdbf6f\",\"#fdbf6f\",\"#5e4fa2\",\"#378ebb\",\"#f67a49\",\"#bfe5a0\",\"#feeda1\",\"#5e4fa2\",\"#378ebb\",\"#d8434e\",\"#f67a49\",\"#bfe5a0\",\"#5e4fa2\",\"#bfe5a0\",\"#378ebb\",\"#5e4fa2\",\"#378ebb\",\"#f67a49\",\"#5e4fa2\",\"#d8434e\",\"#bfe5a0\",\"#5e4fa2\",\"#d8434e\",\"#fdbf6f\",\"#f1f9a9\",\"#bfe5a0\",\"#f67a49\",\"#378ebb\",\"#f67a49\",\"#5e4fa2\",\"#378ebb\",\"#f1f9a9\",\"#d8434e\",\"#d8434e\",\"#378ebb\",\"#feeda1\",\"#5e4fa2\",\"#feeda1\",\"#feeda1\",\"#f1f9a9\",\"#378ebb\",\"#5e4fa2\",\"#f1f9a9\",\"#d8434e\",\"#5e4fa2\",\"#5e4fa2\",\"#d8434e\",\"#5e4fa2\",\"#fdbf6f\",\"#5e4fa2\",\"#378ebb\",\"#bfe5a0\",\"#fdbf6f\",\"#5e4fa2\",\"#feeda1\",\"#bfe5a0\",\"#d8434e\",\"#f1f9a9\",\"#f67a49\",\"#378ebb\",\"#5e4fa2\",\"#74c7a5\",\"#fdbf6f\",\"#5e4fa2\",\"#feeda1\",\"#bfe5a0\",\"#d8434e\",\"#f1f9a9\",\"#f67a49\",\"#378ebb\",\"#5e4fa2\",\"#74c7a5\",\"#fdbf6f\",\"#5e4fa2\",\"#feeda1\",\"#bfe5a0\",\"#d8434e\",\"#f1f9a9\",\"#f67a49\",\"#378ebb\",\"#5e4fa2\",\"#74c7a5\",\"#fdbf6f\",\"#74c7a5\",\"#f1f9a9\",\"#f1f9a9\",\"#f67a49\",\"#74c7a5\",\"#fdbf6f\",\"#74c7a5\",\"#5e4fa2\",\"#74c7a5\",\"#5e4fa2\",\"#d8434e\",\"#5e4fa2\",\"#378ebb\",\"#378ebb\",\"#bfe5a0\",\"#f1f9a9\",\"#5e4fa2\",\"#fdbf6f\",\"#fdbf6f\",\"#feeda1\",\"#feeda1\",\"#378ebb\",\"#5e4fa2\",\"#feeda1\",\"#fdbf6f\",\"#f67a49\",\"#feeda1\",\"#f67a49\",\"#bfe5a0\",\"#bfe5a0\",\"#378ebb\",\"#bfe5a0\",\"#bfe5a0\",\"#d8434e\",\"#f67a49\",\"#f67a49\",\"#f67a49\",\"#d8434e\",\"#74c7a5\",\"#5e4fa2\",\"#f1f9a9\",\"#fdbf6f\",\"#74c7a5\",\"#f1f9a9\",\"#feeda1\",\"#5e4fa2\",\"#feeda1\",\"#fdbf6f\",\"#fdbf6f\",\"#5e4fa2\",\"#378ebb\",\"#f67a49\",\"#bfe5a0\",\"#feeda1\",\"#5e4fa2\",\"#378ebb\",\"#d8434e\",\"#f67a49\",\"#bfe5a0\",\"#5e4fa2\",\"#bfe5a0\",\"#74c7a5\",\"#5e4fa2\",\"#378ebb\",\"#f67a49\",\"#5e4fa2\",\"#d8434e\",\"#bfe5a0\",\"#5e4fa2\",\"#d8434e\",\"#fdbf6f\",\"#f1f9a9\",\"#bfe5a0\",\"#f67a49\",\"#74c7a5\",\"#5e4fa2\",\"#5e4fa2\",\"#378ebb\",\"#f1f9a9\",\"#d8434e\",\"#d8434e\",\"#378ebb\",\"#feeda1\",\"#5e4fa2\",\"#feeda1\",\"#9e0142\",\"#f1f9a9\",\"#378ebb\",\"#74c7a5\",\"#f1f9a9\",\"#d8434e\",\"#5e4fa2\",\"#5e4fa2\",\"#d8434e\",\"#74c7a5\",\"#fdbf6f\",\"#5e4fa2\",\"#74c7a5\",\"#5e4fa2\",\"#fdbf6f\",\"#f67a49\",\"#feeda1\",\"#bfe5a0\",\"#d8434e\",\"#f1f9a9\",\"#f67a49\",\"#378ebb\",\"#5e4fa2\",\"#74c7a5\",\"#fdbf6f\",\"#f67a49\",\"#feeda1\",\"#bfe5a0\",\"#d8434e\",\"#f1f9a9\",\"#f67a49\",\"#378ebb\",\"#5e4fa2\",\"#74c7a5\",\"#fdbf6f\",\"#f67a49\",\"#feeda1\",\"#bfe5a0\",\"#d8434e\",\"#f1f9a9\",\"#f67a49\",\"#378ebb\",\"#5e4fa2\",\"#74c7a5\",\"#fdbf6f\",\"#5e4fa2\",\"#f1f9a9\",\"#f1f9a9\",\"#f67a49\",\"#f1f9a9\",\"#fdbf6f\",\"#74c7a5\",\"#5e4fa2\",\"#74c7a5\",\"#5e4fa2\",\"#d8434e\",\"#f67a49\",\"#378ebb\",\"#378ebb\",\"#bfe5a0\",\"#f1f9a9\",\"#f67a49\",\"#fdbf6f\",\"#fdbf6f\",\"#feeda1\",\"#feeda1\",\"#378ebb\",\"#5e4fa2\",\"#feeda1\",\"#fdbf6f\",\"#f67a49\",\"#feeda1\",\"#f67a49\",\"#bfe5a0\",\"#bfe5a0\",\"#378ebb\",\"#bfe5a0\",\"#bfe5a0\",\"#d8434e\",\"#f67a49\",\"#f67a49\",\"#f67a49\",\"#d8434e\",\"#74c7a5\",\"#f67a49\",\"#f1f9a9\",\"#fdbf6f\",\"#74c7a5\",\"#f1f9a9\",\"#feeda1\",\"#5e4fa2\",\"#feeda1\",\"#fdbf6f\",\"#fdbf6f\",\"#f67a49\",\"#378ebb\",\"#f67a49\",\"#bfe5a0\",\"#feeda1\",\"#f67a49\",\"#378ebb\",\"#d8434e\",\"#f67a49\",\"#bfe5a0\",\"#f67a49\",\"#bfe5a0\",\"#74c7a5\",\"#f67a49\",\"#378ebb\",\"#f67a49\",\"#5e4fa2\",\"#d8434e\",\"#bfe5a0\",\"#5e4fa2\",\"#d8434e\",\"#fdbf6f\",\"#f1f9a9\",\"#bfe5a0\",\"#f67a49\",\"#74c7a5\",\"#f67a49\",\"#f67a49\",\"#378ebb\",\"#f1f9a9\",\"#d8434e\",\"#d8434e\",\"#378ebb\",\"#feeda1\",\"#5e4fa2\",\"#feeda1\",\"#feeda1\",\"#f1f9a9\",\"#378ebb\",\"#74c7a5\",\"#f1f9a9\",\"#d8434e\",\"#5e4fa2\",\"#5e4fa2\",\"#d8434e\",\"#74c7a5\",\"#fdbf6f\",\"#5e4fa2\",\"#74c7a5\",\"#5e4fa2\",\"#fdbf6f\",\"#5e4fa2\",\"#feeda1\",\"#bfe5a0\",\"#d8434e\",\"#f1f9a9\",\"#f67a49\",\"#378ebb\",\"#5e4fa2\",\"#5e4fa2\",\"#fdbf6f\",\"#5e4fa2\",\"#feeda1\",\"#bfe5a0\",\"#d8434e\",\"#f1f9a9\",\"#f67a49\",\"#378ebb\",\"#5e4fa2\",\"#5e4fa2\",\"#fdbf6f\",\"#5e4fa2\",\"#feeda1\",\"#bfe5a0\",\"#d8434e\",\"#f1f9a9\",\"#f67a49\",\"#378ebb\",\"#5e4fa2\",\"#5e4fa2\",\"#fdbf6f\",\"#5e4fa2\",\"#f1f9a9\",\"#f1f9a9\",\"#f67a49\",\"#f1f9a9\",\"#fdbf6f\",\"#5e4fa2\",\"#5e4fa2\",\"#5e4fa2\",\"#5e4fa2\",\"#d8434e\",\"#5e4fa2\",\"#378ebb\",\"#378ebb\",\"#bfe5a0\",\"#f1f9a9\",\"#5e4fa2\",\"#fdbf6f\",\"#fdbf6f\",\"#feeda1\",\"#feeda1\",\"#378ebb\",\"#5e4fa2\",\"#feeda1\",\"#fdbf6f\",\"#5e4fa2\",\"#feeda1\",\"#f67a49\",\"#bfe5a0\",\"#bfe5a0\",\"#378ebb\",\"#bfe5a0\",\"#bfe5a0\",\"#d8434e\",\"#f67a49\",\"#f67a49\",\"#f67a49\",\"#d8434e\",\"#5e4fa2\",\"#5e4fa2\",\"#f1f9a9\",\"#fdbf6f\",\"#5e4fa2\",\"#f1f9a9\",\"#feeda1\",\"#5e4fa2\",\"#feeda1\",\"#fdbf6f\",\"#fdbf6f\",\"#5e4fa2\",\"#378ebb\",\"#f67a49\",\"#bfe5a0\",\"#feeda1\",\"#5e4fa2\",\"#378ebb\",\"#d8434e\",\"#f67a49\",\"#bfe5a0\",\"#5e4fa2\",\"#bfe5a0\",\"#5e4fa2\",\"#5e4fa2\",\"#378ebb\",\"#f67a49\",\"#5e4fa2\",\"#d8434e\",\"#bfe5a0\",\"#5e4fa2\",\"#378ebb\",\"#fdbf6f\",\"#f1f9a9\",\"#bfe5a0\",\"#f67a49\",\"#5e4fa2\",\"#f67a49\",\"#5e4fa2\",\"#378ebb\",\"#f1f9a9\",\"#d8434e\",\"#d8434e\",\"#378ebb\",\"#feeda1\",\"#5e4fa2\",\"#feeda1\",\"#feeda1\",\"#f1f9a9\",\"#378ebb\",\"#5e4fa2\",\"#f1f9a9\",\"#d8434e\",\"#5e4fa2\",\"#5e4fa2\",\"#d8434e\",\"#5e4fa2\",\"#fdbf6f\",\"#5e4fa2\",\"#5e4fa2\",\"#5e4fa2\",\"#fdbf6f\",\"#5e4fa2\",\"#feeda1\",\"#bfe5a0\",\"#d8434e\",\"#f1f9a9\",\"#f67a49\",\"#378ebb\",\"#5e4fa2\",\"#74c7a5\",\"#fdbf6f\",\"#5e4fa2\",\"#feeda1\",\"#bfe5a0\",\"#d8434e\",\"#f1f9a9\",\"#f67a49\",\"#378ebb\",\"#5e4fa2\",\"#74c7a5\",\"#fdbf6f\",\"#5e4fa2\",\"#feeda1\",\"#bfe5a0\",\"#d8434e\",\"#f1f9a9\",\"#f67a49\",\"#378ebb\",\"#5e4fa2\",\"#74c7a5\",\"#fdbf6f\",\"#74c7a5\",\"#f1f9a9\",\"#f1f9a9\",\"#f67a49\",\"#f1f9a9\",\"#fdbf6f\",\"#bfe5a0\",\"#5e4fa2\",\"#74c7a5\",\"#5e4fa2\",\"#d8434e\",\"#5e4fa2\",\"#378ebb\",\"#378ebb\",\"#bfe5a0\",\"#f1f9a9\",\"#5e4fa2\",\"#fdbf6f\",\"#fdbf6f\",\"#feeda1\",\"#feeda1\",\"#378ebb\",\"#5e4fa2\",\"#feeda1\",\"#fdbf6f\",\"#f67a49\",\"#feeda1\",\"#f67a49\",\"#bfe5a0\",\"#bfe5a0\",\"#378ebb\",\"#bfe5a0\",\"#bfe5a0\",\"#d8434e\",\"#f67a49\",\"#f67a49\",\"#f67a49\",\"#d8434e\",\"#74c7a5\",\"#5e4fa2\",\"#f1f9a9\",\"#fdbf6f\",\"#74c7a5\",\"#f1f9a9\",\"#feeda1\",\"#5e4fa2\",\"#feeda1\",\"#fdbf6f\",\"#fdbf6f\",\"#5e4fa2\",\"#378ebb\",\"#f67a49\",\"#bfe5a0\",\"#feeda1\",\"#5e4fa2\",\"#378ebb\",\"#d8434e\",\"#f67a49\",\"#bfe5a0\",\"#5e4fa2\",\"#bfe5a0\",\"#74c7a5\",\"#5e4fa2\",\"#378ebb\",\"#f67a49\",\"#5e4fa2\",\"#d8434e\",\"#bfe5a0\",\"#5e4fa2\",\"#d8434e\",\"#fdbf6f\",\"#f1f9a9\",\"#bfe5a0\",\"#f67a49\",\"#74c7a5\",\"#f67a49\",\"#5e4fa2\",\"#378ebb\",\"#f1f9a9\",\"#d8434e\",\"#d8434e\",\"#378ebb\",\"#feeda1\",\"#5e4fa2\",\"#bfe5a0\",\"#feeda1\",\"#f1f9a9\",\"#378ebb\",\"#74c7a5\",\"#f1f9a9\",\"#d8434e\",\"#5e4fa2\",\"#5e4fa2\",\"#d8434e\",\"#74c7a5\",\"#fdbf6f\",\"#5e4fa2\",\"#74c7a5\",\"#5e4fa2\",\"#f67a49\",\"#feeda1\",\"#bfe5a0\",\"#d8434e\",\"#f1f9a9\",\"#f67a49\",\"#378ebb\",\"#5e4fa2\",\"#74c7a5\",\"#fdbf6f\",\"#f67a49\",\"#feeda1\",\"#bfe5a0\",\"#d8434e\",\"#f1f9a9\",\"#f67a49\",\"#378ebb\",\"#5e4fa2\",\"#74c7a5\",\"#fdbf6f\",\"#f67a49\",\"#feeda1\",\"#bfe5a0\",\"#d8434e\",\"#f1f9a9\",\"#f67a49\",\"#378ebb\",\"#5e4fa2\",\"#74c7a5\",\"#fdbf6f\",\"#74c7a5\",\"#f1f9a9\",\"#f1f9a9\",\"#f67a49\",\"#f1f9a9\",\"#fdbf6f\",\"#74c7a5\",\"#5e4fa2\",\"#74c7a5\",\"#5e4fa2\",\"#d8434e\",\"#f67a49\",\"#378ebb\",\"#378ebb\",\"#bfe5a0\",\"#f1f9a9\",\"#f67a49\",\"#feeda1\",\"#378ebb\",\"#5e4fa2\",\"#feeda1\",\"#fdbf6f\",\"#f67a49\",\"#feeda1\",\"#f67a49\",\"#bfe5a0\",\"#bfe5a0\",\"#378ebb\",\"#bfe5a0\",\"#bfe5a0\",\"#d8434e\",\"#f67a49\",\"#f67a49\",\"#f67a49\",\"#d8434e\",\"#74c7a5\",\"#f67a49\",\"#f1f9a9\",\"#fdbf6f\",\"#74c7a5\",\"#f1f9a9\",\"#feeda1\",\"#5e4fa2\",\"#feeda1\",\"#fdbf6f\",\"#fdbf6f\",\"#f67a49\",\"#378ebb\",\"#f67a49\",\"#bfe5a0\",\"#feeda1\",\"#f67a49\",\"#d8434e\",\"#f67a49\",\"#bfe5a0\",\"#f67a49\",\"#bfe5a0\",\"#74c7a5\",\"#f67a49\",\"#378ebb\",\"#f67a49\",\"#5e4fa2\",\"#d8434e\",\"#bfe5a0\",\"#f67a49\",\"#d8434e\",\"#fdbf6f\",\"#f1f9a9\",\"#bfe5a0\",\"#f67a49\",\"#74c7a5\",\"#f67a49\",\"#f67a49\",\"#378ebb\",\"#f1f9a9\",\"#d8434e\",\"#d8434e\",\"#378ebb\",\"#feeda1\",\"#5e4fa2\",\"#feeda1\",\"#feeda1\",\"#f1f9a9\",\"#378ebb\",\"#74c7a5\",\"#f1f9a9\",\"#d8434e\",\"#d8434e\",\"#74c7a5\",\"#fdbf6f\",\"#5e4fa2\",\"#74c7a5\",\"#5e4fa2\",\"#fdbf6f\",\"#5e4fa2\",\"#feeda1\",\"#bfe5a0\",\"#d8434e\",\"#f1f9a9\",\"#f67a49\",\"#378ebb\",\"#5e4fa2\",\"#bfe5a0\",\"#fdbf6f\",\"#5e4fa2\",\"#feeda1\",\"#bfe5a0\",\"#d8434e\",\"#f1f9a9\",\"#f67a49\",\"#378ebb\",\"#5e4fa2\",\"#74c7a5\",\"#fdbf6f\",\"#5e4fa2\",\"#feeda1\",\"#bfe5a0\",\"#d8434e\",\"#f1f9a9\",\"#f67a49\",\"#378ebb\",\"#5e4fa2\",\"#74c7a5\",\"#fdbf6f\",\"#74c7a5\",\"#f1f9a9\",\"#f1f9a9\",\"#f67a49\",\"#f1f9a9\",\"#fdbf6f\",\"#74c7a5\",\"#5e4fa2\",\"#74c7a5\",\"#5e4fa2\",\"#d8434e\",\"#5e4fa2\",\"#378ebb\",\"#378ebb\",\"#bfe5a0\",\"#f1f9a9\",\"#5e4fa2\",\"#fdbf6f\",\"#fdbf6f\",\"#378ebb\",\"#5e4fa2\",\"#feeda1\",\"#fdbf6f\",\"#5e4fa2\",\"#feeda1\",\"#f67a49\",\"#bfe5a0\",\"#bfe5a0\",\"#378ebb\",\"#bfe5a0\",\"#bfe5a0\",\"#d8434e\",\"#f67a49\",\"#f67a49\",\"#f67a49\",\"#d8434e\",\"#74c7a5\",\"#5e4fa2\",\"#f1f9a9\",\"#fdbf6f\",\"#5e4fa2\",\"#f1f9a9\",\"#feeda1\",\"#5e4fa2\",\"#feeda1\",\"#fdbf6f\",\"#fdbf6f\",\"#5e4fa2\",\"#378ebb\",\"#f67a49\",\"#bfe5a0\",\"#feeda1\",\"#5e4fa2\",\"#378ebb\",\"#d8434e\",\"#f67a49\",\"#bfe5a0\",\"#5e4fa2\",\"#378ebb\",\"#74c7a5\",\"#5e4fa2\",\"#378ebb\",\"#f67a49\",\"#5e4fa2\",\"#d8434e\",\"#bfe5a0\",\"#5e4fa2\",\"#d8434e\",\"#fdbf6f\",\"#f1f9a9\",\"#bfe5a0\",\"#f67a49\",\"#74c7a5\",\"#f67a49\",\"#5e4fa2\",\"#378ebb\",\"#f1f9a9\",\"#d8434e\",\"#d8434e\",\"#378ebb\",\"#feeda1\",\"#5e4fa2\",\"#feeda1\",\"#feeda1\",\"#f1f9a9\",\"#378ebb\",\"#74c7a5\",\"#f1f9a9\",\"#d8434e\",\"#5e4fa2\",\"#5e4fa2\",\"#d8434e\",\"#74c7a5\",\"#fdbf6f\",\"#5e4fa2\",\"#74c7a5\",\"#5e4fa2\",\"#fdbf6f\",\"#5e4fa2\",\"#feeda1\",\"#bfe5a0\",\"#d8434e\",\"#f1f9a9\",\"#f67a49\",\"#378ebb\",\"#5e4fa2\",\"#74c7a5\",\"#fdbf6f\",\"#5e4fa2\",\"#feeda1\",\"#bfe5a0\",\"#d8434e\",\"#f1f9a9\",\"#f67a49\",\"#378ebb\",\"#5e4fa2\",\"#74c7a5\",\"#fdbf6f\",\"#5e4fa2\",\"#feeda1\",\"#bfe5a0\",\"#d8434e\",\"#f1f9a9\",\"#f67a49\",\"#378ebb\",\"#5e4fa2\",\"#74c7a5\",\"#fdbf6f\",\"#74c7a5\",\"#f1f9a9\",\"#f1f9a9\",\"#f67a49\",\"#f1f9a9\",\"#fdbf6f\",\"#74c7a5\",\"#5e4fa2\",\"#74c7a5\",\"#5e4fa2\",\"#d8434e\",\"#5e4fa2\",\"#378ebb\",\"#378ebb\",\"#bfe5a0\",\"#f1f9a9\",\"#5e4fa2\",\"#fdbf6f\",\"#fdbf6f\",\"#feeda1\",\"#feeda1\",\"#378ebb\",\"#5e4fa2\",\"#feeda1\",\"#fdbf6f\",\"#5e4fa2\",\"#feeda1\",\"#f67a49\",\"#bfe5a0\",\"#bfe5a0\",\"#378ebb\",\"#bfe5a0\",\"#bfe5a0\",\"#d8434e\",\"#f67a49\",\"#f67a49\",\"#f67a49\",\"#d8434e\",\"#74c7a5\",\"#5e4fa2\",\"#f1f9a9\",\"#fdbf6f\",\"#74c7a5\",\"#f1f9a9\",\"#feeda1\",\"#5e4fa2\",\"#feeda1\",\"#fdbf6f\",\"#fdbf6f\",\"#5e4fa2\",\"#378ebb\",\"#f67a49\",\"#bfe5a0\",\"#feeda1\",\"#5e4fa2\",\"#378ebb\",\"#d8434e\",\"#f67a49\",\"#bfe5a0\",\"#5e4fa2\",\"#bfe5a0\",\"#74c7a5\",\"#5e4fa2\",\"#378ebb\",\"#f67a49\",\"#5e4fa2\",\"#d8434e\",\"#bfe5a0\",\"#5e4fa2\",\"#d8434e\",\"#fdbf6f\",\"#f1f9a9\",\"#bfe5a0\",\"#f67a49\",\"#74c7a5\",\"#f67a49\",\"#5e4fa2\",\"#378ebb\",\"#f1f9a9\",\"#d8434e\",\"#d8434e\",\"#378ebb\",\"#feeda1\",\"#5e4fa2\",\"#feeda1\",\"#feeda1\",\"#f1f9a9\",\"#378ebb\",\"#74c7a5\",\"#f1f9a9\",\"#d8434e\",\"#5e4fa2\",\"#5e4fa2\",\"#d8434e\",\"#74c7a5\",\"#fdbf6f\",\"#5e4fa2\",\"#74c7a5\",\"#5e4fa2\",\"#fdbf6f\",\"#5e4fa2\",\"#feeda1\",\"#bfe5a0\",\"#d8434e\",\"#f1f9a9\",\"#f67a49\",\"#378ebb\",\"#5e4fa2\",\"#74c7a5\",\"#fdbf6f\",\"#5e4fa2\",\"#feeda1\",\"#bfe5a0\",\"#d8434e\",\"#f1f9a9\",\"#f67a49\",\"#378ebb\",\"#5e4fa2\",\"#74c7a5\",\"#fdbf6f\",\"#5e4fa2\",\"#feeda1\",\"#bfe5a0\",\"#d8434e\",\"#f1f9a9\",\"#f67a49\",\"#378ebb\",\"#5e4fa2\",\"#74c7a5\",\"#fdbf6f\",\"#74c7a5\",\"#f1f9a9\",\"#f1f9a9\",\"#f67a49\",\"#f1f9a9\",\"#fdbf6f\",\"#74c7a5\",\"#5e4fa2\",\"#74c7a5\",\"#5e4fa2\",\"#d8434e\",\"#5e4fa2\",\"#378ebb\",\"#378ebb\",\"#bfe5a0\",\"#f1f9a9\",\"#5e4fa2\",\"#fdbf6f\",\"#fdbf6f\",\"#feeda1\",\"#feeda1\",\"#378ebb\",\"#5e4fa2\",\"#feeda1\",\"#fdbf6f\",\"#5e4fa2\",\"#feeda1\",\"#f67a49\",\"#bfe5a0\",\"#bfe5a0\",\"#378ebb\",\"#bfe5a0\",\"#bfe5a0\",\"#d8434e\",\"#f67a49\",\"#f67a49\",\"#f67a49\",\"#d8434e\",\"#74c7a5\",\"#5e4fa2\",\"#f1f9a9\",\"#fdbf6f\",\"#74c7a5\",\"#f67a49\",\"#feeda1\",\"#5e4fa2\",\"#feeda1\",\"#fdbf6f\",\"#fdbf6f\",\"#5e4fa2\",\"#378ebb\",\"#f67a49\",\"#bfe5a0\",\"#feeda1\",\"#5e4fa2\",\"#378ebb\",\"#d8434e\",\"#f67a49\",\"#bfe5a0\",\"#5e4fa2\",\"#bfe5a0\",\"#74c7a5\",\"#5e4fa2\",\"#378ebb\",\"#f67a49\",\"#5e4fa2\",\"#d8434e\",\"#bfe5a0\",\"#5e4fa2\",\"#d8434e\",\"#fdbf6f\",\"#f1f9a9\",\"#bfe5a0\",\"#f67a49\",\"#74c7a5\",\"#f67a49\",\"#5e4fa2\",\"#378ebb\",\"#f1f9a9\",\"#d8434e\",\"#d8434e\",\"#378ebb\",\"#feeda1\",\"#5e4fa2\",\"#feeda1\",\"#feeda1\",\"#f1f9a9\",\"#378ebb\",\"#74c7a5\",\"#f1f9a9\",\"#d8434e\",\"#5e4fa2\",\"#5e4fa2\",\"#d8434e\",\"#74c7a5\",\"#fdbf6f\",\"#5e4fa2\",\"#fdbf6f\",\"#5e4fa2\",\"#feeda1\",\"#bfe5a0\",\"#d8434e\",\"#f1f9a9\",\"#f67a49\",\"#378ebb\",\"#5e4fa2\",\"#74c7a5\",\"#fdbf6f\",\"#5e4fa2\",\"#feeda1\",\"#bfe5a0\",\"#d8434e\",\"#f1f9a9\",\"#f67a49\",\"#378ebb\",\"#5e4fa2\",\"#74c7a5\",\"#fdbf6f\",\"#5e4fa2\",\"#feeda1\",\"#bfe5a0\",\"#d8434e\",\"#f1f9a9\",\"#f67a49\",\"#378ebb\",\"#5e4fa2\",\"#74c7a5\",\"#fdbf6f\",\"#74c7a5\",\"#f1f9a9\",\"#f1f9a9\",\"#f67a49\",\"#f1f9a9\",\"#fdbf6f\",\"#74c7a5\",\"#5e4fa2\",\"#74c7a5\",\"#5e4fa2\",\"#d8434e\",\"#5e4fa2\",\"#378ebb\",\"#378ebb\",\"#bfe5a0\",\"#f1f9a9\",\"#5e4fa2\",\"#fdbf6f\",\"#fdbf6f\",\"#feeda1\",\"#feeda1\",\"#378ebb\",\"#5e4fa2\",\"#feeda1\",\"#fdbf6f\",\"#5e4fa2\",\"#feeda1\",\"#f67a49\",\"#bfe5a0\",\"#bfe5a0\",\"#378ebb\",\"#bfe5a0\",\"#bfe5a0\",\"#d8434e\",\"#f67a49\",\"#f67a49\",\"#f67a49\",\"#d8434e\",\"#74c7a5\",\"#5e4fa2\",\"#f1f9a9\",\"#fdbf6f\",\"#74c7a5\",\"#f1f9a9\",\"#feeda1\",\"#5e4fa2\",\"#feeda1\",\"#fdbf6f\",\"#fdbf6f\",\"#5e4fa2\",\"#378ebb\",\"#f67a49\",\"#bfe5a0\",\"#feeda1\",\"#5e4fa2\",\"#378ebb\",\"#d8434e\",\"#f67a49\",\"#bfe5a0\",\"#5e4fa2\",\"#bfe5a0\",\"#74c7a5\",\"#5e4fa2\",\"#378ebb\",\"#f67a49\",\"#5e4fa2\",\"#d8434e\",\"#bfe5a0\",\"#5e4fa2\",\"#d8434e\",\"#fdbf6f\",\"#f1f9a9\",\"#bfe5a0\",\"#f67a49\",\"#74c7a5\",\"#f67a49\",\"#5e4fa2\",\"#378ebb\",\"#f1f9a9\",\"#d8434e\",\"#d8434e\",\"#378ebb\",\"#feeda1\",\"#5e4fa2\",\"#feeda1\",\"#feeda1\",\"#f1f9a9\",\"#378ebb\",\"#74c7a5\",\"#f1f9a9\",\"#d8434e\",\"#5e4fa2\",\"#5e4fa2\",\"#d8434e\",\"#74c7a5\",\"#fdbf6f\",\"#5e4fa2\",\"#74c7a5\",\"#5e4fa2\",\"#fdbf6f\",\"#5e4fa2\",\"#feeda1\",\"#bfe5a0\",\"#d8434e\",\"#f1f9a9\",\"#f67a49\",\"#378ebb\",\"#5e4fa2\",\"#5e4fa2\",\"#fdbf6f\",\"#5e4fa2\",\"#feeda1\",\"#bfe5a0\",\"#d8434e\",\"#f1f9a9\",\"#f67a49\",\"#5e4fa2\",\"#fdbf6f\",\"#5e4fa2\",\"#feeda1\",\"#bfe5a0\",\"#d8434e\",\"#f1f9a9\",\"#f67a49\",\"#378ebb\",\"#5e4fa2\",\"#5e4fa2\",\"#fdbf6f\",\"#5e4fa2\",\"#f1f9a9\",\"#f1f9a9\",\"#f67a49\",\"#f1f9a9\",\"#fdbf6f\",\"#378ebb\",\"#5e4fa2\",\"#f1f9a9\",\"#5e4fa2\",\"#d8434e\",\"#5e4fa2\",\"#378ebb\",\"#378ebb\",\"#bfe5a0\",\"#f1f9a9\",\"#5e4fa2\",\"#fdbf6f\",\"#fdbf6f\",\"#feeda1\",\"#feeda1\",\"#378ebb\",\"#5e4fa2\",\"#feeda1\",\"#fdbf6f\",\"#5e4fa2\",\"#feeda1\",\"#f67a49\",\"#bfe5a0\",\"#bfe5a0\",\"#378ebb\",\"#bfe5a0\",\"#bfe5a0\",\"#d8434e\",\"#f67a49\",\"#f67a49\",\"#f67a49\",\"#378ebb\",\"#5e4fa2\",\"#5e4fa2\",\"#f1f9a9\",\"#fdbf6f\",\"#74c7a5\",\"#f1f9a9\",\"#feeda1\",\"#5e4fa2\",\"#fdbf6f\",\"#5e4fa2\",\"#378ebb\",\"#f67a49\",\"#bfe5a0\",\"#feeda1\",\"#5e4fa2\",\"#378ebb\",\"#378ebb\",\"#f67a49\",\"#bfe5a0\",\"#5e4fa2\",\"#bfe5a0\",\"#378ebb\",\"#5e4fa2\",\"#378ebb\",\"#f67a49\",\"#5e4fa2\",\"#d8434e\",\"#bfe5a0\",\"#5e4fa2\",\"#d8434e\",\"#fdbf6f\",\"#f1f9a9\",\"#bfe5a0\",\"#f67a49\",\"#74c7a5\",\"#f67a49\",\"#5e4fa2\",\"#378ebb\",\"#f1f9a9\",\"#d8434e\",\"#d8434e\",\"#378ebb\",\"#feeda1\",\"#feeda1\",\"#f1f9a9\",\"#378ebb\",\"#bfe5a0\",\"#f1f9a9\",\"#378ebb\",\"#d8434e\",\"#f1f9a9\",\"#fdbf6f\",\"#5e4fa2\",\"#9e0142\",\"#5e4fa2\",\"#fdbf6f\",\"#5e4fa2\",\"#feeda1\",\"#bfe5a0\",\"#d8434e\",\"#f1f9a9\",\"#f67a49\",\"#378ebb\",\"#5e4fa2\",\"#74c7a5\",\"#fdbf6f\",\"#5e4fa2\",\"#feeda1\",\"#bfe5a0\",\"#d8434e\",\"#f1f9a9\",\"#f67a49\",\"#378ebb\",\"#5e4fa2\",\"#74c7a5\",\"#fdbf6f\",\"#5e4fa2\",\"#feeda1\",\"#bfe5a0\",\"#d8434e\",\"#f1f9a9\",\"#f67a49\",\"#378ebb\",\"#5e4fa2\",\"#74c7a5\",\"#fdbf6f\",\"#74c7a5\",\"#f1f9a9\",\"#f1f9a9\",\"#f67a49\",\"#f1f9a9\",\"#fdbf6f\",\"#74c7a5\",\"#5e4fa2\",\"#74c7a5\",\"#5e4fa2\",\"#d8434e\",\"#5e4fa2\",\"#378ebb\",\"#378ebb\",\"#bfe5a0\",\"#f1f9a9\",\"#5e4fa2\",\"#fdbf6f\",\"#fdbf6f\",\"#feeda1\",\"#feeda1\",\"#378ebb\",\"#5e4fa2\",\"#feeda1\",\"#fdbf6f\",\"#5e4fa2\",\"#feeda1\",\"#f67a49\",\"#bfe5a0\",\"#bfe5a0\",\"#378ebb\",\"#bfe5a0\",\"#bfe5a0\",\"#d8434e\",\"#f67a49\",\"#f67a49\",\"#f67a49\",\"#d8434e\",\"#74c7a5\",\"#5e4fa2\",\"#f1f9a9\",\"#fdbf6f\",\"#74c7a5\",\"#f1f9a9\",\"#feeda1\",\"#5e4fa2\",\"#feeda1\",\"#fdbf6f\",\"#fdbf6f\",\"#5e4fa2\",\"#378ebb\",\"#f67a49\",\"#bfe5a0\",\"#feeda1\",\"#5e4fa2\",\"#378ebb\",\"#d8434e\",\"#f67a49\",\"#bfe5a0\",\"#5e4fa2\",\"#bfe5a0\",\"#74c7a5\",\"#5e4fa2\",\"#378ebb\",\"#f67a49\",\"#5e4fa2\",\"#d8434e\",\"#bfe5a0\",\"#5e4fa2\",\"#d8434e\",\"#fdbf6f\",\"#f1f9a9\",\"#bfe5a0\",\"#f67a49\",\"#74c7a5\",\"#f67a49\",\"#5e4fa2\",\"#378ebb\",\"#f1f9a9\",\"#d8434e\",\"#d8434e\",\"#378ebb\",\"#feeda1\",\"#5e4fa2\",\"#feeda1\",\"#feeda1\",\"#f1f9a9\",\"#378ebb\",\"#74c7a5\",\"#f1f9a9\",\"#d8434e\",\"#5e4fa2\",\"#5e4fa2\",\"#d8434e\",\"#74c7a5\",\"#fdbf6f\",\"#5e4fa2\",\"#74c7a5\",\"#5e4fa2\"],\"hdbscanlabel\":[2,8,8,5,0,6,1,7,8,6,2,8,3,5,0,4,1,7,8,6,2,8,3,5,0,4,1,7,8,6,2,6,4,4,1,4,2,6,8,6,8,0,8,7,7,5,4,8,2,2,-1,8,7,8,8,2,8,8,1,5,5,7,5,5,0,1,1,1,0,7,8,4,2,6,4,8,8,8,2,2,8,7,1,5,3,8,7,0,1,5,8,5,6,8,7,1,8,0,5,8,0,2,4,5,1,6,1,8,7,4,0,0,7,3,8,-1,-1,4,7,6,4,0,8,8,0,6,2,8,6,8,2,8,3,5,0,4,1,7,8,6,2,8,3,5,0,4,1,7,8,6,2,8,3,5,0,4,1,7,8,6,2,6,4,4,1,4,2,6,8,6,8,0,8,7,7,5,4,8,2,2,3,3,7,8,3,2,8,3,1,5,5,7,5,5,0,1,1,1,0,6,8,4,2,6,4,3,8,3,2,2,8,7,1,5,3,8,7,5,8,5,6,8,7,1,8,0,5,8,0,2,4,5,1,6,1,8,7,4,0,0,7,3,8,3,3,4,4,0,8,8,0,6,2,8,6,8,2,8,3,5,0,4,1,7,8,7,2,8,3,5,0,4,1,7,8,7,2,8,3,5,0,4,1,7,8,6,2,6,4,4,1,4,2,6,8,6,8,0,8,7,7,5,4,8,2,2,3,3,7,8,3,2,8,3,1,5,5,7,5,5,0,1,1,1,0,7,8,4,2,7,4,3,8,3,2,2,8,7,1,5,3,8,7,0,1,5,8,5,7,8,7,1,8,0,5,8,0,2,4,5,1,7,1,8,7,4,0,0,7,3,8,3,3,4,7,8,4,0,8,8,0,8,2,8,7,5,2,8,3,5,0,4,1,7,8,6,2,8,3,5,0,4,1,7,8,6,2,8,3,5,0,4,1,7,8,6,2,6,4,4,1,6,2,6,8,6,8,0,8,7,7,5,4,8,2,2,3,3,7,8,3,2,1,3,1,5,5,7,5,5,0,1,1,1,0,6,8,4,2,6,4,3,8,3,2,2,8,7,1,5,3,8,7,0,1,5,8,5,6,8,7,1,8,0,5,8,0,2,4,5,1,6,8,8,7,4,0,0,7,3,8,3,-1,4,7,6,4,0,8,8,0,6,2,8,6,8,2,1,3,5,0,4,1,7,8,6,2,1,3,5,0,4,1,7,8,6,2,1,3,5,0,4,1,7,8,6,2,8,4,4,1,4,2,6,8,6,8,0,1,7,7,5,4,1,2,2,3,3,7,8,3,2,1,3,1,5,5,7,5,5,0,1,1,1,0,6,1,4,2,6,4,3,8,3,2,2,1,7,1,5,3,1,7,0,1,5,1,5,6,1,7,1,8,0,5,8,0,2,4,5,1,6,1,1,7,4,0,0,7,3,8,3,3,4,7,6,4,0,8,8,0,6,2,8,6,8,2,8,3,5,0,4,1,7,8,8,2,8,3,5,0,4,1,7,8,8,2,8,3,5,0,4,1,7,8,8,2,8,4,4,1,4,2,8,8,8,8,0,8,7,7,5,4,8,2,2,3,3,7,8,3,2,8,3,1,5,5,7,5,5,0,1,1,1,0,8,8,4,2,8,4,3,8,3,2,2,8,7,1,5,3,8,7,0,1,5,8,5,8,8,7,1,8,0,5,8,7,2,4,5,1,8,1,8,7,4,0,0,7,3,8,3,3,4,7,8,4,0,8,8,0,8,2,8,8,8,2,8,3,5,0,4,1,7,8,6,2,8,3,5,0,4,1,7,8,6,2,8,3,5,0,4,1,7,8,6,2,6,4,4,1,4,2,5,8,6,8,0,8,7,7,5,4,8,2,2,3,3,7,8,3,2,1,3,1,5,5,7,5,5,0,1,1,1,0,6,8,4,2,6,4,3,8,3,2,2,8,7,1,5,3,8,7,0,1,5,8,5,6,8,7,1,8,0,5,8,0,2,4,5,1,6,1,8,7,4,0,0,7,3,8,5,3,4,7,6,4,0,8,8,0,6,2,8,6,8,1,3,5,0,4,1,7,8,6,2,1,3,5,0,4,1,7,8,6,2,1,3,5,0,4,1,7,8,6,2,6,4,4,1,4,2,6,8,6,8,0,1,7,7,5,4,1,3,7,8,3,2,1,3,1,5,5,7,5,5,0,1,1,1,0,6,1,4,2,6,4,3,8,3,2,2,1,7,1,5,3,1,0,1,5,1,5,6,1,7,1,8,0,5,1,0,2,4,5,1,6,1,1,7,4,0,0,7,3,8,3,3,4,7,6,4,0,0,6,2,8,6,8,2,8,3,5,0,4,1,7,8,5,2,8,3,5,0,4,1,7,8,6,2,8,3,5,0,4,1,7,8,6,2,6,4,4,1,4,2,6,8,6,8,0,8,7,7,5,4,8,2,2,7,8,3,2,8,3,1,5,5,7,5,5,0,1,1,1,0,6,8,4,2,8,4,3,8,3,2,2,8,7,1,5,3,8,7,0,1,5,8,7,6,8,7,1,8,0,5,8,0,2,4,5,1,6,1,8,7,4,0,0,7,3,8,3,3,4,7,6,4,0,8,8,0,6,2,8,6,8,2,8,3,5,0,4,1,7,8,6,2,8,3,5,0,4,1,7,8,6,2,8,3,5,0,4,1,7,8,6,2,6,4,4,1,4,2,6,8,6,8,0,8,7,7,5,4,8,2,2,3,3,7,8,3,2,8,3,1,5,5,7,5,5,0,1,1,1,0,6,8,4,2,6,4,3,8,3,2,2,8,7,1,5,3,8,7,0,1,5,8,5,6,8,7,1,8,0,5,8,0,2,4,5,1,6,1,8,7,4,0,0,7,3,8,3,3,4,7,6,4,0,8,8,0,6,2,8,6,8,2,8,3,5,0,4,1,7,8,6,2,8,3,5,0,4,1,7,8,6,2,8,3,5,0,4,1,7,8,6,2,6,4,4,1,4,2,6,8,6,8,0,8,7,7,5,4,8,2,2,3,3,7,8,3,2,8,3,1,5,5,7,5,5,0,1,1,1,0,6,8,4,2,6,1,3,8,3,2,2,8,7,1,5,3,8,7,0,1,5,8,5,6,8,7,1,8,0,5,8,0,2,4,5,1,6,1,8,7,4,0,0,7,3,8,3,3,4,7,6,4,0,8,8,0,6,2,8,2,8,3,5,0,4,1,7,8,6,2,8,3,5,0,4,1,7,8,6,2,8,3,5,0,4,1,7,8,6,2,6,4,4,1,4,2,6,8,6,8,0,8,7,7,5,4,8,2,2,3,3,7,8,3,2,8,3,1,5,5,7,5,5,0,1,1,1,0,6,8,4,2,6,4,3,8,3,2,2,8,7,1,5,3,8,7,0,1,5,8,5,6,8,7,1,8,0,5,8,0,2,4,5,1,6,1,8,7,4,0,0,7,3,8,3,3,4,7,6,4,0,8,8,0,6,2,8,6,8,2,8,3,5,0,4,1,7,8,8,2,8,3,5,0,4,1,8,2,8,3,5,0,4,1,7,8,8,2,8,4,4,1,4,2,7,8,4,8,0,8,7,7,5,4,8,2,2,3,3,7,8,3,2,8,3,1,5,5,7,5,5,0,1,1,1,7,8,8,4,2,6,4,3,8,2,8,7,1,5,3,8,7,7,1,5,8,5,7,8,7,1,8,0,5,8,0,2,4,5,1,6,1,8,7,4,0,0,7,3,3,4,7,5,4,7,0,4,2,8,-1,8,2,8,3,5,0,4,1,7,8,6,2,8,3,5,0,4,1,7,8,6,2,8,3,5,0,4,1,7,8,6,2,6,4,4,1,4,2,6,8,6,8,0,8,7,7,5,4,8,2,2,3,3,7,8,3,2,8,3,1,5,5,7,5,5,0,1,1,1,0,6,8,4,2,6,4,3,8,3,2,2,8,7,1,5,3,8,7,0,1,5,8,5,6,8,7,1,8,0,5,8,0,2,4,5,1,6,1,8,7,4,0,0,7,3,8,3,3,4,7,6,4,0,8,8,0,6,2,8,6,8],\"index\":[0,1,2,3,4,5,6,7,8,9,10,11,12,13,14,15,16,17,18,19,20,21,22,23,24,25,26,27,28,29,30,31,32,33,34,35,36,37,38,39,40,41,42,43,44,45,46,47,48,49,50,51,52,53,54,55,56,57,58,59,60,61,62,63,64,65,66,67,68,69,70,71,72,73,74,75,76,77,78,79,80,81,82,83,84,85,86,87,88,89,90,91,92,93,94,95,96,97,98,99,100,101,102,103,104,105,106,107,108,109,110,111,112,113,114,115,116,117,118,119,120,121,122,123,124,125,126,127,128,129,130,131,132,133,134,135,136,137,138,139,140,141,142,143,144,145,146,147,148,149,150,151,152,153,154,155,156,157,158,159,160,161,162,163,164,165,166,167,168,169,170,171,172,173,174,175,176,177,178,179,180,181,182,183,184,185,186,187,188,189,190,191,192,193,194,195,196,197,198,199,200,201,202,203,204,205,206,207,208,209,210,211,212,213,214,215,216,217,218,219,220,221,222,223,224,225,226,227,228,229,230,231,232,233,234,235,236,237,238,239,240,241,242,243,244,245,246,247,248,249,250,251,252,253,254,255,256,257,258,259,260,261,262,263,264,265,266,267,268,269,270,271,272,273,274,275,276,277,278,279,280,281,282,283,284,285,286,287,288,289,290,291,292,293,294,295,296,297,298,299,300,301,302,303,304,305,306,307,308,309,310,311,312,313,314,315,316,317,318,319,320,321,322,323,324,325,326,327,328,329,330,331,332,333,334,335,336,337,338,339,340,341,342,343,344,345,346,347,348,349,350,351,352,353,354,355,356,357,358,359,360,361,362,363,364,365,366,367,368,369,370,371,372,373,374,375,376,377,378,379,380,381,382,383,384,385,386,387,388,389,390,391,392,393,394,395,396,397,398,399,400,401,402,403,404,405,406,407,408,409,410,411,412,413,414,415,416,417,418,419,420,421,422,423,424,425,426,427,428,429,430,431,432,433,434,435,436,437,438,439,440,441,442,443,444,445,446,447,448,449,450,451,452,453,454,455,456,457,458,459,460,461,462,463,464,465,466,467,468,469,470,471,472,473,474,475,476,477,478,479,480,481,482,483,484,485,486,487,488,489,490,491,492,493,494,495,496,497,498,499,500,501,502,503,504,505,506,507,508,509,510,511,512,513,514,515,516,517,518,519,520,521,522,523,524,525,526,527,528,529,530,531,532,533,534,535,536,537,538,539,540,541,542,543,544,545,546,547,548,549,550,551,552,553,554,555,556,557,558,559,560,561,562,563,564,565,566,567,568,569,570,571,572,573,574,575,576,577,578,579,580,581,582,583,584,585,586,587,588,589,590,591,592,593,594,595,596,597,598,599,600,601,602,603,604,605,606,607,608,609,610,611,612,613,614,615,616,617,618,619,620,621,622,623,624,625,626,627,628,629,630,631,632,633,634,635,636,637,638,639,640,641,642,643,644,645,646,647,648,649,650,651,652,653,654,655,656,657,658,659,660,661,662,663,664,665,666,667,668,669,670,671,672,673,674,675,676,677,678,679,680,681,682,683,684,685,686,687,688,689,690,691,692,693,694,695,696,697,698,699,700,701,702,703,704,705,706,707,708,709,710,711,712,713,714,715,716,717,718,719,720,721,722,723,724,725,726,727,728,729,730,731,732,733,734,735,736,737,738,739,740,741,742,743,744,745,746,747,748,749,750,751,752,753,754,755,756,757,758,759,760,761,762,763,764,765,766,767,768,769,770,771,772,773,774,775,776,777,778,779,780,781,782,783,784,785,786,787,788,789,790,791,792,793,794,795,796,797,798,799,800,801,802,803,804,805,806,807,808,809,810,811,812,813,814,815,816,817,818,819,820,821,822,823,824,825,826,827,828,829,830,831,832,833,834,835,836,837,838,839,840,841,842,843,844,845,846,847,848,849,850,851,852,853,854,855,856,857,858,859,860,861,862,863,864,865,866,867,868,869,870,871,872,873,874,875,876,877,878,879,880,881,882,883,884,885,886,887,888,889,890,891,892,893,894,895,896,897,898,899,900,901,902,903,904,905,906,907,908,909,910,911,912,913,914,915,916,917,918,919,920,921,922,923,924,925,926,927,928,929,930,931,932,933,934,935,936,937,938,939,940,941,942,943,944,945,946,947,948,949,950,951,952,953,954,955,956,957,958,959,960,961,962,963,964,965,966,967,968,969,970,971,972,973,974,975,976,977,978,979,980,981,982,983,984,985,986,987,988,989,990,991,992,993,994,995,996,997,998,999,1000,1001,1002,1003,1004,1005,1006,1007,1008,1009,1010,1011,1012,1013,1014,1015,1016,1017,1018,1019,1020,1021,1022,1023,1024,1025,1026,1027,1028,1029,1030,1031,1032,1033,1034,1035,1036,1037,1038,1039,1040,1041,1042,1043,1044,1045,1046,1047,1048,1049,1050,1051,1052,1053,1054,1055,1056,1057,1058,1059,1060,1061,1062,1063,1064,1065,1066,1067,1068,1069,1070,1071,1072,1073,1074,1075,1076,1077,1078,1079,1080,1081,1082,1083,1084,1085,1086,1087,1088,1089,1090,1091,1092,1093,1094,1095,1096,1097,1098,1099,1100,1101,1102,1103,1104,1105,1106,1107,1108,1109,1110,1111,1112,1113,1114,1115,1116,1117,1118,1119,1120,1121,1122,1123,1124,1125,1126,1127,1128,1129,1130,1131,1132,1133,1134,1135,1136,1137,1138,1139,1140,1141,1142,1143,1144,1145,1146,1147,1148,1149,1150,1151,1152,1153,1154,1155,1156,1157,1158,1159,1160,1161,1162,1163,1164,1165,1166,1167,1168,1169,1170,1171,1172,1173,1174,1175,1176,1177,1178,1179,1180,1181,1182,1183,1184,1185,1186,1187,1188,1189,1190,1191,1192,1193,1194,1195,1196,1197,1198,1199,1200,1201,1202,1203,1204,1205,1206,1207,1208,1209,1210,1211,1212,1213,1214,1215,1216,1217,1218,1219,1220,1221,1222,1223,1224,1225,1226,1227,1228,1229,1230,1231,1232,1233,1234,1235,1236,1237,1238,1239,1240,1241,1242,1243,1244,1245,1246,1247,1248,1249,1250,1251,1252,1253,1254,1255,1256,1257,1258,1259,1260,1261,1262,1263,1264,1265,1266,1267,1268,1269,1270,1271,1272,1273,1274,1275,1276,1277,1278,1279,1280,1281,1282,1283,1284,1285,1286,1287,1288,1289,1290,1291,1292,1293,1294,1295,1296,1297,1298,1299,1300,1301,1302,1303,1304,1305,1306,1307,1308,1309,1310,1311,1312,1313,1314,1315,1316,1317,1318,1319,1320,1321,1322,1323,1324,1325,1326,1327,1328,1329,1330,1331,1332,1333,1334,1335,1336,1337,1338,1339,1340,1341,1342,1343,1344,1345,1346,1347,1348,1349,1350,1351,1352,1353,1354,1355,1356,1357,1358,1359,1360,1361,1362,1363,1364,1365,1366,1367,1368,1369,1370,1371,1372,1373,1374,1375,1376,1377,1378,1379,1380,1381,1382,1383,1384,1385,1386,1387,1388,1389,1390,1391,1392,1393,1394,1395,1396,1397,1398,1399,1400,1401,1402,1403,1404,1405,1406,1407,1408,1409,1410,1411,1412,1413,1414,1415,1416,1417,1418,1419,1420,1421,1422,1423,1424,1425,1426,1427,1428,1429,1430,1431,1432,1433,1434,1435,1436,1437,1438,1439,1440,1441,1442,1443,1444,1445,1446,1447,1448,1449,1450,1451,1452,1453,1454,1455,1456,1457,1458,1459,1460,1461,1462,1463,1464,1465,1466,1467,1468,1469,1470,1471,1472,1473,1474,1475,1476,1477,1478,1479,1480,1481,1482,1483,1484,1485,1486,1487,1488,1489,1490,1491,1492,1493,1494,1495,1496,1497,1498,1499,1500,1501,1502,1503,1504,1505,1506,1507,1508,1509,1510,1511,1512,1513,1514,1515,1516,1517,1518,1519,1520,1521,1522,1523,1524,1525,1526,1527,1528,1529,1530,1531,1532,1533,1534,1535,1536,1537,1538,1539,1540,1541,1542,1543,1544,1545,1546,1547,1548,1549,1550,1551,1552,1553,1554,1555,1556,1557,1558,1559,1560,1561,1562,1563,1564,1565,1566,1567,1568,1569,1570,1571,1572,1573,1574,1575,1576,1577,1578,1579,1580,1581,1582,1583,1584,1585,1586,1587,1588,1589,1590,1591,1592,1593,1594,1595,1596,1597,1598,1599,1600,1601,1602,1603,1604,1605,1606,1607,1608,1609,1610,1611,1612,1613,1614,1615,1616,1617,1618,1619,1620,1621,1622,1623,1624,1625,1626,1627,1628,1629,1630,1631,1632,1633,1634,1635,1636,1637,1638,1639,1640,1641,1642,1643,1644,1645,1646,1647,1648,1649,1650,1651,1652,1653,1654,1655,1656,1657,1658,1659,1660,1661,1662,1663,1664,1665,1666,1667,1668,1669,1670,1671,1672,1673,1674,1675,1676,1677,1678,1679,1680,1681,1682,1683,1684,1685,1686,1687,1688,1689,1690,1691,1692,1693,1694,1695,1696,1697,1698,1699,1700,1701,1702,1703,1704,1705,1706,1707,1708,1709,1710,1711,1712,1713,1714,1715,1716,1717,1718,1719,1720,1721,1722,1723,1724,1725,1726,1727,1728,1729,1730,1731,1732,1733,1734,1735,1736,1737,1738,1739,1740,1741,1742,1743,1744,1745,1746,1747,1748,1749,1750,1751,1752,1753,1754,1755,1756,1757,1758,1759,1760,1761,1762,1763,1764,1765,1766,1767,1768,1769,1770,1771,1772,1773,1774,1775,1776,1777,1778,1779,1780,1781,1782,1783,1784,1785,1786,1787,1788,1789,1790,1791,1792,1793,1794,1795,1796],\"label\":[2,8,8,5,0,6,1,7,8,6,2,8,3,5,0,4,1,7,8,6,2,8,3,5,0,4,1,7,8,6,2,6,4,4,1,4,2,6,8,6,8,0,8,7,7,5,4,8,2,2,-1,8,7,8,8,2,8,8,1,5,5,7,5,5,0,1,1,1,0,7,8,4,2,6,4,8,8,8,2,2,8,7,1,5,3,8,7,0,1,5,8,5,6,8,7,1,8,0,5,8,0,2,4,5,1,6,1,8,7,4,0,0,7,3,8,-1,-1,4,7,6,4,0,8,8,0,6,2,8,6,8,2,8,3,5,0,4,1,7,8,6,2,8,3,5,0,4,1,7,8,6,2,8,3,5,0,4,1,7,8,6,2,6,4,4,1,4,2,6,8,6,8,0,8,7,7,5,4,8,2,2,3,3,7,8,3,2,8,3,1,5,5,7,5,5,0,1,1,1,0,6,8,4,2,6,4,3,8,3,2,2,8,7,1,5,3,8,7,5,8,5,6,8,7,1,8,0,5,8,0,2,4,5,1,6,1,8,7,4,0,0,7,3,8,3,3,4,4,0,8,8,0,6,2,8,6,8,2,8,3,5,0,4,1,7,8,7,2,8,3,5,0,4,1,7,8,7,2,8,3,5,0,4,1,7,8,6,2,6,4,4,1,4,2,6,8,6,8,0,8,7,7,5,4,8,2,2,3,3,7,8,3,2,8,3,1,5,5,7,5,5,0,1,1,1,0,7,8,4,2,7,4,3,8,3,2,2,8,7,1,5,3,8,7,0,1,5,8,5,7,8,7,1,8,0,5,8,0,2,4,5,1,7,1,8,7,4,0,0,7,3,8,3,3,4,7,8,4,0,8,8,0,8,2,8,7,5,2,8,3,5,0,4,1,7,8,6,2,8,3,5,0,4,1,7,8,6,2,8,3,5,0,4,1,7,8,6,2,6,4,4,1,6,2,6,8,6,8,0,8,7,7,5,4,8,2,2,3,3,7,8,3,2,1,3,1,5,5,7,5,5,0,1,1,1,0,6,8,4,2,6,4,3,8,3,2,2,8,7,1,5,3,8,7,0,1,5,8,5,6,8,7,1,8,0,5,8,0,2,4,5,1,6,8,8,7,4,0,0,7,3,8,3,-1,4,7,6,4,0,8,8,0,6,2,8,6,8,2,1,3,5,0,4,1,7,8,6,2,1,3,5,0,4,1,7,8,6,2,1,3,5,0,4,1,7,8,6,2,8,4,4,1,4,2,6,8,6,8,0,1,7,7,5,4,1,2,2,3,3,7,8,3,2,1,3,1,5,5,7,5,5,0,1,1,1,0,6,1,4,2,6,4,3,8,3,2,2,1,7,1,5,3,1,7,0,1,5,1,5,6,1,7,1,8,0,5,8,0,2,4,5,1,6,1,1,7,4,0,0,7,3,8,3,3,4,7,6,4,0,8,8,0,6,2,8,6,8,2,8,3,5,0,4,1,7,8,8,2,8,3,5,0,4,1,7,8,8,2,8,3,5,0,4,1,7,8,8,2,8,4,4,1,4,2,8,8,8,8,0,8,7,7,5,4,8,2,2,3,3,7,8,3,2,8,3,1,5,5,7,5,5,0,1,1,1,0,8,8,4,2,8,4,3,8,3,2,2,8,7,1,5,3,8,7,0,1,5,8,5,8,8,7,1,8,0,5,8,7,2,4,5,1,8,1,8,7,4,0,0,7,3,8,3,3,4,7,8,4,0,8,8,0,8,2,8,8,8,2,8,3,5,0,4,1,7,8,6,2,8,3,5,0,4,1,7,8,6,2,8,3,5,0,4,1,7,8,6,2,6,4,4,1,4,2,5,8,6,8,0,8,7,7,5,4,8,2,2,3,3,7,8,3,2,1,3,1,5,5,7,5,5,0,1,1,1,0,6,8,4,2,6,4,3,8,3,2,2,8,7,1,5,3,8,7,0,1,5,8,5,6,8,7,1,8,0,5,8,0,2,4,5,1,6,1,8,7,4,0,0,7,3,8,5,3,4,7,6,4,0,8,8,0,6,2,8,6,8,1,3,5,0,4,1,7,8,6,2,1,3,5,0,4,1,7,8,6,2,1,3,5,0,4,1,7,8,6,2,6,4,4,1,4,2,6,8,6,8,0,1,7,7,5,4,1,3,7,8,3,2,1,3,1,5,5,7,5,5,0,1,1,1,0,6,1,4,2,6,4,3,8,3,2,2,1,7,1,5,3,1,0,1,5,1,5,6,1,7,1,8,0,5,1,0,2,4,5,1,6,1,1,7,4,0,0,7,3,8,3,3,4,7,6,4,0,0,6,2,8,6,8,2,8,3,5,0,4,1,7,8,5,2,8,3,5,0,4,1,7,8,6,2,8,3,5,0,4,1,7,8,6,2,6,4,4,1,4,2,6,8,6,8,0,8,7,7,5,4,8,2,2,7,8,3,2,8,3,1,5,5,7,5,5,0,1,1,1,0,6,8,4,2,8,4,3,8,3,2,2,8,7,1,5,3,8,7,0,1,5,8,7,6,8,7,1,8,0,5,8,0,2,4,5,1,6,1,8,7,4,0,0,7,3,8,3,3,4,7,6,4,0,8,8,0,6,2,8,6,8,2,8,3,5,0,4,1,7,8,6,2,8,3,5,0,4,1,7,8,6,2,8,3,5,0,4,1,7,8,6,2,6,4,4,1,4,2,6,8,6,8,0,8,7,7,5,4,8,2,2,3,3,7,8,3,2,8,3,1,5,5,7,5,5,0,1,1,1,0,6,8,4,2,6,4,3,8,3,2,2,8,7,1,5,3,8,7,0,1,5,8,5,6,8,7,1,8,0,5,8,0,2,4,5,1,6,1,8,7,4,0,0,7,3,8,3,3,4,7,6,4,0,8,8,0,6,2,8,6,8,2,8,3,5,0,4,1,7,8,6,2,8,3,5,0,4,1,7,8,6,2,8,3,5,0,4,1,7,8,6,2,6,4,4,1,4,2,6,8,6,8,0,8,7,7,5,4,8,2,2,3,3,7,8,3,2,8,3,1,5,5,7,5,5,0,1,1,1,0,6,8,4,2,6,1,3,8,3,2,2,8,7,1,5,3,8,7,0,1,5,8,5,6,8,7,1,8,0,5,8,0,2,4,5,1,6,1,8,7,4,0,0,7,3,8,3,3,4,7,6,4,0,8,8,0,6,2,8,2,8,3,5,0,4,1,7,8,6,2,8,3,5,0,4,1,7,8,6,2,8,3,5,0,4,1,7,8,6,2,6,4,4,1,4,2,6,8,6,8,0,8,7,7,5,4,8,2,2,3,3,7,8,3,2,8,3,1,5,5,7,5,5,0,1,1,1,0,6,8,4,2,6,4,3,8,3,2,2,8,7,1,5,3,8,7,0,1,5,8,5,6,8,7,1,8,0,5,8,0,2,4,5,1,6,1,8,7,4,0,0,7,3,8,3,3,4,7,6,4,0,8,8,0,6,2,8,6,8,2,8,3,5,0,4,1,7,8,8,2,8,3,5,0,4,1,8,2,8,3,5,0,4,1,7,8,8,2,8,4,4,1,4,2,7,8,4,8,0,8,7,7,5,4,8,2,2,3,3,7,8,3,2,8,3,1,5,5,7,5,5,0,1,1,1,7,8,8,4,2,6,4,3,8,2,8,7,1,5,3,8,7,7,1,5,8,5,7,8,7,1,8,0,5,8,0,2,4,5,1,6,1,8,7,4,0,0,7,3,3,4,7,5,4,7,0,4,2,8,-1,8,2,8,3,5,0,4,1,7,8,6,2,8,3,5,0,4,1,7,8,6,2,8,3,5,0,4,1,7,8,6,2,6,4,4,1,4,2,6,8,6,8,0,8,7,7,5,4,8,2,2,3,3,7,8,3,2,8,3,1,5,5,7,5,5,0,1,1,1,0,6,8,4,2,6,4,3,8,3,2,2,8,7,1,5,3,8,7,0,1,5,8,5,6,8,7,1,8,0,5,8,0,2,4,5,1,6,1,8,7,4,0,0,7,3,8,3,3,4,7,6,4,0,8,8,0,6,2,8,6,8],\"level_0\":[0,1,2,3,4,5,6,7,8,9,10,11,12,13,14,15,16,17,18,19,20,21,22,23,24,25,26,27,28,29,30,31,32,33,34,35,36,37,38,39,40,41,42,43,44,45,46,47,48,49,50,51,52,53,54,55,56,57,58,59,60,61,62,63,64,65,66,67,68,69,70,71,72,73,74,75,76,77,78,79,80,81,82,83,84,85,86,87,88,89,90,91,92,93,94,95,96,97,98,99,100,101,102,103,104,105,106,107,108,109,110,111,112,113,114,115,116,117,118,119,120,121,122,123,124,125,126,127,128,129,130,131,132,133,134,135,136,137,138,139,140,141,142,143,144,145,146,147,148,149,150,151,152,153,154,155,156,157,158,159,160,161,162,163,164,165,166,167,168,169,170,171,172,173,174,175,176,177,178,179,180,181,182,183,184,185,186,187,188,189,190,191,192,193,194,195,196,197,198,199,200,201,202,203,204,205,206,207,208,209,210,211,212,213,214,215,216,217,218,219,220,221,222,223,224,225,226,227,228,229,230,231,232,233,234,235,236,237,238,239,240,241,242,243,244,245,246,247,248,249,250,251,252,253,254,255,256,257,258,259,260,261,262,263,264,265,266,267,268,269,270,271,272,273,274,275,276,277,278,279,280,281,282,283,284,285,286,287,288,289,290,291,292,293,294,295,296,297,298,299,300,301,302,303,304,305,306,307,308,309,310,311,312,313,314,315,316,317,318,319,320,321,322,323,324,325,326,327,328,329,330,331,332,333,334,335,336,337,338,339,340,341,342,343,344,345,346,347,348,349,350,351,352,353,354,355,356,357,358,359,360,361,362,363,364,365,366,367,368,369,370,371,372,373,374,375,376,377,378,379,380,381,382,383,384,385,386,387,388,389,390,391,392,393,394,395,396,397,398,399,400,401,402,403,404,405,406,407,408,409,410,411,412,413,414,415,416,417,418,419,420,421,422,423,424,425,426,427,428,429,430,431,432,433,434,435,436,437,438,439,440,441,442,443,444,445,446,447,448,449,450,451,452,453,454,455,456,457,458,459,460,461,462,463,464,465,466,467,468,469,470,471,472,473,474,475,476,477,478,479,480,481,482,483,484,485,486,487,488,489,490,491,492,493,494,495,496,497,498,499,500,501,502,503,504,505,506,507,508,509,510,511,512,513,514,515,516,517,518,519,520,521,522,523,524,525,526,527,528,529,530,531,532,533,534,535,536,537,538,539,540,541,542,543,544,545,546,547,548,549,550,551,552,553,554,555,556,557,558,559,560,561,562,563,564,565,566,567,568,569,570,571,572,573,574,575,576,577,578,579,580,581,582,583,584,585,586,587,588,589,590,591,592,593,594,595,596,597,598,599,600,601,602,603,604,605,606,607,608,609,610,611,612,613,614,615,616,617,618,619,620,621,622,623,624,625,626,627,628,629,630,631,632,633,634,635,636,637,638,639,640,641,642,643,644,645,646,647,648,649,650,651,652,653,654,655,656,657,658,659,660,661,662,663,664,665,666,667,668,669,670,671,672,673,674,675,676,677,678,679,680,681,682,683,684,685,686,687,688,689,690,691,692,693,694,695,696,697,698,699,700,701,702,703,704,705,706,707,708,709,710,711,712,713,714,715,716,717,718,719,720,721,722,723,724,725,726,727,728,729,730,731,732,733,734,735,736,737,738,739,740,741,742,743,744,745,746,747,748,749,750,751,752,753,754,755,756,757,758,759,760,761,762,763,764,765,766,767,768,769,770,771,772,773,774,775,776,777,778,779,780,781,782,783,784,785,786,787,788,789,790,791,792,793,794,795,796,797,798,799,800,801,802,803,804,805,806,807,808,809,810,811,812,813,814,815,816,817,818,819,820,821,822,823,824,825,826,827,828,829,830,831,832,833,834,835,836,837,838,839,840,841,842,843,844,845,846,847,848,849,850,851,852,853,854,855,856,857,858,859,860,861,862,863,864,865,866,867,868,869,870,871,872,873,874,875,876,877,878,879,880,881,882,883,884,885,886,887,888,889,890,891,892,893,894,895,896,897,898,899,900,901,902,903,904,905,906,907,908,909,910,911,912,913,914,915,916,917,918,919,920,921,922,923,924,925,926,927,928,929,930,931,932,933,934,935,936,937,938,939,940,941,942,943,944,945,946,947,948,949,950,951,952,953,954,955,956,957,958,959,960,961,962,963,964,965,966,967,968,969,970,971,972,973,974,975,976,977,978,979,980,981,982,983,984,985,986,987,988,989,990,991,992,993,994,995,996,997,998,999,1000,1001,1002,1003,1004,1005,1006,1007,1008,1009,1010,1011,1012,1013,1014,1015,1016,1017,1018,1019,1020,1021,1022,1023,1024,1025,1026,1027,1028,1029,1030,1031,1032,1033,1034,1035,1036,1037,1038,1039,1040,1041,1042,1043,1044,1045,1046,1047,1048,1049,1050,1051,1052,1053,1054,1055,1056,1057,1058,1059,1060,1061,1062,1063,1064,1065,1066,1067,1068,1069,1070,1071,1072,1073,1074,1075,1076,1077,1078,1079,1080,1081,1082,1083,1084,1085,1086,1087,1088,1089,1090,1091,1092,1093,1094,1095,1096,1097,1098,1099,1100,1101,1102,1103,1104,1105,1106,1107,1108,1109,1110,1111,1112,1113,1114,1115,1116,1117,1118,1119,1120,1121,1122,1123,1124,1125,1126,1127,1128,1129,1130,1131,1132,1133,1134,1135,1136,1137,1138,1139,1140,1141,1142,1143,1144,1145,1146,1147,1148,1149,1150,1151,1152,1153,1154,1155,1156,1157,1158,1159,1160,1161,1162,1163,1164,1165,1166,1167,1168,1169,1170,1171,1172,1173,1174,1175,1176,1177,1178,1179,1180,1181,1182,1183,1184,1185,1186,1187,1188,1189,1190,1191,1192,1193,1194,1195,1196,1197,1198,1199,1200,1201,1202,1203,1204,1205,1206,1207,1208,1209,1210,1211,1212,1213,1214,1215,1216,1217,1218,1219,1220,1221,1222,1223,1224,1225,1226,1227,1228,1229,1230,1231,1232,1233,1234,1235,1236,1237,1238,1239,1240,1241,1242,1243,1244,1245,1246,1247,1248,1249,1250,1251,1252,1253,1254,1255,1256,1257,1258,1259,1260,1261,1262,1263,1264,1265,1266,1267,1268,1269,1270,1271,1272,1273,1274,1275,1276,1277,1278,1279,1280,1281,1282,1283,1284,1285,1286,1287,1288,1289,1290,1291,1292,1293,1294,1295,1296,1297,1298,1299,1300,1301,1302,1303,1304,1305,1306,1307,1308,1309,1310,1311,1312,1313,1314,1315,1316,1317,1318,1319,1320,1321,1322,1323,1324,1325,1326,1327,1328,1329,1330,1331,1332,1333,1334,1335,1336,1337,1338,1339,1340,1341,1342,1343,1344,1345,1346,1347,1348,1349,1350,1351,1352,1353,1354,1355,1356,1357,1358,1359,1360,1361,1362,1363,1364,1365,1366,1367,1368,1369,1370,1371,1372,1373,1374,1375,1376,1377,1378,1379,1380,1381,1382,1383,1384,1385,1386,1387,1388,1389,1390,1391,1392,1393,1394,1395,1396,1397,1398,1399,1400,1401,1402,1403,1404,1405,1406,1407,1408,1409,1410,1411,1412,1413,1414,1415,1416,1417,1418,1419,1420,1421,1422,1423,1424,1425,1426,1427,1428,1429,1430,1431,1432,1433,1434,1435,1436,1437,1438,1439,1440,1441,1442,1443,1444,1445,1446,1447,1448,1449,1450,1451,1452,1453,1454,1455,1456,1457,1458,1459,1460,1461,1462,1463,1464,1465,1466,1467,1468,1469,1470,1471,1472,1473,1474,1475,1476,1477,1478,1479,1480,1481,1482,1483,1484,1485,1486,1487,1488,1489,1490,1491,1492,1493,1494,1495,1496,1497,1498,1499,1500,1501,1502,1503,1504,1505,1506,1507,1508,1509,1510,1511,1512,1513,1514,1515,1516,1517,1518,1519,1520,1521,1522,1523,1524,1525,1526,1527,1528,1529,1530,1531,1532,1533,1534,1535,1536,1537,1538,1539,1540,1541,1542,1543,1544,1545,1546,1547,1548,1549,1550,1551,1552,1553,1554,1555,1556,1557,1558,1559,1560,1561,1562,1563,1564,1565,1566,1567,1568,1569,1570,1571,1572,1573,1574,1575,1576,1577,1578,1579,1580,1581,1582,1583,1584,1585,1586,1587,1588,1589,1590,1591,1592,1593,1594,1595,1596,1597,1598,1599,1600,1601,1602,1603,1604,1605,1606,1607,1608,1609,1610,1611,1612,1613,1614,1615,1616,1617,1618,1619,1620,1621,1622,1623,1624,1625,1626,1627,1628,1629,1630,1631,1632,1633,1634,1635,1636,1637,1638,1639,1640,1641,1642,1643,1644,1645,1646,1647,1648,1649,1650,1651,1652,1653,1654,1655,1656,1657,1658,1659,1660,1661,1662,1663,1664,1665,1666,1667,1668,1669,1670,1671,1672,1673,1674,1675,1676,1677,1678,1679,1680,1681,1682,1683,1684,1685,1686,1687,1688,1689,1690,1691,1692,1693,1694,1695,1696,1697,1698,1699,1700,1701,1702,1703,1704,1705,1706,1707,1708,1709,1710,1711,1712,1713,1714,1715,1716,1717,1718,1719,1720,1721,1722,1723,1724,1725,1726,1727,1728,1729,1730,1731,1732,1733,1734,1735,1736,1737,1738,1739,1740,1741,1742,1743,1744,1745,1746,1747,1748,1749,1750,1751,1752,1753,1754,1755,1756,1757,1758,1759,1760,1761,1762,1763,1764,1765,1766,1767,1768,1769,1770,1771,1772,1773,1774,1775,1776,1777,1778,1779,1780,1781,1782,1783,1784,1785,1786,1787,1788,1789,1790,1791,1792,1793,1794,1795,1796],\"truelabel\":[0,1,2,3,4,5,6,7,8,9,0,1,2,3,4,5,6,7,8,9,0,1,2,3,4,5,6,7,8,9,0,9,5,5,6,5,0,9,8,9,8,4,1,7,7,3,5,1,0,0,2,2,7,8,2,0,1,2,6,3,3,7,3,3,4,6,6,6,4,9,1,5,0,9,5,2,8,2,0,0,1,7,6,3,2,1,7,4,6,3,1,3,9,1,7,6,8,4,3,1,4,0,5,3,6,9,6,1,7,5,4,4,7,2,8,2,2,5,7,9,5,4,8,8,4,9,0,8,9,8,0,1,2,3,4,5,6,7,8,9,0,1,2,3,4,5,6,7,8,9,0,1,2,3,4,5,6,7,8,9,0,9,5,5,6,5,0,9,8,9,8,4,1,7,7,3,5,1,0,0,2,2,7,8,2,0,1,2,6,3,3,7,3,3,4,6,6,6,4,9,1,5,0,9,5,2,8,2,0,0,1,7,6,3,2,1,7,3,1,3,9,1,7,6,8,4,3,1,4,0,5,3,6,9,6,1,7,5,4,4,7,2,8,2,2,5,5,4,8,8,4,9,0,8,9,8,0,1,2,3,4,5,6,7,8,9,0,1,2,3,4,5,6,7,8,9,0,1,2,3,4,5,6,7,8,9,0,9,5,5,6,5,0,9,8,9,8,4,1,7,7,3,5,1,0,0,2,2,7,8,2,0,1,2,6,3,3,7,3,3,4,6,6,6,4,9,1,5,0,9,5,2,8,2,0,0,1,7,6,3,2,1,7,4,6,3,1,3,9,1,7,6,8,4,3,1,4,0,5,3,6,9,6,1,7,5,4,4,7,2,8,2,2,5,7,9,5,4,8,8,4,9,0,8,9,3,0,1,2,3,4,5,6,7,8,9,0,1,2,3,4,5,6,7,8,9,0,1,2,3,4,5,6,7,8,9,0,9,5,5,6,5,0,9,8,9,8,4,1,7,7,3,5,1,0,0,2,2,7,8,2,0,1,2,6,3,3,7,3,3,4,6,6,6,4,9,1,5,0,9,5,2,8,2,0,0,1,7,6,3,2,1,7,4,6,3,1,3,9,1,7,6,8,4,3,1,4,0,5,3,6,9,6,1,7,5,4,4,7,2,8,2,2,5,7,9,5,4,8,8,4,9,0,8,9,8,0,1,2,3,4,5,6,7,8,9,0,1,2,3,4,5,6,7,8,9,0,1,2,3,4,5,6,7,8,9,0,9,5,5,6,5,0,9,8,9,8,4,1,7,7,3,5,1,0,0,2,2,7,8,2,0,1,2,6,3,3,7,3,3,4,6,6,6,4,9,1,5,0,9,5,2,8,2,0,0,1,7,6,3,2,1,7,4,6,3,1,3,9,1,7,6,8,4,3,1,4,0,5,3,6,9,6,1,7,5,4,4,7,2,8,2,2,5,7,9,5,4,8,8,4,9,0,8,9,8,0,1,2,3,4,5,6,7,8,9,0,1,2,3,4,5,6,7,8,9,0,1,2,3,4,5,6,7,8,9,0,9,5,5,6,5,0,9,8,9,8,4,1,7,7,3,5,1,0,0,2,2,7,8,2,0,1,2,6,3,3,7,3,3,4,6,6,6,4,9,1,5,0,9,5,2,8,2,0,0,1,7,6,3,2,1,7,4,6,3,1,3,9,1,7,6,8,4,3,1,4,0,5,3,6,9,6,1,7,5,4,4,7,2,8,2,2,5,7,9,5,4,8,8,4,9,0,8,9,8,0,1,2,3,4,5,6,7,8,9,0,1,2,3,4,5,6,7,8,9,0,1,2,3,4,5,6,7,8,9,0,9,5,5,6,5,0,9,8,9,8,4,1,7,7,3,5,1,0,0,2,2,7,8,2,0,1,2,6,3,3,7,3,3,4,6,6,6,4,9,1,5,0,9,5,2,8,2,0,0,1,7,6,3,2,1,7,4,6,3,1,3,9,1,7,6,8,4,3,1,4,0,5,3,6,9,6,1,7,5,4,4,7,2,8,2,2,5,7,9,5,4,8,8,4,9,0,8,9,8,1,2,3,4,5,6,7,8,9,0,1,2,3,4,5,6,7,8,9,0,1,2,3,4,5,6,7,8,9,0,9,5,5,6,5,0,9,8,9,8,4,1,7,7,3,5,1,2,7,8,2,0,1,2,6,3,3,7,3,3,4,6,6,6,4,9,1,5,0,9,5,2,8,2,0,0,1,7,6,3,2,1,4,6,3,1,3,9,1,7,6,8,4,3,1,4,0,5,3,6,9,6,1,7,5,4,4,7,2,8,2,2,5,7,9,5,4,4,9,0,8,9,8,0,1,2,3,4,5,6,7,8,9,0,1,2,3,4,5,6,7,8,9,0,1,2,3,4,5,6,7,8,9,0,9,5,5,6,5,0,9,8,9,8,4,1,7,7,3,5,1,0,0,7,8,2,0,1,2,6,3,3,7,3,3,4,6,6,6,4,9,1,5,0,9,5,2,8,2,0,0,1,7,6,3,2,1,7,4,6,3,1,3,9,1,7,6,8,4,3,1,4,0,5,3,6,9,6,1,7,5,4,4,7,2,8,2,2,5,7,9,5,4,8,8,4,9,0,8,9,8,0,1,2,3,4,5,6,7,8,9,0,1,2,3,4,5,6,7,8,9,0,1,2,3,4,5,6,7,8,9,0,9,5,5,6,5,0,9,8,9,8,4,1,7,7,3,5,1,0,0,2,2,7,8,2,0,1,2,6,3,3,7,3,3,4,6,6,6,4,9,1,5,0,9,5,2,8,2,0,0,1,7,6,3,2,1,7,4,6,3,1,3,9,1,7,6,8,4,3,1,4,0,5,3,6,9,6,1,7,5,4,4,7,2,8,2,2,5,7,9,5,4,8,8,4,9,0,8,9,8,0,1,2,3,4,5,6,7,8,9,0,1,2,3,4,5,6,7,8,9,0,1,2,3,4,5,6,7,8,9,0,9,5,5,6,5,0,9,8,9,8,4,1,7,7,3,5,1,0,0,2,2,7,8,2,0,1,2,6,3,3,7,3,3,4,6,6,6,4,9,1,5,0,9,5,2,8,2,0,0,1,7,6,3,2,1,7,4,6,3,1,3,9,1,7,6,8,4,3,1,4,0,5,3,6,9,6,1,7,5,4,4,7,2,8,2,2,5,7,9,5,4,8,8,4,9,0,8,0,1,2,3,4,5,6,7,8,9,0,1,2,3,4,5,6,7,8,9,0,1,2,3,4,5,6,7,8,9,0,9,5,5,6,5,0,9,8,9,8,4,1,7,7,3,5,1,0,0,2,2,7,8,2,0,1,2,6,3,3,7,3,3,4,6,6,6,4,9,1,5,0,9,5,2,8,2,0,0,1,7,6,3,2,1,7,4,6,3,1,3,9,1,7,6,8,4,3,1,4,0,5,3,6,9,6,1,7,5,4,4,7,2,8,2,2,5,7,9,5,4,8,8,4,9,0,8,9,8,0,1,2,3,4,5,6,7,8,9,0,1,2,3,4,5,6,9,0,1,2,3,4,5,6,7,8,9,0,9,5,5,6,5,0,9,8,9,8,4,1,7,7,3,5,1,0,0,2,2,7,8,2,0,1,2,6,3,3,7,3,3,4,6,6,6,4,9,1,5,0,9,5,2,8,0,1,7,6,3,2,1,7,4,6,3,1,3,9,1,7,6,8,4,3,1,4,0,5,3,6,9,6,1,7,5,4,4,7,2,2,5,7,9,5,4,4,9,0,8,9,8,0,1,2,3,4,5,6,7,8,9,0,1,2,3,4,5,6,7,8,9,0,1,2,3,4,5,6,7,8,9,0,9,5,5,6,5,0,9,8,9,8,4,1,7,7,3,5,1,0,0,2,2,7,8,2,0,1,2,6,3,3,7,3,3,4,6,6,6,4,9,1,5,0,9,5,2,8,2,0,0,1,7,6,3,2,1,7,4,6,3,1,3,9,1,7,6,8,4,3,1,4,0,5,3,6,9,6,1,7,5,4,4,7,2,8,2,2,5,7,9,5,4,8,8,4,9,0,8,9,8],\"x\":{\"__ndarray__\":\"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\",\"dtype\":\"float32\",\"order\":\"little\",\"shape\":[1797]},\"y\":{\"__ndarray__\":\"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\",\"dtype\":\"float32\",\"order\":\"little\",\"shape\":[1797]}},\"selected\":{\"id\":\"1431\"},\"selection_policy\":{\"id\":\"1432\"}},\"id\":\"1350\",\"type\":\"ColumnDataSource\"},{\"attributes\":{},\"id\":\"1369\",\"type\":\"WheelZoomTool\"}],\"root_ids\":[\"1351\"]},\"title\":\"Bokeh Application\",\"version\":\"2.3.3\"}};\n",
              "  var render_items = [{\"docid\":\"9dbe7ea3-9a7b-44df-ad7c-27f9431d09be\",\"root_ids\":[\"1351\"],\"roots\":{\"1351\":\"d2717167-8b37-40fc-b121-fb3b53416f2f\"}}];\n",
              "  root.Bokeh.embed.embed_items_notebook(docs_json, render_items);\n",
              "\n",
              "  }\n",
              "  if (root.Bokeh !== undefined) {\n",
              "    embed_document(root);\n",
              "  } else {\n",
              "    var attempts = 0;\n",
              "    var timer = setInterval(function(root) {\n",
              "      if (root.Bokeh !== undefined) {\n",
              "        clearInterval(timer);\n",
              "        embed_document(root);\n",
              "      } else {\n",
              "        attempts++;\n",
              "        if (attempts > 100) {\n",
              "          clearInterval(timer);\n",
              "          console.log(\"Bokeh: ERROR: Unable to run BokehJS code because BokehJS library is missing\");\n",
              "        }\n",
              "      }\n",
              "    }, 10, root)\n",
              "  }\n",
              "})(window);"
            ],
            "application/vnd.bokehjs_exec.v0+json": ""
          },
          "metadata": {
            "application/vnd.bokehjs_exec.v0+json": {
              "id": "1351"
            }
          }
        }
      ]
    },
    {
      "cell_type": "markdown",
      "source": [
        "## Advanced material"
      ],
      "metadata": {
        "id": "0_FEQ707tjL3"
      }
    },
    {
      "cell_type": "markdown",
      "source": [
        "### Package management: How do I get and manage my Python distribution\n",
        "Typically software engineers keep their coding projects as modular as possible so they can be recycled and reapplied in as many ways as possible as easily as possible. A good package management system will allow you to install new software and will ensure all of your libraries are mutually compatible."
      ],
      "metadata": {
        "id": "eNrphgx0tt0P"
      }
    },
    {
      "cell_type": "markdown",
      "source": [
        "#### Pip - convenient\n",
        "[The Python Package Index (pypi)](https://pypi.org/) holds ~403k packages, and you can easily install these with the pip package manager. Pip usually comes bundled with your Python distribution. Pip handles dependencies within Python and is a lightweight, easy-to-use tool."
      ],
      "metadata": {
        "id": "Hui1XAPitzep"
      }
    },
    {
      "cell_type": "markdown",
      "source": [
        "#### Conda - recommended\n",
        "[Conda](https://docs.conda.io/en/latest/) is the remarkably ambitious package manager provided by [Anaconda](https://www.anaconda.com/). Not only will it manage your Python distribution and library dependencies, it will happily manage your R, Javascript, and other language tools, and even make sure they all stay mutually compatible. Additionally, Conda repositories tend to be a little more cautious about the code they accept. \n",
        "The downside to Conda is that the package library can easily swell to enormous sizes, making the task of solving dependency problems very hard and slow. "
      ],
      "metadata": {
        "id": "6qCCgjMct6oR"
      }
    },
    {
      "cell_type": "markdown",
      "source": [
        "#### Bonus: Mamba \n",
        "[Mamba](https://mamba.readthedocs.io/en/latest/index.html) is a plug-in-place replacement for the Conda dependency solving engine, which is MUCH faster."
      ],
      "metadata": {
        "id": "xYFxxLPEt9EX"
      }
    },
    {
      "cell_type": "markdown",
      "source": [
        "### Environments\n",
        "Conda incorporates Python environments into its package management. You can think of an environment as a workbench dedicated to specific tasks. You can make as many environments as you want and stock these with different packages (even different versions of the same package) so the environment is tailored to the tasks it serves."
      ],
      "metadata": {
        "id": "wNS14xMsuFQe"
      }
    },
    {
      "cell_type": "markdown",
      "source": [
        "### Putting it all together: coding in Colab\n",
        "If your team decides to work in Colab, most of the hard work is done for you. Google provides a lot of basic packages pre-loaded. If you need a package called `packagename` and you see that it is unavailable when you attempt to import it, you need to install it. You can do that with\n",
        "```Python\n",
        "! pip install packagename\n",
        "```\n",
        "It should now be available for you. \n",
        "Colab automatically provides for you some basic compute resources: you can see your use of these in the upper right corner of your browser window. Clicking on that will allow you to upgrade to a GPU or even a TPU, which is still free (though your time on these is limited). There are paid versions of Colab, but you should not need anything like that for the work we'll be doing.\n",
        "\n",
        "If you want to process large amounts of data, you probably will need to connect your Google drive as a mounted file system. This is easy to do: the following cell should get you going. Run the cell and accept the conditions (usually two pop-up windows)."
      ],
      "metadata": {
        "id": "orp-VqYOvU6u"
      }
    },
    {
      "cell_type": "code",
      "execution_count": 65,
      "metadata": {
        "id": "5M-unVCRm5Iz",
        "colab": {
          "base_uri": "https://localhost:8080/"
        },
        "outputId": "5ef056c6-b83d-44df-cdd9-aab8ef817b4b"
      },
      "outputs": [
        {
          "output_type": "stream",
          "name": "stdout",
          "text": [
            "Notebook is running in colab\n",
            "Mounted at /content/drive\n"
          ]
        }
      ],
      "source": [
        "import os\n",
        "if 'COLAB_GPU' in os.environ: # a hacky way of determining if you are in colab.\n",
        "  print(\"Notebook is running in colab\")\n",
        "  from google.colab import drive\n",
        "  drive.mount(\"/content/drive\")\n",
        "  DATA_DIR = \"./drive/MyDrive/Data/\"\n",
        "  \n",
        "else:\n",
        "  # Find out what system we are using\n",
        "  PLATFORM_SYSTEM = platform.system()\n",
        "\n",
        "  # Check if we are in Darwin (macOS)\n",
        "  if PLATFORM_SYSTEM == \"Darwin\":\n",
        "      EXECUTABLE_PATH = Path(\"../dependencies/chromedriver\")\n",
        "  elif PLATFORM_SYSTEM == \"Windows\":\n",
        "      EXECUTABLE_PATH = Path(\"../dependencies/chromedriver.exe\")\n",
        "  else:\n",
        "      logging.critical(\"Chromedriver not found or Chromedriver is outdated...\")\n",
        "      exit()\n",
        "  DATA_DIR = \"../Data/raw/\""
      ]
    },
    {
      "cell_type": "markdown",
      "source": [
        "Under the `File` memory in the top right you can also save your notebook to Github."
      ],
      "metadata": {
        "id": "ghiumOl2eanH"
      }
    },
    {
      "cell_type": "markdown",
      "source": [
        "### Setting up your own Python installation\n",
        "There are LOTS of ways to pursue this, and your options will depend on the operating system(s) you have on hand. I always suggest starting with Conda or with MiniConda. The latter is a more lightweight installation in case you don't need all the packages Conda likes to give you by default.\n",
        "\n",
        "1. Make sure you have enough disk space for whichever installation you want. (Recent Conda downloads are about half a gig and inflate to 3 GB, while miniconda inflates to only about 400 MB).\n",
        "\n",
        "2. Get Anaconda or Miniconda from https://www.anaconda.com/ or https://docs.conda.io/en/latest/miniconda.html#system-requirements \n",
        "\n",
        "  1. If you are running Linux (good for you) you could use your system software manager (yum, apt, etc.) to get Python or Anaconda, but I suggest manually downloading the installer. The installer is actually just a giant shell script that will do all of the hard work. Then you will use Conda itself to keep your distribution up to date. \n",
        "  2. If you are using Windows, I always recommend using the Linux Subsystem to run Conda and Python. However, if you prefer to run everything through Windows, you can get the Windows installer and just follow the instructions.\n",
        "  3. If you are on MacOS, there is a simple installer you can just follow.\n",
        "\n",
        "3. I recommend [making a Conda environment](https://conda.io/projects/conda/en/latest/user-guide/tasks/manage-environments.html) for your team. In Linux this looks like\n",
        "```Bash\n",
        "conda create --name myenv\n",
        "```\n",
        "followed by\n",
        "```Bash\n",
        "conda activate myenv\n",
        "```\n",
        "\n",
        "4. You can export this environment with\n",
        "```Bash\n",
        "conda env export > environment.yml\n",
        "```\n",
        "and then import the environment with\n",
        "```Bash\n",
        "conda env create -f environment.yml\n",
        "```\n",
        "Check out [these instructions](https://conda.io/projects/conda/en/latest/user-guide/tasks/manage-environments.html) for Windows and MacOS.\n",
        "\n",
        "5. If you want to use Mamba to speed up your package management, run\n",
        "```Bash\n",
        "conda install mamba\n",
        "```\n",
        "After this, every time you would run `conda install` simply replace `conda` with `mamba`."
      ],
      "metadata": {
        "id": "gJWjTktEcLr7"
      }
    },
    {
      "cell_type": "markdown",
      "source": [
        "### Version control\n",
        "All data science professionals use version control of some kind. I STRONGLY recommend using Git as your version control tool. This is especially valuable if you have a team working on a single data science project. If you and your team have not used Git before, you may want to walk through [this GitHub tutorial](https://docs.github.com/en/get-started/quickstart/hello-world). \n",
        "\n",
        "If you are new to this, think about all those times where you've found yourself with a directory of files called `final_project.docx`, `final_project2.docx`, `corrected_final_project.docx`, `FinalProject.docx`, `RealFinalProjectSubmitThisOne.docx`, `NoSubmitThisOne.docx`, and so forth. Wouldn't it be nice to have a system that automatically tracks all your edits, what has been changed, who changed, and why? Then you could always go back and undo small changes, start over, try new things, etc. Git gives you all of that in a smooth commandline interface. GitHub and GitLab are two free repository hosting solutions that you can use to back up your work to the cloud and share it with your team."
      ],
      "metadata": {
        "id": "_krnHCN4kpEf"
      }
    },
    {
      "cell_type": "markdown",
      "source": [
        "### Python standards\n",
        "Professional developers must be aware of (and preferably use) conventions that improve the transparency of their work. This becomes more important the closer your code gets to the product level and the more people who will need to read it, but be kind to yourself and make your code clean even if you are the only reader. The most famous standard is [PEP-8](https://peps.python.org/pep-0008/), a style guide that boosts code readability. The [Google docstring style](https://sphinxcontrib-napoleon.readthedocs.io/en/latest/example_google.html) is also common. The good news is you don't have to memorize any of these (at first), you can use Python packages to help you. A common formatting tool is [Black](https://pypi.org/project/black/), which will correct your style for you."
      ],
      "metadata": {
        "id": "wsHrqKBpGQsI"
      }
    },
    {
      "cell_type": "markdown",
      "source": [
        "### Recommended resources\n",
        "\n",
        "- Here is [a good introduction to EDA in Python by Pedro Marcelino](https://www.kaggle.com/code/pmarcelino/comprehensive-data-exploration-with-python).\n",
        "- I believe data science research ought to be transparent and reproducible. A great guide to these concepts is [The Turing Way](https://the-turing-way.netlify.app/welcome), which is an opensource project run by the Turing Institute.\n",
        "- If you find yourself needing to parallelize you code, I love the [Dask Library](https://docs.dask.org/en/stable/).\n",
        "- You can quickly learn to track machine learning experiments with [MLflow](https://www.mlflow.org/).\n",
        "- For basic clustering, classification, and regression, you can't beat scikit-learn](https://scikit-learn.org/stable/) for convenience.\n",
        "- You can grab and use powerful pretrained transformer models from [HuggingFAce](https://huggingface.co/). No aliens are involved, I promise.\n",
        "- For more interactive javascript-friendly data visualization I strongly recommend [the Plotly library](https://plotly.com/python/getting-started/)."
      ],
      "metadata": {
        "id": "6kQYiTSR0hTl"
      }
    }
  ]
}